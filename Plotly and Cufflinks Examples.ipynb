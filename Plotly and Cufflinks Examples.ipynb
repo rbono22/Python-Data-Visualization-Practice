{
 "cells": [
  {
   "cell_type": "code",
   "execution_count": 4,
   "metadata": {},
   "outputs": [],
   "source": [
    "import pandas as pd\n",
    "import numpy as np\n",
    "%matplotlib inline"
   ]
  },
  {
   "cell_type": "code",
   "execution_count": 5,
   "metadata": {},
   "outputs": [
    {
     "name": "stdout",
     "output_type": "stream",
     "text": [
      "5.6.0\n"
     ]
    }
   ],
   "source": [
    "from plotly import __version__\n",
    "from plotly.offline import download_plotlyjs, init_notebook_mode, plot, iplot\n",
    "\n",
    "print(__version__) # requires version >= 1.9.0"
   ]
  },
  {
   "cell_type": "code",
   "execution_count": 8,
   "metadata": {},
   "outputs": [],
   "source": [
    "import cufflinks as cf"
   ]
  },
  {
   "cell_type": "code",
   "execution_count": 9,
   "metadata": {},
   "outputs": [
    {
     "data": {
      "text/html": [
       "        <script type=\"text/javascript\">\n",
       "        window.PlotlyConfig = {MathJaxConfig: 'local'};\n",
       "        if (window.MathJax) {MathJax.Hub.Config({SVG: {font: \"STIX-Web\"}});}\n",
       "        if (typeof require !== 'undefined') {\n",
       "        require.undef(\"plotly\");\n",
       "        requirejs.config({\n",
       "            paths: {\n",
       "                'plotly': ['https://cdn.plot.ly/plotly-2.9.0.min']\n",
       "            }\n",
       "        });\n",
       "        require(['plotly'], function(Plotly) {\n",
       "            window._Plotly = Plotly;\n",
       "        });\n",
       "        }\n",
       "        </script>\n",
       "        "
      ]
     },
     "metadata": {},
     "output_type": "display_data"
    }
   ],
   "source": [
    "# For Notebooks\n",
    "init_notebook_mode(connected=True)"
   ]
  },
  {
   "cell_type": "code",
   "execution_count": 10,
   "metadata": {},
   "outputs": [
    {
     "data": {
      "text/html": [
       "        <script type=\"text/javascript\">\n",
       "        window.PlotlyConfig = {MathJaxConfig: 'local'};\n",
       "        if (window.MathJax) {MathJax.Hub.Config({SVG: {font: \"STIX-Web\"}});}\n",
       "        if (typeof require !== 'undefined') {\n",
       "        require.undef(\"plotly\");\n",
       "        requirejs.config({\n",
       "            paths: {\n",
       "                'plotly': ['https://cdn.plot.ly/plotly-2.9.0.min']\n",
       "            }\n",
       "        });\n",
       "        require(['plotly'], function(Plotly) {\n",
       "            window._Plotly = Plotly;\n",
       "        });\n",
       "        }\n",
       "        </script>\n",
       "        "
      ]
     },
     "metadata": {},
     "output_type": "display_data"
    }
   ],
   "source": [
    "# For offline use\n",
    "cf.go_offline()"
   ]
  },
  {
   "cell_type": "markdown",
   "metadata": {},
   "source": [
    "### Fake Data"
   ]
  },
  {
   "cell_type": "code",
   "execution_count": 11,
   "metadata": {},
   "outputs": [],
   "source": [
    "df = pd.DataFrame(np.random.randn(100,4),columns='A B C D'.split())"
   ]
  },
  {
   "cell_type": "code",
   "execution_count": 12,
   "metadata": {},
   "outputs": [
    {
     "data": {
      "text/html": [
       "<div>\n",
       "<style scoped>\n",
       "    .dataframe tbody tr th:only-of-type {\n",
       "        vertical-align: middle;\n",
       "    }\n",
       "\n",
       "    .dataframe tbody tr th {\n",
       "        vertical-align: top;\n",
       "    }\n",
       "\n",
       "    .dataframe thead th {\n",
       "        text-align: right;\n",
       "    }\n",
       "</style>\n",
       "<table border=\"1\" class=\"dataframe\">\n",
       "  <thead>\n",
       "    <tr style=\"text-align: right;\">\n",
       "      <th></th>\n",
       "      <th>A</th>\n",
       "      <th>B</th>\n",
       "      <th>C</th>\n",
       "      <th>D</th>\n",
       "    </tr>\n",
       "  </thead>\n",
       "  <tbody>\n",
       "    <tr>\n",
       "      <th>0</th>\n",
       "      <td>-0.813095</td>\n",
       "      <td>-1.810706</td>\n",
       "      <td>0.114782</td>\n",
       "      <td>-0.371193</td>\n",
       "    </tr>\n",
       "    <tr>\n",
       "      <th>1</th>\n",
       "      <td>-0.632068</td>\n",
       "      <td>-0.600989</td>\n",
       "      <td>-0.726944</td>\n",
       "      <td>0.099769</td>\n",
       "    </tr>\n",
       "    <tr>\n",
       "      <th>2</th>\n",
       "      <td>-1.833018</td>\n",
       "      <td>-0.869921</td>\n",
       "      <td>-0.101634</td>\n",
       "      <td>0.993984</td>\n",
       "    </tr>\n",
       "    <tr>\n",
       "      <th>3</th>\n",
       "      <td>0.309463</td>\n",
       "      <td>-0.550535</td>\n",
       "      <td>1.237807</td>\n",
       "      <td>-0.917381</td>\n",
       "    </tr>\n",
       "    <tr>\n",
       "      <th>4</th>\n",
       "      <td>-0.349653</td>\n",
       "      <td>0.427469</td>\n",
       "      <td>0.538809</td>\n",
       "      <td>1.364220</td>\n",
       "    </tr>\n",
       "  </tbody>\n",
       "</table>\n",
       "</div>"
      ],
      "text/plain": [
       "          A         B         C         D\n",
       "0 -0.813095 -1.810706  0.114782 -0.371193\n",
       "1 -0.632068 -0.600989 -0.726944  0.099769\n",
       "2 -1.833018 -0.869921 -0.101634  0.993984\n",
       "3  0.309463 -0.550535  1.237807 -0.917381\n",
       "4 -0.349653  0.427469  0.538809  1.364220"
      ]
     },
     "execution_count": 12,
     "metadata": {},
     "output_type": "execute_result"
    }
   ],
   "source": [
    "df.head()"
   ]
  },
  {
   "cell_type": "code",
   "execution_count": 13,
   "metadata": {},
   "outputs": [],
   "source": [
    "df2 = pd.DataFrame({'Category':['A','B','C'],'Values':[32,43,50]})"
   ]
  },
  {
   "cell_type": "code",
   "execution_count": 14,
   "metadata": {},
   "outputs": [
    {
     "data": {
      "text/html": [
       "<div>\n",
       "<style scoped>\n",
       "    .dataframe tbody tr th:only-of-type {\n",
       "        vertical-align: middle;\n",
       "    }\n",
       "\n",
       "    .dataframe tbody tr th {\n",
       "        vertical-align: top;\n",
       "    }\n",
       "\n",
       "    .dataframe thead th {\n",
       "        text-align: right;\n",
       "    }\n",
       "</style>\n",
       "<table border=\"1\" class=\"dataframe\">\n",
       "  <thead>\n",
       "    <tr style=\"text-align: right;\">\n",
       "      <th></th>\n",
       "      <th>Category</th>\n",
       "      <th>Values</th>\n",
       "    </tr>\n",
       "  </thead>\n",
       "  <tbody>\n",
       "    <tr>\n",
       "      <th>0</th>\n",
       "      <td>A</td>\n",
       "      <td>32</td>\n",
       "    </tr>\n",
       "    <tr>\n",
       "      <th>1</th>\n",
       "      <td>B</td>\n",
       "      <td>43</td>\n",
       "    </tr>\n",
       "    <tr>\n",
       "      <th>2</th>\n",
       "      <td>C</td>\n",
       "      <td>50</td>\n",
       "    </tr>\n",
       "  </tbody>\n",
       "</table>\n",
       "</div>"
      ],
      "text/plain": [
       "  Category  Values\n",
       "0        A      32\n",
       "1        B      43\n",
       "2        C      50"
      ]
     },
     "execution_count": 14,
     "metadata": {},
     "output_type": "execute_result"
    }
   ],
   "source": [
    "df2.head()"
   ]
  },
  {
   "cell_type": "markdown",
   "metadata": {},
   "source": [
    "## Using Cufflinks and iplot()\n",
    "\n",
    "* scatter\n",
    "* bar\n",
    "* box\n",
    "* spread\n",
    "* ratio\n",
    "* heatmap\n",
    "* surface\n",
    "* histogram\n",
    "* bubble"
   ]
  },
  {
   "cell_type": "markdown",
   "metadata": {},
   "source": [
    "## Scatter"
   ]
  },
  {
   "cell_type": "code",
   "execution_count": 15,
   "metadata": {},
   "outputs": [
    {
     "data": {
      "application/vnd.plotly.v1+json": {
       "config": {
        "linkText": "Export to plot.ly",
        "plotlyServerURL": "https://plot.ly",
        "showLink": true
       },
       "data": [
        {
         "line": {
          "color": "rgba(255, 153, 51, 1.0)",
          "dash": "solid",
          "shape": "linear",
          "width": 1.3
         },
         "marker": {
          "size": 10,
          "symbol": "circle"
         },
         "mode": "markers",
         "name": "B",
         "text": "",
         "type": "scatter",
         "x": [
          -0.813094974158615,
          -0.6320677486019147,
          -1.8330180188288216,
          0.30946276649967275,
          -0.34965251460663066,
          0.2541242676005999,
          -1.25409609186406,
          -1.5953824759783306,
          1.209996953723444,
          -0.9031365588388017,
          -0.2528994058951668,
          1.1993671174625855,
          -0.03479382440405025,
          0.3587651949863715,
          -1.1773880168626751,
          0.1882839674798589,
          0.15926856483581273,
          -0.7575700575481089,
          0.5923720816717849,
          -0.43599154580134525,
          -0.40837339303113024,
          -0.47646397111751376,
          -0.4321175598119881,
          -0.4166377903936301,
          0.4465808165690844,
          -2.1124722104004774,
          -0.7168027292736445,
          -1.4687468385877556,
          -0.8552724178550116,
          -0.1833187037760549,
          -0.0516014687726671,
          0.08929624648486419,
          0.283689280140465,
          0.23228257745041886,
          -0.7994824154787796,
          -0.15801600703858176,
          1.6906988519025559,
          -0.14436831923177185,
          -0.8490004432157602,
          0.12606804002629304,
          -1.419783969424822,
          -1.3386672466657163,
          0.1025711857038433,
          -0.17526986520131532,
          1.0322093753670571,
          -0.08573491754076627,
          1.3010216527471408,
          -0.9489028978786285,
          -0.883492332517402,
          -1.2873136726903505,
          0.6479351933755042,
          -0.8376876792340087,
          -0.7386458732355002,
          0.7560364934857938,
          0.6795679333775624,
          0.5918996363507902,
          0.9376426697121171,
          0.2653352431183191,
          1.6579747967261944,
          -1.3355416128149515,
          0.03395533520806284,
          -0.25376231373687164,
          -0.3343846286932071,
          0.947247557239635,
          -0.6079551744162106,
          -0.5752977060081683,
          -0.7890237136747128,
          -0.6587642329116016,
          1.163701930798238,
          0.4606404839325701,
          0.8067944374337038,
          -0.19988432528089134,
          -0.21390856728770027,
          -1.018568825005735,
          -1.9589686543951768,
          0.06068691245208455,
          0.2678907684869432,
          0.03482855608749407,
          -0.38749122105340666,
          -0.5179472276706354,
          0.7704703886351763,
          -0.9890496308856835,
          -0.4756631316399486,
          -0.441569985646899,
          -0.5786339248236021,
          1.2622457440284895,
          -0.3533303731137811,
          0.6127642614441432,
          -0.7507571711907699,
          -0.17145625910104795,
          -1.7199283839683184,
          -0.4694471236015308,
          1.1724720953758947,
          -0.3030314459539039,
          0.7747117018211388,
          0.056886856834242286,
          0.2156621626300678,
          -0.4998451104106444,
          -2.3961426677696873,
          0.4773531183027042
         ],
         "y": [
          -1.810705620303543,
          -0.6009888044223608,
          -0.8699212494722677,
          -0.550534748641092,
          0.4274694755230017,
          0.5985403310571168,
          -0.12188328873954034,
          0.4356412141803811,
          0.23677802285309477,
          -1.0316199459958797,
          -1.4119914497327224,
          0.42286751614288964,
          0.6899228786876435,
          -0.3304895135271398,
          1.0199569861773699,
          -0.07452470268944116,
          0.5179123635617616,
          0.7212504056693066,
          1.0568220483539346,
          -0.6329714821783978,
          -0.7729734925590904,
          0.04611373216482665,
          -1.662473515264781,
          0.36338256207965686,
          -0.5503816776380241,
          -2.7322601519765075,
          -1.6113440120570792,
          0.906382094929108,
          0.4735390415891768,
          -0.975263135435076,
          1.588411990779888,
          -2.0768510538923963,
          -1.4231799460959853,
          0.6882644752812591,
          -0.4998480033947634,
          -0.496656394151241,
          -0.4835208859489081,
          -1.8816807499555739,
          0.7719794078507218,
          -0.5139045194391917,
          -1.639215382625045,
          0.40602339946612515,
          2.298972143667528,
          0.11505047736262437,
          0.7005717751962709,
          0.4855307624973052,
          -1.0177172990318302,
          0.4840449889903183,
          -0.7194660638209635,
          -1.2300432610286793,
          -1.3701879756614934,
          -4.671017883589642,
          -1.184275158102963,
          0.39666942539920347,
          -2.226632808899658,
          1.3015642154390656,
          -1.782868004198849,
          2.1247188152382463,
          0.15797693140612953,
          1.8613288779523205,
          -1.7063050375534852,
          1.5331352666503193,
          0.5163164019441416,
          0.21032973058063056,
          -0.7984519380720064,
          1.1289791275584007,
          -0.2821710024131168,
          -0.7397400754627164,
          -0.08853754898509787,
          0.5618092496862193,
          -0.27172333726221837,
          0.1763089843781587,
          -0.36412102130108454,
          2.282272289168112,
          -0.9838235969987101,
          0.4803009506491444,
          1.3445668968174393,
          -0.2172825367000398,
          0.031868623818376185,
          0.7387689037046977,
          1.9125877271166336,
          1.0787847269804158,
          0.3197886159287113,
          0.10733866289906828,
          0.050774236411273876,
          -0.48259031053099,
          0.4489969178285034,
          -0.27393513534568964,
          -1.3236830680290488,
          -0.4724755544055852,
          1.0766300535114623,
          2.005792322169697,
          -1.5314592912873237,
          0.05121594255874584,
          0.27667231651744467,
          1.167398410424178,
          0.3884694404010253,
          -0.27529328081680393,
          0.9988939005905673,
          -0.3363810223756748
         ]
        }
       ],
       "layout": {
        "legend": {
         "bgcolor": "#F5F6F9",
         "font": {
          "color": "#4D5663"
         }
        },
        "paper_bgcolor": "#F5F6F9",
        "plot_bgcolor": "#F5F6F9",
        "template": {
         "data": {
          "bar": [
           {
            "error_x": {
             "color": "#2a3f5f"
            },
            "error_y": {
             "color": "#2a3f5f"
            },
            "marker": {
             "line": {
              "color": "#E5ECF6",
              "width": 0.5
             },
             "pattern": {
              "fillmode": "overlay",
              "size": 10,
              "solidity": 0.2
             }
            },
            "type": "bar"
           }
          ],
          "barpolar": [
           {
            "marker": {
             "line": {
              "color": "#E5ECF6",
              "width": 0.5
             },
             "pattern": {
              "fillmode": "overlay",
              "size": 10,
              "solidity": 0.2
             }
            },
            "type": "barpolar"
           }
          ],
          "carpet": [
           {
            "aaxis": {
             "endlinecolor": "#2a3f5f",
             "gridcolor": "white",
             "linecolor": "white",
             "minorgridcolor": "white",
             "startlinecolor": "#2a3f5f"
            },
            "baxis": {
             "endlinecolor": "#2a3f5f",
             "gridcolor": "white",
             "linecolor": "white",
             "minorgridcolor": "white",
             "startlinecolor": "#2a3f5f"
            },
            "type": "carpet"
           }
          ],
          "choropleth": [
           {
            "colorbar": {
             "outlinewidth": 0,
             "ticks": ""
            },
            "type": "choropleth"
           }
          ],
          "contour": [
           {
            "colorbar": {
             "outlinewidth": 0,
             "ticks": ""
            },
            "colorscale": [
             [
              0,
              "#0d0887"
             ],
             [
              0.1111111111111111,
              "#46039f"
             ],
             [
              0.2222222222222222,
              "#7201a8"
             ],
             [
              0.3333333333333333,
              "#9c179e"
             ],
             [
              0.4444444444444444,
              "#bd3786"
             ],
             [
              0.5555555555555556,
              "#d8576b"
             ],
             [
              0.6666666666666666,
              "#ed7953"
             ],
             [
              0.7777777777777778,
              "#fb9f3a"
             ],
             [
              0.8888888888888888,
              "#fdca26"
             ],
             [
              1,
              "#f0f921"
             ]
            ],
            "type": "contour"
           }
          ],
          "contourcarpet": [
           {
            "colorbar": {
             "outlinewidth": 0,
             "ticks": ""
            },
            "type": "contourcarpet"
           }
          ],
          "heatmap": [
           {
            "colorbar": {
             "outlinewidth": 0,
             "ticks": ""
            },
            "colorscale": [
             [
              0,
              "#0d0887"
             ],
             [
              0.1111111111111111,
              "#46039f"
             ],
             [
              0.2222222222222222,
              "#7201a8"
             ],
             [
              0.3333333333333333,
              "#9c179e"
             ],
             [
              0.4444444444444444,
              "#bd3786"
             ],
             [
              0.5555555555555556,
              "#d8576b"
             ],
             [
              0.6666666666666666,
              "#ed7953"
             ],
             [
              0.7777777777777778,
              "#fb9f3a"
             ],
             [
              0.8888888888888888,
              "#fdca26"
             ],
             [
              1,
              "#f0f921"
             ]
            ],
            "type": "heatmap"
           }
          ],
          "heatmapgl": [
           {
            "colorbar": {
             "outlinewidth": 0,
             "ticks": ""
            },
            "colorscale": [
             [
              0,
              "#0d0887"
             ],
             [
              0.1111111111111111,
              "#46039f"
             ],
             [
              0.2222222222222222,
              "#7201a8"
             ],
             [
              0.3333333333333333,
              "#9c179e"
             ],
             [
              0.4444444444444444,
              "#bd3786"
             ],
             [
              0.5555555555555556,
              "#d8576b"
             ],
             [
              0.6666666666666666,
              "#ed7953"
             ],
             [
              0.7777777777777778,
              "#fb9f3a"
             ],
             [
              0.8888888888888888,
              "#fdca26"
             ],
             [
              1,
              "#f0f921"
             ]
            ],
            "type": "heatmapgl"
           }
          ],
          "histogram": [
           {
            "marker": {
             "pattern": {
              "fillmode": "overlay",
              "size": 10,
              "solidity": 0.2
             }
            },
            "type": "histogram"
           }
          ],
          "histogram2d": [
           {
            "colorbar": {
             "outlinewidth": 0,
             "ticks": ""
            },
            "colorscale": [
             [
              0,
              "#0d0887"
             ],
             [
              0.1111111111111111,
              "#46039f"
             ],
             [
              0.2222222222222222,
              "#7201a8"
             ],
             [
              0.3333333333333333,
              "#9c179e"
             ],
             [
              0.4444444444444444,
              "#bd3786"
             ],
             [
              0.5555555555555556,
              "#d8576b"
             ],
             [
              0.6666666666666666,
              "#ed7953"
             ],
             [
              0.7777777777777778,
              "#fb9f3a"
             ],
             [
              0.8888888888888888,
              "#fdca26"
             ],
             [
              1,
              "#f0f921"
             ]
            ],
            "type": "histogram2d"
           }
          ],
          "histogram2dcontour": [
           {
            "colorbar": {
             "outlinewidth": 0,
             "ticks": ""
            },
            "colorscale": [
             [
              0,
              "#0d0887"
             ],
             [
              0.1111111111111111,
              "#46039f"
             ],
             [
              0.2222222222222222,
              "#7201a8"
             ],
             [
              0.3333333333333333,
              "#9c179e"
             ],
             [
              0.4444444444444444,
              "#bd3786"
             ],
             [
              0.5555555555555556,
              "#d8576b"
             ],
             [
              0.6666666666666666,
              "#ed7953"
             ],
             [
              0.7777777777777778,
              "#fb9f3a"
             ],
             [
              0.8888888888888888,
              "#fdca26"
             ],
             [
              1,
              "#f0f921"
             ]
            ],
            "type": "histogram2dcontour"
           }
          ],
          "mesh3d": [
           {
            "colorbar": {
             "outlinewidth": 0,
             "ticks": ""
            },
            "type": "mesh3d"
           }
          ],
          "parcoords": [
           {
            "line": {
             "colorbar": {
              "outlinewidth": 0,
              "ticks": ""
             }
            },
            "type": "parcoords"
           }
          ],
          "pie": [
           {
            "automargin": true,
            "type": "pie"
           }
          ],
          "scatter": [
           {
            "marker": {
             "colorbar": {
              "outlinewidth": 0,
              "ticks": ""
             }
            },
            "type": "scatter"
           }
          ],
          "scatter3d": [
           {
            "line": {
             "colorbar": {
              "outlinewidth": 0,
              "ticks": ""
             }
            },
            "marker": {
             "colorbar": {
              "outlinewidth": 0,
              "ticks": ""
             }
            },
            "type": "scatter3d"
           }
          ],
          "scattercarpet": [
           {
            "marker": {
             "colorbar": {
              "outlinewidth": 0,
              "ticks": ""
             }
            },
            "type": "scattercarpet"
           }
          ],
          "scattergeo": [
           {
            "marker": {
             "colorbar": {
              "outlinewidth": 0,
              "ticks": ""
             }
            },
            "type": "scattergeo"
           }
          ],
          "scattergl": [
           {
            "marker": {
             "colorbar": {
              "outlinewidth": 0,
              "ticks": ""
             }
            },
            "type": "scattergl"
           }
          ],
          "scattermapbox": [
           {
            "marker": {
             "colorbar": {
              "outlinewidth": 0,
              "ticks": ""
             }
            },
            "type": "scattermapbox"
           }
          ],
          "scatterpolar": [
           {
            "marker": {
             "colorbar": {
              "outlinewidth": 0,
              "ticks": ""
             }
            },
            "type": "scatterpolar"
           }
          ],
          "scatterpolargl": [
           {
            "marker": {
             "colorbar": {
              "outlinewidth": 0,
              "ticks": ""
             }
            },
            "type": "scatterpolargl"
           }
          ],
          "scatterternary": [
           {
            "marker": {
             "colorbar": {
              "outlinewidth": 0,
              "ticks": ""
             }
            },
            "type": "scatterternary"
           }
          ],
          "surface": [
           {
            "colorbar": {
             "outlinewidth": 0,
             "ticks": ""
            },
            "colorscale": [
             [
              0,
              "#0d0887"
             ],
             [
              0.1111111111111111,
              "#46039f"
             ],
             [
              0.2222222222222222,
              "#7201a8"
             ],
             [
              0.3333333333333333,
              "#9c179e"
             ],
             [
              0.4444444444444444,
              "#bd3786"
             ],
             [
              0.5555555555555556,
              "#d8576b"
             ],
             [
              0.6666666666666666,
              "#ed7953"
             ],
             [
              0.7777777777777778,
              "#fb9f3a"
             ],
             [
              0.8888888888888888,
              "#fdca26"
             ],
             [
              1,
              "#f0f921"
             ]
            ],
            "type": "surface"
           }
          ],
          "table": [
           {
            "cells": {
             "fill": {
              "color": "#EBF0F8"
             },
             "line": {
              "color": "white"
             }
            },
            "header": {
             "fill": {
              "color": "#C8D4E3"
             },
             "line": {
              "color": "white"
             }
            },
            "type": "table"
           }
          ]
         },
         "layout": {
          "annotationdefaults": {
           "arrowcolor": "#2a3f5f",
           "arrowhead": 0,
           "arrowwidth": 1
          },
          "autotypenumbers": "strict",
          "coloraxis": {
           "colorbar": {
            "outlinewidth": 0,
            "ticks": ""
           }
          },
          "colorscale": {
           "diverging": [
            [
             0,
             "#8e0152"
            ],
            [
             0.1,
             "#c51b7d"
            ],
            [
             0.2,
             "#de77ae"
            ],
            [
             0.3,
             "#f1b6da"
            ],
            [
             0.4,
             "#fde0ef"
            ],
            [
             0.5,
             "#f7f7f7"
            ],
            [
             0.6,
             "#e6f5d0"
            ],
            [
             0.7,
             "#b8e186"
            ],
            [
             0.8,
             "#7fbc41"
            ],
            [
             0.9,
             "#4d9221"
            ],
            [
             1,
             "#276419"
            ]
           ],
           "sequential": [
            [
             0,
             "#0d0887"
            ],
            [
             0.1111111111111111,
             "#46039f"
            ],
            [
             0.2222222222222222,
             "#7201a8"
            ],
            [
             0.3333333333333333,
             "#9c179e"
            ],
            [
             0.4444444444444444,
             "#bd3786"
            ],
            [
             0.5555555555555556,
             "#d8576b"
            ],
            [
             0.6666666666666666,
             "#ed7953"
            ],
            [
             0.7777777777777778,
             "#fb9f3a"
            ],
            [
             0.8888888888888888,
             "#fdca26"
            ],
            [
             1,
             "#f0f921"
            ]
           ],
           "sequentialminus": [
            [
             0,
             "#0d0887"
            ],
            [
             0.1111111111111111,
             "#46039f"
            ],
            [
             0.2222222222222222,
             "#7201a8"
            ],
            [
             0.3333333333333333,
             "#9c179e"
            ],
            [
             0.4444444444444444,
             "#bd3786"
            ],
            [
             0.5555555555555556,
             "#d8576b"
            ],
            [
             0.6666666666666666,
             "#ed7953"
            ],
            [
             0.7777777777777778,
             "#fb9f3a"
            ],
            [
             0.8888888888888888,
             "#fdca26"
            ],
            [
             1,
             "#f0f921"
            ]
           ]
          },
          "colorway": [
           "#636efa",
           "#EF553B",
           "#00cc96",
           "#ab63fa",
           "#FFA15A",
           "#19d3f3",
           "#FF6692",
           "#B6E880",
           "#FF97FF",
           "#FECB52"
          ],
          "font": {
           "color": "#2a3f5f"
          },
          "geo": {
           "bgcolor": "white",
           "lakecolor": "white",
           "landcolor": "#E5ECF6",
           "showlakes": true,
           "showland": true,
           "subunitcolor": "white"
          },
          "hoverlabel": {
           "align": "left"
          },
          "hovermode": "closest",
          "mapbox": {
           "style": "light"
          },
          "paper_bgcolor": "white",
          "plot_bgcolor": "#E5ECF6",
          "polar": {
           "angularaxis": {
            "gridcolor": "white",
            "linecolor": "white",
            "ticks": ""
           },
           "bgcolor": "#E5ECF6",
           "radialaxis": {
            "gridcolor": "white",
            "linecolor": "white",
            "ticks": ""
           }
          },
          "scene": {
           "xaxis": {
            "backgroundcolor": "#E5ECF6",
            "gridcolor": "white",
            "gridwidth": 2,
            "linecolor": "white",
            "showbackground": true,
            "ticks": "",
            "zerolinecolor": "white"
           },
           "yaxis": {
            "backgroundcolor": "#E5ECF6",
            "gridcolor": "white",
            "gridwidth": 2,
            "linecolor": "white",
            "showbackground": true,
            "ticks": "",
            "zerolinecolor": "white"
           },
           "zaxis": {
            "backgroundcolor": "#E5ECF6",
            "gridcolor": "white",
            "gridwidth": 2,
            "linecolor": "white",
            "showbackground": true,
            "ticks": "",
            "zerolinecolor": "white"
           }
          },
          "shapedefaults": {
           "line": {
            "color": "#2a3f5f"
           }
          },
          "ternary": {
           "aaxis": {
            "gridcolor": "white",
            "linecolor": "white",
            "ticks": ""
           },
           "baxis": {
            "gridcolor": "white",
            "linecolor": "white",
            "ticks": ""
           },
           "bgcolor": "#E5ECF6",
           "caxis": {
            "gridcolor": "white",
            "linecolor": "white",
            "ticks": ""
           }
          },
          "title": {
           "x": 0.05
          },
          "xaxis": {
           "automargin": true,
           "gridcolor": "white",
           "linecolor": "white",
           "ticks": "",
           "title": {
            "standoff": 15
           },
           "zerolinecolor": "white",
           "zerolinewidth": 2
          },
          "yaxis": {
           "automargin": true,
           "gridcolor": "white",
           "linecolor": "white",
           "ticks": "",
           "title": {
            "standoff": 15
           },
           "zerolinecolor": "white",
           "zerolinewidth": 2
          }
         }
        },
        "title": {
         "font": {
          "color": "#4D5663"
         }
        },
        "xaxis": {
         "gridcolor": "#E1E5ED",
         "showgrid": true,
         "tickfont": {
          "color": "#4D5663"
         },
         "title": {
          "font": {
           "color": "#4D5663"
          },
          "text": ""
         },
         "zerolinecolor": "#E1E5ED"
        },
        "yaxis": {
         "gridcolor": "#E1E5ED",
         "showgrid": true,
         "tickfont": {
          "color": "#4D5663"
         },
         "title": {
          "font": {
           "color": "#4D5663"
          },
          "text": ""
         },
         "zerolinecolor": "#E1E5ED"
        }
       }
      },
      "text/html": [
       "<div>                            <div id=\"3c81b889-598f-454a-8ae6-b431dae0b376\" class=\"plotly-graph-div\" style=\"height:525px; width:100%;\"></div>            <script type=\"text/javascript\">                require([\"plotly\"], function(Plotly) {                    window.PLOTLYENV=window.PLOTLYENV || {};\n",
       "                    window.PLOTLYENV.BASE_URL='https://plot.ly';                                    if (document.getElementById(\"3c81b889-598f-454a-8ae6-b431dae0b376\")) {                    Plotly.newPlot(                        \"3c81b889-598f-454a-8ae6-b431dae0b376\",                        [{\"line\":{\"color\":\"rgba(255, 153, 51, 1.0)\",\"dash\":\"solid\",\"shape\":\"linear\",\"width\":1.3},\"marker\":{\"size\":10,\"symbol\":\"circle\"},\"mode\":\"markers\",\"name\":\"B\",\"text\":\"\",\"x\":[-0.813094974158615,-0.6320677486019147,-1.8330180188288216,0.30946276649967275,-0.34965251460663066,0.2541242676005999,-1.25409609186406,-1.5953824759783306,1.209996953723444,-0.9031365588388017,-0.2528994058951668,1.1993671174625855,-0.03479382440405025,0.3587651949863715,-1.1773880168626751,0.1882839674798589,0.15926856483581273,-0.7575700575481089,0.5923720816717849,-0.43599154580134525,-0.40837339303113024,-0.47646397111751376,-0.4321175598119881,-0.4166377903936301,0.4465808165690844,-2.1124722104004774,-0.7168027292736445,-1.4687468385877556,-0.8552724178550116,-0.1833187037760549,-0.0516014687726671,0.08929624648486419,0.283689280140465,0.23228257745041886,-0.7994824154787796,-0.15801600703858176,1.6906988519025559,-0.14436831923177185,-0.8490004432157602,0.12606804002629304,-1.419783969424822,-1.3386672466657163,0.1025711857038433,-0.17526986520131532,1.0322093753670571,-0.08573491754076627,1.3010216527471408,-0.9489028978786285,-0.883492332517402,-1.2873136726903505,0.6479351933755042,-0.8376876792340087,-0.7386458732355002,0.7560364934857938,0.6795679333775624,0.5918996363507902,0.9376426697121171,0.2653352431183191,1.6579747967261944,-1.3355416128149515,0.03395533520806284,-0.25376231373687164,-0.3343846286932071,0.947247557239635,-0.6079551744162106,-0.5752977060081683,-0.7890237136747128,-0.6587642329116016,1.163701930798238,0.4606404839325701,0.8067944374337038,-0.19988432528089134,-0.21390856728770027,-1.018568825005735,-1.9589686543951768,0.06068691245208455,0.2678907684869432,0.03482855608749407,-0.38749122105340666,-0.5179472276706354,0.7704703886351763,-0.9890496308856835,-0.4756631316399486,-0.441569985646899,-0.5786339248236021,1.2622457440284895,-0.3533303731137811,0.6127642614441432,-0.7507571711907699,-0.17145625910104795,-1.7199283839683184,-0.4694471236015308,1.1724720953758947,-0.3030314459539039,0.7747117018211388,0.056886856834242286,0.2156621626300678,-0.4998451104106444,-2.3961426677696873,0.4773531183027042],\"y\":[-1.810705620303543,-0.6009888044223608,-0.8699212494722677,-0.550534748641092,0.4274694755230017,0.5985403310571168,-0.12188328873954034,0.4356412141803811,0.23677802285309477,-1.0316199459958797,-1.4119914497327224,0.42286751614288964,0.6899228786876435,-0.3304895135271398,1.0199569861773699,-0.07452470268944116,0.5179123635617616,0.7212504056693066,1.0568220483539346,-0.6329714821783978,-0.7729734925590904,0.04611373216482665,-1.662473515264781,0.36338256207965686,-0.5503816776380241,-2.7322601519765075,-1.6113440120570792,0.906382094929108,0.4735390415891768,-0.975263135435076,1.588411990779888,-2.0768510538923963,-1.4231799460959853,0.6882644752812591,-0.4998480033947634,-0.496656394151241,-0.4835208859489081,-1.8816807499555739,0.7719794078507218,-0.5139045194391917,-1.639215382625045,0.40602339946612515,2.298972143667528,0.11505047736262437,0.7005717751962709,0.4855307624973052,-1.0177172990318302,0.4840449889903183,-0.7194660638209635,-1.2300432610286793,-1.3701879756614934,-4.671017883589642,-1.184275158102963,0.39666942539920347,-2.226632808899658,1.3015642154390656,-1.782868004198849,2.1247188152382463,0.15797693140612953,1.8613288779523205,-1.7063050375534852,1.5331352666503193,0.5163164019441416,0.21032973058063056,-0.7984519380720064,1.1289791275584007,-0.2821710024131168,-0.7397400754627164,-0.08853754898509787,0.5618092496862193,-0.27172333726221837,0.1763089843781587,-0.36412102130108454,2.282272289168112,-0.9838235969987101,0.4803009506491444,1.3445668968174393,-0.2172825367000398,0.031868623818376185,0.7387689037046977,1.9125877271166336,1.0787847269804158,0.3197886159287113,0.10733866289906828,0.050774236411273876,-0.48259031053099,0.4489969178285034,-0.27393513534568964,-1.3236830680290488,-0.4724755544055852,1.0766300535114623,2.005792322169697,-1.5314592912873237,0.05121594255874584,0.27667231651744467,1.167398410424178,0.3884694404010253,-0.27529328081680393,0.9988939005905673,-0.3363810223756748],\"type\":\"scatter\"}],                        {\"legend\":{\"bgcolor\":\"#F5F6F9\",\"font\":{\"color\":\"#4D5663\"}},\"paper_bgcolor\":\"#F5F6F9\",\"plot_bgcolor\":\"#F5F6F9\",\"template\":{\"data\":{\"barpolar\":[{\"marker\":{\"line\":{\"color\":\"#E5ECF6\",\"width\":0.5},\"pattern\":{\"fillmode\":\"overlay\",\"size\":10,\"solidity\":0.2}},\"type\":\"barpolar\"}],\"bar\":[{\"error_x\":{\"color\":\"#2a3f5f\"},\"error_y\":{\"color\":\"#2a3f5f\"},\"marker\":{\"line\":{\"color\":\"#E5ECF6\",\"width\":0.5},\"pattern\":{\"fillmode\":\"overlay\",\"size\":10,\"solidity\":0.2}},\"type\":\"bar\"}],\"carpet\":[{\"aaxis\":{\"endlinecolor\":\"#2a3f5f\",\"gridcolor\":\"white\",\"linecolor\":\"white\",\"minorgridcolor\":\"white\",\"startlinecolor\":\"#2a3f5f\"},\"baxis\":{\"endlinecolor\":\"#2a3f5f\",\"gridcolor\":\"white\",\"linecolor\":\"white\",\"minorgridcolor\":\"white\",\"startlinecolor\":\"#2a3f5f\"},\"type\":\"carpet\"}],\"choropleth\":[{\"colorbar\":{\"outlinewidth\":0,\"ticks\":\"\"},\"type\":\"choropleth\"}],\"contourcarpet\":[{\"colorbar\":{\"outlinewidth\":0,\"ticks\":\"\"},\"type\":\"contourcarpet\"}],\"contour\":[{\"colorbar\":{\"outlinewidth\":0,\"ticks\":\"\"},\"colorscale\":[[0.0,\"#0d0887\"],[0.1111111111111111,\"#46039f\"],[0.2222222222222222,\"#7201a8\"],[0.3333333333333333,\"#9c179e\"],[0.4444444444444444,\"#bd3786\"],[0.5555555555555556,\"#d8576b\"],[0.6666666666666666,\"#ed7953\"],[0.7777777777777778,\"#fb9f3a\"],[0.8888888888888888,\"#fdca26\"],[1.0,\"#f0f921\"]],\"type\":\"contour\"}],\"heatmapgl\":[{\"colorbar\":{\"outlinewidth\":0,\"ticks\":\"\"},\"colorscale\":[[0.0,\"#0d0887\"],[0.1111111111111111,\"#46039f\"],[0.2222222222222222,\"#7201a8\"],[0.3333333333333333,\"#9c179e\"],[0.4444444444444444,\"#bd3786\"],[0.5555555555555556,\"#d8576b\"],[0.6666666666666666,\"#ed7953\"],[0.7777777777777778,\"#fb9f3a\"],[0.8888888888888888,\"#fdca26\"],[1.0,\"#f0f921\"]],\"type\":\"heatmapgl\"}],\"heatmap\":[{\"colorbar\":{\"outlinewidth\":0,\"ticks\":\"\"},\"colorscale\":[[0.0,\"#0d0887\"],[0.1111111111111111,\"#46039f\"],[0.2222222222222222,\"#7201a8\"],[0.3333333333333333,\"#9c179e\"],[0.4444444444444444,\"#bd3786\"],[0.5555555555555556,\"#d8576b\"],[0.6666666666666666,\"#ed7953\"],[0.7777777777777778,\"#fb9f3a\"],[0.8888888888888888,\"#fdca26\"],[1.0,\"#f0f921\"]],\"type\":\"heatmap\"}],\"histogram2dcontour\":[{\"colorbar\":{\"outlinewidth\":0,\"ticks\":\"\"},\"colorscale\":[[0.0,\"#0d0887\"],[0.1111111111111111,\"#46039f\"],[0.2222222222222222,\"#7201a8\"],[0.3333333333333333,\"#9c179e\"],[0.4444444444444444,\"#bd3786\"],[0.5555555555555556,\"#d8576b\"],[0.6666666666666666,\"#ed7953\"],[0.7777777777777778,\"#fb9f3a\"],[0.8888888888888888,\"#fdca26\"],[1.0,\"#f0f921\"]],\"type\":\"histogram2dcontour\"}],\"histogram2d\":[{\"colorbar\":{\"outlinewidth\":0,\"ticks\":\"\"},\"colorscale\":[[0.0,\"#0d0887\"],[0.1111111111111111,\"#46039f\"],[0.2222222222222222,\"#7201a8\"],[0.3333333333333333,\"#9c179e\"],[0.4444444444444444,\"#bd3786\"],[0.5555555555555556,\"#d8576b\"],[0.6666666666666666,\"#ed7953\"],[0.7777777777777778,\"#fb9f3a\"],[0.8888888888888888,\"#fdca26\"],[1.0,\"#f0f921\"]],\"type\":\"histogram2d\"}],\"histogram\":[{\"marker\":{\"pattern\":{\"fillmode\":\"overlay\",\"size\":10,\"solidity\":0.2}},\"type\":\"histogram\"}],\"mesh3d\":[{\"colorbar\":{\"outlinewidth\":0,\"ticks\":\"\"},\"type\":\"mesh3d\"}],\"parcoords\":[{\"line\":{\"colorbar\":{\"outlinewidth\":0,\"ticks\":\"\"}},\"type\":\"parcoords\"}],\"pie\":[{\"automargin\":true,\"type\":\"pie\"}],\"scatter3d\":[{\"line\":{\"colorbar\":{\"outlinewidth\":0,\"ticks\":\"\"}},\"marker\":{\"colorbar\":{\"outlinewidth\":0,\"ticks\":\"\"}},\"type\":\"scatter3d\"}],\"scattercarpet\":[{\"marker\":{\"colorbar\":{\"outlinewidth\":0,\"ticks\":\"\"}},\"type\":\"scattercarpet\"}],\"scattergeo\":[{\"marker\":{\"colorbar\":{\"outlinewidth\":0,\"ticks\":\"\"}},\"type\":\"scattergeo\"}],\"scattergl\":[{\"marker\":{\"colorbar\":{\"outlinewidth\":0,\"ticks\":\"\"}},\"type\":\"scattergl\"}],\"scattermapbox\":[{\"marker\":{\"colorbar\":{\"outlinewidth\":0,\"ticks\":\"\"}},\"type\":\"scattermapbox\"}],\"scatterpolargl\":[{\"marker\":{\"colorbar\":{\"outlinewidth\":0,\"ticks\":\"\"}},\"type\":\"scatterpolargl\"}],\"scatterpolar\":[{\"marker\":{\"colorbar\":{\"outlinewidth\":0,\"ticks\":\"\"}},\"type\":\"scatterpolar\"}],\"scatter\":[{\"marker\":{\"colorbar\":{\"outlinewidth\":0,\"ticks\":\"\"}},\"type\":\"scatter\"}],\"scatterternary\":[{\"marker\":{\"colorbar\":{\"outlinewidth\":0,\"ticks\":\"\"}},\"type\":\"scatterternary\"}],\"surface\":[{\"colorbar\":{\"outlinewidth\":0,\"ticks\":\"\"},\"colorscale\":[[0.0,\"#0d0887\"],[0.1111111111111111,\"#46039f\"],[0.2222222222222222,\"#7201a8\"],[0.3333333333333333,\"#9c179e\"],[0.4444444444444444,\"#bd3786\"],[0.5555555555555556,\"#d8576b\"],[0.6666666666666666,\"#ed7953\"],[0.7777777777777778,\"#fb9f3a\"],[0.8888888888888888,\"#fdca26\"],[1.0,\"#f0f921\"]],\"type\":\"surface\"}],\"table\":[{\"cells\":{\"fill\":{\"color\":\"#EBF0F8\"},\"line\":{\"color\":\"white\"}},\"header\":{\"fill\":{\"color\":\"#C8D4E3\"},\"line\":{\"color\":\"white\"}},\"type\":\"table\"}]},\"layout\":{\"annotationdefaults\":{\"arrowcolor\":\"#2a3f5f\",\"arrowhead\":0,\"arrowwidth\":1},\"autotypenumbers\":\"strict\",\"coloraxis\":{\"colorbar\":{\"outlinewidth\":0,\"ticks\":\"\"}},\"colorscale\":{\"diverging\":[[0,\"#8e0152\"],[0.1,\"#c51b7d\"],[0.2,\"#de77ae\"],[0.3,\"#f1b6da\"],[0.4,\"#fde0ef\"],[0.5,\"#f7f7f7\"],[0.6,\"#e6f5d0\"],[0.7,\"#b8e186\"],[0.8,\"#7fbc41\"],[0.9,\"#4d9221\"],[1,\"#276419\"]],\"sequential\":[[0.0,\"#0d0887\"],[0.1111111111111111,\"#46039f\"],[0.2222222222222222,\"#7201a8\"],[0.3333333333333333,\"#9c179e\"],[0.4444444444444444,\"#bd3786\"],[0.5555555555555556,\"#d8576b\"],[0.6666666666666666,\"#ed7953\"],[0.7777777777777778,\"#fb9f3a\"],[0.8888888888888888,\"#fdca26\"],[1.0,\"#f0f921\"]],\"sequentialminus\":[[0.0,\"#0d0887\"],[0.1111111111111111,\"#46039f\"],[0.2222222222222222,\"#7201a8\"],[0.3333333333333333,\"#9c179e\"],[0.4444444444444444,\"#bd3786\"],[0.5555555555555556,\"#d8576b\"],[0.6666666666666666,\"#ed7953\"],[0.7777777777777778,\"#fb9f3a\"],[0.8888888888888888,\"#fdca26\"],[1.0,\"#f0f921\"]]},\"colorway\":[\"#636efa\",\"#EF553B\",\"#00cc96\",\"#ab63fa\",\"#FFA15A\",\"#19d3f3\",\"#FF6692\",\"#B6E880\",\"#FF97FF\",\"#FECB52\"],\"font\":{\"color\":\"#2a3f5f\"},\"geo\":{\"bgcolor\":\"white\",\"lakecolor\":\"white\",\"landcolor\":\"#E5ECF6\",\"showlakes\":true,\"showland\":true,\"subunitcolor\":\"white\"},\"hoverlabel\":{\"align\":\"left\"},\"hovermode\":\"closest\",\"mapbox\":{\"style\":\"light\"},\"paper_bgcolor\":\"white\",\"plot_bgcolor\":\"#E5ECF6\",\"polar\":{\"angularaxis\":{\"gridcolor\":\"white\",\"linecolor\":\"white\",\"ticks\":\"\"},\"bgcolor\":\"#E5ECF6\",\"radialaxis\":{\"gridcolor\":\"white\",\"linecolor\":\"white\",\"ticks\":\"\"}},\"scene\":{\"xaxis\":{\"backgroundcolor\":\"#E5ECF6\",\"gridcolor\":\"white\",\"gridwidth\":2,\"linecolor\":\"white\",\"showbackground\":true,\"ticks\":\"\",\"zerolinecolor\":\"white\"},\"yaxis\":{\"backgroundcolor\":\"#E5ECF6\",\"gridcolor\":\"white\",\"gridwidth\":2,\"linecolor\":\"white\",\"showbackground\":true,\"ticks\":\"\",\"zerolinecolor\":\"white\"},\"zaxis\":{\"backgroundcolor\":\"#E5ECF6\",\"gridcolor\":\"white\",\"gridwidth\":2,\"linecolor\":\"white\",\"showbackground\":true,\"ticks\":\"\",\"zerolinecolor\":\"white\"}},\"shapedefaults\":{\"line\":{\"color\":\"#2a3f5f\"}},\"ternary\":{\"aaxis\":{\"gridcolor\":\"white\",\"linecolor\":\"white\",\"ticks\":\"\"},\"baxis\":{\"gridcolor\":\"white\",\"linecolor\":\"white\",\"ticks\":\"\"},\"bgcolor\":\"#E5ECF6\",\"caxis\":{\"gridcolor\":\"white\",\"linecolor\":\"white\",\"ticks\":\"\"}},\"title\":{\"x\":0.05},\"xaxis\":{\"automargin\":true,\"gridcolor\":\"white\",\"linecolor\":\"white\",\"ticks\":\"\",\"title\":{\"standoff\":15},\"zerolinecolor\":\"white\",\"zerolinewidth\":2},\"yaxis\":{\"automargin\":true,\"gridcolor\":\"white\",\"linecolor\":\"white\",\"ticks\":\"\",\"title\":{\"standoff\":15},\"zerolinecolor\":\"white\",\"zerolinewidth\":2}}},\"title\":{\"font\":{\"color\":\"#4D5663\"}},\"xaxis\":{\"gridcolor\":\"#E1E5ED\",\"showgrid\":true,\"tickfont\":{\"color\":\"#4D5663\"},\"title\":{\"font\":{\"color\":\"#4D5663\"},\"text\":\"\"},\"zerolinecolor\":\"#E1E5ED\"},\"yaxis\":{\"gridcolor\":\"#E1E5ED\",\"showgrid\":true,\"tickfont\":{\"color\":\"#4D5663\"},\"title\":{\"font\":{\"color\":\"#4D5663\"},\"text\":\"\"},\"zerolinecolor\":\"#E1E5ED\"}},                        {\"showLink\": true, \"linkText\": \"Export to plot.ly\", \"plotlyServerURL\": \"https://plot.ly\", \"responsive\": true}                    ).then(function(){\n",
       "                            \n",
       "var gd = document.getElementById('3c81b889-598f-454a-8ae6-b431dae0b376');\n",
       "var x = new MutationObserver(function (mutations, observer) {{\n",
       "        var display = window.getComputedStyle(gd).display;\n",
       "        if (!display || display === 'none') {{\n",
       "            console.log([gd, 'removed!']);\n",
       "            Plotly.purge(gd);\n",
       "            observer.disconnect();\n",
       "        }}\n",
       "}});\n",
       "\n",
       "// Listen for the removal of the full notebook cells\n",
       "var notebookContainer = gd.closest('#notebook-container');\n",
       "if (notebookContainer) {{\n",
       "    x.observe(notebookContainer, {childList: true});\n",
       "}}\n",
       "\n",
       "// Listen for the clearing of the current output cell\n",
       "var outputEl = gd.closest('.output');\n",
       "if (outputEl) {{\n",
       "    x.observe(outputEl, {childList: true});\n",
       "}}\n",
       "\n",
       "                        })                };                });            </script>        </div>"
      ]
     },
     "metadata": {},
     "output_type": "display_data"
    }
   ],
   "source": [
    "df.iplot(kind='scatter',x='A',y='B',mode='markers',size=10)"
   ]
  },
  {
   "cell_type": "markdown",
   "metadata": {},
   "source": [
    "## Bar Plots"
   ]
  },
  {
   "cell_type": "code",
   "execution_count": 16,
   "metadata": {},
   "outputs": [
    {
     "data": {
      "application/vnd.plotly.v1+json": {
       "config": {
        "linkText": "Export to plot.ly",
        "plotlyServerURL": "https://plot.ly",
        "showLink": true
       },
       "data": [
        {
         "marker": {
          "color": "rgba(255, 153, 51, 0.6)",
          "line": {
           "color": "rgba(255, 153, 51, 1.0)",
           "width": 1
          }
         },
         "name": "Values",
         "orientation": "v",
         "text": "",
         "type": "bar",
         "x": [
          "A",
          "B",
          "C"
         ],
         "y": [
          32,
          43,
          50
         ]
        }
       ],
       "layout": {
        "legend": {
         "bgcolor": "#F5F6F9",
         "font": {
          "color": "#4D5663"
         }
        },
        "paper_bgcolor": "#F5F6F9",
        "plot_bgcolor": "#F5F6F9",
        "template": {
         "data": {
          "bar": [
           {
            "error_x": {
             "color": "#2a3f5f"
            },
            "error_y": {
             "color": "#2a3f5f"
            },
            "marker": {
             "line": {
              "color": "#E5ECF6",
              "width": 0.5
             },
             "pattern": {
              "fillmode": "overlay",
              "size": 10,
              "solidity": 0.2
             }
            },
            "type": "bar"
           }
          ],
          "barpolar": [
           {
            "marker": {
             "line": {
              "color": "#E5ECF6",
              "width": 0.5
             },
             "pattern": {
              "fillmode": "overlay",
              "size": 10,
              "solidity": 0.2
             }
            },
            "type": "barpolar"
           }
          ],
          "carpet": [
           {
            "aaxis": {
             "endlinecolor": "#2a3f5f",
             "gridcolor": "white",
             "linecolor": "white",
             "minorgridcolor": "white",
             "startlinecolor": "#2a3f5f"
            },
            "baxis": {
             "endlinecolor": "#2a3f5f",
             "gridcolor": "white",
             "linecolor": "white",
             "minorgridcolor": "white",
             "startlinecolor": "#2a3f5f"
            },
            "type": "carpet"
           }
          ],
          "choropleth": [
           {
            "colorbar": {
             "outlinewidth": 0,
             "ticks": ""
            },
            "type": "choropleth"
           }
          ],
          "contour": [
           {
            "colorbar": {
             "outlinewidth": 0,
             "ticks": ""
            },
            "colorscale": [
             [
              0,
              "#0d0887"
             ],
             [
              0.1111111111111111,
              "#46039f"
             ],
             [
              0.2222222222222222,
              "#7201a8"
             ],
             [
              0.3333333333333333,
              "#9c179e"
             ],
             [
              0.4444444444444444,
              "#bd3786"
             ],
             [
              0.5555555555555556,
              "#d8576b"
             ],
             [
              0.6666666666666666,
              "#ed7953"
             ],
             [
              0.7777777777777778,
              "#fb9f3a"
             ],
             [
              0.8888888888888888,
              "#fdca26"
             ],
             [
              1,
              "#f0f921"
             ]
            ],
            "type": "contour"
           }
          ],
          "contourcarpet": [
           {
            "colorbar": {
             "outlinewidth": 0,
             "ticks": ""
            },
            "type": "contourcarpet"
           }
          ],
          "heatmap": [
           {
            "colorbar": {
             "outlinewidth": 0,
             "ticks": ""
            },
            "colorscale": [
             [
              0,
              "#0d0887"
             ],
             [
              0.1111111111111111,
              "#46039f"
             ],
             [
              0.2222222222222222,
              "#7201a8"
             ],
             [
              0.3333333333333333,
              "#9c179e"
             ],
             [
              0.4444444444444444,
              "#bd3786"
             ],
             [
              0.5555555555555556,
              "#d8576b"
             ],
             [
              0.6666666666666666,
              "#ed7953"
             ],
             [
              0.7777777777777778,
              "#fb9f3a"
             ],
             [
              0.8888888888888888,
              "#fdca26"
             ],
             [
              1,
              "#f0f921"
             ]
            ],
            "type": "heatmap"
           }
          ],
          "heatmapgl": [
           {
            "colorbar": {
             "outlinewidth": 0,
             "ticks": ""
            },
            "colorscale": [
             [
              0,
              "#0d0887"
             ],
             [
              0.1111111111111111,
              "#46039f"
             ],
             [
              0.2222222222222222,
              "#7201a8"
             ],
             [
              0.3333333333333333,
              "#9c179e"
             ],
             [
              0.4444444444444444,
              "#bd3786"
             ],
             [
              0.5555555555555556,
              "#d8576b"
             ],
             [
              0.6666666666666666,
              "#ed7953"
             ],
             [
              0.7777777777777778,
              "#fb9f3a"
             ],
             [
              0.8888888888888888,
              "#fdca26"
             ],
             [
              1,
              "#f0f921"
             ]
            ],
            "type": "heatmapgl"
           }
          ],
          "histogram": [
           {
            "marker": {
             "pattern": {
              "fillmode": "overlay",
              "size": 10,
              "solidity": 0.2
             }
            },
            "type": "histogram"
           }
          ],
          "histogram2d": [
           {
            "colorbar": {
             "outlinewidth": 0,
             "ticks": ""
            },
            "colorscale": [
             [
              0,
              "#0d0887"
             ],
             [
              0.1111111111111111,
              "#46039f"
             ],
             [
              0.2222222222222222,
              "#7201a8"
             ],
             [
              0.3333333333333333,
              "#9c179e"
             ],
             [
              0.4444444444444444,
              "#bd3786"
             ],
             [
              0.5555555555555556,
              "#d8576b"
             ],
             [
              0.6666666666666666,
              "#ed7953"
             ],
             [
              0.7777777777777778,
              "#fb9f3a"
             ],
             [
              0.8888888888888888,
              "#fdca26"
             ],
             [
              1,
              "#f0f921"
             ]
            ],
            "type": "histogram2d"
           }
          ],
          "histogram2dcontour": [
           {
            "colorbar": {
             "outlinewidth": 0,
             "ticks": ""
            },
            "colorscale": [
             [
              0,
              "#0d0887"
             ],
             [
              0.1111111111111111,
              "#46039f"
             ],
             [
              0.2222222222222222,
              "#7201a8"
             ],
             [
              0.3333333333333333,
              "#9c179e"
             ],
             [
              0.4444444444444444,
              "#bd3786"
             ],
             [
              0.5555555555555556,
              "#d8576b"
             ],
             [
              0.6666666666666666,
              "#ed7953"
             ],
             [
              0.7777777777777778,
              "#fb9f3a"
             ],
             [
              0.8888888888888888,
              "#fdca26"
             ],
             [
              1,
              "#f0f921"
             ]
            ],
            "type": "histogram2dcontour"
           }
          ],
          "mesh3d": [
           {
            "colorbar": {
             "outlinewidth": 0,
             "ticks": ""
            },
            "type": "mesh3d"
           }
          ],
          "parcoords": [
           {
            "line": {
             "colorbar": {
              "outlinewidth": 0,
              "ticks": ""
             }
            },
            "type": "parcoords"
           }
          ],
          "pie": [
           {
            "automargin": true,
            "type": "pie"
           }
          ],
          "scatter": [
           {
            "marker": {
             "colorbar": {
              "outlinewidth": 0,
              "ticks": ""
             }
            },
            "type": "scatter"
           }
          ],
          "scatter3d": [
           {
            "line": {
             "colorbar": {
              "outlinewidth": 0,
              "ticks": ""
             }
            },
            "marker": {
             "colorbar": {
              "outlinewidth": 0,
              "ticks": ""
             }
            },
            "type": "scatter3d"
           }
          ],
          "scattercarpet": [
           {
            "marker": {
             "colorbar": {
              "outlinewidth": 0,
              "ticks": ""
             }
            },
            "type": "scattercarpet"
           }
          ],
          "scattergeo": [
           {
            "marker": {
             "colorbar": {
              "outlinewidth": 0,
              "ticks": ""
             }
            },
            "type": "scattergeo"
           }
          ],
          "scattergl": [
           {
            "marker": {
             "colorbar": {
              "outlinewidth": 0,
              "ticks": ""
             }
            },
            "type": "scattergl"
           }
          ],
          "scattermapbox": [
           {
            "marker": {
             "colorbar": {
              "outlinewidth": 0,
              "ticks": ""
             }
            },
            "type": "scattermapbox"
           }
          ],
          "scatterpolar": [
           {
            "marker": {
             "colorbar": {
              "outlinewidth": 0,
              "ticks": ""
             }
            },
            "type": "scatterpolar"
           }
          ],
          "scatterpolargl": [
           {
            "marker": {
             "colorbar": {
              "outlinewidth": 0,
              "ticks": ""
             }
            },
            "type": "scatterpolargl"
           }
          ],
          "scatterternary": [
           {
            "marker": {
             "colorbar": {
              "outlinewidth": 0,
              "ticks": ""
             }
            },
            "type": "scatterternary"
           }
          ],
          "surface": [
           {
            "colorbar": {
             "outlinewidth": 0,
             "ticks": ""
            },
            "colorscale": [
             [
              0,
              "#0d0887"
             ],
             [
              0.1111111111111111,
              "#46039f"
             ],
             [
              0.2222222222222222,
              "#7201a8"
             ],
             [
              0.3333333333333333,
              "#9c179e"
             ],
             [
              0.4444444444444444,
              "#bd3786"
             ],
             [
              0.5555555555555556,
              "#d8576b"
             ],
             [
              0.6666666666666666,
              "#ed7953"
             ],
             [
              0.7777777777777778,
              "#fb9f3a"
             ],
             [
              0.8888888888888888,
              "#fdca26"
             ],
             [
              1,
              "#f0f921"
             ]
            ],
            "type": "surface"
           }
          ],
          "table": [
           {
            "cells": {
             "fill": {
              "color": "#EBF0F8"
             },
             "line": {
              "color": "white"
             }
            },
            "header": {
             "fill": {
              "color": "#C8D4E3"
             },
             "line": {
              "color": "white"
             }
            },
            "type": "table"
           }
          ]
         },
         "layout": {
          "annotationdefaults": {
           "arrowcolor": "#2a3f5f",
           "arrowhead": 0,
           "arrowwidth": 1
          },
          "autotypenumbers": "strict",
          "coloraxis": {
           "colorbar": {
            "outlinewidth": 0,
            "ticks": ""
           }
          },
          "colorscale": {
           "diverging": [
            [
             0,
             "#8e0152"
            ],
            [
             0.1,
             "#c51b7d"
            ],
            [
             0.2,
             "#de77ae"
            ],
            [
             0.3,
             "#f1b6da"
            ],
            [
             0.4,
             "#fde0ef"
            ],
            [
             0.5,
             "#f7f7f7"
            ],
            [
             0.6,
             "#e6f5d0"
            ],
            [
             0.7,
             "#b8e186"
            ],
            [
             0.8,
             "#7fbc41"
            ],
            [
             0.9,
             "#4d9221"
            ],
            [
             1,
             "#276419"
            ]
           ],
           "sequential": [
            [
             0,
             "#0d0887"
            ],
            [
             0.1111111111111111,
             "#46039f"
            ],
            [
             0.2222222222222222,
             "#7201a8"
            ],
            [
             0.3333333333333333,
             "#9c179e"
            ],
            [
             0.4444444444444444,
             "#bd3786"
            ],
            [
             0.5555555555555556,
             "#d8576b"
            ],
            [
             0.6666666666666666,
             "#ed7953"
            ],
            [
             0.7777777777777778,
             "#fb9f3a"
            ],
            [
             0.8888888888888888,
             "#fdca26"
            ],
            [
             1,
             "#f0f921"
            ]
           ],
           "sequentialminus": [
            [
             0,
             "#0d0887"
            ],
            [
             0.1111111111111111,
             "#46039f"
            ],
            [
             0.2222222222222222,
             "#7201a8"
            ],
            [
             0.3333333333333333,
             "#9c179e"
            ],
            [
             0.4444444444444444,
             "#bd3786"
            ],
            [
             0.5555555555555556,
             "#d8576b"
            ],
            [
             0.6666666666666666,
             "#ed7953"
            ],
            [
             0.7777777777777778,
             "#fb9f3a"
            ],
            [
             0.8888888888888888,
             "#fdca26"
            ],
            [
             1,
             "#f0f921"
            ]
           ]
          },
          "colorway": [
           "#636efa",
           "#EF553B",
           "#00cc96",
           "#ab63fa",
           "#FFA15A",
           "#19d3f3",
           "#FF6692",
           "#B6E880",
           "#FF97FF",
           "#FECB52"
          ],
          "font": {
           "color": "#2a3f5f"
          },
          "geo": {
           "bgcolor": "white",
           "lakecolor": "white",
           "landcolor": "#E5ECF6",
           "showlakes": true,
           "showland": true,
           "subunitcolor": "white"
          },
          "hoverlabel": {
           "align": "left"
          },
          "hovermode": "closest",
          "mapbox": {
           "style": "light"
          },
          "paper_bgcolor": "white",
          "plot_bgcolor": "#E5ECF6",
          "polar": {
           "angularaxis": {
            "gridcolor": "white",
            "linecolor": "white",
            "ticks": ""
           },
           "bgcolor": "#E5ECF6",
           "radialaxis": {
            "gridcolor": "white",
            "linecolor": "white",
            "ticks": ""
           }
          },
          "scene": {
           "xaxis": {
            "backgroundcolor": "#E5ECF6",
            "gridcolor": "white",
            "gridwidth": 2,
            "linecolor": "white",
            "showbackground": true,
            "ticks": "",
            "zerolinecolor": "white"
           },
           "yaxis": {
            "backgroundcolor": "#E5ECF6",
            "gridcolor": "white",
            "gridwidth": 2,
            "linecolor": "white",
            "showbackground": true,
            "ticks": "",
            "zerolinecolor": "white"
           },
           "zaxis": {
            "backgroundcolor": "#E5ECF6",
            "gridcolor": "white",
            "gridwidth": 2,
            "linecolor": "white",
            "showbackground": true,
            "ticks": "",
            "zerolinecolor": "white"
           }
          },
          "shapedefaults": {
           "line": {
            "color": "#2a3f5f"
           }
          },
          "ternary": {
           "aaxis": {
            "gridcolor": "white",
            "linecolor": "white",
            "ticks": ""
           },
           "baxis": {
            "gridcolor": "white",
            "linecolor": "white",
            "ticks": ""
           },
           "bgcolor": "#E5ECF6",
           "caxis": {
            "gridcolor": "white",
            "linecolor": "white",
            "ticks": ""
           }
          },
          "title": {
           "x": 0.05
          },
          "xaxis": {
           "automargin": true,
           "gridcolor": "white",
           "linecolor": "white",
           "ticks": "",
           "title": {
            "standoff": 15
           },
           "zerolinecolor": "white",
           "zerolinewidth": 2
          },
          "yaxis": {
           "automargin": true,
           "gridcolor": "white",
           "linecolor": "white",
           "ticks": "",
           "title": {
            "standoff": 15
           },
           "zerolinecolor": "white",
           "zerolinewidth": 2
          }
         }
        },
        "title": {
         "font": {
          "color": "#4D5663"
         }
        },
        "xaxis": {
         "gridcolor": "#E1E5ED",
         "showgrid": true,
         "tickfont": {
          "color": "#4D5663"
         },
         "title": {
          "font": {
           "color": "#4D5663"
          },
          "text": ""
         },
         "zerolinecolor": "#E1E5ED"
        },
        "yaxis": {
         "gridcolor": "#E1E5ED",
         "showgrid": true,
         "tickfont": {
          "color": "#4D5663"
         },
         "title": {
          "font": {
           "color": "#4D5663"
          },
          "text": ""
         },
         "zerolinecolor": "#E1E5ED"
        }
       }
      },
      "text/html": [
       "<div>                            <div id=\"4f6cd7d3-f068-4d78-9e92-aa7d3ec67e61\" class=\"plotly-graph-div\" style=\"height:525px; width:100%;\"></div>            <script type=\"text/javascript\">                require([\"plotly\"], function(Plotly) {                    window.PLOTLYENV=window.PLOTLYENV || {};\n",
       "                    window.PLOTLYENV.BASE_URL='https://plot.ly';                                    if (document.getElementById(\"4f6cd7d3-f068-4d78-9e92-aa7d3ec67e61\")) {                    Plotly.newPlot(                        \"4f6cd7d3-f068-4d78-9e92-aa7d3ec67e61\",                        [{\"marker\":{\"color\":\"rgba(255, 153, 51, 0.6)\",\"line\":{\"color\":\"rgba(255, 153, 51, 1.0)\",\"width\":1}},\"name\":\"Values\",\"orientation\":\"v\",\"text\":\"\",\"x\":[\"A\",\"B\",\"C\"],\"y\":[32,43,50],\"type\":\"bar\"}],                        {\"legend\":{\"bgcolor\":\"#F5F6F9\",\"font\":{\"color\":\"#4D5663\"}},\"paper_bgcolor\":\"#F5F6F9\",\"plot_bgcolor\":\"#F5F6F9\",\"template\":{\"data\":{\"barpolar\":[{\"marker\":{\"line\":{\"color\":\"#E5ECF6\",\"width\":0.5},\"pattern\":{\"fillmode\":\"overlay\",\"size\":10,\"solidity\":0.2}},\"type\":\"barpolar\"}],\"bar\":[{\"error_x\":{\"color\":\"#2a3f5f\"},\"error_y\":{\"color\":\"#2a3f5f\"},\"marker\":{\"line\":{\"color\":\"#E5ECF6\",\"width\":0.5},\"pattern\":{\"fillmode\":\"overlay\",\"size\":10,\"solidity\":0.2}},\"type\":\"bar\"}],\"carpet\":[{\"aaxis\":{\"endlinecolor\":\"#2a3f5f\",\"gridcolor\":\"white\",\"linecolor\":\"white\",\"minorgridcolor\":\"white\",\"startlinecolor\":\"#2a3f5f\"},\"baxis\":{\"endlinecolor\":\"#2a3f5f\",\"gridcolor\":\"white\",\"linecolor\":\"white\",\"minorgridcolor\":\"white\",\"startlinecolor\":\"#2a3f5f\"},\"type\":\"carpet\"}],\"choropleth\":[{\"colorbar\":{\"outlinewidth\":0,\"ticks\":\"\"},\"type\":\"choropleth\"}],\"contourcarpet\":[{\"colorbar\":{\"outlinewidth\":0,\"ticks\":\"\"},\"type\":\"contourcarpet\"}],\"contour\":[{\"colorbar\":{\"outlinewidth\":0,\"ticks\":\"\"},\"colorscale\":[[0.0,\"#0d0887\"],[0.1111111111111111,\"#46039f\"],[0.2222222222222222,\"#7201a8\"],[0.3333333333333333,\"#9c179e\"],[0.4444444444444444,\"#bd3786\"],[0.5555555555555556,\"#d8576b\"],[0.6666666666666666,\"#ed7953\"],[0.7777777777777778,\"#fb9f3a\"],[0.8888888888888888,\"#fdca26\"],[1.0,\"#f0f921\"]],\"type\":\"contour\"}],\"heatmapgl\":[{\"colorbar\":{\"outlinewidth\":0,\"ticks\":\"\"},\"colorscale\":[[0.0,\"#0d0887\"],[0.1111111111111111,\"#46039f\"],[0.2222222222222222,\"#7201a8\"],[0.3333333333333333,\"#9c179e\"],[0.4444444444444444,\"#bd3786\"],[0.5555555555555556,\"#d8576b\"],[0.6666666666666666,\"#ed7953\"],[0.7777777777777778,\"#fb9f3a\"],[0.8888888888888888,\"#fdca26\"],[1.0,\"#f0f921\"]],\"type\":\"heatmapgl\"}],\"heatmap\":[{\"colorbar\":{\"outlinewidth\":0,\"ticks\":\"\"},\"colorscale\":[[0.0,\"#0d0887\"],[0.1111111111111111,\"#46039f\"],[0.2222222222222222,\"#7201a8\"],[0.3333333333333333,\"#9c179e\"],[0.4444444444444444,\"#bd3786\"],[0.5555555555555556,\"#d8576b\"],[0.6666666666666666,\"#ed7953\"],[0.7777777777777778,\"#fb9f3a\"],[0.8888888888888888,\"#fdca26\"],[1.0,\"#f0f921\"]],\"type\":\"heatmap\"}],\"histogram2dcontour\":[{\"colorbar\":{\"outlinewidth\":0,\"ticks\":\"\"},\"colorscale\":[[0.0,\"#0d0887\"],[0.1111111111111111,\"#46039f\"],[0.2222222222222222,\"#7201a8\"],[0.3333333333333333,\"#9c179e\"],[0.4444444444444444,\"#bd3786\"],[0.5555555555555556,\"#d8576b\"],[0.6666666666666666,\"#ed7953\"],[0.7777777777777778,\"#fb9f3a\"],[0.8888888888888888,\"#fdca26\"],[1.0,\"#f0f921\"]],\"type\":\"histogram2dcontour\"}],\"histogram2d\":[{\"colorbar\":{\"outlinewidth\":0,\"ticks\":\"\"},\"colorscale\":[[0.0,\"#0d0887\"],[0.1111111111111111,\"#46039f\"],[0.2222222222222222,\"#7201a8\"],[0.3333333333333333,\"#9c179e\"],[0.4444444444444444,\"#bd3786\"],[0.5555555555555556,\"#d8576b\"],[0.6666666666666666,\"#ed7953\"],[0.7777777777777778,\"#fb9f3a\"],[0.8888888888888888,\"#fdca26\"],[1.0,\"#f0f921\"]],\"type\":\"histogram2d\"}],\"histogram\":[{\"marker\":{\"pattern\":{\"fillmode\":\"overlay\",\"size\":10,\"solidity\":0.2}},\"type\":\"histogram\"}],\"mesh3d\":[{\"colorbar\":{\"outlinewidth\":0,\"ticks\":\"\"},\"type\":\"mesh3d\"}],\"parcoords\":[{\"line\":{\"colorbar\":{\"outlinewidth\":0,\"ticks\":\"\"}},\"type\":\"parcoords\"}],\"pie\":[{\"automargin\":true,\"type\":\"pie\"}],\"scatter3d\":[{\"line\":{\"colorbar\":{\"outlinewidth\":0,\"ticks\":\"\"}},\"marker\":{\"colorbar\":{\"outlinewidth\":0,\"ticks\":\"\"}},\"type\":\"scatter3d\"}],\"scattercarpet\":[{\"marker\":{\"colorbar\":{\"outlinewidth\":0,\"ticks\":\"\"}},\"type\":\"scattercarpet\"}],\"scattergeo\":[{\"marker\":{\"colorbar\":{\"outlinewidth\":0,\"ticks\":\"\"}},\"type\":\"scattergeo\"}],\"scattergl\":[{\"marker\":{\"colorbar\":{\"outlinewidth\":0,\"ticks\":\"\"}},\"type\":\"scattergl\"}],\"scattermapbox\":[{\"marker\":{\"colorbar\":{\"outlinewidth\":0,\"ticks\":\"\"}},\"type\":\"scattermapbox\"}],\"scatterpolargl\":[{\"marker\":{\"colorbar\":{\"outlinewidth\":0,\"ticks\":\"\"}},\"type\":\"scatterpolargl\"}],\"scatterpolar\":[{\"marker\":{\"colorbar\":{\"outlinewidth\":0,\"ticks\":\"\"}},\"type\":\"scatterpolar\"}],\"scatter\":[{\"marker\":{\"colorbar\":{\"outlinewidth\":0,\"ticks\":\"\"}},\"type\":\"scatter\"}],\"scatterternary\":[{\"marker\":{\"colorbar\":{\"outlinewidth\":0,\"ticks\":\"\"}},\"type\":\"scatterternary\"}],\"surface\":[{\"colorbar\":{\"outlinewidth\":0,\"ticks\":\"\"},\"colorscale\":[[0.0,\"#0d0887\"],[0.1111111111111111,\"#46039f\"],[0.2222222222222222,\"#7201a8\"],[0.3333333333333333,\"#9c179e\"],[0.4444444444444444,\"#bd3786\"],[0.5555555555555556,\"#d8576b\"],[0.6666666666666666,\"#ed7953\"],[0.7777777777777778,\"#fb9f3a\"],[0.8888888888888888,\"#fdca26\"],[1.0,\"#f0f921\"]],\"type\":\"surface\"}],\"table\":[{\"cells\":{\"fill\":{\"color\":\"#EBF0F8\"},\"line\":{\"color\":\"white\"}},\"header\":{\"fill\":{\"color\":\"#C8D4E3\"},\"line\":{\"color\":\"white\"}},\"type\":\"table\"}]},\"layout\":{\"annotationdefaults\":{\"arrowcolor\":\"#2a3f5f\",\"arrowhead\":0,\"arrowwidth\":1},\"autotypenumbers\":\"strict\",\"coloraxis\":{\"colorbar\":{\"outlinewidth\":0,\"ticks\":\"\"}},\"colorscale\":{\"diverging\":[[0,\"#8e0152\"],[0.1,\"#c51b7d\"],[0.2,\"#de77ae\"],[0.3,\"#f1b6da\"],[0.4,\"#fde0ef\"],[0.5,\"#f7f7f7\"],[0.6,\"#e6f5d0\"],[0.7,\"#b8e186\"],[0.8,\"#7fbc41\"],[0.9,\"#4d9221\"],[1,\"#276419\"]],\"sequential\":[[0.0,\"#0d0887\"],[0.1111111111111111,\"#46039f\"],[0.2222222222222222,\"#7201a8\"],[0.3333333333333333,\"#9c179e\"],[0.4444444444444444,\"#bd3786\"],[0.5555555555555556,\"#d8576b\"],[0.6666666666666666,\"#ed7953\"],[0.7777777777777778,\"#fb9f3a\"],[0.8888888888888888,\"#fdca26\"],[1.0,\"#f0f921\"]],\"sequentialminus\":[[0.0,\"#0d0887\"],[0.1111111111111111,\"#46039f\"],[0.2222222222222222,\"#7201a8\"],[0.3333333333333333,\"#9c179e\"],[0.4444444444444444,\"#bd3786\"],[0.5555555555555556,\"#d8576b\"],[0.6666666666666666,\"#ed7953\"],[0.7777777777777778,\"#fb9f3a\"],[0.8888888888888888,\"#fdca26\"],[1.0,\"#f0f921\"]]},\"colorway\":[\"#636efa\",\"#EF553B\",\"#00cc96\",\"#ab63fa\",\"#FFA15A\",\"#19d3f3\",\"#FF6692\",\"#B6E880\",\"#FF97FF\",\"#FECB52\"],\"font\":{\"color\":\"#2a3f5f\"},\"geo\":{\"bgcolor\":\"white\",\"lakecolor\":\"white\",\"landcolor\":\"#E5ECF6\",\"showlakes\":true,\"showland\":true,\"subunitcolor\":\"white\"},\"hoverlabel\":{\"align\":\"left\"},\"hovermode\":\"closest\",\"mapbox\":{\"style\":\"light\"},\"paper_bgcolor\":\"white\",\"plot_bgcolor\":\"#E5ECF6\",\"polar\":{\"angularaxis\":{\"gridcolor\":\"white\",\"linecolor\":\"white\",\"ticks\":\"\"},\"bgcolor\":\"#E5ECF6\",\"radialaxis\":{\"gridcolor\":\"white\",\"linecolor\":\"white\",\"ticks\":\"\"}},\"scene\":{\"xaxis\":{\"backgroundcolor\":\"#E5ECF6\",\"gridcolor\":\"white\",\"gridwidth\":2,\"linecolor\":\"white\",\"showbackground\":true,\"ticks\":\"\",\"zerolinecolor\":\"white\"},\"yaxis\":{\"backgroundcolor\":\"#E5ECF6\",\"gridcolor\":\"white\",\"gridwidth\":2,\"linecolor\":\"white\",\"showbackground\":true,\"ticks\":\"\",\"zerolinecolor\":\"white\"},\"zaxis\":{\"backgroundcolor\":\"#E5ECF6\",\"gridcolor\":\"white\",\"gridwidth\":2,\"linecolor\":\"white\",\"showbackground\":true,\"ticks\":\"\",\"zerolinecolor\":\"white\"}},\"shapedefaults\":{\"line\":{\"color\":\"#2a3f5f\"}},\"ternary\":{\"aaxis\":{\"gridcolor\":\"white\",\"linecolor\":\"white\",\"ticks\":\"\"},\"baxis\":{\"gridcolor\":\"white\",\"linecolor\":\"white\",\"ticks\":\"\"},\"bgcolor\":\"#E5ECF6\",\"caxis\":{\"gridcolor\":\"white\",\"linecolor\":\"white\",\"ticks\":\"\"}},\"title\":{\"x\":0.05},\"xaxis\":{\"automargin\":true,\"gridcolor\":\"white\",\"linecolor\":\"white\",\"ticks\":\"\",\"title\":{\"standoff\":15},\"zerolinecolor\":\"white\",\"zerolinewidth\":2},\"yaxis\":{\"automargin\":true,\"gridcolor\":\"white\",\"linecolor\":\"white\",\"ticks\":\"\",\"title\":{\"standoff\":15},\"zerolinecolor\":\"white\",\"zerolinewidth\":2}}},\"title\":{\"font\":{\"color\":\"#4D5663\"}},\"xaxis\":{\"gridcolor\":\"#E1E5ED\",\"showgrid\":true,\"tickfont\":{\"color\":\"#4D5663\"},\"title\":{\"font\":{\"color\":\"#4D5663\"},\"text\":\"\"},\"zerolinecolor\":\"#E1E5ED\"},\"yaxis\":{\"gridcolor\":\"#E1E5ED\",\"showgrid\":true,\"tickfont\":{\"color\":\"#4D5663\"},\"title\":{\"font\":{\"color\":\"#4D5663\"},\"text\":\"\"},\"zerolinecolor\":\"#E1E5ED\"}},                        {\"showLink\": true, \"linkText\": \"Export to plot.ly\", \"plotlyServerURL\": \"https://plot.ly\", \"responsive\": true}                    ).then(function(){\n",
       "                            \n",
       "var gd = document.getElementById('4f6cd7d3-f068-4d78-9e92-aa7d3ec67e61');\n",
       "var x = new MutationObserver(function (mutations, observer) {{\n",
       "        var display = window.getComputedStyle(gd).display;\n",
       "        if (!display || display === 'none') {{\n",
       "            console.log([gd, 'removed!']);\n",
       "            Plotly.purge(gd);\n",
       "            observer.disconnect();\n",
       "        }}\n",
       "}});\n",
       "\n",
       "// Listen for the removal of the full notebook cells\n",
       "var notebookContainer = gd.closest('#notebook-container');\n",
       "if (notebookContainer) {{\n",
       "    x.observe(notebookContainer, {childList: true});\n",
       "}}\n",
       "\n",
       "// Listen for the clearing of the current output cell\n",
       "var outputEl = gd.closest('.output');\n",
       "if (outputEl) {{\n",
       "    x.observe(outputEl, {childList: true});\n",
       "}}\n",
       "\n",
       "                        })                };                });            </script>        </div>"
      ]
     },
     "metadata": {},
     "output_type": "display_data"
    }
   ],
   "source": [
    "df2.iplot(kind='bar',x='Category',y='Values')"
   ]
  },
  {
   "cell_type": "code",
   "execution_count": 17,
   "metadata": {},
   "outputs": [
    {
     "data": {
      "application/vnd.plotly.v1+json": {
       "config": {
        "linkText": "Export to plot.ly",
        "plotlyServerURL": "https://plot.ly",
        "showLink": true
       },
       "data": [
        {
         "marker": {
          "color": "rgba(255, 153, 51, 0.6)",
          "line": {
           "color": "rgba(255, 153, 51, 1.0)",
           "width": 1
          }
         },
         "name": "None",
         "orientation": "v",
         "text": "",
         "type": "bar",
         "x": [
          "A",
          "B",
          "C",
          "D"
         ],
         "y": [
          100,
          100,
          100,
          100
         ]
        }
       ],
       "layout": {
        "legend": {
         "bgcolor": "#F5F6F9",
         "font": {
          "color": "#4D5663"
         }
        },
        "paper_bgcolor": "#F5F6F9",
        "plot_bgcolor": "#F5F6F9",
        "template": {
         "data": {
          "bar": [
           {
            "error_x": {
             "color": "#2a3f5f"
            },
            "error_y": {
             "color": "#2a3f5f"
            },
            "marker": {
             "line": {
              "color": "#E5ECF6",
              "width": 0.5
             },
             "pattern": {
              "fillmode": "overlay",
              "size": 10,
              "solidity": 0.2
             }
            },
            "type": "bar"
           }
          ],
          "barpolar": [
           {
            "marker": {
             "line": {
              "color": "#E5ECF6",
              "width": 0.5
             },
             "pattern": {
              "fillmode": "overlay",
              "size": 10,
              "solidity": 0.2
             }
            },
            "type": "barpolar"
           }
          ],
          "carpet": [
           {
            "aaxis": {
             "endlinecolor": "#2a3f5f",
             "gridcolor": "white",
             "linecolor": "white",
             "minorgridcolor": "white",
             "startlinecolor": "#2a3f5f"
            },
            "baxis": {
             "endlinecolor": "#2a3f5f",
             "gridcolor": "white",
             "linecolor": "white",
             "minorgridcolor": "white",
             "startlinecolor": "#2a3f5f"
            },
            "type": "carpet"
           }
          ],
          "choropleth": [
           {
            "colorbar": {
             "outlinewidth": 0,
             "ticks": ""
            },
            "type": "choropleth"
           }
          ],
          "contour": [
           {
            "colorbar": {
             "outlinewidth": 0,
             "ticks": ""
            },
            "colorscale": [
             [
              0,
              "#0d0887"
             ],
             [
              0.1111111111111111,
              "#46039f"
             ],
             [
              0.2222222222222222,
              "#7201a8"
             ],
             [
              0.3333333333333333,
              "#9c179e"
             ],
             [
              0.4444444444444444,
              "#bd3786"
             ],
             [
              0.5555555555555556,
              "#d8576b"
             ],
             [
              0.6666666666666666,
              "#ed7953"
             ],
             [
              0.7777777777777778,
              "#fb9f3a"
             ],
             [
              0.8888888888888888,
              "#fdca26"
             ],
             [
              1,
              "#f0f921"
             ]
            ],
            "type": "contour"
           }
          ],
          "contourcarpet": [
           {
            "colorbar": {
             "outlinewidth": 0,
             "ticks": ""
            },
            "type": "contourcarpet"
           }
          ],
          "heatmap": [
           {
            "colorbar": {
             "outlinewidth": 0,
             "ticks": ""
            },
            "colorscale": [
             [
              0,
              "#0d0887"
             ],
             [
              0.1111111111111111,
              "#46039f"
             ],
             [
              0.2222222222222222,
              "#7201a8"
             ],
             [
              0.3333333333333333,
              "#9c179e"
             ],
             [
              0.4444444444444444,
              "#bd3786"
             ],
             [
              0.5555555555555556,
              "#d8576b"
             ],
             [
              0.6666666666666666,
              "#ed7953"
             ],
             [
              0.7777777777777778,
              "#fb9f3a"
             ],
             [
              0.8888888888888888,
              "#fdca26"
             ],
             [
              1,
              "#f0f921"
             ]
            ],
            "type": "heatmap"
           }
          ],
          "heatmapgl": [
           {
            "colorbar": {
             "outlinewidth": 0,
             "ticks": ""
            },
            "colorscale": [
             [
              0,
              "#0d0887"
             ],
             [
              0.1111111111111111,
              "#46039f"
             ],
             [
              0.2222222222222222,
              "#7201a8"
             ],
             [
              0.3333333333333333,
              "#9c179e"
             ],
             [
              0.4444444444444444,
              "#bd3786"
             ],
             [
              0.5555555555555556,
              "#d8576b"
             ],
             [
              0.6666666666666666,
              "#ed7953"
             ],
             [
              0.7777777777777778,
              "#fb9f3a"
             ],
             [
              0.8888888888888888,
              "#fdca26"
             ],
             [
              1,
              "#f0f921"
             ]
            ],
            "type": "heatmapgl"
           }
          ],
          "histogram": [
           {
            "marker": {
             "pattern": {
              "fillmode": "overlay",
              "size": 10,
              "solidity": 0.2
             }
            },
            "type": "histogram"
           }
          ],
          "histogram2d": [
           {
            "colorbar": {
             "outlinewidth": 0,
             "ticks": ""
            },
            "colorscale": [
             [
              0,
              "#0d0887"
             ],
             [
              0.1111111111111111,
              "#46039f"
             ],
             [
              0.2222222222222222,
              "#7201a8"
             ],
             [
              0.3333333333333333,
              "#9c179e"
             ],
             [
              0.4444444444444444,
              "#bd3786"
             ],
             [
              0.5555555555555556,
              "#d8576b"
             ],
             [
              0.6666666666666666,
              "#ed7953"
             ],
             [
              0.7777777777777778,
              "#fb9f3a"
             ],
             [
              0.8888888888888888,
              "#fdca26"
             ],
             [
              1,
              "#f0f921"
             ]
            ],
            "type": "histogram2d"
           }
          ],
          "histogram2dcontour": [
           {
            "colorbar": {
             "outlinewidth": 0,
             "ticks": ""
            },
            "colorscale": [
             [
              0,
              "#0d0887"
             ],
             [
              0.1111111111111111,
              "#46039f"
             ],
             [
              0.2222222222222222,
              "#7201a8"
             ],
             [
              0.3333333333333333,
              "#9c179e"
             ],
             [
              0.4444444444444444,
              "#bd3786"
             ],
             [
              0.5555555555555556,
              "#d8576b"
             ],
             [
              0.6666666666666666,
              "#ed7953"
             ],
             [
              0.7777777777777778,
              "#fb9f3a"
             ],
             [
              0.8888888888888888,
              "#fdca26"
             ],
             [
              1,
              "#f0f921"
             ]
            ],
            "type": "histogram2dcontour"
           }
          ],
          "mesh3d": [
           {
            "colorbar": {
             "outlinewidth": 0,
             "ticks": ""
            },
            "type": "mesh3d"
           }
          ],
          "parcoords": [
           {
            "line": {
             "colorbar": {
              "outlinewidth": 0,
              "ticks": ""
             }
            },
            "type": "parcoords"
           }
          ],
          "pie": [
           {
            "automargin": true,
            "type": "pie"
           }
          ],
          "scatter": [
           {
            "marker": {
             "colorbar": {
              "outlinewidth": 0,
              "ticks": ""
             }
            },
            "type": "scatter"
           }
          ],
          "scatter3d": [
           {
            "line": {
             "colorbar": {
              "outlinewidth": 0,
              "ticks": ""
             }
            },
            "marker": {
             "colorbar": {
              "outlinewidth": 0,
              "ticks": ""
             }
            },
            "type": "scatter3d"
           }
          ],
          "scattercarpet": [
           {
            "marker": {
             "colorbar": {
              "outlinewidth": 0,
              "ticks": ""
             }
            },
            "type": "scattercarpet"
           }
          ],
          "scattergeo": [
           {
            "marker": {
             "colorbar": {
              "outlinewidth": 0,
              "ticks": ""
             }
            },
            "type": "scattergeo"
           }
          ],
          "scattergl": [
           {
            "marker": {
             "colorbar": {
              "outlinewidth": 0,
              "ticks": ""
             }
            },
            "type": "scattergl"
           }
          ],
          "scattermapbox": [
           {
            "marker": {
             "colorbar": {
              "outlinewidth": 0,
              "ticks": ""
             }
            },
            "type": "scattermapbox"
           }
          ],
          "scatterpolar": [
           {
            "marker": {
             "colorbar": {
              "outlinewidth": 0,
              "ticks": ""
             }
            },
            "type": "scatterpolar"
           }
          ],
          "scatterpolargl": [
           {
            "marker": {
             "colorbar": {
              "outlinewidth": 0,
              "ticks": ""
             }
            },
            "type": "scatterpolargl"
           }
          ],
          "scatterternary": [
           {
            "marker": {
             "colorbar": {
              "outlinewidth": 0,
              "ticks": ""
             }
            },
            "type": "scatterternary"
           }
          ],
          "surface": [
           {
            "colorbar": {
             "outlinewidth": 0,
             "ticks": ""
            },
            "colorscale": [
             [
              0,
              "#0d0887"
             ],
             [
              0.1111111111111111,
              "#46039f"
             ],
             [
              0.2222222222222222,
              "#7201a8"
             ],
             [
              0.3333333333333333,
              "#9c179e"
             ],
             [
              0.4444444444444444,
              "#bd3786"
             ],
             [
              0.5555555555555556,
              "#d8576b"
             ],
             [
              0.6666666666666666,
              "#ed7953"
             ],
             [
              0.7777777777777778,
              "#fb9f3a"
             ],
             [
              0.8888888888888888,
              "#fdca26"
             ],
             [
              1,
              "#f0f921"
             ]
            ],
            "type": "surface"
           }
          ],
          "table": [
           {
            "cells": {
             "fill": {
              "color": "#EBF0F8"
             },
             "line": {
              "color": "white"
             }
            },
            "header": {
             "fill": {
              "color": "#C8D4E3"
             },
             "line": {
              "color": "white"
             }
            },
            "type": "table"
           }
          ]
         },
         "layout": {
          "annotationdefaults": {
           "arrowcolor": "#2a3f5f",
           "arrowhead": 0,
           "arrowwidth": 1
          },
          "autotypenumbers": "strict",
          "coloraxis": {
           "colorbar": {
            "outlinewidth": 0,
            "ticks": ""
           }
          },
          "colorscale": {
           "diverging": [
            [
             0,
             "#8e0152"
            ],
            [
             0.1,
             "#c51b7d"
            ],
            [
             0.2,
             "#de77ae"
            ],
            [
             0.3,
             "#f1b6da"
            ],
            [
             0.4,
             "#fde0ef"
            ],
            [
             0.5,
             "#f7f7f7"
            ],
            [
             0.6,
             "#e6f5d0"
            ],
            [
             0.7,
             "#b8e186"
            ],
            [
             0.8,
             "#7fbc41"
            ],
            [
             0.9,
             "#4d9221"
            ],
            [
             1,
             "#276419"
            ]
           ],
           "sequential": [
            [
             0,
             "#0d0887"
            ],
            [
             0.1111111111111111,
             "#46039f"
            ],
            [
             0.2222222222222222,
             "#7201a8"
            ],
            [
             0.3333333333333333,
             "#9c179e"
            ],
            [
             0.4444444444444444,
             "#bd3786"
            ],
            [
             0.5555555555555556,
             "#d8576b"
            ],
            [
             0.6666666666666666,
             "#ed7953"
            ],
            [
             0.7777777777777778,
             "#fb9f3a"
            ],
            [
             0.8888888888888888,
             "#fdca26"
            ],
            [
             1,
             "#f0f921"
            ]
           ],
           "sequentialminus": [
            [
             0,
             "#0d0887"
            ],
            [
             0.1111111111111111,
             "#46039f"
            ],
            [
             0.2222222222222222,
             "#7201a8"
            ],
            [
             0.3333333333333333,
             "#9c179e"
            ],
            [
             0.4444444444444444,
             "#bd3786"
            ],
            [
             0.5555555555555556,
             "#d8576b"
            ],
            [
             0.6666666666666666,
             "#ed7953"
            ],
            [
             0.7777777777777778,
             "#fb9f3a"
            ],
            [
             0.8888888888888888,
             "#fdca26"
            ],
            [
             1,
             "#f0f921"
            ]
           ]
          },
          "colorway": [
           "#636efa",
           "#EF553B",
           "#00cc96",
           "#ab63fa",
           "#FFA15A",
           "#19d3f3",
           "#FF6692",
           "#B6E880",
           "#FF97FF",
           "#FECB52"
          ],
          "font": {
           "color": "#2a3f5f"
          },
          "geo": {
           "bgcolor": "white",
           "lakecolor": "white",
           "landcolor": "#E5ECF6",
           "showlakes": true,
           "showland": true,
           "subunitcolor": "white"
          },
          "hoverlabel": {
           "align": "left"
          },
          "hovermode": "closest",
          "mapbox": {
           "style": "light"
          },
          "paper_bgcolor": "white",
          "plot_bgcolor": "#E5ECF6",
          "polar": {
           "angularaxis": {
            "gridcolor": "white",
            "linecolor": "white",
            "ticks": ""
           },
           "bgcolor": "#E5ECF6",
           "radialaxis": {
            "gridcolor": "white",
            "linecolor": "white",
            "ticks": ""
           }
          },
          "scene": {
           "xaxis": {
            "backgroundcolor": "#E5ECF6",
            "gridcolor": "white",
            "gridwidth": 2,
            "linecolor": "white",
            "showbackground": true,
            "ticks": "",
            "zerolinecolor": "white"
           },
           "yaxis": {
            "backgroundcolor": "#E5ECF6",
            "gridcolor": "white",
            "gridwidth": 2,
            "linecolor": "white",
            "showbackground": true,
            "ticks": "",
            "zerolinecolor": "white"
           },
           "zaxis": {
            "backgroundcolor": "#E5ECF6",
            "gridcolor": "white",
            "gridwidth": 2,
            "linecolor": "white",
            "showbackground": true,
            "ticks": "",
            "zerolinecolor": "white"
           }
          },
          "shapedefaults": {
           "line": {
            "color": "#2a3f5f"
           }
          },
          "ternary": {
           "aaxis": {
            "gridcolor": "white",
            "linecolor": "white",
            "ticks": ""
           },
           "baxis": {
            "gridcolor": "white",
            "linecolor": "white",
            "ticks": ""
           },
           "bgcolor": "#E5ECF6",
           "caxis": {
            "gridcolor": "white",
            "linecolor": "white",
            "ticks": ""
           }
          },
          "title": {
           "x": 0.05
          },
          "xaxis": {
           "automargin": true,
           "gridcolor": "white",
           "linecolor": "white",
           "ticks": "",
           "title": {
            "standoff": 15
           },
           "zerolinecolor": "white",
           "zerolinewidth": 2
          },
          "yaxis": {
           "automargin": true,
           "gridcolor": "white",
           "linecolor": "white",
           "ticks": "",
           "title": {
            "standoff": 15
           },
           "zerolinecolor": "white",
           "zerolinewidth": 2
          }
         }
        },
        "title": {
         "font": {
          "color": "#4D5663"
         }
        },
        "xaxis": {
         "gridcolor": "#E1E5ED",
         "showgrid": true,
         "tickfont": {
          "color": "#4D5663"
         },
         "title": {
          "font": {
           "color": "#4D5663"
          },
          "text": ""
         },
         "zerolinecolor": "#E1E5ED"
        },
        "yaxis": {
         "gridcolor": "#E1E5ED",
         "showgrid": true,
         "tickfont": {
          "color": "#4D5663"
         },
         "title": {
          "font": {
           "color": "#4D5663"
          },
          "text": ""
         },
         "zerolinecolor": "#E1E5ED"
        }
       }
      },
      "text/html": [
       "<div>                            <div id=\"905cdcd1-f518-4de3-8361-bfbb6fd78ee2\" class=\"plotly-graph-div\" style=\"height:525px; width:100%;\"></div>            <script type=\"text/javascript\">                require([\"plotly\"], function(Plotly) {                    window.PLOTLYENV=window.PLOTLYENV || {};\n",
       "                    window.PLOTLYENV.BASE_URL='https://plot.ly';                                    if (document.getElementById(\"905cdcd1-f518-4de3-8361-bfbb6fd78ee2\")) {                    Plotly.newPlot(                        \"905cdcd1-f518-4de3-8361-bfbb6fd78ee2\",                        [{\"marker\":{\"color\":\"rgba(255, 153, 51, 0.6)\",\"line\":{\"color\":\"rgba(255, 153, 51, 1.0)\",\"width\":1}},\"name\":\"None\",\"orientation\":\"v\",\"text\":\"\",\"x\":[\"A\",\"B\",\"C\",\"D\"],\"y\":[100,100,100,100],\"type\":\"bar\"}],                        {\"legend\":{\"bgcolor\":\"#F5F6F9\",\"font\":{\"color\":\"#4D5663\"}},\"paper_bgcolor\":\"#F5F6F9\",\"plot_bgcolor\":\"#F5F6F9\",\"template\":{\"data\":{\"barpolar\":[{\"marker\":{\"line\":{\"color\":\"#E5ECF6\",\"width\":0.5},\"pattern\":{\"fillmode\":\"overlay\",\"size\":10,\"solidity\":0.2}},\"type\":\"barpolar\"}],\"bar\":[{\"error_x\":{\"color\":\"#2a3f5f\"},\"error_y\":{\"color\":\"#2a3f5f\"},\"marker\":{\"line\":{\"color\":\"#E5ECF6\",\"width\":0.5},\"pattern\":{\"fillmode\":\"overlay\",\"size\":10,\"solidity\":0.2}},\"type\":\"bar\"}],\"carpet\":[{\"aaxis\":{\"endlinecolor\":\"#2a3f5f\",\"gridcolor\":\"white\",\"linecolor\":\"white\",\"minorgridcolor\":\"white\",\"startlinecolor\":\"#2a3f5f\"},\"baxis\":{\"endlinecolor\":\"#2a3f5f\",\"gridcolor\":\"white\",\"linecolor\":\"white\",\"minorgridcolor\":\"white\",\"startlinecolor\":\"#2a3f5f\"},\"type\":\"carpet\"}],\"choropleth\":[{\"colorbar\":{\"outlinewidth\":0,\"ticks\":\"\"},\"type\":\"choropleth\"}],\"contourcarpet\":[{\"colorbar\":{\"outlinewidth\":0,\"ticks\":\"\"},\"type\":\"contourcarpet\"}],\"contour\":[{\"colorbar\":{\"outlinewidth\":0,\"ticks\":\"\"},\"colorscale\":[[0.0,\"#0d0887\"],[0.1111111111111111,\"#46039f\"],[0.2222222222222222,\"#7201a8\"],[0.3333333333333333,\"#9c179e\"],[0.4444444444444444,\"#bd3786\"],[0.5555555555555556,\"#d8576b\"],[0.6666666666666666,\"#ed7953\"],[0.7777777777777778,\"#fb9f3a\"],[0.8888888888888888,\"#fdca26\"],[1.0,\"#f0f921\"]],\"type\":\"contour\"}],\"heatmapgl\":[{\"colorbar\":{\"outlinewidth\":0,\"ticks\":\"\"},\"colorscale\":[[0.0,\"#0d0887\"],[0.1111111111111111,\"#46039f\"],[0.2222222222222222,\"#7201a8\"],[0.3333333333333333,\"#9c179e\"],[0.4444444444444444,\"#bd3786\"],[0.5555555555555556,\"#d8576b\"],[0.6666666666666666,\"#ed7953\"],[0.7777777777777778,\"#fb9f3a\"],[0.8888888888888888,\"#fdca26\"],[1.0,\"#f0f921\"]],\"type\":\"heatmapgl\"}],\"heatmap\":[{\"colorbar\":{\"outlinewidth\":0,\"ticks\":\"\"},\"colorscale\":[[0.0,\"#0d0887\"],[0.1111111111111111,\"#46039f\"],[0.2222222222222222,\"#7201a8\"],[0.3333333333333333,\"#9c179e\"],[0.4444444444444444,\"#bd3786\"],[0.5555555555555556,\"#d8576b\"],[0.6666666666666666,\"#ed7953\"],[0.7777777777777778,\"#fb9f3a\"],[0.8888888888888888,\"#fdca26\"],[1.0,\"#f0f921\"]],\"type\":\"heatmap\"}],\"histogram2dcontour\":[{\"colorbar\":{\"outlinewidth\":0,\"ticks\":\"\"},\"colorscale\":[[0.0,\"#0d0887\"],[0.1111111111111111,\"#46039f\"],[0.2222222222222222,\"#7201a8\"],[0.3333333333333333,\"#9c179e\"],[0.4444444444444444,\"#bd3786\"],[0.5555555555555556,\"#d8576b\"],[0.6666666666666666,\"#ed7953\"],[0.7777777777777778,\"#fb9f3a\"],[0.8888888888888888,\"#fdca26\"],[1.0,\"#f0f921\"]],\"type\":\"histogram2dcontour\"}],\"histogram2d\":[{\"colorbar\":{\"outlinewidth\":0,\"ticks\":\"\"},\"colorscale\":[[0.0,\"#0d0887\"],[0.1111111111111111,\"#46039f\"],[0.2222222222222222,\"#7201a8\"],[0.3333333333333333,\"#9c179e\"],[0.4444444444444444,\"#bd3786\"],[0.5555555555555556,\"#d8576b\"],[0.6666666666666666,\"#ed7953\"],[0.7777777777777778,\"#fb9f3a\"],[0.8888888888888888,\"#fdca26\"],[1.0,\"#f0f921\"]],\"type\":\"histogram2d\"}],\"histogram\":[{\"marker\":{\"pattern\":{\"fillmode\":\"overlay\",\"size\":10,\"solidity\":0.2}},\"type\":\"histogram\"}],\"mesh3d\":[{\"colorbar\":{\"outlinewidth\":0,\"ticks\":\"\"},\"type\":\"mesh3d\"}],\"parcoords\":[{\"line\":{\"colorbar\":{\"outlinewidth\":0,\"ticks\":\"\"}},\"type\":\"parcoords\"}],\"pie\":[{\"automargin\":true,\"type\":\"pie\"}],\"scatter3d\":[{\"line\":{\"colorbar\":{\"outlinewidth\":0,\"ticks\":\"\"}},\"marker\":{\"colorbar\":{\"outlinewidth\":0,\"ticks\":\"\"}},\"type\":\"scatter3d\"}],\"scattercarpet\":[{\"marker\":{\"colorbar\":{\"outlinewidth\":0,\"ticks\":\"\"}},\"type\":\"scattercarpet\"}],\"scattergeo\":[{\"marker\":{\"colorbar\":{\"outlinewidth\":0,\"ticks\":\"\"}},\"type\":\"scattergeo\"}],\"scattergl\":[{\"marker\":{\"colorbar\":{\"outlinewidth\":0,\"ticks\":\"\"}},\"type\":\"scattergl\"}],\"scattermapbox\":[{\"marker\":{\"colorbar\":{\"outlinewidth\":0,\"ticks\":\"\"}},\"type\":\"scattermapbox\"}],\"scatterpolargl\":[{\"marker\":{\"colorbar\":{\"outlinewidth\":0,\"ticks\":\"\"}},\"type\":\"scatterpolargl\"}],\"scatterpolar\":[{\"marker\":{\"colorbar\":{\"outlinewidth\":0,\"ticks\":\"\"}},\"type\":\"scatterpolar\"}],\"scatter\":[{\"marker\":{\"colorbar\":{\"outlinewidth\":0,\"ticks\":\"\"}},\"type\":\"scatter\"}],\"scatterternary\":[{\"marker\":{\"colorbar\":{\"outlinewidth\":0,\"ticks\":\"\"}},\"type\":\"scatterternary\"}],\"surface\":[{\"colorbar\":{\"outlinewidth\":0,\"ticks\":\"\"},\"colorscale\":[[0.0,\"#0d0887\"],[0.1111111111111111,\"#46039f\"],[0.2222222222222222,\"#7201a8\"],[0.3333333333333333,\"#9c179e\"],[0.4444444444444444,\"#bd3786\"],[0.5555555555555556,\"#d8576b\"],[0.6666666666666666,\"#ed7953\"],[0.7777777777777778,\"#fb9f3a\"],[0.8888888888888888,\"#fdca26\"],[1.0,\"#f0f921\"]],\"type\":\"surface\"}],\"table\":[{\"cells\":{\"fill\":{\"color\":\"#EBF0F8\"},\"line\":{\"color\":\"white\"}},\"header\":{\"fill\":{\"color\":\"#C8D4E3\"},\"line\":{\"color\":\"white\"}},\"type\":\"table\"}]},\"layout\":{\"annotationdefaults\":{\"arrowcolor\":\"#2a3f5f\",\"arrowhead\":0,\"arrowwidth\":1},\"autotypenumbers\":\"strict\",\"coloraxis\":{\"colorbar\":{\"outlinewidth\":0,\"ticks\":\"\"}},\"colorscale\":{\"diverging\":[[0,\"#8e0152\"],[0.1,\"#c51b7d\"],[0.2,\"#de77ae\"],[0.3,\"#f1b6da\"],[0.4,\"#fde0ef\"],[0.5,\"#f7f7f7\"],[0.6,\"#e6f5d0\"],[0.7,\"#b8e186\"],[0.8,\"#7fbc41\"],[0.9,\"#4d9221\"],[1,\"#276419\"]],\"sequential\":[[0.0,\"#0d0887\"],[0.1111111111111111,\"#46039f\"],[0.2222222222222222,\"#7201a8\"],[0.3333333333333333,\"#9c179e\"],[0.4444444444444444,\"#bd3786\"],[0.5555555555555556,\"#d8576b\"],[0.6666666666666666,\"#ed7953\"],[0.7777777777777778,\"#fb9f3a\"],[0.8888888888888888,\"#fdca26\"],[1.0,\"#f0f921\"]],\"sequentialminus\":[[0.0,\"#0d0887\"],[0.1111111111111111,\"#46039f\"],[0.2222222222222222,\"#7201a8\"],[0.3333333333333333,\"#9c179e\"],[0.4444444444444444,\"#bd3786\"],[0.5555555555555556,\"#d8576b\"],[0.6666666666666666,\"#ed7953\"],[0.7777777777777778,\"#fb9f3a\"],[0.8888888888888888,\"#fdca26\"],[1.0,\"#f0f921\"]]},\"colorway\":[\"#636efa\",\"#EF553B\",\"#00cc96\",\"#ab63fa\",\"#FFA15A\",\"#19d3f3\",\"#FF6692\",\"#B6E880\",\"#FF97FF\",\"#FECB52\"],\"font\":{\"color\":\"#2a3f5f\"},\"geo\":{\"bgcolor\":\"white\",\"lakecolor\":\"white\",\"landcolor\":\"#E5ECF6\",\"showlakes\":true,\"showland\":true,\"subunitcolor\":\"white\"},\"hoverlabel\":{\"align\":\"left\"},\"hovermode\":\"closest\",\"mapbox\":{\"style\":\"light\"},\"paper_bgcolor\":\"white\",\"plot_bgcolor\":\"#E5ECF6\",\"polar\":{\"angularaxis\":{\"gridcolor\":\"white\",\"linecolor\":\"white\",\"ticks\":\"\"},\"bgcolor\":\"#E5ECF6\",\"radialaxis\":{\"gridcolor\":\"white\",\"linecolor\":\"white\",\"ticks\":\"\"}},\"scene\":{\"xaxis\":{\"backgroundcolor\":\"#E5ECF6\",\"gridcolor\":\"white\",\"gridwidth\":2,\"linecolor\":\"white\",\"showbackground\":true,\"ticks\":\"\",\"zerolinecolor\":\"white\"},\"yaxis\":{\"backgroundcolor\":\"#E5ECF6\",\"gridcolor\":\"white\",\"gridwidth\":2,\"linecolor\":\"white\",\"showbackground\":true,\"ticks\":\"\",\"zerolinecolor\":\"white\"},\"zaxis\":{\"backgroundcolor\":\"#E5ECF6\",\"gridcolor\":\"white\",\"gridwidth\":2,\"linecolor\":\"white\",\"showbackground\":true,\"ticks\":\"\",\"zerolinecolor\":\"white\"}},\"shapedefaults\":{\"line\":{\"color\":\"#2a3f5f\"}},\"ternary\":{\"aaxis\":{\"gridcolor\":\"white\",\"linecolor\":\"white\",\"ticks\":\"\"},\"baxis\":{\"gridcolor\":\"white\",\"linecolor\":\"white\",\"ticks\":\"\"},\"bgcolor\":\"#E5ECF6\",\"caxis\":{\"gridcolor\":\"white\",\"linecolor\":\"white\",\"ticks\":\"\"}},\"title\":{\"x\":0.05},\"xaxis\":{\"automargin\":true,\"gridcolor\":\"white\",\"linecolor\":\"white\",\"ticks\":\"\",\"title\":{\"standoff\":15},\"zerolinecolor\":\"white\",\"zerolinewidth\":2},\"yaxis\":{\"automargin\":true,\"gridcolor\":\"white\",\"linecolor\":\"white\",\"ticks\":\"\",\"title\":{\"standoff\":15},\"zerolinecolor\":\"white\",\"zerolinewidth\":2}}},\"title\":{\"font\":{\"color\":\"#4D5663\"}},\"xaxis\":{\"gridcolor\":\"#E1E5ED\",\"showgrid\":true,\"tickfont\":{\"color\":\"#4D5663\"},\"title\":{\"font\":{\"color\":\"#4D5663\"},\"text\":\"\"},\"zerolinecolor\":\"#E1E5ED\"},\"yaxis\":{\"gridcolor\":\"#E1E5ED\",\"showgrid\":true,\"tickfont\":{\"color\":\"#4D5663\"},\"title\":{\"font\":{\"color\":\"#4D5663\"},\"text\":\"\"},\"zerolinecolor\":\"#E1E5ED\"}},                        {\"showLink\": true, \"linkText\": \"Export to plot.ly\", \"plotlyServerURL\": \"https://plot.ly\", \"responsive\": true}                    ).then(function(){\n",
       "                            \n",
       "var gd = document.getElementById('905cdcd1-f518-4de3-8361-bfbb6fd78ee2');\n",
       "var x = new MutationObserver(function (mutations, observer) {{\n",
       "        var display = window.getComputedStyle(gd).display;\n",
       "        if (!display || display === 'none') {{\n",
       "            console.log([gd, 'removed!']);\n",
       "            Plotly.purge(gd);\n",
       "            observer.disconnect();\n",
       "        }}\n",
       "}});\n",
       "\n",
       "// Listen for the removal of the full notebook cells\n",
       "var notebookContainer = gd.closest('#notebook-container');\n",
       "if (notebookContainer) {{\n",
       "    x.observe(notebookContainer, {childList: true});\n",
       "}}\n",
       "\n",
       "// Listen for the clearing of the current output cell\n",
       "var outputEl = gd.closest('.output');\n",
       "if (outputEl) {{\n",
       "    x.observe(outputEl, {childList: true});\n",
       "}}\n",
       "\n",
       "                        })                };                });            </script>        </div>"
      ]
     },
     "metadata": {},
     "output_type": "display_data"
    }
   ],
   "source": [
    "df.count().iplot(kind='bar')"
   ]
  },
  {
   "cell_type": "markdown",
   "metadata": {},
   "source": [
    "## Boxplots"
   ]
  },
  {
   "cell_type": "code",
   "execution_count": 18,
   "metadata": {},
   "outputs": [
    {
     "data": {
      "application/vnd.plotly.v1+json": {
       "config": {
        "linkText": "Export to plot.ly",
        "plotlyServerURL": "https://plot.ly",
        "showLink": true
       },
       "data": [
        {
         "boxpoints": false,
         "line": {
          "width": 1.3
         },
         "marker": {
          "color": "rgba(255, 153, 51, 1.0)"
         },
         "name": "A",
         "orientation": "v",
         "type": "box",
         "y": [
          -0.813094974158615,
          -0.6320677486019147,
          -1.8330180188288216,
          0.30946276649967275,
          -0.34965251460663066,
          0.2541242676005999,
          -1.25409609186406,
          -1.5953824759783306,
          1.209996953723444,
          -0.9031365588388017,
          -0.2528994058951668,
          1.1993671174625855,
          -0.03479382440405025,
          0.3587651949863715,
          -1.1773880168626751,
          0.1882839674798589,
          0.15926856483581273,
          -0.7575700575481089,
          0.5923720816717849,
          -0.43599154580134525,
          -0.40837339303113024,
          -0.47646397111751376,
          -0.4321175598119881,
          -0.4166377903936301,
          0.4465808165690844,
          -2.1124722104004774,
          -0.7168027292736445,
          -1.4687468385877556,
          -0.8552724178550116,
          -0.1833187037760549,
          -0.0516014687726671,
          0.08929624648486419,
          0.283689280140465,
          0.23228257745041886,
          -0.7994824154787796,
          -0.15801600703858176,
          1.6906988519025559,
          -0.14436831923177185,
          -0.8490004432157602,
          0.12606804002629304,
          -1.419783969424822,
          -1.3386672466657163,
          0.1025711857038433,
          -0.17526986520131532,
          1.0322093753670571,
          -0.08573491754076627,
          1.3010216527471408,
          -0.9489028978786285,
          -0.883492332517402,
          -1.2873136726903505,
          0.6479351933755042,
          -0.8376876792340087,
          -0.7386458732355002,
          0.7560364934857938,
          0.6795679333775624,
          0.5918996363507902,
          0.9376426697121171,
          0.2653352431183191,
          1.6579747967261944,
          -1.3355416128149515,
          0.03395533520806284,
          -0.25376231373687164,
          -0.3343846286932071,
          0.947247557239635,
          -0.6079551744162106,
          -0.5752977060081683,
          -0.7890237136747128,
          -0.6587642329116016,
          1.163701930798238,
          0.4606404839325701,
          0.8067944374337038,
          -0.19988432528089134,
          -0.21390856728770027,
          -1.018568825005735,
          -1.9589686543951768,
          0.06068691245208455,
          0.2678907684869432,
          0.03482855608749407,
          -0.38749122105340666,
          -0.5179472276706354,
          0.7704703886351763,
          -0.9890496308856835,
          -0.4756631316399486,
          -0.441569985646899,
          -0.5786339248236021,
          1.2622457440284895,
          -0.3533303731137811,
          0.6127642614441432,
          -0.7507571711907699,
          -0.17145625910104795,
          -1.7199283839683184,
          -0.4694471236015308,
          1.1724720953758947,
          -0.3030314459539039,
          0.7747117018211388,
          0.056886856834242286,
          0.2156621626300678,
          -0.4998451104106444,
          -2.3961426677696873,
          0.4773531183027042
         ]
        },
        {
         "boxpoints": false,
         "line": {
          "width": 1.3
         },
         "marker": {
          "color": "rgba(55, 128, 191, 1.0)"
         },
         "name": "B",
         "orientation": "v",
         "type": "box",
         "y": [
          -1.810705620303543,
          -0.6009888044223608,
          -0.8699212494722677,
          -0.550534748641092,
          0.4274694755230017,
          0.5985403310571168,
          -0.12188328873954034,
          0.4356412141803811,
          0.23677802285309477,
          -1.0316199459958797,
          -1.4119914497327224,
          0.42286751614288964,
          0.6899228786876435,
          -0.3304895135271398,
          1.0199569861773699,
          -0.07452470268944116,
          0.5179123635617616,
          0.7212504056693066,
          1.0568220483539346,
          -0.6329714821783978,
          -0.7729734925590904,
          0.04611373216482665,
          -1.662473515264781,
          0.36338256207965686,
          -0.5503816776380241,
          -2.7322601519765075,
          -1.6113440120570792,
          0.906382094929108,
          0.4735390415891768,
          -0.975263135435076,
          1.588411990779888,
          -2.0768510538923963,
          -1.4231799460959853,
          0.6882644752812591,
          -0.4998480033947634,
          -0.496656394151241,
          -0.4835208859489081,
          -1.8816807499555739,
          0.7719794078507218,
          -0.5139045194391917,
          -1.639215382625045,
          0.40602339946612515,
          2.298972143667528,
          0.11505047736262437,
          0.7005717751962709,
          0.4855307624973052,
          -1.0177172990318302,
          0.4840449889903183,
          -0.7194660638209635,
          -1.2300432610286793,
          -1.3701879756614934,
          -4.671017883589642,
          -1.184275158102963,
          0.39666942539920347,
          -2.226632808899658,
          1.3015642154390656,
          -1.782868004198849,
          2.1247188152382463,
          0.15797693140612953,
          1.8613288779523205,
          -1.7063050375534852,
          1.5331352666503193,
          0.5163164019441416,
          0.21032973058063056,
          -0.7984519380720064,
          1.1289791275584007,
          -0.2821710024131168,
          -0.7397400754627164,
          -0.08853754898509787,
          0.5618092496862193,
          -0.27172333726221837,
          0.1763089843781587,
          -0.36412102130108454,
          2.282272289168112,
          -0.9838235969987101,
          0.4803009506491444,
          1.3445668968174393,
          -0.2172825367000398,
          0.031868623818376185,
          0.7387689037046977,
          1.9125877271166336,
          1.0787847269804158,
          0.3197886159287113,
          0.10733866289906828,
          0.050774236411273876,
          -0.48259031053099,
          0.4489969178285034,
          -0.27393513534568964,
          -1.3236830680290488,
          -0.4724755544055852,
          1.0766300535114623,
          2.005792322169697,
          -1.5314592912873237,
          0.05121594255874584,
          0.27667231651744467,
          1.167398410424178,
          0.3884694404010253,
          -0.27529328081680393,
          0.9988939005905673,
          -0.3363810223756748
         ]
        },
        {
         "boxpoints": false,
         "line": {
          "width": 1.3
         },
         "marker": {
          "color": "rgba(50, 171, 96, 1.0)"
         },
         "name": "C",
         "orientation": "v",
         "type": "box",
         "y": [
          0.11478205581581004,
          -0.7269443582850521,
          -0.1016340680650651,
          1.2378074807734678,
          0.5388091112889526,
          -0.4927430155938008,
          0.8371686804480575,
          -0.39013299510156135,
          -2.393066210468212,
          0.0019183805017788742,
          -0.6212843400286342,
          0.9676209752970684,
          -1.5796310872302395,
          -0.4932564107282682,
          0.7916439329286905,
          -0.6729339922723492,
          1.7399217191676006,
          -0.4509690828174776,
          0.16785395282716004,
          -0.757753230238972,
          0.6312887954145839,
          -0.3283564822328538,
          -0.7978452637865974,
          -0.8893931085956209,
          -2.160753748239564,
          0.9545431135106218,
          -2.6208022565379028,
          -0.5148911309926577,
          -1.2798396591335959,
          -0.28918707517250025,
          -0.6240293916732635,
          0.9038059794163196,
          -0.05660955113231021,
          1.3506483845773511,
          -0.8769329662460299,
          -0.1107532276844045,
          1.526879382866703,
          -0.16471239549521408,
          0.07554965503932266,
          -0.9669828002542283,
          -1.1498006789784305,
          -1.4503403112959212,
          -0.09290735196103211,
          0.4806173056682018,
          -1.2810713901463937,
          1.2888541173565045,
          0.8634720603349073,
          0.8448374275058981,
          0.37296355903467393,
          -0.5544209177627011,
          1.408763413526378,
          1.0835412855416442,
          1.3165718329358136,
          -1.664798939796363,
          0.9071188834882395,
          0.20241034222087703,
          -1.1564786307549466,
          -0.0932964523797422,
          1.4140703193632078,
          1.737261186077956,
          -1.5808041215904607,
          -0.6057547399907516,
          1.6816155776518427,
          -0.4888820778770582,
          1.1552763034155282,
          0.2017100658612874,
          -1.8078744153943203,
          -0.9706305630597827,
          1.1484979604817878,
          -1.2359892682170062,
          -2.7540337648068878,
          -0.14845271863611717,
          -1.2925078780907588,
          0.5411658262306305,
          -1.3464204205490389,
          0.5653336995383301,
          2.16344641717525,
          -0.7687566107452469,
          -0.30200898511652086,
          0.7232652642928008,
          0.24367448114825582,
          1.2763788519004793,
          -1.2326788202391716,
          1.3647014194043774,
          1.307768033039978,
          0.4846572183139304,
          -1.272427724900435,
          -0.660930965033993,
          0.7875247488283871,
          -0.026615501892175424,
          -0.7628248833075147,
          -1.4622792771961897,
          0.07764859196380898,
          -1.2344766538783207,
          -0.03578260657767036,
          -0.29940223232268787,
          -1.618126017021462,
          0.3229962626008405,
          1.6520112265009217,
          0.30855758749121664
         ]
        },
        {
         "boxpoints": false,
         "line": {
          "width": 1.3
         },
         "marker": {
          "color": "rgba(128, 0, 128, 1.0)"
         },
         "name": "D",
         "orientation": "v",
         "type": "box",
         "y": [
          -0.3711931195882421,
          0.09976857112903022,
          0.9939841470463258,
          -0.9173811897687342,
          1.3642204266535358,
          -0.853767248924945,
          0.5344726508326774,
          -0.25254954602810586,
          1.3519306823601493,
          0.9705011873043906,
          0.49484252843912263,
          -0.24719792523029027,
          1.6574866576257656,
          1.1593405743507281,
          -2.0945717822987597,
          1.0018232358435215,
          -0.6659273832893793,
          1.3312705501019129,
          0.04282474171051095,
          -0.7457730652334875,
          0.8906541224627033,
          0.004219177583501206,
          0.13700574672714838,
          0.9757088108414181,
          -1.1373755748646621,
          -0.9585348853767228,
          -1.265109555400537,
          0.066649404176319,
          0.5886509931401189,
          -0.20935248036239013,
          0.08355201605704875,
          -0.7247359165430772,
          0.0800168690130128,
          1.033643312989802,
          1.2231227729939784,
          2.692333571163918,
          0.7219892080868341,
          -0.5216471565080071,
          -0.37528687751493633,
          -0.9685420450030335,
          -0.05728896034000053,
          1.2582378704313193,
          0.8751239112360449,
          -0.5520061014149678,
          -0.7010512767667684,
          -0.4667152872661785,
          1.6622095835383701,
          0.4995020164011859,
          2.2267298922913072,
          -0.6593475939230415,
          -1.829455092533334,
          -0.731000160738417,
          -1.1837345757874516,
          -0.10802993995791371,
          -0.18466174057252122,
          1.1587551931993783,
          0.6351246492231096,
          1.9362937226827508,
          0.19130915745618232,
          0.01221577918521235,
          -0.7554859562554341,
          0.7184140422363418,
          -0.02504087624912554,
          0.27232324987871503,
          -2.231055701976817,
          -0.6405114028732867,
          -1.1051998663261027,
          3.2685613892422314,
          -1.0326974243490925,
          -0.21654608592375243,
          -1.5763742713627535,
          0.9158590725264812,
          -0.6074054236547549,
          0.027748603834612893,
          0.11259719032670895,
          0.16168425441769932,
          0.2469126299504723,
          -2.3427633156375154,
          -0.05946911210369595,
          1.4602378374812317,
          0.2980729594300721,
          1.1885689344371333,
          -1.0276015884468157,
          1.3049809821828426,
          -1.0828189253555016,
          -0.81500181747484,
          0.18100739737577215,
          -0.9819893643717046,
          -1.7567247714982477,
          -0.7189127866512951,
          -0.8001221135136581,
          -0.91141532744826,
          -0.9456097475592233,
          -0.47830415948983285,
          -0.4506533233935948,
          -0.31628502280265586,
          0.5412070352741424,
          0.6705847523583408,
          0.12432907190852026,
          -0.07326452712069995
         ]
        }
       ],
       "layout": {
        "legend": {
         "bgcolor": "#F5F6F9",
         "font": {
          "color": "#4D5663"
         }
        },
        "paper_bgcolor": "#F5F6F9",
        "plot_bgcolor": "#F5F6F9",
        "template": {
         "data": {
          "bar": [
           {
            "error_x": {
             "color": "#2a3f5f"
            },
            "error_y": {
             "color": "#2a3f5f"
            },
            "marker": {
             "line": {
              "color": "#E5ECF6",
              "width": 0.5
             },
             "pattern": {
              "fillmode": "overlay",
              "size": 10,
              "solidity": 0.2
             }
            },
            "type": "bar"
           }
          ],
          "barpolar": [
           {
            "marker": {
             "line": {
              "color": "#E5ECF6",
              "width": 0.5
             },
             "pattern": {
              "fillmode": "overlay",
              "size": 10,
              "solidity": 0.2
             }
            },
            "type": "barpolar"
           }
          ],
          "carpet": [
           {
            "aaxis": {
             "endlinecolor": "#2a3f5f",
             "gridcolor": "white",
             "linecolor": "white",
             "minorgridcolor": "white",
             "startlinecolor": "#2a3f5f"
            },
            "baxis": {
             "endlinecolor": "#2a3f5f",
             "gridcolor": "white",
             "linecolor": "white",
             "minorgridcolor": "white",
             "startlinecolor": "#2a3f5f"
            },
            "type": "carpet"
           }
          ],
          "choropleth": [
           {
            "colorbar": {
             "outlinewidth": 0,
             "ticks": ""
            },
            "type": "choropleth"
           }
          ],
          "contour": [
           {
            "colorbar": {
             "outlinewidth": 0,
             "ticks": ""
            },
            "colorscale": [
             [
              0,
              "#0d0887"
             ],
             [
              0.1111111111111111,
              "#46039f"
             ],
             [
              0.2222222222222222,
              "#7201a8"
             ],
             [
              0.3333333333333333,
              "#9c179e"
             ],
             [
              0.4444444444444444,
              "#bd3786"
             ],
             [
              0.5555555555555556,
              "#d8576b"
             ],
             [
              0.6666666666666666,
              "#ed7953"
             ],
             [
              0.7777777777777778,
              "#fb9f3a"
             ],
             [
              0.8888888888888888,
              "#fdca26"
             ],
             [
              1,
              "#f0f921"
             ]
            ],
            "type": "contour"
           }
          ],
          "contourcarpet": [
           {
            "colorbar": {
             "outlinewidth": 0,
             "ticks": ""
            },
            "type": "contourcarpet"
           }
          ],
          "heatmap": [
           {
            "colorbar": {
             "outlinewidth": 0,
             "ticks": ""
            },
            "colorscale": [
             [
              0,
              "#0d0887"
             ],
             [
              0.1111111111111111,
              "#46039f"
             ],
             [
              0.2222222222222222,
              "#7201a8"
             ],
             [
              0.3333333333333333,
              "#9c179e"
             ],
             [
              0.4444444444444444,
              "#bd3786"
             ],
             [
              0.5555555555555556,
              "#d8576b"
             ],
             [
              0.6666666666666666,
              "#ed7953"
             ],
             [
              0.7777777777777778,
              "#fb9f3a"
             ],
             [
              0.8888888888888888,
              "#fdca26"
             ],
             [
              1,
              "#f0f921"
             ]
            ],
            "type": "heatmap"
           }
          ],
          "heatmapgl": [
           {
            "colorbar": {
             "outlinewidth": 0,
             "ticks": ""
            },
            "colorscale": [
             [
              0,
              "#0d0887"
             ],
             [
              0.1111111111111111,
              "#46039f"
             ],
             [
              0.2222222222222222,
              "#7201a8"
             ],
             [
              0.3333333333333333,
              "#9c179e"
             ],
             [
              0.4444444444444444,
              "#bd3786"
             ],
             [
              0.5555555555555556,
              "#d8576b"
             ],
             [
              0.6666666666666666,
              "#ed7953"
             ],
             [
              0.7777777777777778,
              "#fb9f3a"
             ],
             [
              0.8888888888888888,
              "#fdca26"
             ],
             [
              1,
              "#f0f921"
             ]
            ],
            "type": "heatmapgl"
           }
          ],
          "histogram": [
           {
            "marker": {
             "pattern": {
              "fillmode": "overlay",
              "size": 10,
              "solidity": 0.2
             }
            },
            "type": "histogram"
           }
          ],
          "histogram2d": [
           {
            "colorbar": {
             "outlinewidth": 0,
             "ticks": ""
            },
            "colorscale": [
             [
              0,
              "#0d0887"
             ],
             [
              0.1111111111111111,
              "#46039f"
             ],
             [
              0.2222222222222222,
              "#7201a8"
             ],
             [
              0.3333333333333333,
              "#9c179e"
             ],
             [
              0.4444444444444444,
              "#bd3786"
             ],
             [
              0.5555555555555556,
              "#d8576b"
             ],
             [
              0.6666666666666666,
              "#ed7953"
             ],
             [
              0.7777777777777778,
              "#fb9f3a"
             ],
             [
              0.8888888888888888,
              "#fdca26"
             ],
             [
              1,
              "#f0f921"
             ]
            ],
            "type": "histogram2d"
           }
          ],
          "histogram2dcontour": [
           {
            "colorbar": {
             "outlinewidth": 0,
             "ticks": ""
            },
            "colorscale": [
             [
              0,
              "#0d0887"
             ],
             [
              0.1111111111111111,
              "#46039f"
             ],
             [
              0.2222222222222222,
              "#7201a8"
             ],
             [
              0.3333333333333333,
              "#9c179e"
             ],
             [
              0.4444444444444444,
              "#bd3786"
             ],
             [
              0.5555555555555556,
              "#d8576b"
             ],
             [
              0.6666666666666666,
              "#ed7953"
             ],
             [
              0.7777777777777778,
              "#fb9f3a"
             ],
             [
              0.8888888888888888,
              "#fdca26"
             ],
             [
              1,
              "#f0f921"
             ]
            ],
            "type": "histogram2dcontour"
           }
          ],
          "mesh3d": [
           {
            "colorbar": {
             "outlinewidth": 0,
             "ticks": ""
            },
            "type": "mesh3d"
           }
          ],
          "parcoords": [
           {
            "line": {
             "colorbar": {
              "outlinewidth": 0,
              "ticks": ""
             }
            },
            "type": "parcoords"
           }
          ],
          "pie": [
           {
            "automargin": true,
            "type": "pie"
           }
          ],
          "scatter": [
           {
            "marker": {
             "colorbar": {
              "outlinewidth": 0,
              "ticks": ""
             }
            },
            "type": "scatter"
           }
          ],
          "scatter3d": [
           {
            "line": {
             "colorbar": {
              "outlinewidth": 0,
              "ticks": ""
             }
            },
            "marker": {
             "colorbar": {
              "outlinewidth": 0,
              "ticks": ""
             }
            },
            "type": "scatter3d"
           }
          ],
          "scattercarpet": [
           {
            "marker": {
             "colorbar": {
              "outlinewidth": 0,
              "ticks": ""
             }
            },
            "type": "scattercarpet"
           }
          ],
          "scattergeo": [
           {
            "marker": {
             "colorbar": {
              "outlinewidth": 0,
              "ticks": ""
             }
            },
            "type": "scattergeo"
           }
          ],
          "scattergl": [
           {
            "marker": {
             "colorbar": {
              "outlinewidth": 0,
              "ticks": ""
             }
            },
            "type": "scattergl"
           }
          ],
          "scattermapbox": [
           {
            "marker": {
             "colorbar": {
              "outlinewidth": 0,
              "ticks": ""
             }
            },
            "type": "scattermapbox"
           }
          ],
          "scatterpolar": [
           {
            "marker": {
             "colorbar": {
              "outlinewidth": 0,
              "ticks": ""
             }
            },
            "type": "scatterpolar"
           }
          ],
          "scatterpolargl": [
           {
            "marker": {
             "colorbar": {
              "outlinewidth": 0,
              "ticks": ""
             }
            },
            "type": "scatterpolargl"
           }
          ],
          "scatterternary": [
           {
            "marker": {
             "colorbar": {
              "outlinewidth": 0,
              "ticks": ""
             }
            },
            "type": "scatterternary"
           }
          ],
          "surface": [
           {
            "colorbar": {
             "outlinewidth": 0,
             "ticks": ""
            },
            "colorscale": [
             [
              0,
              "#0d0887"
             ],
             [
              0.1111111111111111,
              "#46039f"
             ],
             [
              0.2222222222222222,
              "#7201a8"
             ],
             [
              0.3333333333333333,
              "#9c179e"
             ],
             [
              0.4444444444444444,
              "#bd3786"
             ],
             [
              0.5555555555555556,
              "#d8576b"
             ],
             [
              0.6666666666666666,
              "#ed7953"
             ],
             [
              0.7777777777777778,
              "#fb9f3a"
             ],
             [
              0.8888888888888888,
              "#fdca26"
             ],
             [
              1,
              "#f0f921"
             ]
            ],
            "type": "surface"
           }
          ],
          "table": [
           {
            "cells": {
             "fill": {
              "color": "#EBF0F8"
             },
             "line": {
              "color": "white"
             }
            },
            "header": {
             "fill": {
              "color": "#C8D4E3"
             },
             "line": {
              "color": "white"
             }
            },
            "type": "table"
           }
          ]
         },
         "layout": {
          "annotationdefaults": {
           "arrowcolor": "#2a3f5f",
           "arrowhead": 0,
           "arrowwidth": 1
          },
          "autotypenumbers": "strict",
          "coloraxis": {
           "colorbar": {
            "outlinewidth": 0,
            "ticks": ""
           }
          },
          "colorscale": {
           "diverging": [
            [
             0,
             "#8e0152"
            ],
            [
             0.1,
             "#c51b7d"
            ],
            [
             0.2,
             "#de77ae"
            ],
            [
             0.3,
             "#f1b6da"
            ],
            [
             0.4,
             "#fde0ef"
            ],
            [
             0.5,
             "#f7f7f7"
            ],
            [
             0.6,
             "#e6f5d0"
            ],
            [
             0.7,
             "#b8e186"
            ],
            [
             0.8,
             "#7fbc41"
            ],
            [
             0.9,
             "#4d9221"
            ],
            [
             1,
             "#276419"
            ]
           ],
           "sequential": [
            [
             0,
             "#0d0887"
            ],
            [
             0.1111111111111111,
             "#46039f"
            ],
            [
             0.2222222222222222,
             "#7201a8"
            ],
            [
             0.3333333333333333,
             "#9c179e"
            ],
            [
             0.4444444444444444,
             "#bd3786"
            ],
            [
             0.5555555555555556,
             "#d8576b"
            ],
            [
             0.6666666666666666,
             "#ed7953"
            ],
            [
             0.7777777777777778,
             "#fb9f3a"
            ],
            [
             0.8888888888888888,
             "#fdca26"
            ],
            [
             1,
             "#f0f921"
            ]
           ],
           "sequentialminus": [
            [
             0,
             "#0d0887"
            ],
            [
             0.1111111111111111,
             "#46039f"
            ],
            [
             0.2222222222222222,
             "#7201a8"
            ],
            [
             0.3333333333333333,
             "#9c179e"
            ],
            [
             0.4444444444444444,
             "#bd3786"
            ],
            [
             0.5555555555555556,
             "#d8576b"
            ],
            [
             0.6666666666666666,
             "#ed7953"
            ],
            [
             0.7777777777777778,
             "#fb9f3a"
            ],
            [
             0.8888888888888888,
             "#fdca26"
            ],
            [
             1,
             "#f0f921"
            ]
           ]
          },
          "colorway": [
           "#636efa",
           "#EF553B",
           "#00cc96",
           "#ab63fa",
           "#FFA15A",
           "#19d3f3",
           "#FF6692",
           "#B6E880",
           "#FF97FF",
           "#FECB52"
          ],
          "font": {
           "color": "#2a3f5f"
          },
          "geo": {
           "bgcolor": "white",
           "lakecolor": "white",
           "landcolor": "#E5ECF6",
           "showlakes": true,
           "showland": true,
           "subunitcolor": "white"
          },
          "hoverlabel": {
           "align": "left"
          },
          "hovermode": "closest",
          "mapbox": {
           "style": "light"
          },
          "paper_bgcolor": "white",
          "plot_bgcolor": "#E5ECF6",
          "polar": {
           "angularaxis": {
            "gridcolor": "white",
            "linecolor": "white",
            "ticks": ""
           },
           "bgcolor": "#E5ECF6",
           "radialaxis": {
            "gridcolor": "white",
            "linecolor": "white",
            "ticks": ""
           }
          },
          "scene": {
           "xaxis": {
            "backgroundcolor": "#E5ECF6",
            "gridcolor": "white",
            "gridwidth": 2,
            "linecolor": "white",
            "showbackground": true,
            "ticks": "",
            "zerolinecolor": "white"
           },
           "yaxis": {
            "backgroundcolor": "#E5ECF6",
            "gridcolor": "white",
            "gridwidth": 2,
            "linecolor": "white",
            "showbackground": true,
            "ticks": "",
            "zerolinecolor": "white"
           },
           "zaxis": {
            "backgroundcolor": "#E5ECF6",
            "gridcolor": "white",
            "gridwidth": 2,
            "linecolor": "white",
            "showbackground": true,
            "ticks": "",
            "zerolinecolor": "white"
           }
          },
          "shapedefaults": {
           "line": {
            "color": "#2a3f5f"
           }
          },
          "ternary": {
           "aaxis": {
            "gridcolor": "white",
            "linecolor": "white",
            "ticks": ""
           },
           "baxis": {
            "gridcolor": "white",
            "linecolor": "white",
            "ticks": ""
           },
           "bgcolor": "#E5ECF6",
           "caxis": {
            "gridcolor": "white",
            "linecolor": "white",
            "ticks": ""
           }
          },
          "title": {
           "x": 0.05
          },
          "xaxis": {
           "automargin": true,
           "gridcolor": "white",
           "linecolor": "white",
           "ticks": "",
           "title": {
            "standoff": 15
           },
           "zerolinecolor": "white",
           "zerolinewidth": 2
          },
          "yaxis": {
           "automargin": true,
           "gridcolor": "white",
           "linecolor": "white",
           "ticks": "",
           "title": {
            "standoff": 15
           },
           "zerolinecolor": "white",
           "zerolinewidth": 2
          }
         }
        },
        "title": {
         "font": {
          "color": "#4D5663"
         }
        },
        "xaxis": {
         "gridcolor": "#E1E5ED",
         "showgrid": true,
         "tickfont": {
          "color": "#4D5663"
         },
         "title": {
          "font": {
           "color": "#4D5663"
          },
          "text": ""
         },
         "zerolinecolor": "#E1E5ED"
        },
        "yaxis": {
         "gridcolor": "#E1E5ED",
         "showgrid": true,
         "tickfont": {
          "color": "#4D5663"
         },
         "title": {
          "font": {
           "color": "#4D5663"
          },
          "text": ""
         },
         "zerolinecolor": "#E1E5ED"
        }
       }
      },
      "text/html": [
       "<div>                            <div id=\"ba9e231c-14ea-4d05-85a1-5e1c0654c7a9\" class=\"plotly-graph-div\" style=\"height:525px; width:100%;\"></div>            <script type=\"text/javascript\">                require([\"plotly\"], function(Plotly) {                    window.PLOTLYENV=window.PLOTLYENV || {};\n",
       "                    window.PLOTLYENV.BASE_URL='https://plot.ly';                                    if (document.getElementById(\"ba9e231c-14ea-4d05-85a1-5e1c0654c7a9\")) {                    Plotly.newPlot(                        \"ba9e231c-14ea-4d05-85a1-5e1c0654c7a9\",                        [{\"boxpoints\":false,\"line\":{\"width\":1.3},\"marker\":{\"color\":\"rgba(255, 153, 51, 1.0)\"},\"name\":\"A\",\"orientation\":\"v\",\"y\":[-0.813094974158615,-0.6320677486019147,-1.8330180188288216,0.30946276649967275,-0.34965251460663066,0.2541242676005999,-1.25409609186406,-1.5953824759783306,1.209996953723444,-0.9031365588388017,-0.2528994058951668,1.1993671174625855,-0.03479382440405025,0.3587651949863715,-1.1773880168626751,0.1882839674798589,0.15926856483581273,-0.7575700575481089,0.5923720816717849,-0.43599154580134525,-0.40837339303113024,-0.47646397111751376,-0.4321175598119881,-0.4166377903936301,0.4465808165690844,-2.1124722104004774,-0.7168027292736445,-1.4687468385877556,-0.8552724178550116,-0.1833187037760549,-0.0516014687726671,0.08929624648486419,0.283689280140465,0.23228257745041886,-0.7994824154787796,-0.15801600703858176,1.6906988519025559,-0.14436831923177185,-0.8490004432157602,0.12606804002629304,-1.419783969424822,-1.3386672466657163,0.1025711857038433,-0.17526986520131532,1.0322093753670571,-0.08573491754076627,1.3010216527471408,-0.9489028978786285,-0.883492332517402,-1.2873136726903505,0.6479351933755042,-0.8376876792340087,-0.7386458732355002,0.7560364934857938,0.6795679333775624,0.5918996363507902,0.9376426697121171,0.2653352431183191,1.6579747967261944,-1.3355416128149515,0.03395533520806284,-0.25376231373687164,-0.3343846286932071,0.947247557239635,-0.6079551744162106,-0.5752977060081683,-0.7890237136747128,-0.6587642329116016,1.163701930798238,0.4606404839325701,0.8067944374337038,-0.19988432528089134,-0.21390856728770027,-1.018568825005735,-1.9589686543951768,0.06068691245208455,0.2678907684869432,0.03482855608749407,-0.38749122105340666,-0.5179472276706354,0.7704703886351763,-0.9890496308856835,-0.4756631316399486,-0.441569985646899,-0.5786339248236021,1.2622457440284895,-0.3533303731137811,0.6127642614441432,-0.7507571711907699,-0.17145625910104795,-1.7199283839683184,-0.4694471236015308,1.1724720953758947,-0.3030314459539039,0.7747117018211388,0.056886856834242286,0.2156621626300678,-0.4998451104106444,-2.3961426677696873,0.4773531183027042],\"type\":\"box\"},{\"boxpoints\":false,\"line\":{\"width\":1.3},\"marker\":{\"color\":\"rgba(55, 128, 191, 1.0)\"},\"name\":\"B\",\"orientation\":\"v\",\"y\":[-1.810705620303543,-0.6009888044223608,-0.8699212494722677,-0.550534748641092,0.4274694755230017,0.5985403310571168,-0.12188328873954034,0.4356412141803811,0.23677802285309477,-1.0316199459958797,-1.4119914497327224,0.42286751614288964,0.6899228786876435,-0.3304895135271398,1.0199569861773699,-0.07452470268944116,0.5179123635617616,0.7212504056693066,1.0568220483539346,-0.6329714821783978,-0.7729734925590904,0.04611373216482665,-1.662473515264781,0.36338256207965686,-0.5503816776380241,-2.7322601519765075,-1.6113440120570792,0.906382094929108,0.4735390415891768,-0.975263135435076,1.588411990779888,-2.0768510538923963,-1.4231799460959853,0.6882644752812591,-0.4998480033947634,-0.496656394151241,-0.4835208859489081,-1.8816807499555739,0.7719794078507218,-0.5139045194391917,-1.639215382625045,0.40602339946612515,2.298972143667528,0.11505047736262437,0.7005717751962709,0.4855307624973052,-1.0177172990318302,0.4840449889903183,-0.7194660638209635,-1.2300432610286793,-1.3701879756614934,-4.671017883589642,-1.184275158102963,0.39666942539920347,-2.226632808899658,1.3015642154390656,-1.782868004198849,2.1247188152382463,0.15797693140612953,1.8613288779523205,-1.7063050375534852,1.5331352666503193,0.5163164019441416,0.21032973058063056,-0.7984519380720064,1.1289791275584007,-0.2821710024131168,-0.7397400754627164,-0.08853754898509787,0.5618092496862193,-0.27172333726221837,0.1763089843781587,-0.36412102130108454,2.282272289168112,-0.9838235969987101,0.4803009506491444,1.3445668968174393,-0.2172825367000398,0.031868623818376185,0.7387689037046977,1.9125877271166336,1.0787847269804158,0.3197886159287113,0.10733866289906828,0.050774236411273876,-0.48259031053099,0.4489969178285034,-0.27393513534568964,-1.3236830680290488,-0.4724755544055852,1.0766300535114623,2.005792322169697,-1.5314592912873237,0.05121594255874584,0.27667231651744467,1.167398410424178,0.3884694404010253,-0.27529328081680393,0.9988939005905673,-0.3363810223756748],\"type\":\"box\"},{\"boxpoints\":false,\"line\":{\"width\":1.3},\"marker\":{\"color\":\"rgba(50, 171, 96, 1.0)\"},\"name\":\"C\",\"orientation\":\"v\",\"y\":[0.11478205581581004,-0.7269443582850521,-0.1016340680650651,1.2378074807734678,0.5388091112889526,-0.4927430155938008,0.8371686804480575,-0.39013299510156135,-2.393066210468212,0.0019183805017788742,-0.6212843400286342,0.9676209752970684,-1.5796310872302395,-0.4932564107282682,0.7916439329286905,-0.6729339922723492,1.7399217191676006,-0.4509690828174776,0.16785395282716004,-0.757753230238972,0.6312887954145839,-0.3283564822328538,-0.7978452637865974,-0.8893931085956209,-2.160753748239564,0.9545431135106218,-2.6208022565379028,-0.5148911309926577,-1.2798396591335959,-0.28918707517250025,-0.6240293916732635,0.9038059794163196,-0.05660955113231021,1.3506483845773511,-0.8769329662460299,-0.1107532276844045,1.526879382866703,-0.16471239549521408,0.07554965503932266,-0.9669828002542283,-1.1498006789784305,-1.4503403112959212,-0.09290735196103211,0.4806173056682018,-1.2810713901463937,1.2888541173565045,0.8634720603349073,0.8448374275058981,0.37296355903467393,-0.5544209177627011,1.408763413526378,1.0835412855416442,1.3165718329358136,-1.664798939796363,0.9071188834882395,0.20241034222087703,-1.1564786307549466,-0.0932964523797422,1.4140703193632078,1.737261186077956,-1.5808041215904607,-0.6057547399907516,1.6816155776518427,-0.4888820778770582,1.1552763034155282,0.2017100658612874,-1.8078744153943203,-0.9706305630597827,1.1484979604817878,-1.2359892682170062,-2.7540337648068878,-0.14845271863611717,-1.2925078780907588,0.5411658262306305,-1.3464204205490389,0.5653336995383301,2.16344641717525,-0.7687566107452469,-0.30200898511652086,0.7232652642928008,0.24367448114825582,1.2763788519004793,-1.2326788202391716,1.3647014194043774,1.307768033039978,0.4846572183139304,-1.272427724900435,-0.660930965033993,0.7875247488283871,-0.026615501892175424,-0.7628248833075147,-1.4622792771961897,0.07764859196380898,-1.2344766538783207,-0.03578260657767036,-0.29940223232268787,-1.618126017021462,0.3229962626008405,1.6520112265009217,0.30855758749121664],\"type\":\"box\"},{\"boxpoints\":false,\"line\":{\"width\":1.3},\"marker\":{\"color\":\"rgba(128, 0, 128, 1.0)\"},\"name\":\"D\",\"orientation\":\"v\",\"y\":[-0.3711931195882421,0.09976857112903022,0.9939841470463258,-0.9173811897687342,1.3642204266535358,-0.853767248924945,0.5344726508326774,-0.25254954602810586,1.3519306823601493,0.9705011873043906,0.49484252843912263,-0.24719792523029027,1.6574866576257656,1.1593405743507281,-2.0945717822987597,1.0018232358435215,-0.6659273832893793,1.3312705501019129,0.04282474171051095,-0.7457730652334875,0.8906541224627033,0.004219177583501206,0.13700574672714838,0.9757088108414181,-1.1373755748646621,-0.9585348853767228,-1.265109555400537,0.066649404176319,0.5886509931401189,-0.20935248036239013,0.08355201605704875,-0.7247359165430772,0.0800168690130128,1.033643312989802,1.2231227729939784,2.692333571163918,0.7219892080868341,-0.5216471565080071,-0.37528687751493633,-0.9685420450030335,-0.05728896034000053,1.2582378704313193,0.8751239112360449,-0.5520061014149678,-0.7010512767667684,-0.4667152872661785,1.6622095835383701,0.4995020164011859,2.2267298922913072,-0.6593475939230415,-1.829455092533334,-0.731000160738417,-1.1837345757874516,-0.10802993995791371,-0.18466174057252122,1.1587551931993783,0.6351246492231096,1.9362937226827508,0.19130915745618232,0.01221577918521235,-0.7554859562554341,0.7184140422363418,-0.02504087624912554,0.27232324987871503,-2.231055701976817,-0.6405114028732867,-1.1051998663261027,3.2685613892422314,-1.0326974243490925,-0.21654608592375243,-1.5763742713627535,0.9158590725264812,-0.6074054236547549,0.027748603834612893,0.11259719032670895,0.16168425441769932,0.2469126299504723,-2.3427633156375154,-0.05946911210369595,1.4602378374812317,0.2980729594300721,1.1885689344371333,-1.0276015884468157,1.3049809821828426,-1.0828189253555016,-0.81500181747484,0.18100739737577215,-0.9819893643717046,-1.7567247714982477,-0.7189127866512951,-0.8001221135136581,-0.91141532744826,-0.9456097475592233,-0.47830415948983285,-0.4506533233935948,-0.31628502280265586,0.5412070352741424,0.6705847523583408,0.12432907190852026,-0.07326452712069995],\"type\":\"box\"}],                        {\"legend\":{\"bgcolor\":\"#F5F6F9\",\"font\":{\"color\":\"#4D5663\"}},\"paper_bgcolor\":\"#F5F6F9\",\"plot_bgcolor\":\"#F5F6F9\",\"template\":{\"data\":{\"barpolar\":[{\"marker\":{\"line\":{\"color\":\"#E5ECF6\",\"width\":0.5},\"pattern\":{\"fillmode\":\"overlay\",\"size\":10,\"solidity\":0.2}},\"type\":\"barpolar\"}],\"bar\":[{\"error_x\":{\"color\":\"#2a3f5f\"},\"error_y\":{\"color\":\"#2a3f5f\"},\"marker\":{\"line\":{\"color\":\"#E5ECF6\",\"width\":0.5},\"pattern\":{\"fillmode\":\"overlay\",\"size\":10,\"solidity\":0.2}},\"type\":\"bar\"}],\"carpet\":[{\"aaxis\":{\"endlinecolor\":\"#2a3f5f\",\"gridcolor\":\"white\",\"linecolor\":\"white\",\"minorgridcolor\":\"white\",\"startlinecolor\":\"#2a3f5f\"},\"baxis\":{\"endlinecolor\":\"#2a3f5f\",\"gridcolor\":\"white\",\"linecolor\":\"white\",\"minorgridcolor\":\"white\",\"startlinecolor\":\"#2a3f5f\"},\"type\":\"carpet\"}],\"choropleth\":[{\"colorbar\":{\"outlinewidth\":0,\"ticks\":\"\"},\"type\":\"choropleth\"}],\"contourcarpet\":[{\"colorbar\":{\"outlinewidth\":0,\"ticks\":\"\"},\"type\":\"contourcarpet\"}],\"contour\":[{\"colorbar\":{\"outlinewidth\":0,\"ticks\":\"\"},\"colorscale\":[[0.0,\"#0d0887\"],[0.1111111111111111,\"#46039f\"],[0.2222222222222222,\"#7201a8\"],[0.3333333333333333,\"#9c179e\"],[0.4444444444444444,\"#bd3786\"],[0.5555555555555556,\"#d8576b\"],[0.6666666666666666,\"#ed7953\"],[0.7777777777777778,\"#fb9f3a\"],[0.8888888888888888,\"#fdca26\"],[1.0,\"#f0f921\"]],\"type\":\"contour\"}],\"heatmapgl\":[{\"colorbar\":{\"outlinewidth\":0,\"ticks\":\"\"},\"colorscale\":[[0.0,\"#0d0887\"],[0.1111111111111111,\"#46039f\"],[0.2222222222222222,\"#7201a8\"],[0.3333333333333333,\"#9c179e\"],[0.4444444444444444,\"#bd3786\"],[0.5555555555555556,\"#d8576b\"],[0.6666666666666666,\"#ed7953\"],[0.7777777777777778,\"#fb9f3a\"],[0.8888888888888888,\"#fdca26\"],[1.0,\"#f0f921\"]],\"type\":\"heatmapgl\"}],\"heatmap\":[{\"colorbar\":{\"outlinewidth\":0,\"ticks\":\"\"},\"colorscale\":[[0.0,\"#0d0887\"],[0.1111111111111111,\"#46039f\"],[0.2222222222222222,\"#7201a8\"],[0.3333333333333333,\"#9c179e\"],[0.4444444444444444,\"#bd3786\"],[0.5555555555555556,\"#d8576b\"],[0.6666666666666666,\"#ed7953\"],[0.7777777777777778,\"#fb9f3a\"],[0.8888888888888888,\"#fdca26\"],[1.0,\"#f0f921\"]],\"type\":\"heatmap\"}],\"histogram2dcontour\":[{\"colorbar\":{\"outlinewidth\":0,\"ticks\":\"\"},\"colorscale\":[[0.0,\"#0d0887\"],[0.1111111111111111,\"#46039f\"],[0.2222222222222222,\"#7201a8\"],[0.3333333333333333,\"#9c179e\"],[0.4444444444444444,\"#bd3786\"],[0.5555555555555556,\"#d8576b\"],[0.6666666666666666,\"#ed7953\"],[0.7777777777777778,\"#fb9f3a\"],[0.8888888888888888,\"#fdca26\"],[1.0,\"#f0f921\"]],\"type\":\"histogram2dcontour\"}],\"histogram2d\":[{\"colorbar\":{\"outlinewidth\":0,\"ticks\":\"\"},\"colorscale\":[[0.0,\"#0d0887\"],[0.1111111111111111,\"#46039f\"],[0.2222222222222222,\"#7201a8\"],[0.3333333333333333,\"#9c179e\"],[0.4444444444444444,\"#bd3786\"],[0.5555555555555556,\"#d8576b\"],[0.6666666666666666,\"#ed7953\"],[0.7777777777777778,\"#fb9f3a\"],[0.8888888888888888,\"#fdca26\"],[1.0,\"#f0f921\"]],\"type\":\"histogram2d\"}],\"histogram\":[{\"marker\":{\"pattern\":{\"fillmode\":\"overlay\",\"size\":10,\"solidity\":0.2}},\"type\":\"histogram\"}],\"mesh3d\":[{\"colorbar\":{\"outlinewidth\":0,\"ticks\":\"\"},\"type\":\"mesh3d\"}],\"parcoords\":[{\"line\":{\"colorbar\":{\"outlinewidth\":0,\"ticks\":\"\"}},\"type\":\"parcoords\"}],\"pie\":[{\"automargin\":true,\"type\":\"pie\"}],\"scatter3d\":[{\"line\":{\"colorbar\":{\"outlinewidth\":0,\"ticks\":\"\"}},\"marker\":{\"colorbar\":{\"outlinewidth\":0,\"ticks\":\"\"}},\"type\":\"scatter3d\"}],\"scattercarpet\":[{\"marker\":{\"colorbar\":{\"outlinewidth\":0,\"ticks\":\"\"}},\"type\":\"scattercarpet\"}],\"scattergeo\":[{\"marker\":{\"colorbar\":{\"outlinewidth\":0,\"ticks\":\"\"}},\"type\":\"scattergeo\"}],\"scattergl\":[{\"marker\":{\"colorbar\":{\"outlinewidth\":0,\"ticks\":\"\"}},\"type\":\"scattergl\"}],\"scattermapbox\":[{\"marker\":{\"colorbar\":{\"outlinewidth\":0,\"ticks\":\"\"}},\"type\":\"scattermapbox\"}],\"scatterpolargl\":[{\"marker\":{\"colorbar\":{\"outlinewidth\":0,\"ticks\":\"\"}},\"type\":\"scatterpolargl\"}],\"scatterpolar\":[{\"marker\":{\"colorbar\":{\"outlinewidth\":0,\"ticks\":\"\"}},\"type\":\"scatterpolar\"}],\"scatter\":[{\"marker\":{\"colorbar\":{\"outlinewidth\":0,\"ticks\":\"\"}},\"type\":\"scatter\"}],\"scatterternary\":[{\"marker\":{\"colorbar\":{\"outlinewidth\":0,\"ticks\":\"\"}},\"type\":\"scatterternary\"}],\"surface\":[{\"colorbar\":{\"outlinewidth\":0,\"ticks\":\"\"},\"colorscale\":[[0.0,\"#0d0887\"],[0.1111111111111111,\"#46039f\"],[0.2222222222222222,\"#7201a8\"],[0.3333333333333333,\"#9c179e\"],[0.4444444444444444,\"#bd3786\"],[0.5555555555555556,\"#d8576b\"],[0.6666666666666666,\"#ed7953\"],[0.7777777777777778,\"#fb9f3a\"],[0.8888888888888888,\"#fdca26\"],[1.0,\"#f0f921\"]],\"type\":\"surface\"}],\"table\":[{\"cells\":{\"fill\":{\"color\":\"#EBF0F8\"},\"line\":{\"color\":\"white\"}},\"header\":{\"fill\":{\"color\":\"#C8D4E3\"},\"line\":{\"color\":\"white\"}},\"type\":\"table\"}]},\"layout\":{\"annotationdefaults\":{\"arrowcolor\":\"#2a3f5f\",\"arrowhead\":0,\"arrowwidth\":1},\"autotypenumbers\":\"strict\",\"coloraxis\":{\"colorbar\":{\"outlinewidth\":0,\"ticks\":\"\"}},\"colorscale\":{\"diverging\":[[0,\"#8e0152\"],[0.1,\"#c51b7d\"],[0.2,\"#de77ae\"],[0.3,\"#f1b6da\"],[0.4,\"#fde0ef\"],[0.5,\"#f7f7f7\"],[0.6,\"#e6f5d0\"],[0.7,\"#b8e186\"],[0.8,\"#7fbc41\"],[0.9,\"#4d9221\"],[1,\"#276419\"]],\"sequential\":[[0.0,\"#0d0887\"],[0.1111111111111111,\"#46039f\"],[0.2222222222222222,\"#7201a8\"],[0.3333333333333333,\"#9c179e\"],[0.4444444444444444,\"#bd3786\"],[0.5555555555555556,\"#d8576b\"],[0.6666666666666666,\"#ed7953\"],[0.7777777777777778,\"#fb9f3a\"],[0.8888888888888888,\"#fdca26\"],[1.0,\"#f0f921\"]],\"sequentialminus\":[[0.0,\"#0d0887\"],[0.1111111111111111,\"#46039f\"],[0.2222222222222222,\"#7201a8\"],[0.3333333333333333,\"#9c179e\"],[0.4444444444444444,\"#bd3786\"],[0.5555555555555556,\"#d8576b\"],[0.6666666666666666,\"#ed7953\"],[0.7777777777777778,\"#fb9f3a\"],[0.8888888888888888,\"#fdca26\"],[1.0,\"#f0f921\"]]},\"colorway\":[\"#636efa\",\"#EF553B\",\"#00cc96\",\"#ab63fa\",\"#FFA15A\",\"#19d3f3\",\"#FF6692\",\"#B6E880\",\"#FF97FF\",\"#FECB52\"],\"font\":{\"color\":\"#2a3f5f\"},\"geo\":{\"bgcolor\":\"white\",\"lakecolor\":\"white\",\"landcolor\":\"#E5ECF6\",\"showlakes\":true,\"showland\":true,\"subunitcolor\":\"white\"},\"hoverlabel\":{\"align\":\"left\"},\"hovermode\":\"closest\",\"mapbox\":{\"style\":\"light\"},\"paper_bgcolor\":\"white\",\"plot_bgcolor\":\"#E5ECF6\",\"polar\":{\"angularaxis\":{\"gridcolor\":\"white\",\"linecolor\":\"white\",\"ticks\":\"\"},\"bgcolor\":\"#E5ECF6\",\"radialaxis\":{\"gridcolor\":\"white\",\"linecolor\":\"white\",\"ticks\":\"\"}},\"scene\":{\"xaxis\":{\"backgroundcolor\":\"#E5ECF6\",\"gridcolor\":\"white\",\"gridwidth\":2,\"linecolor\":\"white\",\"showbackground\":true,\"ticks\":\"\",\"zerolinecolor\":\"white\"},\"yaxis\":{\"backgroundcolor\":\"#E5ECF6\",\"gridcolor\":\"white\",\"gridwidth\":2,\"linecolor\":\"white\",\"showbackground\":true,\"ticks\":\"\",\"zerolinecolor\":\"white\"},\"zaxis\":{\"backgroundcolor\":\"#E5ECF6\",\"gridcolor\":\"white\",\"gridwidth\":2,\"linecolor\":\"white\",\"showbackground\":true,\"ticks\":\"\",\"zerolinecolor\":\"white\"}},\"shapedefaults\":{\"line\":{\"color\":\"#2a3f5f\"}},\"ternary\":{\"aaxis\":{\"gridcolor\":\"white\",\"linecolor\":\"white\",\"ticks\":\"\"},\"baxis\":{\"gridcolor\":\"white\",\"linecolor\":\"white\",\"ticks\":\"\"},\"bgcolor\":\"#E5ECF6\",\"caxis\":{\"gridcolor\":\"white\",\"linecolor\":\"white\",\"ticks\":\"\"}},\"title\":{\"x\":0.05},\"xaxis\":{\"automargin\":true,\"gridcolor\":\"white\",\"linecolor\":\"white\",\"ticks\":\"\",\"title\":{\"standoff\":15},\"zerolinecolor\":\"white\",\"zerolinewidth\":2},\"yaxis\":{\"automargin\":true,\"gridcolor\":\"white\",\"linecolor\":\"white\",\"ticks\":\"\",\"title\":{\"standoff\":15},\"zerolinecolor\":\"white\",\"zerolinewidth\":2}}},\"title\":{\"font\":{\"color\":\"#4D5663\"}},\"xaxis\":{\"gridcolor\":\"#E1E5ED\",\"showgrid\":true,\"tickfont\":{\"color\":\"#4D5663\"},\"title\":{\"font\":{\"color\":\"#4D5663\"},\"text\":\"\"},\"zerolinecolor\":\"#E1E5ED\"},\"yaxis\":{\"gridcolor\":\"#E1E5ED\",\"showgrid\":true,\"tickfont\":{\"color\":\"#4D5663\"},\"title\":{\"font\":{\"color\":\"#4D5663\"},\"text\":\"\"},\"zerolinecolor\":\"#E1E5ED\"}},                        {\"showLink\": true, \"linkText\": \"Export to plot.ly\", \"plotlyServerURL\": \"https://plot.ly\", \"responsive\": true}                    ).then(function(){\n",
       "                            \n",
       "var gd = document.getElementById('ba9e231c-14ea-4d05-85a1-5e1c0654c7a9');\n",
       "var x = new MutationObserver(function (mutations, observer) {{\n",
       "        var display = window.getComputedStyle(gd).display;\n",
       "        if (!display || display === 'none') {{\n",
       "            console.log([gd, 'removed!']);\n",
       "            Plotly.purge(gd);\n",
       "            observer.disconnect();\n",
       "        }}\n",
       "}});\n",
       "\n",
       "// Listen for the removal of the full notebook cells\n",
       "var notebookContainer = gd.closest('#notebook-container');\n",
       "if (notebookContainer) {{\n",
       "    x.observe(notebookContainer, {childList: true});\n",
       "}}\n",
       "\n",
       "// Listen for the clearing of the current output cell\n",
       "var outputEl = gd.closest('.output');\n",
       "if (outputEl) {{\n",
       "    x.observe(outputEl, {childList: true});\n",
       "}}\n",
       "\n",
       "                        })                };                });            </script>        </div>"
      ]
     },
     "metadata": {},
     "output_type": "display_data"
    }
   ],
   "source": [
    "df.iplot(kind='box')"
   ]
  },
  {
   "cell_type": "markdown",
   "metadata": {},
   "source": [
    "## 3d Surface"
   ]
  },
  {
   "cell_type": "code",
   "execution_count": 19,
   "metadata": {},
   "outputs": [
    {
     "data": {
      "application/vnd.plotly.v1+json": {
       "config": {
        "linkText": "Export to plot.ly",
        "plotlyServerURL": "https://plot.ly",
        "showLink": true
       },
       "data": [
        {
         "colorscale": [
          [
           0,
           "rgb(165,0,38)"
          ],
          [
           0.1,
           "rgb(215,48,39)"
          ],
          [
           0.2,
           "rgb(244,109,67)"
          ],
          [
           0.3,
           "rgb(253,174,97)"
          ],
          [
           0.4,
           "rgb(254,224,144)"
          ],
          [
           0.5,
           "rgb(255,255,191)"
          ],
          [
           0.6,
           "rgb(224,243,248)"
          ],
          [
           0.7,
           "rgb(171,217,233)"
          ],
          [
           0.8,
           "rgb(116,173,209)"
          ],
          [
           0.9,
           "rgb(69,117,180)"
          ],
          [
           1,
           "rgb(49,54,149)"
          ]
         ],
         "type": "surface",
         "x": [
          0,
          1,
          2,
          3,
          4
         ],
         "y": [
          "x",
          "y",
          "z"
         ],
         "z": [
          [
           1,
           2,
           3,
           4,
           5
          ],
          [
           10,
           20,
           30,
           20,
           10
          ],
          [
           5,
           4,
           3,
           2,
           1
          ]
         ]
        }
       ],
       "layout": {
        "legend": {
         "bgcolor": "#F5F6F9",
         "font": {
          "color": "#4D5663"
         }
        },
        "paper_bgcolor": "#F5F6F9",
        "plot_bgcolor": "#F5F6F9",
        "template": {
         "data": {
          "bar": [
           {
            "error_x": {
             "color": "#2a3f5f"
            },
            "error_y": {
             "color": "#2a3f5f"
            },
            "marker": {
             "line": {
              "color": "#E5ECF6",
              "width": 0.5
             },
             "pattern": {
              "fillmode": "overlay",
              "size": 10,
              "solidity": 0.2
             }
            },
            "type": "bar"
           }
          ],
          "barpolar": [
           {
            "marker": {
             "line": {
              "color": "#E5ECF6",
              "width": 0.5
             },
             "pattern": {
              "fillmode": "overlay",
              "size": 10,
              "solidity": 0.2
             }
            },
            "type": "barpolar"
           }
          ],
          "carpet": [
           {
            "aaxis": {
             "endlinecolor": "#2a3f5f",
             "gridcolor": "white",
             "linecolor": "white",
             "minorgridcolor": "white",
             "startlinecolor": "#2a3f5f"
            },
            "baxis": {
             "endlinecolor": "#2a3f5f",
             "gridcolor": "white",
             "linecolor": "white",
             "minorgridcolor": "white",
             "startlinecolor": "#2a3f5f"
            },
            "type": "carpet"
           }
          ],
          "choropleth": [
           {
            "colorbar": {
             "outlinewidth": 0,
             "ticks": ""
            },
            "type": "choropleth"
           }
          ],
          "contour": [
           {
            "colorbar": {
             "outlinewidth": 0,
             "ticks": ""
            },
            "colorscale": [
             [
              0,
              "#0d0887"
             ],
             [
              0.1111111111111111,
              "#46039f"
             ],
             [
              0.2222222222222222,
              "#7201a8"
             ],
             [
              0.3333333333333333,
              "#9c179e"
             ],
             [
              0.4444444444444444,
              "#bd3786"
             ],
             [
              0.5555555555555556,
              "#d8576b"
             ],
             [
              0.6666666666666666,
              "#ed7953"
             ],
             [
              0.7777777777777778,
              "#fb9f3a"
             ],
             [
              0.8888888888888888,
              "#fdca26"
             ],
             [
              1,
              "#f0f921"
             ]
            ],
            "type": "contour"
           }
          ],
          "contourcarpet": [
           {
            "colorbar": {
             "outlinewidth": 0,
             "ticks": ""
            },
            "type": "contourcarpet"
           }
          ],
          "heatmap": [
           {
            "colorbar": {
             "outlinewidth": 0,
             "ticks": ""
            },
            "colorscale": [
             [
              0,
              "#0d0887"
             ],
             [
              0.1111111111111111,
              "#46039f"
             ],
             [
              0.2222222222222222,
              "#7201a8"
             ],
             [
              0.3333333333333333,
              "#9c179e"
             ],
             [
              0.4444444444444444,
              "#bd3786"
             ],
             [
              0.5555555555555556,
              "#d8576b"
             ],
             [
              0.6666666666666666,
              "#ed7953"
             ],
             [
              0.7777777777777778,
              "#fb9f3a"
             ],
             [
              0.8888888888888888,
              "#fdca26"
             ],
             [
              1,
              "#f0f921"
             ]
            ],
            "type": "heatmap"
           }
          ],
          "heatmapgl": [
           {
            "colorbar": {
             "outlinewidth": 0,
             "ticks": ""
            },
            "colorscale": [
             [
              0,
              "#0d0887"
             ],
             [
              0.1111111111111111,
              "#46039f"
             ],
             [
              0.2222222222222222,
              "#7201a8"
             ],
             [
              0.3333333333333333,
              "#9c179e"
             ],
             [
              0.4444444444444444,
              "#bd3786"
             ],
             [
              0.5555555555555556,
              "#d8576b"
             ],
             [
              0.6666666666666666,
              "#ed7953"
             ],
             [
              0.7777777777777778,
              "#fb9f3a"
             ],
             [
              0.8888888888888888,
              "#fdca26"
             ],
             [
              1,
              "#f0f921"
             ]
            ],
            "type": "heatmapgl"
           }
          ],
          "histogram": [
           {
            "marker": {
             "pattern": {
              "fillmode": "overlay",
              "size": 10,
              "solidity": 0.2
             }
            },
            "type": "histogram"
           }
          ],
          "histogram2d": [
           {
            "colorbar": {
             "outlinewidth": 0,
             "ticks": ""
            },
            "colorscale": [
             [
              0,
              "#0d0887"
             ],
             [
              0.1111111111111111,
              "#46039f"
             ],
             [
              0.2222222222222222,
              "#7201a8"
             ],
             [
              0.3333333333333333,
              "#9c179e"
             ],
             [
              0.4444444444444444,
              "#bd3786"
             ],
             [
              0.5555555555555556,
              "#d8576b"
             ],
             [
              0.6666666666666666,
              "#ed7953"
             ],
             [
              0.7777777777777778,
              "#fb9f3a"
             ],
             [
              0.8888888888888888,
              "#fdca26"
             ],
             [
              1,
              "#f0f921"
             ]
            ],
            "type": "histogram2d"
           }
          ],
          "histogram2dcontour": [
           {
            "colorbar": {
             "outlinewidth": 0,
             "ticks": ""
            },
            "colorscale": [
             [
              0,
              "#0d0887"
             ],
             [
              0.1111111111111111,
              "#46039f"
             ],
             [
              0.2222222222222222,
              "#7201a8"
             ],
             [
              0.3333333333333333,
              "#9c179e"
             ],
             [
              0.4444444444444444,
              "#bd3786"
             ],
             [
              0.5555555555555556,
              "#d8576b"
             ],
             [
              0.6666666666666666,
              "#ed7953"
             ],
             [
              0.7777777777777778,
              "#fb9f3a"
             ],
             [
              0.8888888888888888,
              "#fdca26"
             ],
             [
              1,
              "#f0f921"
             ]
            ],
            "type": "histogram2dcontour"
           }
          ],
          "mesh3d": [
           {
            "colorbar": {
             "outlinewidth": 0,
             "ticks": ""
            },
            "type": "mesh3d"
           }
          ],
          "parcoords": [
           {
            "line": {
             "colorbar": {
              "outlinewidth": 0,
              "ticks": ""
             }
            },
            "type": "parcoords"
           }
          ],
          "pie": [
           {
            "automargin": true,
            "type": "pie"
           }
          ],
          "scatter": [
           {
            "marker": {
             "colorbar": {
              "outlinewidth": 0,
              "ticks": ""
             }
            },
            "type": "scatter"
           }
          ],
          "scatter3d": [
           {
            "line": {
             "colorbar": {
              "outlinewidth": 0,
              "ticks": ""
             }
            },
            "marker": {
             "colorbar": {
              "outlinewidth": 0,
              "ticks": ""
             }
            },
            "type": "scatter3d"
           }
          ],
          "scattercarpet": [
           {
            "marker": {
             "colorbar": {
              "outlinewidth": 0,
              "ticks": ""
             }
            },
            "type": "scattercarpet"
           }
          ],
          "scattergeo": [
           {
            "marker": {
             "colorbar": {
              "outlinewidth": 0,
              "ticks": ""
             }
            },
            "type": "scattergeo"
           }
          ],
          "scattergl": [
           {
            "marker": {
             "colorbar": {
              "outlinewidth": 0,
              "ticks": ""
             }
            },
            "type": "scattergl"
           }
          ],
          "scattermapbox": [
           {
            "marker": {
             "colorbar": {
              "outlinewidth": 0,
              "ticks": ""
             }
            },
            "type": "scattermapbox"
           }
          ],
          "scatterpolar": [
           {
            "marker": {
             "colorbar": {
              "outlinewidth": 0,
              "ticks": ""
             }
            },
            "type": "scatterpolar"
           }
          ],
          "scatterpolargl": [
           {
            "marker": {
             "colorbar": {
              "outlinewidth": 0,
              "ticks": ""
             }
            },
            "type": "scatterpolargl"
           }
          ],
          "scatterternary": [
           {
            "marker": {
             "colorbar": {
              "outlinewidth": 0,
              "ticks": ""
             }
            },
            "type": "scatterternary"
           }
          ],
          "surface": [
           {
            "colorbar": {
             "outlinewidth": 0,
             "ticks": ""
            },
            "colorscale": [
             [
              0,
              "#0d0887"
             ],
             [
              0.1111111111111111,
              "#46039f"
             ],
             [
              0.2222222222222222,
              "#7201a8"
             ],
             [
              0.3333333333333333,
              "#9c179e"
             ],
             [
              0.4444444444444444,
              "#bd3786"
             ],
             [
              0.5555555555555556,
              "#d8576b"
             ],
             [
              0.6666666666666666,
              "#ed7953"
             ],
             [
              0.7777777777777778,
              "#fb9f3a"
             ],
             [
              0.8888888888888888,
              "#fdca26"
             ],
             [
              1,
              "#f0f921"
             ]
            ],
            "type": "surface"
           }
          ],
          "table": [
           {
            "cells": {
             "fill": {
              "color": "#EBF0F8"
             },
             "line": {
              "color": "white"
             }
            },
            "header": {
             "fill": {
              "color": "#C8D4E3"
             },
             "line": {
              "color": "white"
             }
            },
            "type": "table"
           }
          ]
         },
         "layout": {
          "annotationdefaults": {
           "arrowcolor": "#2a3f5f",
           "arrowhead": 0,
           "arrowwidth": 1
          },
          "autotypenumbers": "strict",
          "coloraxis": {
           "colorbar": {
            "outlinewidth": 0,
            "ticks": ""
           }
          },
          "colorscale": {
           "diverging": [
            [
             0,
             "#8e0152"
            ],
            [
             0.1,
             "#c51b7d"
            ],
            [
             0.2,
             "#de77ae"
            ],
            [
             0.3,
             "#f1b6da"
            ],
            [
             0.4,
             "#fde0ef"
            ],
            [
             0.5,
             "#f7f7f7"
            ],
            [
             0.6,
             "#e6f5d0"
            ],
            [
             0.7,
             "#b8e186"
            ],
            [
             0.8,
             "#7fbc41"
            ],
            [
             0.9,
             "#4d9221"
            ],
            [
             1,
             "#276419"
            ]
           ],
           "sequential": [
            [
             0,
             "#0d0887"
            ],
            [
             0.1111111111111111,
             "#46039f"
            ],
            [
             0.2222222222222222,
             "#7201a8"
            ],
            [
             0.3333333333333333,
             "#9c179e"
            ],
            [
             0.4444444444444444,
             "#bd3786"
            ],
            [
             0.5555555555555556,
             "#d8576b"
            ],
            [
             0.6666666666666666,
             "#ed7953"
            ],
            [
             0.7777777777777778,
             "#fb9f3a"
            ],
            [
             0.8888888888888888,
             "#fdca26"
            ],
            [
             1,
             "#f0f921"
            ]
           ],
           "sequentialminus": [
            [
             0,
             "#0d0887"
            ],
            [
             0.1111111111111111,
             "#46039f"
            ],
            [
             0.2222222222222222,
             "#7201a8"
            ],
            [
             0.3333333333333333,
             "#9c179e"
            ],
            [
             0.4444444444444444,
             "#bd3786"
            ],
            [
             0.5555555555555556,
             "#d8576b"
            ],
            [
             0.6666666666666666,
             "#ed7953"
            ],
            [
             0.7777777777777778,
             "#fb9f3a"
            ],
            [
             0.8888888888888888,
             "#fdca26"
            ],
            [
             1,
             "#f0f921"
            ]
           ]
          },
          "colorway": [
           "#636efa",
           "#EF553B",
           "#00cc96",
           "#ab63fa",
           "#FFA15A",
           "#19d3f3",
           "#FF6692",
           "#B6E880",
           "#FF97FF",
           "#FECB52"
          ],
          "font": {
           "color": "#2a3f5f"
          },
          "geo": {
           "bgcolor": "white",
           "lakecolor": "white",
           "landcolor": "#E5ECF6",
           "showlakes": true,
           "showland": true,
           "subunitcolor": "white"
          },
          "hoverlabel": {
           "align": "left"
          },
          "hovermode": "closest",
          "mapbox": {
           "style": "light"
          },
          "paper_bgcolor": "white",
          "plot_bgcolor": "#E5ECF6",
          "polar": {
           "angularaxis": {
            "gridcolor": "white",
            "linecolor": "white",
            "ticks": ""
           },
           "bgcolor": "#E5ECF6",
           "radialaxis": {
            "gridcolor": "white",
            "linecolor": "white",
            "ticks": ""
           }
          },
          "scene": {
           "xaxis": {
            "backgroundcolor": "#E5ECF6",
            "gridcolor": "white",
            "gridwidth": 2,
            "linecolor": "white",
            "showbackground": true,
            "ticks": "",
            "zerolinecolor": "white"
           },
           "yaxis": {
            "backgroundcolor": "#E5ECF6",
            "gridcolor": "white",
            "gridwidth": 2,
            "linecolor": "white",
            "showbackground": true,
            "ticks": "",
            "zerolinecolor": "white"
           },
           "zaxis": {
            "backgroundcolor": "#E5ECF6",
            "gridcolor": "white",
            "gridwidth": 2,
            "linecolor": "white",
            "showbackground": true,
            "ticks": "",
            "zerolinecolor": "white"
           }
          },
          "shapedefaults": {
           "line": {
            "color": "#2a3f5f"
           }
          },
          "ternary": {
           "aaxis": {
            "gridcolor": "white",
            "linecolor": "white",
            "ticks": ""
           },
           "baxis": {
            "gridcolor": "white",
            "linecolor": "white",
            "ticks": ""
           },
           "bgcolor": "#E5ECF6",
           "caxis": {
            "gridcolor": "white",
            "linecolor": "white",
            "ticks": ""
           }
          },
          "title": {
           "x": 0.05
          },
          "xaxis": {
           "automargin": true,
           "gridcolor": "white",
           "linecolor": "white",
           "ticks": "",
           "title": {
            "standoff": 15
           },
           "zerolinecolor": "white",
           "zerolinewidth": 2
          },
          "yaxis": {
           "automargin": true,
           "gridcolor": "white",
           "linecolor": "white",
           "ticks": "",
           "title": {
            "standoff": 15
           },
           "zerolinecolor": "white",
           "zerolinewidth": 2
          }
         }
        },
        "title": {
         "font": {
          "color": "#4D5663"
         }
        },
        "xaxis": {
         "gridcolor": "#E1E5ED",
         "showgrid": true,
         "tickfont": {
          "color": "#4D5663"
         },
         "title": {
          "font": {
           "color": "#4D5663"
          },
          "text": ""
         },
         "zerolinecolor": "#E1E5ED"
        },
        "yaxis": {
         "gridcolor": "#E1E5ED",
         "showgrid": true,
         "tickfont": {
          "color": "#4D5663"
         },
         "title": {
          "font": {
           "color": "#4D5663"
          },
          "text": ""
         },
         "zerolinecolor": "#E1E5ED"
        }
       }
      },
      "text/html": [
       "<div>                            <div id=\"84173282-1ff6-4b6b-8992-af82082d6baf\" class=\"plotly-graph-div\" style=\"height:525px; width:100%;\"></div>            <script type=\"text/javascript\">                require([\"plotly\"], function(Plotly) {                    window.PLOTLYENV=window.PLOTLYENV || {};\n",
       "                    window.PLOTLYENV.BASE_URL='https://plot.ly';                                    if (document.getElementById(\"84173282-1ff6-4b6b-8992-af82082d6baf\")) {                    Plotly.newPlot(                        \"84173282-1ff6-4b6b-8992-af82082d6baf\",                        [{\"colorscale\":[[0.0,\"rgb(165,0,38)\"],[0.1,\"rgb(215,48,39)\"],[0.2,\"rgb(244,109,67)\"],[0.3,\"rgb(253,174,97)\"],[0.4,\"rgb(254,224,144)\"],[0.5,\"rgb(255,255,191)\"],[0.6,\"rgb(224,243,248)\"],[0.7,\"rgb(171,217,233)\"],[0.8,\"rgb(116,173,209)\"],[0.9,\"rgb(69,117,180)\"],[1.0,\"rgb(49,54,149)\"]],\"x\":[0,1,2,3,4],\"y\":[\"x\",\"y\",\"z\"],\"z\":[[1,2,3,4,5],[10,20,30,20,10],[5,4,3,2,1]],\"type\":\"surface\"}],                        {\"legend\":{\"bgcolor\":\"#F5F6F9\",\"font\":{\"color\":\"#4D5663\"}},\"paper_bgcolor\":\"#F5F6F9\",\"plot_bgcolor\":\"#F5F6F9\",\"template\":{\"data\":{\"barpolar\":[{\"marker\":{\"line\":{\"color\":\"#E5ECF6\",\"width\":0.5},\"pattern\":{\"fillmode\":\"overlay\",\"size\":10,\"solidity\":0.2}},\"type\":\"barpolar\"}],\"bar\":[{\"error_x\":{\"color\":\"#2a3f5f\"},\"error_y\":{\"color\":\"#2a3f5f\"},\"marker\":{\"line\":{\"color\":\"#E5ECF6\",\"width\":0.5},\"pattern\":{\"fillmode\":\"overlay\",\"size\":10,\"solidity\":0.2}},\"type\":\"bar\"}],\"carpet\":[{\"aaxis\":{\"endlinecolor\":\"#2a3f5f\",\"gridcolor\":\"white\",\"linecolor\":\"white\",\"minorgridcolor\":\"white\",\"startlinecolor\":\"#2a3f5f\"},\"baxis\":{\"endlinecolor\":\"#2a3f5f\",\"gridcolor\":\"white\",\"linecolor\":\"white\",\"minorgridcolor\":\"white\",\"startlinecolor\":\"#2a3f5f\"},\"type\":\"carpet\"}],\"choropleth\":[{\"colorbar\":{\"outlinewidth\":0,\"ticks\":\"\"},\"type\":\"choropleth\"}],\"contourcarpet\":[{\"colorbar\":{\"outlinewidth\":0,\"ticks\":\"\"},\"type\":\"contourcarpet\"}],\"contour\":[{\"colorbar\":{\"outlinewidth\":0,\"ticks\":\"\"},\"colorscale\":[[0.0,\"#0d0887\"],[0.1111111111111111,\"#46039f\"],[0.2222222222222222,\"#7201a8\"],[0.3333333333333333,\"#9c179e\"],[0.4444444444444444,\"#bd3786\"],[0.5555555555555556,\"#d8576b\"],[0.6666666666666666,\"#ed7953\"],[0.7777777777777778,\"#fb9f3a\"],[0.8888888888888888,\"#fdca26\"],[1.0,\"#f0f921\"]],\"type\":\"contour\"}],\"heatmapgl\":[{\"colorbar\":{\"outlinewidth\":0,\"ticks\":\"\"},\"colorscale\":[[0.0,\"#0d0887\"],[0.1111111111111111,\"#46039f\"],[0.2222222222222222,\"#7201a8\"],[0.3333333333333333,\"#9c179e\"],[0.4444444444444444,\"#bd3786\"],[0.5555555555555556,\"#d8576b\"],[0.6666666666666666,\"#ed7953\"],[0.7777777777777778,\"#fb9f3a\"],[0.8888888888888888,\"#fdca26\"],[1.0,\"#f0f921\"]],\"type\":\"heatmapgl\"}],\"heatmap\":[{\"colorbar\":{\"outlinewidth\":0,\"ticks\":\"\"},\"colorscale\":[[0.0,\"#0d0887\"],[0.1111111111111111,\"#46039f\"],[0.2222222222222222,\"#7201a8\"],[0.3333333333333333,\"#9c179e\"],[0.4444444444444444,\"#bd3786\"],[0.5555555555555556,\"#d8576b\"],[0.6666666666666666,\"#ed7953\"],[0.7777777777777778,\"#fb9f3a\"],[0.8888888888888888,\"#fdca26\"],[1.0,\"#f0f921\"]],\"type\":\"heatmap\"}],\"histogram2dcontour\":[{\"colorbar\":{\"outlinewidth\":0,\"ticks\":\"\"},\"colorscale\":[[0.0,\"#0d0887\"],[0.1111111111111111,\"#46039f\"],[0.2222222222222222,\"#7201a8\"],[0.3333333333333333,\"#9c179e\"],[0.4444444444444444,\"#bd3786\"],[0.5555555555555556,\"#d8576b\"],[0.6666666666666666,\"#ed7953\"],[0.7777777777777778,\"#fb9f3a\"],[0.8888888888888888,\"#fdca26\"],[1.0,\"#f0f921\"]],\"type\":\"histogram2dcontour\"}],\"histogram2d\":[{\"colorbar\":{\"outlinewidth\":0,\"ticks\":\"\"},\"colorscale\":[[0.0,\"#0d0887\"],[0.1111111111111111,\"#46039f\"],[0.2222222222222222,\"#7201a8\"],[0.3333333333333333,\"#9c179e\"],[0.4444444444444444,\"#bd3786\"],[0.5555555555555556,\"#d8576b\"],[0.6666666666666666,\"#ed7953\"],[0.7777777777777778,\"#fb9f3a\"],[0.8888888888888888,\"#fdca26\"],[1.0,\"#f0f921\"]],\"type\":\"histogram2d\"}],\"histogram\":[{\"marker\":{\"pattern\":{\"fillmode\":\"overlay\",\"size\":10,\"solidity\":0.2}},\"type\":\"histogram\"}],\"mesh3d\":[{\"colorbar\":{\"outlinewidth\":0,\"ticks\":\"\"},\"type\":\"mesh3d\"}],\"parcoords\":[{\"line\":{\"colorbar\":{\"outlinewidth\":0,\"ticks\":\"\"}},\"type\":\"parcoords\"}],\"pie\":[{\"automargin\":true,\"type\":\"pie\"}],\"scatter3d\":[{\"line\":{\"colorbar\":{\"outlinewidth\":0,\"ticks\":\"\"}},\"marker\":{\"colorbar\":{\"outlinewidth\":0,\"ticks\":\"\"}},\"type\":\"scatter3d\"}],\"scattercarpet\":[{\"marker\":{\"colorbar\":{\"outlinewidth\":0,\"ticks\":\"\"}},\"type\":\"scattercarpet\"}],\"scattergeo\":[{\"marker\":{\"colorbar\":{\"outlinewidth\":0,\"ticks\":\"\"}},\"type\":\"scattergeo\"}],\"scattergl\":[{\"marker\":{\"colorbar\":{\"outlinewidth\":0,\"ticks\":\"\"}},\"type\":\"scattergl\"}],\"scattermapbox\":[{\"marker\":{\"colorbar\":{\"outlinewidth\":0,\"ticks\":\"\"}},\"type\":\"scattermapbox\"}],\"scatterpolargl\":[{\"marker\":{\"colorbar\":{\"outlinewidth\":0,\"ticks\":\"\"}},\"type\":\"scatterpolargl\"}],\"scatterpolar\":[{\"marker\":{\"colorbar\":{\"outlinewidth\":0,\"ticks\":\"\"}},\"type\":\"scatterpolar\"}],\"scatter\":[{\"marker\":{\"colorbar\":{\"outlinewidth\":0,\"ticks\":\"\"}},\"type\":\"scatter\"}],\"scatterternary\":[{\"marker\":{\"colorbar\":{\"outlinewidth\":0,\"ticks\":\"\"}},\"type\":\"scatterternary\"}],\"surface\":[{\"colorbar\":{\"outlinewidth\":0,\"ticks\":\"\"},\"colorscale\":[[0.0,\"#0d0887\"],[0.1111111111111111,\"#46039f\"],[0.2222222222222222,\"#7201a8\"],[0.3333333333333333,\"#9c179e\"],[0.4444444444444444,\"#bd3786\"],[0.5555555555555556,\"#d8576b\"],[0.6666666666666666,\"#ed7953\"],[0.7777777777777778,\"#fb9f3a\"],[0.8888888888888888,\"#fdca26\"],[1.0,\"#f0f921\"]],\"type\":\"surface\"}],\"table\":[{\"cells\":{\"fill\":{\"color\":\"#EBF0F8\"},\"line\":{\"color\":\"white\"}},\"header\":{\"fill\":{\"color\":\"#C8D4E3\"},\"line\":{\"color\":\"white\"}},\"type\":\"table\"}]},\"layout\":{\"annotationdefaults\":{\"arrowcolor\":\"#2a3f5f\",\"arrowhead\":0,\"arrowwidth\":1},\"autotypenumbers\":\"strict\",\"coloraxis\":{\"colorbar\":{\"outlinewidth\":0,\"ticks\":\"\"}},\"colorscale\":{\"diverging\":[[0,\"#8e0152\"],[0.1,\"#c51b7d\"],[0.2,\"#de77ae\"],[0.3,\"#f1b6da\"],[0.4,\"#fde0ef\"],[0.5,\"#f7f7f7\"],[0.6,\"#e6f5d0\"],[0.7,\"#b8e186\"],[0.8,\"#7fbc41\"],[0.9,\"#4d9221\"],[1,\"#276419\"]],\"sequential\":[[0.0,\"#0d0887\"],[0.1111111111111111,\"#46039f\"],[0.2222222222222222,\"#7201a8\"],[0.3333333333333333,\"#9c179e\"],[0.4444444444444444,\"#bd3786\"],[0.5555555555555556,\"#d8576b\"],[0.6666666666666666,\"#ed7953\"],[0.7777777777777778,\"#fb9f3a\"],[0.8888888888888888,\"#fdca26\"],[1.0,\"#f0f921\"]],\"sequentialminus\":[[0.0,\"#0d0887\"],[0.1111111111111111,\"#46039f\"],[0.2222222222222222,\"#7201a8\"],[0.3333333333333333,\"#9c179e\"],[0.4444444444444444,\"#bd3786\"],[0.5555555555555556,\"#d8576b\"],[0.6666666666666666,\"#ed7953\"],[0.7777777777777778,\"#fb9f3a\"],[0.8888888888888888,\"#fdca26\"],[1.0,\"#f0f921\"]]},\"colorway\":[\"#636efa\",\"#EF553B\",\"#00cc96\",\"#ab63fa\",\"#FFA15A\",\"#19d3f3\",\"#FF6692\",\"#B6E880\",\"#FF97FF\",\"#FECB52\"],\"font\":{\"color\":\"#2a3f5f\"},\"geo\":{\"bgcolor\":\"white\",\"lakecolor\":\"white\",\"landcolor\":\"#E5ECF6\",\"showlakes\":true,\"showland\":true,\"subunitcolor\":\"white\"},\"hoverlabel\":{\"align\":\"left\"},\"hovermode\":\"closest\",\"mapbox\":{\"style\":\"light\"},\"paper_bgcolor\":\"white\",\"plot_bgcolor\":\"#E5ECF6\",\"polar\":{\"angularaxis\":{\"gridcolor\":\"white\",\"linecolor\":\"white\",\"ticks\":\"\"},\"bgcolor\":\"#E5ECF6\",\"radialaxis\":{\"gridcolor\":\"white\",\"linecolor\":\"white\",\"ticks\":\"\"}},\"scene\":{\"xaxis\":{\"backgroundcolor\":\"#E5ECF6\",\"gridcolor\":\"white\",\"gridwidth\":2,\"linecolor\":\"white\",\"showbackground\":true,\"ticks\":\"\",\"zerolinecolor\":\"white\"},\"yaxis\":{\"backgroundcolor\":\"#E5ECF6\",\"gridcolor\":\"white\",\"gridwidth\":2,\"linecolor\":\"white\",\"showbackground\":true,\"ticks\":\"\",\"zerolinecolor\":\"white\"},\"zaxis\":{\"backgroundcolor\":\"#E5ECF6\",\"gridcolor\":\"white\",\"gridwidth\":2,\"linecolor\":\"white\",\"showbackground\":true,\"ticks\":\"\",\"zerolinecolor\":\"white\"}},\"shapedefaults\":{\"line\":{\"color\":\"#2a3f5f\"}},\"ternary\":{\"aaxis\":{\"gridcolor\":\"white\",\"linecolor\":\"white\",\"ticks\":\"\"},\"baxis\":{\"gridcolor\":\"white\",\"linecolor\":\"white\",\"ticks\":\"\"},\"bgcolor\":\"#E5ECF6\",\"caxis\":{\"gridcolor\":\"white\",\"linecolor\":\"white\",\"ticks\":\"\"}},\"title\":{\"x\":0.05},\"xaxis\":{\"automargin\":true,\"gridcolor\":\"white\",\"linecolor\":\"white\",\"ticks\":\"\",\"title\":{\"standoff\":15},\"zerolinecolor\":\"white\",\"zerolinewidth\":2},\"yaxis\":{\"automargin\":true,\"gridcolor\":\"white\",\"linecolor\":\"white\",\"ticks\":\"\",\"title\":{\"standoff\":15},\"zerolinecolor\":\"white\",\"zerolinewidth\":2}}},\"title\":{\"font\":{\"color\":\"#4D5663\"}},\"xaxis\":{\"gridcolor\":\"#E1E5ED\",\"showgrid\":true,\"tickfont\":{\"color\":\"#4D5663\"},\"title\":{\"font\":{\"color\":\"#4D5663\"},\"text\":\"\"},\"zerolinecolor\":\"#E1E5ED\"},\"yaxis\":{\"gridcolor\":\"#E1E5ED\",\"showgrid\":true,\"tickfont\":{\"color\":\"#4D5663\"},\"title\":{\"font\":{\"color\":\"#4D5663\"},\"text\":\"\"},\"zerolinecolor\":\"#E1E5ED\"}},                        {\"showLink\": true, \"linkText\": \"Export to plot.ly\", \"plotlyServerURL\": \"https://plot.ly\", \"responsive\": true}                    ).then(function(){\n",
       "                            \n",
       "var gd = document.getElementById('84173282-1ff6-4b6b-8992-af82082d6baf');\n",
       "var x = new MutationObserver(function (mutations, observer) {{\n",
       "        var display = window.getComputedStyle(gd).display;\n",
       "        if (!display || display === 'none') {{\n",
       "            console.log([gd, 'removed!']);\n",
       "            Plotly.purge(gd);\n",
       "            observer.disconnect();\n",
       "        }}\n",
       "}});\n",
       "\n",
       "// Listen for the removal of the full notebook cells\n",
       "var notebookContainer = gd.closest('#notebook-container');\n",
       "if (notebookContainer) {{\n",
       "    x.observe(notebookContainer, {childList: true});\n",
       "}}\n",
       "\n",
       "// Listen for the clearing of the current output cell\n",
       "var outputEl = gd.closest('.output');\n",
       "if (outputEl) {{\n",
       "    x.observe(outputEl, {childList: true});\n",
       "}}\n",
       "\n",
       "                        })                };                });            </script>        </div>"
      ]
     },
     "metadata": {},
     "output_type": "display_data"
    }
   ],
   "source": [
    "df3 = pd.DataFrame({'x':[1,2,3,4,5],'y':[10,20,30,20,10],'z':[5,4,3,2,1]})\n",
    "df3.iplot(kind='surface',colorscale='rdylbu')"
   ]
  },
  {
   "cell_type": "markdown",
   "metadata": {},
   "source": [
    "## Spread"
   ]
  },
  {
   "cell_type": "code",
   "execution_count": 20,
   "metadata": {},
   "outputs": [
    {
     "name": "stderr",
     "output_type": "stream",
     "text": [
      "/Applications/anaconda3/lib/python3.8/site-packages/cufflinks/plotlytools.py:849: FutureWarning:\n",
      "\n",
      "The pandas.np module is deprecated and will be removed from pandas in a future version. Import numpy directly instead\n",
      "\n",
      "/Applications/anaconda3/lib/python3.8/site-packages/cufflinks/plotlytools.py:850: FutureWarning:\n",
      "\n",
      "The pandas.np module is deprecated and will be removed from pandas in a future version. Import numpy directly instead\n",
      "\n"
     ]
    },
    {
     "data": {
      "application/vnd.plotly.v1+json": {
       "config": {
        "linkText": "Export to plot.ly",
        "plotlyServerURL": "https://plot.ly",
        "showLink": true
       },
       "data": [
        {
         "line": {
          "color": "rgba(255, 153, 51, 1.0)",
          "dash": "solid",
          "shape": "linear",
          "width": 1.3
         },
         "mode": "lines",
         "name": "A",
         "text": "",
         "type": "scatter",
         "x": [
          0,
          1,
          2,
          3,
          4,
          5,
          6,
          7,
          8,
          9,
          10,
          11,
          12,
          13,
          14,
          15,
          16,
          17,
          18,
          19,
          20,
          21,
          22,
          23,
          24,
          25,
          26,
          27,
          28,
          29,
          30,
          31,
          32,
          33,
          34,
          35,
          36,
          37,
          38,
          39,
          40,
          41,
          42,
          43,
          44,
          45,
          46,
          47,
          48,
          49,
          50,
          51,
          52,
          53,
          54,
          55,
          56,
          57,
          58,
          59,
          60,
          61,
          62,
          63,
          64,
          65,
          66,
          67,
          68,
          69,
          70,
          71,
          72,
          73,
          74,
          75,
          76,
          77,
          78,
          79,
          80,
          81,
          82,
          83,
          84,
          85,
          86,
          87,
          88,
          89,
          90,
          91,
          92,
          93,
          94,
          95,
          96,
          97,
          98,
          99
         ],
         "y": [
          -0.813094974158615,
          -0.6320677486019147,
          -1.8330180188288216,
          0.30946276649967275,
          -0.34965251460663066,
          0.2541242676005999,
          -1.25409609186406,
          -1.5953824759783306,
          1.209996953723444,
          -0.9031365588388017,
          -0.2528994058951668,
          1.1993671174625855,
          -0.03479382440405025,
          0.3587651949863715,
          -1.1773880168626751,
          0.1882839674798589,
          0.15926856483581273,
          -0.7575700575481089,
          0.5923720816717849,
          -0.43599154580134525,
          -0.40837339303113024,
          -0.47646397111751376,
          -0.4321175598119881,
          -0.4166377903936301,
          0.4465808165690844,
          -2.1124722104004774,
          -0.7168027292736445,
          -1.4687468385877556,
          -0.8552724178550116,
          -0.1833187037760549,
          -0.0516014687726671,
          0.08929624648486419,
          0.283689280140465,
          0.23228257745041886,
          -0.7994824154787796,
          -0.15801600703858176,
          1.6906988519025559,
          -0.14436831923177185,
          -0.8490004432157602,
          0.12606804002629304,
          -1.419783969424822,
          -1.3386672466657163,
          0.1025711857038433,
          -0.17526986520131532,
          1.0322093753670571,
          -0.08573491754076627,
          1.3010216527471408,
          -0.9489028978786285,
          -0.883492332517402,
          -1.2873136726903505,
          0.6479351933755042,
          -0.8376876792340087,
          -0.7386458732355002,
          0.7560364934857938,
          0.6795679333775624,
          0.5918996363507902,
          0.9376426697121171,
          0.2653352431183191,
          1.6579747967261944,
          -1.3355416128149515,
          0.03395533520806284,
          -0.25376231373687164,
          -0.3343846286932071,
          0.947247557239635,
          -0.6079551744162106,
          -0.5752977060081683,
          -0.7890237136747128,
          -0.6587642329116016,
          1.163701930798238,
          0.4606404839325701,
          0.8067944374337038,
          -0.19988432528089134,
          -0.21390856728770027,
          -1.018568825005735,
          -1.9589686543951768,
          0.06068691245208455,
          0.2678907684869432,
          0.03482855608749407,
          -0.38749122105340666,
          -0.5179472276706354,
          0.7704703886351763,
          -0.9890496308856835,
          -0.4756631316399486,
          -0.441569985646899,
          -0.5786339248236021,
          1.2622457440284895,
          -0.3533303731137811,
          0.6127642614441432,
          -0.7507571711907699,
          -0.17145625910104795,
          -1.7199283839683184,
          -0.4694471236015308,
          1.1724720953758947,
          -0.3030314459539039,
          0.7747117018211388,
          0.056886856834242286,
          0.2156621626300678,
          -0.4998451104106444,
          -2.3961426677696873,
          0.4773531183027042
         ]
        },
        {
         "line": {
          "color": "rgba(55, 128, 191, 1.0)",
          "dash": "solid",
          "shape": "linear",
          "width": 1.3
         },
         "mode": "lines",
         "name": "B",
         "text": "",
         "type": "scatter",
         "x": [
          0,
          1,
          2,
          3,
          4,
          5,
          6,
          7,
          8,
          9,
          10,
          11,
          12,
          13,
          14,
          15,
          16,
          17,
          18,
          19,
          20,
          21,
          22,
          23,
          24,
          25,
          26,
          27,
          28,
          29,
          30,
          31,
          32,
          33,
          34,
          35,
          36,
          37,
          38,
          39,
          40,
          41,
          42,
          43,
          44,
          45,
          46,
          47,
          48,
          49,
          50,
          51,
          52,
          53,
          54,
          55,
          56,
          57,
          58,
          59,
          60,
          61,
          62,
          63,
          64,
          65,
          66,
          67,
          68,
          69,
          70,
          71,
          72,
          73,
          74,
          75,
          76,
          77,
          78,
          79,
          80,
          81,
          82,
          83,
          84,
          85,
          86,
          87,
          88,
          89,
          90,
          91,
          92,
          93,
          94,
          95,
          96,
          97,
          98,
          99
         ],
         "y": [
          -1.810705620303543,
          -0.6009888044223608,
          -0.8699212494722677,
          -0.550534748641092,
          0.4274694755230017,
          0.5985403310571168,
          -0.12188328873954034,
          0.4356412141803811,
          0.23677802285309477,
          -1.0316199459958797,
          -1.4119914497327224,
          0.42286751614288964,
          0.6899228786876435,
          -0.3304895135271398,
          1.0199569861773699,
          -0.07452470268944116,
          0.5179123635617616,
          0.7212504056693066,
          1.0568220483539346,
          -0.6329714821783978,
          -0.7729734925590904,
          0.04611373216482665,
          -1.662473515264781,
          0.36338256207965686,
          -0.5503816776380241,
          -2.7322601519765075,
          -1.6113440120570792,
          0.906382094929108,
          0.4735390415891768,
          -0.975263135435076,
          1.588411990779888,
          -2.0768510538923963,
          -1.4231799460959853,
          0.6882644752812591,
          -0.4998480033947634,
          -0.496656394151241,
          -0.4835208859489081,
          -1.8816807499555739,
          0.7719794078507218,
          -0.5139045194391917,
          -1.639215382625045,
          0.40602339946612515,
          2.298972143667528,
          0.11505047736262437,
          0.7005717751962709,
          0.4855307624973052,
          -1.0177172990318302,
          0.4840449889903183,
          -0.7194660638209635,
          -1.2300432610286793,
          -1.3701879756614934,
          -4.671017883589642,
          -1.184275158102963,
          0.39666942539920347,
          -2.226632808899658,
          1.3015642154390656,
          -1.782868004198849,
          2.1247188152382463,
          0.15797693140612953,
          1.8613288779523205,
          -1.7063050375534852,
          1.5331352666503193,
          0.5163164019441416,
          0.21032973058063056,
          -0.7984519380720064,
          1.1289791275584007,
          -0.2821710024131168,
          -0.7397400754627164,
          -0.08853754898509787,
          0.5618092496862193,
          -0.27172333726221837,
          0.1763089843781587,
          -0.36412102130108454,
          2.282272289168112,
          -0.9838235969987101,
          0.4803009506491444,
          1.3445668968174393,
          -0.2172825367000398,
          0.031868623818376185,
          0.7387689037046977,
          1.9125877271166336,
          1.0787847269804158,
          0.3197886159287113,
          0.10733866289906828,
          0.050774236411273876,
          -0.48259031053099,
          0.4489969178285034,
          -0.27393513534568964,
          -1.3236830680290488,
          -0.4724755544055852,
          1.0766300535114623,
          2.005792322169697,
          -1.5314592912873237,
          0.05121594255874584,
          0.27667231651744467,
          1.167398410424178,
          0.3884694404010253,
          -0.27529328081680393,
          0.9988939005905673,
          -0.3363810223756748
         ]
        },
        {
         "connectgaps": false,
         "fill": "tozeroy",
         "line": {
          "color": "green",
          "dash": "solid",
          "shape": "linear",
          "width": 0.5
         },
         "mode": "lines",
         "name": "Spread",
         "showlegend": false,
         "type": "scatter",
         "x": [
          0,
          1,
          2,
          3,
          4,
          5,
          6,
          7,
          8,
          9,
          10,
          11,
          12,
          13,
          14,
          15,
          16,
          17,
          18,
          19,
          20,
          21,
          22,
          23,
          24,
          25,
          26,
          27,
          28,
          29,
          30,
          31,
          32,
          33,
          34,
          35,
          36,
          37,
          38,
          39,
          40,
          41,
          42,
          43,
          44,
          45,
          46,
          47,
          48,
          49,
          50,
          51,
          52,
          53,
          54,
          55,
          56,
          57,
          58,
          59,
          60,
          61,
          62,
          63,
          64,
          65,
          66,
          67,
          68,
          69,
          70,
          71,
          72,
          73,
          74,
          75,
          76,
          77,
          78,
          79,
          80,
          81,
          82,
          83,
          84,
          85,
          86,
          87,
          88,
          89,
          90,
          91,
          92,
          93,
          94,
          95,
          96,
          97,
          98,
          99
         ],
         "xaxis": "x2",
         "y": [
          0.997610646144928,
          "",
          "",
          0.8599975151407647,
          "",
          "",
          "",
          "",
          0.9732189308703493,
          0.12848338715707797,
          1.1590920438375556,
          0.7764996013196959,
          "",
          0.6892547085135112,
          "",
          0.26280867016930004,
          "",
          "",
          "",
          0.19697993637705258,
          0.3646000995279602,
          "",
          1.2303559554527927,
          "",
          0.9969624942071085,
          0.6197879415760301,
          0.8945412827834347,
          "",
          "",
          0.7919444316590212,
          "",
          2.1661473003772604,
          1.7068692262364502,
          "",
          "",
          0.33864038711265926,
          2.174219737851464,
          1.7373124307238021,
          "",
          0.6399725594654847,
          0.21943141320022308,
          "",
          "",
          "",
          0.33163760017078625,
          "",
          2.318738951778971,
          "",
          "",
          "",
          2.018123169036998,
          3.833330204355634,
          0.44562928486746267,
          0.35936706808659036,
          2.9062007422772203,
          "",
          2.720510673910966,
          "",
          1.499997865320065,
          "",
          1.740260372761548,
          "",
          "",
          0.7369178266590045,
          0.19049676365579582,
          "",
          "",
          0.08097584255111479,
          1.2522394797833358,
          "",
          1.0785177746959222,
          "",
          0.15021245401338426,
          "",
          "",
          "",
          "",
          0.25211109278753385,
          "",
          "",
          "",
          "",
          "",
          "",
          "",
          1.7448360545594794,
          "",
          0.8866993967898329,
          0.5729258968382789,
          0.30101929530453725,
          "",
          "",
          2.7039313866632186,
          "",
          0.4980393853036941,
          "",
          "",
          "",
          "",
          0.813734140678379
         ],
         "yaxis": "y2"
        },
        {
         "connectgaps": false,
         "fill": "tozeroy",
         "line": {
          "color": "red",
          "dash": "solid",
          "shape": "linear",
          "width": 0.5
         },
         "mode": "lines",
         "name": "Spread",
         "showlegend": false,
         "type": "scatter",
         "x": [
          0,
          1,
          2,
          3,
          4,
          5,
          6,
          7,
          8,
          9,
          10,
          11,
          12,
          13,
          14,
          15,
          16,
          17,
          18,
          19,
          20,
          21,
          22,
          23,
          24,
          25,
          26,
          27,
          28,
          29,
          30,
          31,
          32,
          33,
          34,
          35,
          36,
          37,
          38,
          39,
          40,
          41,
          42,
          43,
          44,
          45,
          46,
          47,
          48,
          49,
          50,
          51,
          52,
          53,
          54,
          55,
          56,
          57,
          58,
          59,
          60,
          61,
          62,
          63,
          64,
          65,
          66,
          67,
          68,
          69,
          70,
          71,
          72,
          73,
          74,
          75,
          76,
          77,
          78,
          79,
          80,
          81,
          82,
          83,
          84,
          85,
          86,
          87,
          88,
          89,
          90,
          91,
          92,
          93,
          94,
          95,
          96,
          97,
          98,
          99
         ],
         "xaxis": "x2",
         "y": [
          "",
          -0.031078944179553925,
          -0.963096769356554,
          "",
          -0.7771219901296323,
          -0.3444160634565169,
          -1.1322128031245198,
          -2.0310236901587118,
          "",
          "",
          "",
          "",
          -0.7247167030916937,
          "",
          -2.197345003040045,
          "",
          -0.35864379872594887,
          -1.4788204632174156,
          -0.46444996668214966,
          "",
          "",
          -0.5225777032823404,
          "",
          -0.7800203524732869,
          "",
          "",
          "",
          -2.3751289335168635,
          -1.3288114594441884,
          "",
          -1.640013459552555,
          "",
          "",
          -0.45598189783084025,
          -0.29963441208401626,
          "",
          "",
          "",
          -1.620979851066482,
          "",
          "",
          -1.7446906461318414,
          -2.196400957963685,
          -0.2903203425639397,
          "",
          -0.5712656800380714,
          "",
          -1.4329478868689467,
          -0.16402626869643855,
          -0.05727041166167113,
          "",
          "",
          "",
          "",
          "",
          -0.7096645790882754,
          "",
          -1.8593835721199272,
          "",
          -3.196870490767272,
          "",
          -1.786897580387191,
          -0.8507010306373488,
          "",
          "",
          -1.704276833566569,
          -0.5068527112615959,
          "",
          "",
          -0.10116876575364914,
          "",
          -0.37619330965905007,
          "",
          -3.300841114173847,
          -0.9751450573964666,
          -0.41961403819705984,
          -1.0766761283304962,
          "",
          -0.41935984487178285,
          -1.2567161313753332,
          -1.1421173384814574,
          -2.0678343578660994,
          -0.7954517475686599,
          -0.5489086485459672,
          -0.629408161234876,
          "",
          -0.8023272909422845,
          "",
          "",
          "",
          -2.7965584374797805,
          -2.475239445771228,
          "",
          -0.35424738851264975,
          "",
          -1.1105115535899357,
          -0.17280727777095753,
          -0.22455182959384046,
          -3.3950365683602546,
          ""
         ],
         "yaxis": "y2"
        }
       ],
       "layout": {
        "hovermode": "x",
        "legend": {
         "bgcolor": "#F5F6F9",
         "font": {
          "color": "#4D5663"
         }
        },
        "paper_bgcolor": "#F5F6F9",
        "plot_bgcolor": "#F5F6F9",
        "template": {
         "data": {
          "bar": [
           {
            "error_x": {
             "color": "#2a3f5f"
            },
            "error_y": {
             "color": "#2a3f5f"
            },
            "marker": {
             "line": {
              "color": "#E5ECF6",
              "width": 0.5
             },
             "pattern": {
              "fillmode": "overlay",
              "size": 10,
              "solidity": 0.2
             }
            },
            "type": "bar"
           }
          ],
          "barpolar": [
           {
            "marker": {
             "line": {
              "color": "#E5ECF6",
              "width": 0.5
             },
             "pattern": {
              "fillmode": "overlay",
              "size": 10,
              "solidity": 0.2
             }
            },
            "type": "barpolar"
           }
          ],
          "carpet": [
           {
            "aaxis": {
             "endlinecolor": "#2a3f5f",
             "gridcolor": "white",
             "linecolor": "white",
             "minorgridcolor": "white",
             "startlinecolor": "#2a3f5f"
            },
            "baxis": {
             "endlinecolor": "#2a3f5f",
             "gridcolor": "white",
             "linecolor": "white",
             "minorgridcolor": "white",
             "startlinecolor": "#2a3f5f"
            },
            "type": "carpet"
           }
          ],
          "choropleth": [
           {
            "colorbar": {
             "outlinewidth": 0,
             "ticks": ""
            },
            "type": "choropleth"
           }
          ],
          "contour": [
           {
            "colorbar": {
             "outlinewidth": 0,
             "ticks": ""
            },
            "colorscale": [
             [
              0,
              "#0d0887"
             ],
             [
              0.1111111111111111,
              "#46039f"
             ],
             [
              0.2222222222222222,
              "#7201a8"
             ],
             [
              0.3333333333333333,
              "#9c179e"
             ],
             [
              0.4444444444444444,
              "#bd3786"
             ],
             [
              0.5555555555555556,
              "#d8576b"
             ],
             [
              0.6666666666666666,
              "#ed7953"
             ],
             [
              0.7777777777777778,
              "#fb9f3a"
             ],
             [
              0.8888888888888888,
              "#fdca26"
             ],
             [
              1,
              "#f0f921"
             ]
            ],
            "type": "contour"
           }
          ],
          "contourcarpet": [
           {
            "colorbar": {
             "outlinewidth": 0,
             "ticks": ""
            },
            "type": "contourcarpet"
           }
          ],
          "heatmap": [
           {
            "colorbar": {
             "outlinewidth": 0,
             "ticks": ""
            },
            "colorscale": [
             [
              0,
              "#0d0887"
             ],
             [
              0.1111111111111111,
              "#46039f"
             ],
             [
              0.2222222222222222,
              "#7201a8"
             ],
             [
              0.3333333333333333,
              "#9c179e"
             ],
             [
              0.4444444444444444,
              "#bd3786"
             ],
             [
              0.5555555555555556,
              "#d8576b"
             ],
             [
              0.6666666666666666,
              "#ed7953"
             ],
             [
              0.7777777777777778,
              "#fb9f3a"
             ],
             [
              0.8888888888888888,
              "#fdca26"
             ],
             [
              1,
              "#f0f921"
             ]
            ],
            "type": "heatmap"
           }
          ],
          "heatmapgl": [
           {
            "colorbar": {
             "outlinewidth": 0,
             "ticks": ""
            },
            "colorscale": [
             [
              0,
              "#0d0887"
             ],
             [
              0.1111111111111111,
              "#46039f"
             ],
             [
              0.2222222222222222,
              "#7201a8"
             ],
             [
              0.3333333333333333,
              "#9c179e"
             ],
             [
              0.4444444444444444,
              "#bd3786"
             ],
             [
              0.5555555555555556,
              "#d8576b"
             ],
             [
              0.6666666666666666,
              "#ed7953"
             ],
             [
              0.7777777777777778,
              "#fb9f3a"
             ],
             [
              0.8888888888888888,
              "#fdca26"
             ],
             [
              1,
              "#f0f921"
             ]
            ],
            "type": "heatmapgl"
           }
          ],
          "histogram": [
           {
            "marker": {
             "pattern": {
              "fillmode": "overlay",
              "size": 10,
              "solidity": 0.2
             }
            },
            "type": "histogram"
           }
          ],
          "histogram2d": [
           {
            "colorbar": {
             "outlinewidth": 0,
             "ticks": ""
            },
            "colorscale": [
             [
              0,
              "#0d0887"
             ],
             [
              0.1111111111111111,
              "#46039f"
             ],
             [
              0.2222222222222222,
              "#7201a8"
             ],
             [
              0.3333333333333333,
              "#9c179e"
             ],
             [
              0.4444444444444444,
              "#bd3786"
             ],
             [
              0.5555555555555556,
              "#d8576b"
             ],
             [
              0.6666666666666666,
              "#ed7953"
             ],
             [
              0.7777777777777778,
              "#fb9f3a"
             ],
             [
              0.8888888888888888,
              "#fdca26"
             ],
             [
              1,
              "#f0f921"
             ]
            ],
            "type": "histogram2d"
           }
          ],
          "histogram2dcontour": [
           {
            "colorbar": {
             "outlinewidth": 0,
             "ticks": ""
            },
            "colorscale": [
             [
              0,
              "#0d0887"
             ],
             [
              0.1111111111111111,
              "#46039f"
             ],
             [
              0.2222222222222222,
              "#7201a8"
             ],
             [
              0.3333333333333333,
              "#9c179e"
             ],
             [
              0.4444444444444444,
              "#bd3786"
             ],
             [
              0.5555555555555556,
              "#d8576b"
             ],
             [
              0.6666666666666666,
              "#ed7953"
             ],
             [
              0.7777777777777778,
              "#fb9f3a"
             ],
             [
              0.8888888888888888,
              "#fdca26"
             ],
             [
              1,
              "#f0f921"
             ]
            ],
            "type": "histogram2dcontour"
           }
          ],
          "mesh3d": [
           {
            "colorbar": {
             "outlinewidth": 0,
             "ticks": ""
            },
            "type": "mesh3d"
           }
          ],
          "parcoords": [
           {
            "line": {
             "colorbar": {
              "outlinewidth": 0,
              "ticks": ""
             }
            },
            "type": "parcoords"
           }
          ],
          "pie": [
           {
            "automargin": true,
            "type": "pie"
           }
          ],
          "scatter": [
           {
            "marker": {
             "colorbar": {
              "outlinewidth": 0,
              "ticks": ""
             }
            },
            "type": "scatter"
           }
          ],
          "scatter3d": [
           {
            "line": {
             "colorbar": {
              "outlinewidth": 0,
              "ticks": ""
             }
            },
            "marker": {
             "colorbar": {
              "outlinewidth": 0,
              "ticks": ""
             }
            },
            "type": "scatter3d"
           }
          ],
          "scattercarpet": [
           {
            "marker": {
             "colorbar": {
              "outlinewidth": 0,
              "ticks": ""
             }
            },
            "type": "scattercarpet"
           }
          ],
          "scattergeo": [
           {
            "marker": {
             "colorbar": {
              "outlinewidth": 0,
              "ticks": ""
             }
            },
            "type": "scattergeo"
           }
          ],
          "scattergl": [
           {
            "marker": {
             "colorbar": {
              "outlinewidth": 0,
              "ticks": ""
             }
            },
            "type": "scattergl"
           }
          ],
          "scattermapbox": [
           {
            "marker": {
             "colorbar": {
              "outlinewidth": 0,
              "ticks": ""
             }
            },
            "type": "scattermapbox"
           }
          ],
          "scatterpolar": [
           {
            "marker": {
             "colorbar": {
              "outlinewidth": 0,
              "ticks": ""
             }
            },
            "type": "scatterpolar"
           }
          ],
          "scatterpolargl": [
           {
            "marker": {
             "colorbar": {
              "outlinewidth": 0,
              "ticks": ""
             }
            },
            "type": "scatterpolargl"
           }
          ],
          "scatterternary": [
           {
            "marker": {
             "colorbar": {
              "outlinewidth": 0,
              "ticks": ""
             }
            },
            "type": "scatterternary"
           }
          ],
          "surface": [
           {
            "colorbar": {
             "outlinewidth": 0,
             "ticks": ""
            },
            "colorscale": [
             [
              0,
              "#0d0887"
             ],
             [
              0.1111111111111111,
              "#46039f"
             ],
             [
              0.2222222222222222,
              "#7201a8"
             ],
             [
              0.3333333333333333,
              "#9c179e"
             ],
             [
              0.4444444444444444,
              "#bd3786"
             ],
             [
              0.5555555555555556,
              "#d8576b"
             ],
             [
              0.6666666666666666,
              "#ed7953"
             ],
             [
              0.7777777777777778,
              "#fb9f3a"
             ],
             [
              0.8888888888888888,
              "#fdca26"
             ],
             [
              1,
              "#f0f921"
             ]
            ],
            "type": "surface"
           }
          ],
          "table": [
           {
            "cells": {
             "fill": {
              "color": "#EBF0F8"
             },
             "line": {
              "color": "white"
             }
            },
            "header": {
             "fill": {
              "color": "#C8D4E3"
             },
             "line": {
              "color": "white"
             }
            },
            "type": "table"
           }
          ]
         },
         "layout": {
          "annotationdefaults": {
           "arrowcolor": "#2a3f5f",
           "arrowhead": 0,
           "arrowwidth": 1
          },
          "autotypenumbers": "strict",
          "coloraxis": {
           "colorbar": {
            "outlinewidth": 0,
            "ticks": ""
           }
          },
          "colorscale": {
           "diverging": [
            [
             0,
             "#8e0152"
            ],
            [
             0.1,
             "#c51b7d"
            ],
            [
             0.2,
             "#de77ae"
            ],
            [
             0.3,
             "#f1b6da"
            ],
            [
             0.4,
             "#fde0ef"
            ],
            [
             0.5,
             "#f7f7f7"
            ],
            [
             0.6,
             "#e6f5d0"
            ],
            [
             0.7,
             "#b8e186"
            ],
            [
             0.8,
             "#7fbc41"
            ],
            [
             0.9,
             "#4d9221"
            ],
            [
             1,
             "#276419"
            ]
           ],
           "sequential": [
            [
             0,
             "#0d0887"
            ],
            [
             0.1111111111111111,
             "#46039f"
            ],
            [
             0.2222222222222222,
             "#7201a8"
            ],
            [
             0.3333333333333333,
             "#9c179e"
            ],
            [
             0.4444444444444444,
             "#bd3786"
            ],
            [
             0.5555555555555556,
             "#d8576b"
            ],
            [
             0.6666666666666666,
             "#ed7953"
            ],
            [
             0.7777777777777778,
             "#fb9f3a"
            ],
            [
             0.8888888888888888,
             "#fdca26"
            ],
            [
             1,
             "#f0f921"
            ]
           ],
           "sequentialminus": [
            [
             0,
             "#0d0887"
            ],
            [
             0.1111111111111111,
             "#46039f"
            ],
            [
             0.2222222222222222,
             "#7201a8"
            ],
            [
             0.3333333333333333,
             "#9c179e"
            ],
            [
             0.4444444444444444,
             "#bd3786"
            ],
            [
             0.5555555555555556,
             "#d8576b"
            ],
            [
             0.6666666666666666,
             "#ed7953"
            ],
            [
             0.7777777777777778,
             "#fb9f3a"
            ],
            [
             0.8888888888888888,
             "#fdca26"
            ],
            [
             1,
             "#f0f921"
            ]
           ]
          },
          "colorway": [
           "#636efa",
           "#EF553B",
           "#00cc96",
           "#ab63fa",
           "#FFA15A",
           "#19d3f3",
           "#FF6692",
           "#B6E880",
           "#FF97FF",
           "#FECB52"
          ],
          "font": {
           "color": "#2a3f5f"
          },
          "geo": {
           "bgcolor": "white",
           "lakecolor": "white",
           "landcolor": "#E5ECF6",
           "showlakes": true,
           "showland": true,
           "subunitcolor": "white"
          },
          "hoverlabel": {
           "align": "left"
          },
          "hovermode": "closest",
          "mapbox": {
           "style": "light"
          },
          "paper_bgcolor": "white",
          "plot_bgcolor": "#E5ECF6",
          "polar": {
           "angularaxis": {
            "gridcolor": "white",
            "linecolor": "white",
            "ticks": ""
           },
           "bgcolor": "#E5ECF6",
           "radialaxis": {
            "gridcolor": "white",
            "linecolor": "white",
            "ticks": ""
           }
          },
          "scene": {
           "xaxis": {
            "backgroundcolor": "#E5ECF6",
            "gridcolor": "white",
            "gridwidth": 2,
            "linecolor": "white",
            "showbackground": true,
            "ticks": "",
            "zerolinecolor": "white"
           },
           "yaxis": {
            "backgroundcolor": "#E5ECF6",
            "gridcolor": "white",
            "gridwidth": 2,
            "linecolor": "white",
            "showbackground": true,
            "ticks": "",
            "zerolinecolor": "white"
           },
           "zaxis": {
            "backgroundcolor": "#E5ECF6",
            "gridcolor": "white",
            "gridwidth": 2,
            "linecolor": "white",
            "showbackground": true,
            "ticks": "",
            "zerolinecolor": "white"
           }
          },
          "shapedefaults": {
           "line": {
            "color": "#2a3f5f"
           }
          },
          "ternary": {
           "aaxis": {
            "gridcolor": "white",
            "linecolor": "white",
            "ticks": ""
           },
           "baxis": {
            "gridcolor": "white",
            "linecolor": "white",
            "ticks": ""
           },
           "bgcolor": "#E5ECF6",
           "caxis": {
            "gridcolor": "white",
            "linecolor": "white",
            "ticks": ""
           }
          },
          "title": {
           "x": 0.05
          },
          "xaxis": {
           "automargin": true,
           "gridcolor": "white",
           "linecolor": "white",
           "ticks": "",
           "title": {
            "standoff": 15
           },
           "zerolinecolor": "white",
           "zerolinewidth": 2
          },
          "yaxis": {
           "automargin": true,
           "gridcolor": "white",
           "linecolor": "white",
           "ticks": "",
           "title": {
            "standoff": 15
           },
           "zerolinecolor": "white",
           "zerolinewidth": 2
          }
         }
        },
        "title": {
         "font": {
          "color": "#4D5663"
         }
        },
        "xaxis": {
         "gridcolor": "#E1E5ED",
         "showgrid": true,
         "tickfont": {
          "color": "#4D5663"
         },
         "title": {
          "font": {
           "color": "#4D5663"
          },
          "text": ""
         },
         "zerolinecolor": "#E1E5ED"
        },
        "xaxis2": {
         "anchor": "y2",
         "gridcolor": "#E1E5ED",
         "showgrid": true,
         "showticklabels": false,
         "tickfont": {
          "color": "#4D5663"
         },
         "title": {
          "font": {
           "color": "#4D5663"
          },
          "text": ""
         },
         "zerolinecolor": "#E1E5ED"
        },
        "yaxis": {
         "domain": [
          0.3,
          1
         ],
         "gridcolor": "#E1E5ED",
         "showgrid": true,
         "tickfont": {
          "color": "#4D5663"
         },
         "title": {
          "font": {
           "color": "#4D5663"
          },
          "text": ""
         },
         "zerolinecolor": "#E1E5ED"
        },
        "yaxis2": {
         "domain": [
          0,
          0.25
         ],
         "gridcolor": "#E1E5ED",
         "showgrid": true,
         "tickfont": {
          "color": "#4D5663"
         },
         "title": {
          "font": {
           "color": "#4D5663"
          },
          "text": "Spread"
         },
         "zerolinecolor": "#E1E5ED"
        }
       }
      },
      "text/html": [
       "<div>                            <div id=\"f838c154-2c99-4892-813b-a3440823c41c\" class=\"plotly-graph-div\" style=\"height:525px; width:100%;\"></div>            <script type=\"text/javascript\">                require([\"plotly\"], function(Plotly) {                    window.PLOTLYENV=window.PLOTLYENV || {};\n",
       "                    window.PLOTLYENV.BASE_URL='https://plot.ly';                                    if (document.getElementById(\"f838c154-2c99-4892-813b-a3440823c41c\")) {                    Plotly.newPlot(                        \"f838c154-2c99-4892-813b-a3440823c41c\",                        [{\"line\":{\"color\":\"rgba(255, 153, 51, 1.0)\",\"dash\":\"solid\",\"shape\":\"linear\",\"width\":1.3},\"mode\":\"lines\",\"name\":\"A\",\"text\":\"\",\"x\":[0,1,2,3,4,5,6,7,8,9,10,11,12,13,14,15,16,17,18,19,20,21,22,23,24,25,26,27,28,29,30,31,32,33,34,35,36,37,38,39,40,41,42,43,44,45,46,47,48,49,50,51,52,53,54,55,56,57,58,59,60,61,62,63,64,65,66,67,68,69,70,71,72,73,74,75,76,77,78,79,80,81,82,83,84,85,86,87,88,89,90,91,92,93,94,95,96,97,98,99],\"y\":[-0.813094974158615,-0.6320677486019147,-1.8330180188288216,0.30946276649967275,-0.34965251460663066,0.2541242676005999,-1.25409609186406,-1.5953824759783306,1.209996953723444,-0.9031365588388017,-0.2528994058951668,1.1993671174625855,-0.03479382440405025,0.3587651949863715,-1.1773880168626751,0.1882839674798589,0.15926856483581273,-0.7575700575481089,0.5923720816717849,-0.43599154580134525,-0.40837339303113024,-0.47646397111751376,-0.4321175598119881,-0.4166377903936301,0.4465808165690844,-2.1124722104004774,-0.7168027292736445,-1.4687468385877556,-0.8552724178550116,-0.1833187037760549,-0.0516014687726671,0.08929624648486419,0.283689280140465,0.23228257745041886,-0.7994824154787796,-0.15801600703858176,1.6906988519025559,-0.14436831923177185,-0.8490004432157602,0.12606804002629304,-1.419783969424822,-1.3386672466657163,0.1025711857038433,-0.17526986520131532,1.0322093753670571,-0.08573491754076627,1.3010216527471408,-0.9489028978786285,-0.883492332517402,-1.2873136726903505,0.6479351933755042,-0.8376876792340087,-0.7386458732355002,0.7560364934857938,0.6795679333775624,0.5918996363507902,0.9376426697121171,0.2653352431183191,1.6579747967261944,-1.3355416128149515,0.03395533520806284,-0.25376231373687164,-0.3343846286932071,0.947247557239635,-0.6079551744162106,-0.5752977060081683,-0.7890237136747128,-0.6587642329116016,1.163701930798238,0.4606404839325701,0.8067944374337038,-0.19988432528089134,-0.21390856728770027,-1.018568825005735,-1.9589686543951768,0.06068691245208455,0.2678907684869432,0.03482855608749407,-0.38749122105340666,-0.5179472276706354,0.7704703886351763,-0.9890496308856835,-0.4756631316399486,-0.441569985646899,-0.5786339248236021,1.2622457440284895,-0.3533303731137811,0.6127642614441432,-0.7507571711907699,-0.17145625910104795,-1.7199283839683184,-0.4694471236015308,1.1724720953758947,-0.3030314459539039,0.7747117018211388,0.056886856834242286,0.2156621626300678,-0.4998451104106444,-2.3961426677696873,0.4773531183027042],\"type\":\"scatter\"},{\"line\":{\"color\":\"rgba(55, 128, 191, 1.0)\",\"dash\":\"solid\",\"shape\":\"linear\",\"width\":1.3},\"mode\":\"lines\",\"name\":\"B\",\"text\":\"\",\"x\":[0,1,2,3,4,5,6,7,8,9,10,11,12,13,14,15,16,17,18,19,20,21,22,23,24,25,26,27,28,29,30,31,32,33,34,35,36,37,38,39,40,41,42,43,44,45,46,47,48,49,50,51,52,53,54,55,56,57,58,59,60,61,62,63,64,65,66,67,68,69,70,71,72,73,74,75,76,77,78,79,80,81,82,83,84,85,86,87,88,89,90,91,92,93,94,95,96,97,98,99],\"y\":[-1.810705620303543,-0.6009888044223608,-0.8699212494722677,-0.550534748641092,0.4274694755230017,0.5985403310571168,-0.12188328873954034,0.4356412141803811,0.23677802285309477,-1.0316199459958797,-1.4119914497327224,0.42286751614288964,0.6899228786876435,-0.3304895135271398,1.0199569861773699,-0.07452470268944116,0.5179123635617616,0.7212504056693066,1.0568220483539346,-0.6329714821783978,-0.7729734925590904,0.04611373216482665,-1.662473515264781,0.36338256207965686,-0.5503816776380241,-2.7322601519765075,-1.6113440120570792,0.906382094929108,0.4735390415891768,-0.975263135435076,1.588411990779888,-2.0768510538923963,-1.4231799460959853,0.6882644752812591,-0.4998480033947634,-0.496656394151241,-0.4835208859489081,-1.8816807499555739,0.7719794078507218,-0.5139045194391917,-1.639215382625045,0.40602339946612515,2.298972143667528,0.11505047736262437,0.7005717751962709,0.4855307624973052,-1.0177172990318302,0.4840449889903183,-0.7194660638209635,-1.2300432610286793,-1.3701879756614934,-4.671017883589642,-1.184275158102963,0.39666942539920347,-2.226632808899658,1.3015642154390656,-1.782868004198849,2.1247188152382463,0.15797693140612953,1.8613288779523205,-1.7063050375534852,1.5331352666503193,0.5163164019441416,0.21032973058063056,-0.7984519380720064,1.1289791275584007,-0.2821710024131168,-0.7397400754627164,-0.08853754898509787,0.5618092496862193,-0.27172333726221837,0.1763089843781587,-0.36412102130108454,2.282272289168112,-0.9838235969987101,0.4803009506491444,1.3445668968174393,-0.2172825367000398,0.031868623818376185,0.7387689037046977,1.9125877271166336,1.0787847269804158,0.3197886159287113,0.10733866289906828,0.050774236411273876,-0.48259031053099,0.4489969178285034,-0.27393513534568964,-1.3236830680290488,-0.4724755544055852,1.0766300535114623,2.005792322169697,-1.5314592912873237,0.05121594255874584,0.27667231651744467,1.167398410424178,0.3884694404010253,-0.27529328081680393,0.9988939005905673,-0.3363810223756748],\"type\":\"scatter\"},{\"connectgaps\":false,\"fill\":\"tozeroy\",\"line\":{\"color\":\"green\",\"dash\":\"solid\",\"shape\":\"linear\",\"width\":0.5},\"mode\":\"lines\",\"name\":\"Spread\",\"showlegend\":false,\"x\":[0,1,2,3,4,5,6,7,8,9,10,11,12,13,14,15,16,17,18,19,20,21,22,23,24,25,26,27,28,29,30,31,32,33,34,35,36,37,38,39,40,41,42,43,44,45,46,47,48,49,50,51,52,53,54,55,56,57,58,59,60,61,62,63,64,65,66,67,68,69,70,71,72,73,74,75,76,77,78,79,80,81,82,83,84,85,86,87,88,89,90,91,92,93,94,95,96,97,98,99],\"xaxis\":\"x2\",\"y\":[0.997610646144928,\"\",\"\",0.8599975151407647,\"\",\"\",\"\",\"\",0.9732189308703493,0.12848338715707797,1.1590920438375556,0.7764996013196959,\"\",0.6892547085135112,\"\",0.26280867016930004,\"\",\"\",\"\",0.19697993637705258,0.3646000995279602,\"\",1.2303559554527927,\"\",0.9969624942071085,0.6197879415760301,0.8945412827834347,\"\",\"\",0.7919444316590212,\"\",2.1661473003772604,1.7068692262364502,\"\",\"\",0.33864038711265926,2.174219737851464,1.7373124307238021,\"\",0.6399725594654847,0.21943141320022308,\"\",\"\",\"\",0.33163760017078625,\"\",2.318738951778971,\"\",\"\",\"\",2.018123169036998,3.833330204355634,0.44562928486746267,0.35936706808659036,2.9062007422772203,\"\",2.720510673910966,\"\",1.499997865320065,\"\",1.740260372761548,\"\",\"\",0.7369178266590045,0.19049676365579582,\"\",\"\",0.08097584255111479,1.2522394797833358,\"\",1.0785177746959222,\"\",0.15021245401338426,\"\",\"\",\"\",\"\",0.25211109278753385,\"\",\"\",\"\",\"\",\"\",\"\",\"\",1.7448360545594794,\"\",0.8866993967898329,0.5729258968382789,0.30101929530453725,\"\",\"\",2.7039313866632186,\"\",0.4980393853036941,\"\",\"\",\"\",\"\",0.813734140678379],\"yaxis\":\"y2\",\"type\":\"scatter\"},{\"connectgaps\":false,\"fill\":\"tozeroy\",\"line\":{\"color\":\"red\",\"dash\":\"solid\",\"shape\":\"linear\",\"width\":0.5},\"mode\":\"lines\",\"name\":\"Spread\",\"showlegend\":false,\"x\":[0,1,2,3,4,5,6,7,8,9,10,11,12,13,14,15,16,17,18,19,20,21,22,23,24,25,26,27,28,29,30,31,32,33,34,35,36,37,38,39,40,41,42,43,44,45,46,47,48,49,50,51,52,53,54,55,56,57,58,59,60,61,62,63,64,65,66,67,68,69,70,71,72,73,74,75,76,77,78,79,80,81,82,83,84,85,86,87,88,89,90,91,92,93,94,95,96,97,98,99],\"xaxis\":\"x2\",\"y\":[\"\",-0.031078944179553925,-0.963096769356554,\"\",-0.7771219901296323,-0.3444160634565169,-1.1322128031245198,-2.0310236901587118,\"\",\"\",\"\",\"\",-0.7247167030916937,\"\",-2.197345003040045,\"\",-0.35864379872594887,-1.4788204632174156,-0.46444996668214966,\"\",\"\",-0.5225777032823404,\"\",-0.7800203524732869,\"\",\"\",\"\",-2.3751289335168635,-1.3288114594441884,\"\",-1.640013459552555,\"\",\"\",-0.45598189783084025,-0.29963441208401626,\"\",\"\",\"\",-1.620979851066482,\"\",\"\",-1.7446906461318414,-2.196400957963685,-0.2903203425639397,\"\",-0.5712656800380714,\"\",-1.4329478868689467,-0.16402626869643855,-0.05727041166167113,\"\",\"\",\"\",\"\",\"\",-0.7096645790882754,\"\",-1.8593835721199272,\"\",-3.196870490767272,\"\",-1.786897580387191,-0.8507010306373488,\"\",\"\",-1.704276833566569,-0.5068527112615959,\"\",\"\",-0.10116876575364914,\"\",-0.37619330965905007,\"\",-3.300841114173847,-0.9751450573964666,-0.41961403819705984,-1.0766761283304962,\"\",-0.41935984487178285,-1.2567161313753332,-1.1421173384814574,-2.0678343578660994,-0.7954517475686599,-0.5489086485459672,-0.629408161234876,\"\",-0.8023272909422845,\"\",\"\",\"\",-2.7965584374797805,-2.475239445771228,\"\",-0.35424738851264975,\"\",-1.1105115535899357,-0.17280727777095753,-0.22455182959384046,-3.3950365683602546,\"\"],\"yaxis\":\"y2\",\"type\":\"scatter\"}],                        {\"hovermode\":\"x\",\"legend\":{\"bgcolor\":\"#F5F6F9\",\"font\":{\"color\":\"#4D5663\"}},\"paper_bgcolor\":\"#F5F6F9\",\"plot_bgcolor\":\"#F5F6F9\",\"template\":{\"data\":{\"barpolar\":[{\"marker\":{\"line\":{\"color\":\"#E5ECF6\",\"width\":0.5},\"pattern\":{\"fillmode\":\"overlay\",\"size\":10,\"solidity\":0.2}},\"type\":\"barpolar\"}],\"bar\":[{\"error_x\":{\"color\":\"#2a3f5f\"},\"error_y\":{\"color\":\"#2a3f5f\"},\"marker\":{\"line\":{\"color\":\"#E5ECF6\",\"width\":0.5},\"pattern\":{\"fillmode\":\"overlay\",\"size\":10,\"solidity\":0.2}},\"type\":\"bar\"}],\"carpet\":[{\"aaxis\":{\"endlinecolor\":\"#2a3f5f\",\"gridcolor\":\"white\",\"linecolor\":\"white\",\"minorgridcolor\":\"white\",\"startlinecolor\":\"#2a3f5f\"},\"baxis\":{\"endlinecolor\":\"#2a3f5f\",\"gridcolor\":\"white\",\"linecolor\":\"white\",\"minorgridcolor\":\"white\",\"startlinecolor\":\"#2a3f5f\"},\"type\":\"carpet\"}],\"choropleth\":[{\"colorbar\":{\"outlinewidth\":0,\"ticks\":\"\"},\"type\":\"choropleth\"}],\"contourcarpet\":[{\"colorbar\":{\"outlinewidth\":0,\"ticks\":\"\"},\"type\":\"contourcarpet\"}],\"contour\":[{\"colorbar\":{\"outlinewidth\":0,\"ticks\":\"\"},\"colorscale\":[[0.0,\"#0d0887\"],[0.1111111111111111,\"#46039f\"],[0.2222222222222222,\"#7201a8\"],[0.3333333333333333,\"#9c179e\"],[0.4444444444444444,\"#bd3786\"],[0.5555555555555556,\"#d8576b\"],[0.6666666666666666,\"#ed7953\"],[0.7777777777777778,\"#fb9f3a\"],[0.8888888888888888,\"#fdca26\"],[1.0,\"#f0f921\"]],\"type\":\"contour\"}],\"heatmapgl\":[{\"colorbar\":{\"outlinewidth\":0,\"ticks\":\"\"},\"colorscale\":[[0.0,\"#0d0887\"],[0.1111111111111111,\"#46039f\"],[0.2222222222222222,\"#7201a8\"],[0.3333333333333333,\"#9c179e\"],[0.4444444444444444,\"#bd3786\"],[0.5555555555555556,\"#d8576b\"],[0.6666666666666666,\"#ed7953\"],[0.7777777777777778,\"#fb9f3a\"],[0.8888888888888888,\"#fdca26\"],[1.0,\"#f0f921\"]],\"type\":\"heatmapgl\"}],\"heatmap\":[{\"colorbar\":{\"outlinewidth\":0,\"ticks\":\"\"},\"colorscale\":[[0.0,\"#0d0887\"],[0.1111111111111111,\"#46039f\"],[0.2222222222222222,\"#7201a8\"],[0.3333333333333333,\"#9c179e\"],[0.4444444444444444,\"#bd3786\"],[0.5555555555555556,\"#d8576b\"],[0.6666666666666666,\"#ed7953\"],[0.7777777777777778,\"#fb9f3a\"],[0.8888888888888888,\"#fdca26\"],[1.0,\"#f0f921\"]],\"type\":\"heatmap\"}],\"histogram2dcontour\":[{\"colorbar\":{\"outlinewidth\":0,\"ticks\":\"\"},\"colorscale\":[[0.0,\"#0d0887\"],[0.1111111111111111,\"#46039f\"],[0.2222222222222222,\"#7201a8\"],[0.3333333333333333,\"#9c179e\"],[0.4444444444444444,\"#bd3786\"],[0.5555555555555556,\"#d8576b\"],[0.6666666666666666,\"#ed7953\"],[0.7777777777777778,\"#fb9f3a\"],[0.8888888888888888,\"#fdca26\"],[1.0,\"#f0f921\"]],\"type\":\"histogram2dcontour\"}],\"histogram2d\":[{\"colorbar\":{\"outlinewidth\":0,\"ticks\":\"\"},\"colorscale\":[[0.0,\"#0d0887\"],[0.1111111111111111,\"#46039f\"],[0.2222222222222222,\"#7201a8\"],[0.3333333333333333,\"#9c179e\"],[0.4444444444444444,\"#bd3786\"],[0.5555555555555556,\"#d8576b\"],[0.6666666666666666,\"#ed7953\"],[0.7777777777777778,\"#fb9f3a\"],[0.8888888888888888,\"#fdca26\"],[1.0,\"#f0f921\"]],\"type\":\"histogram2d\"}],\"histogram\":[{\"marker\":{\"pattern\":{\"fillmode\":\"overlay\",\"size\":10,\"solidity\":0.2}},\"type\":\"histogram\"}],\"mesh3d\":[{\"colorbar\":{\"outlinewidth\":0,\"ticks\":\"\"},\"type\":\"mesh3d\"}],\"parcoords\":[{\"line\":{\"colorbar\":{\"outlinewidth\":0,\"ticks\":\"\"}},\"type\":\"parcoords\"}],\"pie\":[{\"automargin\":true,\"type\":\"pie\"}],\"scatter3d\":[{\"line\":{\"colorbar\":{\"outlinewidth\":0,\"ticks\":\"\"}},\"marker\":{\"colorbar\":{\"outlinewidth\":0,\"ticks\":\"\"}},\"type\":\"scatter3d\"}],\"scattercarpet\":[{\"marker\":{\"colorbar\":{\"outlinewidth\":0,\"ticks\":\"\"}},\"type\":\"scattercarpet\"}],\"scattergeo\":[{\"marker\":{\"colorbar\":{\"outlinewidth\":0,\"ticks\":\"\"}},\"type\":\"scattergeo\"}],\"scattergl\":[{\"marker\":{\"colorbar\":{\"outlinewidth\":0,\"ticks\":\"\"}},\"type\":\"scattergl\"}],\"scattermapbox\":[{\"marker\":{\"colorbar\":{\"outlinewidth\":0,\"ticks\":\"\"}},\"type\":\"scattermapbox\"}],\"scatterpolargl\":[{\"marker\":{\"colorbar\":{\"outlinewidth\":0,\"ticks\":\"\"}},\"type\":\"scatterpolargl\"}],\"scatterpolar\":[{\"marker\":{\"colorbar\":{\"outlinewidth\":0,\"ticks\":\"\"}},\"type\":\"scatterpolar\"}],\"scatter\":[{\"marker\":{\"colorbar\":{\"outlinewidth\":0,\"ticks\":\"\"}},\"type\":\"scatter\"}],\"scatterternary\":[{\"marker\":{\"colorbar\":{\"outlinewidth\":0,\"ticks\":\"\"}},\"type\":\"scatterternary\"}],\"surface\":[{\"colorbar\":{\"outlinewidth\":0,\"ticks\":\"\"},\"colorscale\":[[0.0,\"#0d0887\"],[0.1111111111111111,\"#46039f\"],[0.2222222222222222,\"#7201a8\"],[0.3333333333333333,\"#9c179e\"],[0.4444444444444444,\"#bd3786\"],[0.5555555555555556,\"#d8576b\"],[0.6666666666666666,\"#ed7953\"],[0.7777777777777778,\"#fb9f3a\"],[0.8888888888888888,\"#fdca26\"],[1.0,\"#f0f921\"]],\"type\":\"surface\"}],\"table\":[{\"cells\":{\"fill\":{\"color\":\"#EBF0F8\"},\"line\":{\"color\":\"white\"}},\"header\":{\"fill\":{\"color\":\"#C8D4E3\"},\"line\":{\"color\":\"white\"}},\"type\":\"table\"}]},\"layout\":{\"annotationdefaults\":{\"arrowcolor\":\"#2a3f5f\",\"arrowhead\":0,\"arrowwidth\":1},\"autotypenumbers\":\"strict\",\"coloraxis\":{\"colorbar\":{\"outlinewidth\":0,\"ticks\":\"\"}},\"colorscale\":{\"diverging\":[[0,\"#8e0152\"],[0.1,\"#c51b7d\"],[0.2,\"#de77ae\"],[0.3,\"#f1b6da\"],[0.4,\"#fde0ef\"],[0.5,\"#f7f7f7\"],[0.6,\"#e6f5d0\"],[0.7,\"#b8e186\"],[0.8,\"#7fbc41\"],[0.9,\"#4d9221\"],[1,\"#276419\"]],\"sequential\":[[0.0,\"#0d0887\"],[0.1111111111111111,\"#46039f\"],[0.2222222222222222,\"#7201a8\"],[0.3333333333333333,\"#9c179e\"],[0.4444444444444444,\"#bd3786\"],[0.5555555555555556,\"#d8576b\"],[0.6666666666666666,\"#ed7953\"],[0.7777777777777778,\"#fb9f3a\"],[0.8888888888888888,\"#fdca26\"],[1.0,\"#f0f921\"]],\"sequentialminus\":[[0.0,\"#0d0887\"],[0.1111111111111111,\"#46039f\"],[0.2222222222222222,\"#7201a8\"],[0.3333333333333333,\"#9c179e\"],[0.4444444444444444,\"#bd3786\"],[0.5555555555555556,\"#d8576b\"],[0.6666666666666666,\"#ed7953\"],[0.7777777777777778,\"#fb9f3a\"],[0.8888888888888888,\"#fdca26\"],[1.0,\"#f0f921\"]]},\"colorway\":[\"#636efa\",\"#EF553B\",\"#00cc96\",\"#ab63fa\",\"#FFA15A\",\"#19d3f3\",\"#FF6692\",\"#B6E880\",\"#FF97FF\",\"#FECB52\"],\"font\":{\"color\":\"#2a3f5f\"},\"geo\":{\"bgcolor\":\"white\",\"lakecolor\":\"white\",\"landcolor\":\"#E5ECF6\",\"showlakes\":true,\"showland\":true,\"subunitcolor\":\"white\"},\"hoverlabel\":{\"align\":\"left\"},\"hovermode\":\"closest\",\"mapbox\":{\"style\":\"light\"},\"paper_bgcolor\":\"white\",\"plot_bgcolor\":\"#E5ECF6\",\"polar\":{\"angularaxis\":{\"gridcolor\":\"white\",\"linecolor\":\"white\",\"ticks\":\"\"},\"bgcolor\":\"#E5ECF6\",\"radialaxis\":{\"gridcolor\":\"white\",\"linecolor\":\"white\",\"ticks\":\"\"}},\"scene\":{\"xaxis\":{\"backgroundcolor\":\"#E5ECF6\",\"gridcolor\":\"white\",\"gridwidth\":2,\"linecolor\":\"white\",\"showbackground\":true,\"ticks\":\"\",\"zerolinecolor\":\"white\"},\"yaxis\":{\"backgroundcolor\":\"#E5ECF6\",\"gridcolor\":\"white\",\"gridwidth\":2,\"linecolor\":\"white\",\"showbackground\":true,\"ticks\":\"\",\"zerolinecolor\":\"white\"},\"zaxis\":{\"backgroundcolor\":\"#E5ECF6\",\"gridcolor\":\"white\",\"gridwidth\":2,\"linecolor\":\"white\",\"showbackground\":true,\"ticks\":\"\",\"zerolinecolor\":\"white\"}},\"shapedefaults\":{\"line\":{\"color\":\"#2a3f5f\"}},\"ternary\":{\"aaxis\":{\"gridcolor\":\"white\",\"linecolor\":\"white\",\"ticks\":\"\"},\"baxis\":{\"gridcolor\":\"white\",\"linecolor\":\"white\",\"ticks\":\"\"},\"bgcolor\":\"#E5ECF6\",\"caxis\":{\"gridcolor\":\"white\",\"linecolor\":\"white\",\"ticks\":\"\"}},\"title\":{\"x\":0.05},\"xaxis\":{\"automargin\":true,\"gridcolor\":\"white\",\"linecolor\":\"white\",\"ticks\":\"\",\"title\":{\"standoff\":15},\"zerolinecolor\":\"white\",\"zerolinewidth\":2},\"yaxis\":{\"automargin\":true,\"gridcolor\":\"white\",\"linecolor\":\"white\",\"ticks\":\"\",\"title\":{\"standoff\":15},\"zerolinecolor\":\"white\",\"zerolinewidth\":2}}},\"title\":{\"font\":{\"color\":\"#4D5663\"}},\"xaxis\":{\"gridcolor\":\"#E1E5ED\",\"showgrid\":true,\"tickfont\":{\"color\":\"#4D5663\"},\"title\":{\"font\":{\"color\":\"#4D5663\"},\"text\":\"\"},\"zerolinecolor\":\"#E1E5ED\"},\"yaxis\":{\"domain\":[0.3,1],\"gridcolor\":\"#E1E5ED\",\"showgrid\":true,\"tickfont\":{\"color\":\"#4D5663\"},\"title\":{\"font\":{\"color\":\"#4D5663\"},\"text\":\"\"},\"zerolinecolor\":\"#E1E5ED\"},\"yaxis2\":{\"domain\":[0,0.25],\"gridcolor\":\"#E1E5ED\",\"showgrid\":true,\"tickfont\":{\"color\":\"#4D5663\"},\"title\":{\"font\":{\"color\":\"#4D5663\"},\"text\":\"Spread\"},\"zerolinecolor\":\"#E1E5ED\"},\"xaxis2\":{\"anchor\":\"y2\",\"gridcolor\":\"#E1E5ED\",\"showgrid\":true,\"showticklabels\":false,\"tickfont\":{\"color\":\"#4D5663\"},\"title\":{\"font\":{\"color\":\"#4D5663\"},\"text\":\"\"},\"zerolinecolor\":\"#E1E5ED\"}},                        {\"showLink\": true, \"linkText\": \"Export to plot.ly\", \"plotlyServerURL\": \"https://plot.ly\", \"responsive\": true}                    ).then(function(){\n",
       "                            \n",
       "var gd = document.getElementById('f838c154-2c99-4892-813b-a3440823c41c');\n",
       "var x = new MutationObserver(function (mutations, observer) {{\n",
       "        var display = window.getComputedStyle(gd).display;\n",
       "        if (!display || display === 'none') {{\n",
       "            console.log([gd, 'removed!']);\n",
       "            Plotly.purge(gd);\n",
       "            observer.disconnect();\n",
       "        }}\n",
       "}});\n",
       "\n",
       "// Listen for the removal of the full notebook cells\n",
       "var notebookContainer = gd.closest('#notebook-container');\n",
       "if (notebookContainer) {{\n",
       "    x.observe(notebookContainer, {childList: true});\n",
       "}}\n",
       "\n",
       "// Listen for the clearing of the current output cell\n",
       "var outputEl = gd.closest('.output');\n",
       "if (outputEl) {{\n",
       "    x.observe(outputEl, {childList: true});\n",
       "}}\n",
       "\n",
       "                        })                };                });            </script>        </div>"
      ]
     },
     "metadata": {},
     "output_type": "display_data"
    }
   ],
   "source": [
    "df[['A','B']].iplot(kind='spread')"
   ]
  },
  {
   "cell_type": "markdown",
   "metadata": {},
   "source": [
    "## histogram"
   ]
  },
  {
   "cell_type": "code",
   "execution_count": 21,
   "metadata": {},
   "outputs": [
    {
     "data": {
      "application/vnd.plotly.v1+json": {
       "config": {
        "linkText": "Export to plot.ly",
        "plotlyServerURL": "https://plot.ly",
        "showLink": true
       },
       "data": [
        {
         "histfunc": "count",
         "histnorm": "",
         "marker": {
          "color": "rgba(255, 153, 51, 1.0)",
          "line": {
           "color": "#4D5663",
           "width": 1.3
          }
         },
         "name": "A",
         "nbinsx": 25,
         "opacity": 0.8,
         "orientation": "v",
         "type": "histogram",
         "x": [
          -0.813094974158615,
          -0.6320677486019147,
          -1.8330180188288216,
          0.30946276649967275,
          -0.34965251460663066,
          0.2541242676005999,
          -1.25409609186406,
          -1.5953824759783306,
          1.209996953723444,
          -0.9031365588388017,
          -0.2528994058951668,
          1.1993671174625855,
          -0.03479382440405025,
          0.3587651949863715,
          -1.1773880168626751,
          0.1882839674798589,
          0.15926856483581273,
          -0.7575700575481089,
          0.5923720816717849,
          -0.43599154580134525,
          -0.40837339303113024,
          -0.47646397111751376,
          -0.4321175598119881,
          -0.4166377903936301,
          0.4465808165690844,
          -2.1124722104004774,
          -0.7168027292736445,
          -1.4687468385877556,
          -0.8552724178550116,
          -0.1833187037760549,
          -0.0516014687726671,
          0.08929624648486419,
          0.283689280140465,
          0.23228257745041886,
          -0.7994824154787796,
          -0.15801600703858176,
          1.6906988519025559,
          -0.14436831923177185,
          -0.8490004432157602,
          0.12606804002629304,
          -1.419783969424822,
          -1.3386672466657163,
          0.1025711857038433,
          -0.17526986520131532,
          1.0322093753670571,
          -0.08573491754076627,
          1.3010216527471408,
          -0.9489028978786285,
          -0.883492332517402,
          -1.2873136726903505,
          0.6479351933755042,
          -0.8376876792340087,
          -0.7386458732355002,
          0.7560364934857938,
          0.6795679333775624,
          0.5918996363507902,
          0.9376426697121171,
          0.2653352431183191,
          1.6579747967261944,
          -1.3355416128149515,
          0.03395533520806284,
          -0.25376231373687164,
          -0.3343846286932071,
          0.947247557239635,
          -0.6079551744162106,
          -0.5752977060081683,
          -0.7890237136747128,
          -0.6587642329116016,
          1.163701930798238,
          0.4606404839325701,
          0.8067944374337038,
          -0.19988432528089134,
          -0.21390856728770027,
          -1.018568825005735,
          -1.9589686543951768,
          0.06068691245208455,
          0.2678907684869432,
          0.03482855608749407,
          -0.38749122105340666,
          -0.5179472276706354,
          0.7704703886351763,
          -0.9890496308856835,
          -0.4756631316399486,
          -0.441569985646899,
          -0.5786339248236021,
          1.2622457440284895,
          -0.3533303731137811,
          0.6127642614441432,
          -0.7507571711907699,
          -0.17145625910104795,
          -1.7199283839683184,
          -0.4694471236015308,
          1.1724720953758947,
          -0.3030314459539039,
          0.7747117018211388,
          0.056886856834242286,
          0.2156621626300678,
          -0.4998451104106444,
          -2.3961426677696873,
          0.4773531183027042
         ]
        }
       ],
       "layout": {
        "barmode": "overlay",
        "legend": {
         "bgcolor": "#F5F6F9",
         "font": {
          "color": "#4D5663"
         }
        },
        "paper_bgcolor": "#F5F6F9",
        "plot_bgcolor": "#F5F6F9",
        "template": {
         "data": {
          "bar": [
           {
            "error_x": {
             "color": "#2a3f5f"
            },
            "error_y": {
             "color": "#2a3f5f"
            },
            "marker": {
             "line": {
              "color": "#E5ECF6",
              "width": 0.5
             },
             "pattern": {
              "fillmode": "overlay",
              "size": 10,
              "solidity": 0.2
             }
            },
            "type": "bar"
           }
          ],
          "barpolar": [
           {
            "marker": {
             "line": {
              "color": "#E5ECF6",
              "width": 0.5
             },
             "pattern": {
              "fillmode": "overlay",
              "size": 10,
              "solidity": 0.2
             }
            },
            "type": "barpolar"
           }
          ],
          "carpet": [
           {
            "aaxis": {
             "endlinecolor": "#2a3f5f",
             "gridcolor": "white",
             "linecolor": "white",
             "minorgridcolor": "white",
             "startlinecolor": "#2a3f5f"
            },
            "baxis": {
             "endlinecolor": "#2a3f5f",
             "gridcolor": "white",
             "linecolor": "white",
             "minorgridcolor": "white",
             "startlinecolor": "#2a3f5f"
            },
            "type": "carpet"
           }
          ],
          "choropleth": [
           {
            "colorbar": {
             "outlinewidth": 0,
             "ticks": ""
            },
            "type": "choropleth"
           }
          ],
          "contour": [
           {
            "colorbar": {
             "outlinewidth": 0,
             "ticks": ""
            },
            "colorscale": [
             [
              0,
              "#0d0887"
             ],
             [
              0.1111111111111111,
              "#46039f"
             ],
             [
              0.2222222222222222,
              "#7201a8"
             ],
             [
              0.3333333333333333,
              "#9c179e"
             ],
             [
              0.4444444444444444,
              "#bd3786"
             ],
             [
              0.5555555555555556,
              "#d8576b"
             ],
             [
              0.6666666666666666,
              "#ed7953"
             ],
             [
              0.7777777777777778,
              "#fb9f3a"
             ],
             [
              0.8888888888888888,
              "#fdca26"
             ],
             [
              1,
              "#f0f921"
             ]
            ],
            "type": "contour"
           }
          ],
          "contourcarpet": [
           {
            "colorbar": {
             "outlinewidth": 0,
             "ticks": ""
            },
            "type": "contourcarpet"
           }
          ],
          "heatmap": [
           {
            "colorbar": {
             "outlinewidth": 0,
             "ticks": ""
            },
            "colorscale": [
             [
              0,
              "#0d0887"
             ],
             [
              0.1111111111111111,
              "#46039f"
             ],
             [
              0.2222222222222222,
              "#7201a8"
             ],
             [
              0.3333333333333333,
              "#9c179e"
             ],
             [
              0.4444444444444444,
              "#bd3786"
             ],
             [
              0.5555555555555556,
              "#d8576b"
             ],
             [
              0.6666666666666666,
              "#ed7953"
             ],
             [
              0.7777777777777778,
              "#fb9f3a"
             ],
             [
              0.8888888888888888,
              "#fdca26"
             ],
             [
              1,
              "#f0f921"
             ]
            ],
            "type": "heatmap"
           }
          ],
          "heatmapgl": [
           {
            "colorbar": {
             "outlinewidth": 0,
             "ticks": ""
            },
            "colorscale": [
             [
              0,
              "#0d0887"
             ],
             [
              0.1111111111111111,
              "#46039f"
             ],
             [
              0.2222222222222222,
              "#7201a8"
             ],
             [
              0.3333333333333333,
              "#9c179e"
             ],
             [
              0.4444444444444444,
              "#bd3786"
             ],
             [
              0.5555555555555556,
              "#d8576b"
             ],
             [
              0.6666666666666666,
              "#ed7953"
             ],
             [
              0.7777777777777778,
              "#fb9f3a"
             ],
             [
              0.8888888888888888,
              "#fdca26"
             ],
             [
              1,
              "#f0f921"
             ]
            ],
            "type": "heatmapgl"
           }
          ],
          "histogram": [
           {
            "marker": {
             "pattern": {
              "fillmode": "overlay",
              "size": 10,
              "solidity": 0.2
             }
            },
            "type": "histogram"
           }
          ],
          "histogram2d": [
           {
            "colorbar": {
             "outlinewidth": 0,
             "ticks": ""
            },
            "colorscale": [
             [
              0,
              "#0d0887"
             ],
             [
              0.1111111111111111,
              "#46039f"
             ],
             [
              0.2222222222222222,
              "#7201a8"
             ],
             [
              0.3333333333333333,
              "#9c179e"
             ],
             [
              0.4444444444444444,
              "#bd3786"
             ],
             [
              0.5555555555555556,
              "#d8576b"
             ],
             [
              0.6666666666666666,
              "#ed7953"
             ],
             [
              0.7777777777777778,
              "#fb9f3a"
             ],
             [
              0.8888888888888888,
              "#fdca26"
             ],
             [
              1,
              "#f0f921"
             ]
            ],
            "type": "histogram2d"
           }
          ],
          "histogram2dcontour": [
           {
            "colorbar": {
             "outlinewidth": 0,
             "ticks": ""
            },
            "colorscale": [
             [
              0,
              "#0d0887"
             ],
             [
              0.1111111111111111,
              "#46039f"
             ],
             [
              0.2222222222222222,
              "#7201a8"
             ],
             [
              0.3333333333333333,
              "#9c179e"
             ],
             [
              0.4444444444444444,
              "#bd3786"
             ],
             [
              0.5555555555555556,
              "#d8576b"
             ],
             [
              0.6666666666666666,
              "#ed7953"
             ],
             [
              0.7777777777777778,
              "#fb9f3a"
             ],
             [
              0.8888888888888888,
              "#fdca26"
             ],
             [
              1,
              "#f0f921"
             ]
            ],
            "type": "histogram2dcontour"
           }
          ],
          "mesh3d": [
           {
            "colorbar": {
             "outlinewidth": 0,
             "ticks": ""
            },
            "type": "mesh3d"
           }
          ],
          "parcoords": [
           {
            "line": {
             "colorbar": {
              "outlinewidth": 0,
              "ticks": ""
             }
            },
            "type": "parcoords"
           }
          ],
          "pie": [
           {
            "automargin": true,
            "type": "pie"
           }
          ],
          "scatter": [
           {
            "marker": {
             "colorbar": {
              "outlinewidth": 0,
              "ticks": ""
             }
            },
            "type": "scatter"
           }
          ],
          "scatter3d": [
           {
            "line": {
             "colorbar": {
              "outlinewidth": 0,
              "ticks": ""
             }
            },
            "marker": {
             "colorbar": {
              "outlinewidth": 0,
              "ticks": ""
             }
            },
            "type": "scatter3d"
           }
          ],
          "scattercarpet": [
           {
            "marker": {
             "colorbar": {
              "outlinewidth": 0,
              "ticks": ""
             }
            },
            "type": "scattercarpet"
           }
          ],
          "scattergeo": [
           {
            "marker": {
             "colorbar": {
              "outlinewidth": 0,
              "ticks": ""
             }
            },
            "type": "scattergeo"
           }
          ],
          "scattergl": [
           {
            "marker": {
             "colorbar": {
              "outlinewidth": 0,
              "ticks": ""
             }
            },
            "type": "scattergl"
           }
          ],
          "scattermapbox": [
           {
            "marker": {
             "colorbar": {
              "outlinewidth": 0,
              "ticks": ""
             }
            },
            "type": "scattermapbox"
           }
          ],
          "scatterpolar": [
           {
            "marker": {
             "colorbar": {
              "outlinewidth": 0,
              "ticks": ""
             }
            },
            "type": "scatterpolar"
           }
          ],
          "scatterpolargl": [
           {
            "marker": {
             "colorbar": {
              "outlinewidth": 0,
              "ticks": ""
             }
            },
            "type": "scatterpolargl"
           }
          ],
          "scatterternary": [
           {
            "marker": {
             "colorbar": {
              "outlinewidth": 0,
              "ticks": ""
             }
            },
            "type": "scatterternary"
           }
          ],
          "surface": [
           {
            "colorbar": {
             "outlinewidth": 0,
             "ticks": ""
            },
            "colorscale": [
             [
              0,
              "#0d0887"
             ],
             [
              0.1111111111111111,
              "#46039f"
             ],
             [
              0.2222222222222222,
              "#7201a8"
             ],
             [
              0.3333333333333333,
              "#9c179e"
             ],
             [
              0.4444444444444444,
              "#bd3786"
             ],
             [
              0.5555555555555556,
              "#d8576b"
             ],
             [
              0.6666666666666666,
              "#ed7953"
             ],
             [
              0.7777777777777778,
              "#fb9f3a"
             ],
             [
              0.8888888888888888,
              "#fdca26"
             ],
             [
              1,
              "#f0f921"
             ]
            ],
            "type": "surface"
           }
          ],
          "table": [
           {
            "cells": {
             "fill": {
              "color": "#EBF0F8"
             },
             "line": {
              "color": "white"
             }
            },
            "header": {
             "fill": {
              "color": "#C8D4E3"
             },
             "line": {
              "color": "white"
             }
            },
            "type": "table"
           }
          ]
         },
         "layout": {
          "annotationdefaults": {
           "arrowcolor": "#2a3f5f",
           "arrowhead": 0,
           "arrowwidth": 1
          },
          "autotypenumbers": "strict",
          "coloraxis": {
           "colorbar": {
            "outlinewidth": 0,
            "ticks": ""
           }
          },
          "colorscale": {
           "diverging": [
            [
             0,
             "#8e0152"
            ],
            [
             0.1,
             "#c51b7d"
            ],
            [
             0.2,
             "#de77ae"
            ],
            [
             0.3,
             "#f1b6da"
            ],
            [
             0.4,
             "#fde0ef"
            ],
            [
             0.5,
             "#f7f7f7"
            ],
            [
             0.6,
             "#e6f5d0"
            ],
            [
             0.7,
             "#b8e186"
            ],
            [
             0.8,
             "#7fbc41"
            ],
            [
             0.9,
             "#4d9221"
            ],
            [
             1,
             "#276419"
            ]
           ],
           "sequential": [
            [
             0,
             "#0d0887"
            ],
            [
             0.1111111111111111,
             "#46039f"
            ],
            [
             0.2222222222222222,
             "#7201a8"
            ],
            [
             0.3333333333333333,
             "#9c179e"
            ],
            [
             0.4444444444444444,
             "#bd3786"
            ],
            [
             0.5555555555555556,
             "#d8576b"
            ],
            [
             0.6666666666666666,
             "#ed7953"
            ],
            [
             0.7777777777777778,
             "#fb9f3a"
            ],
            [
             0.8888888888888888,
             "#fdca26"
            ],
            [
             1,
             "#f0f921"
            ]
           ],
           "sequentialminus": [
            [
             0,
             "#0d0887"
            ],
            [
             0.1111111111111111,
             "#46039f"
            ],
            [
             0.2222222222222222,
             "#7201a8"
            ],
            [
             0.3333333333333333,
             "#9c179e"
            ],
            [
             0.4444444444444444,
             "#bd3786"
            ],
            [
             0.5555555555555556,
             "#d8576b"
            ],
            [
             0.6666666666666666,
             "#ed7953"
            ],
            [
             0.7777777777777778,
             "#fb9f3a"
            ],
            [
             0.8888888888888888,
             "#fdca26"
            ],
            [
             1,
             "#f0f921"
            ]
           ]
          },
          "colorway": [
           "#636efa",
           "#EF553B",
           "#00cc96",
           "#ab63fa",
           "#FFA15A",
           "#19d3f3",
           "#FF6692",
           "#B6E880",
           "#FF97FF",
           "#FECB52"
          ],
          "font": {
           "color": "#2a3f5f"
          },
          "geo": {
           "bgcolor": "white",
           "lakecolor": "white",
           "landcolor": "#E5ECF6",
           "showlakes": true,
           "showland": true,
           "subunitcolor": "white"
          },
          "hoverlabel": {
           "align": "left"
          },
          "hovermode": "closest",
          "mapbox": {
           "style": "light"
          },
          "paper_bgcolor": "white",
          "plot_bgcolor": "#E5ECF6",
          "polar": {
           "angularaxis": {
            "gridcolor": "white",
            "linecolor": "white",
            "ticks": ""
           },
           "bgcolor": "#E5ECF6",
           "radialaxis": {
            "gridcolor": "white",
            "linecolor": "white",
            "ticks": ""
           }
          },
          "scene": {
           "xaxis": {
            "backgroundcolor": "#E5ECF6",
            "gridcolor": "white",
            "gridwidth": 2,
            "linecolor": "white",
            "showbackground": true,
            "ticks": "",
            "zerolinecolor": "white"
           },
           "yaxis": {
            "backgroundcolor": "#E5ECF6",
            "gridcolor": "white",
            "gridwidth": 2,
            "linecolor": "white",
            "showbackground": true,
            "ticks": "",
            "zerolinecolor": "white"
           },
           "zaxis": {
            "backgroundcolor": "#E5ECF6",
            "gridcolor": "white",
            "gridwidth": 2,
            "linecolor": "white",
            "showbackground": true,
            "ticks": "",
            "zerolinecolor": "white"
           }
          },
          "shapedefaults": {
           "line": {
            "color": "#2a3f5f"
           }
          },
          "ternary": {
           "aaxis": {
            "gridcolor": "white",
            "linecolor": "white",
            "ticks": ""
           },
           "baxis": {
            "gridcolor": "white",
            "linecolor": "white",
            "ticks": ""
           },
           "bgcolor": "#E5ECF6",
           "caxis": {
            "gridcolor": "white",
            "linecolor": "white",
            "ticks": ""
           }
          },
          "title": {
           "x": 0.05
          },
          "xaxis": {
           "automargin": true,
           "gridcolor": "white",
           "linecolor": "white",
           "ticks": "",
           "title": {
            "standoff": 15
           },
           "zerolinecolor": "white",
           "zerolinewidth": 2
          },
          "yaxis": {
           "automargin": true,
           "gridcolor": "white",
           "linecolor": "white",
           "ticks": "",
           "title": {
            "standoff": 15
           },
           "zerolinecolor": "white",
           "zerolinewidth": 2
          }
         }
        },
        "title": {
         "font": {
          "color": "#4D5663"
         }
        },
        "xaxis": {
         "gridcolor": "#E1E5ED",
         "showgrid": true,
         "tickfont": {
          "color": "#4D5663"
         },
         "title": {
          "font": {
           "color": "#4D5663"
          },
          "text": ""
         },
         "zerolinecolor": "#E1E5ED"
        },
        "yaxis": {
         "gridcolor": "#E1E5ED",
         "showgrid": true,
         "tickfont": {
          "color": "#4D5663"
         },
         "title": {
          "font": {
           "color": "#4D5663"
          },
          "text": ""
         },
         "zerolinecolor": "#E1E5ED"
        }
       }
      },
      "text/html": [
       "<div>                            <div id=\"f0cf139f-2fa1-472b-b8cf-7ddf7e7074b1\" class=\"plotly-graph-div\" style=\"height:525px; width:100%;\"></div>            <script type=\"text/javascript\">                require([\"plotly\"], function(Plotly) {                    window.PLOTLYENV=window.PLOTLYENV || {};\n",
       "                    window.PLOTLYENV.BASE_URL='https://plot.ly';                                    if (document.getElementById(\"f0cf139f-2fa1-472b-b8cf-7ddf7e7074b1\")) {                    Plotly.newPlot(                        \"f0cf139f-2fa1-472b-b8cf-7ddf7e7074b1\",                        [{\"histfunc\":\"count\",\"histnorm\":\"\",\"marker\":{\"color\":\"rgba(255, 153, 51, 1.0)\",\"line\":{\"color\":\"#4D5663\",\"width\":1.3}},\"name\":\"A\",\"nbinsx\":25,\"opacity\":0.8,\"orientation\":\"v\",\"x\":[-0.813094974158615,-0.6320677486019147,-1.8330180188288216,0.30946276649967275,-0.34965251460663066,0.2541242676005999,-1.25409609186406,-1.5953824759783306,1.209996953723444,-0.9031365588388017,-0.2528994058951668,1.1993671174625855,-0.03479382440405025,0.3587651949863715,-1.1773880168626751,0.1882839674798589,0.15926856483581273,-0.7575700575481089,0.5923720816717849,-0.43599154580134525,-0.40837339303113024,-0.47646397111751376,-0.4321175598119881,-0.4166377903936301,0.4465808165690844,-2.1124722104004774,-0.7168027292736445,-1.4687468385877556,-0.8552724178550116,-0.1833187037760549,-0.0516014687726671,0.08929624648486419,0.283689280140465,0.23228257745041886,-0.7994824154787796,-0.15801600703858176,1.6906988519025559,-0.14436831923177185,-0.8490004432157602,0.12606804002629304,-1.419783969424822,-1.3386672466657163,0.1025711857038433,-0.17526986520131532,1.0322093753670571,-0.08573491754076627,1.3010216527471408,-0.9489028978786285,-0.883492332517402,-1.2873136726903505,0.6479351933755042,-0.8376876792340087,-0.7386458732355002,0.7560364934857938,0.6795679333775624,0.5918996363507902,0.9376426697121171,0.2653352431183191,1.6579747967261944,-1.3355416128149515,0.03395533520806284,-0.25376231373687164,-0.3343846286932071,0.947247557239635,-0.6079551744162106,-0.5752977060081683,-0.7890237136747128,-0.6587642329116016,1.163701930798238,0.4606404839325701,0.8067944374337038,-0.19988432528089134,-0.21390856728770027,-1.018568825005735,-1.9589686543951768,0.06068691245208455,0.2678907684869432,0.03482855608749407,-0.38749122105340666,-0.5179472276706354,0.7704703886351763,-0.9890496308856835,-0.4756631316399486,-0.441569985646899,-0.5786339248236021,1.2622457440284895,-0.3533303731137811,0.6127642614441432,-0.7507571711907699,-0.17145625910104795,-1.7199283839683184,-0.4694471236015308,1.1724720953758947,-0.3030314459539039,0.7747117018211388,0.056886856834242286,0.2156621626300678,-0.4998451104106444,-2.3961426677696873,0.4773531183027042],\"type\":\"histogram\"}],                        {\"barmode\":\"overlay\",\"legend\":{\"bgcolor\":\"#F5F6F9\",\"font\":{\"color\":\"#4D5663\"}},\"paper_bgcolor\":\"#F5F6F9\",\"plot_bgcolor\":\"#F5F6F9\",\"template\":{\"data\":{\"barpolar\":[{\"marker\":{\"line\":{\"color\":\"#E5ECF6\",\"width\":0.5},\"pattern\":{\"fillmode\":\"overlay\",\"size\":10,\"solidity\":0.2}},\"type\":\"barpolar\"}],\"bar\":[{\"error_x\":{\"color\":\"#2a3f5f\"},\"error_y\":{\"color\":\"#2a3f5f\"},\"marker\":{\"line\":{\"color\":\"#E5ECF6\",\"width\":0.5},\"pattern\":{\"fillmode\":\"overlay\",\"size\":10,\"solidity\":0.2}},\"type\":\"bar\"}],\"carpet\":[{\"aaxis\":{\"endlinecolor\":\"#2a3f5f\",\"gridcolor\":\"white\",\"linecolor\":\"white\",\"minorgridcolor\":\"white\",\"startlinecolor\":\"#2a3f5f\"},\"baxis\":{\"endlinecolor\":\"#2a3f5f\",\"gridcolor\":\"white\",\"linecolor\":\"white\",\"minorgridcolor\":\"white\",\"startlinecolor\":\"#2a3f5f\"},\"type\":\"carpet\"}],\"choropleth\":[{\"colorbar\":{\"outlinewidth\":0,\"ticks\":\"\"},\"type\":\"choropleth\"}],\"contourcarpet\":[{\"colorbar\":{\"outlinewidth\":0,\"ticks\":\"\"},\"type\":\"contourcarpet\"}],\"contour\":[{\"colorbar\":{\"outlinewidth\":0,\"ticks\":\"\"},\"colorscale\":[[0.0,\"#0d0887\"],[0.1111111111111111,\"#46039f\"],[0.2222222222222222,\"#7201a8\"],[0.3333333333333333,\"#9c179e\"],[0.4444444444444444,\"#bd3786\"],[0.5555555555555556,\"#d8576b\"],[0.6666666666666666,\"#ed7953\"],[0.7777777777777778,\"#fb9f3a\"],[0.8888888888888888,\"#fdca26\"],[1.0,\"#f0f921\"]],\"type\":\"contour\"}],\"heatmapgl\":[{\"colorbar\":{\"outlinewidth\":0,\"ticks\":\"\"},\"colorscale\":[[0.0,\"#0d0887\"],[0.1111111111111111,\"#46039f\"],[0.2222222222222222,\"#7201a8\"],[0.3333333333333333,\"#9c179e\"],[0.4444444444444444,\"#bd3786\"],[0.5555555555555556,\"#d8576b\"],[0.6666666666666666,\"#ed7953\"],[0.7777777777777778,\"#fb9f3a\"],[0.8888888888888888,\"#fdca26\"],[1.0,\"#f0f921\"]],\"type\":\"heatmapgl\"}],\"heatmap\":[{\"colorbar\":{\"outlinewidth\":0,\"ticks\":\"\"},\"colorscale\":[[0.0,\"#0d0887\"],[0.1111111111111111,\"#46039f\"],[0.2222222222222222,\"#7201a8\"],[0.3333333333333333,\"#9c179e\"],[0.4444444444444444,\"#bd3786\"],[0.5555555555555556,\"#d8576b\"],[0.6666666666666666,\"#ed7953\"],[0.7777777777777778,\"#fb9f3a\"],[0.8888888888888888,\"#fdca26\"],[1.0,\"#f0f921\"]],\"type\":\"heatmap\"}],\"histogram2dcontour\":[{\"colorbar\":{\"outlinewidth\":0,\"ticks\":\"\"},\"colorscale\":[[0.0,\"#0d0887\"],[0.1111111111111111,\"#46039f\"],[0.2222222222222222,\"#7201a8\"],[0.3333333333333333,\"#9c179e\"],[0.4444444444444444,\"#bd3786\"],[0.5555555555555556,\"#d8576b\"],[0.6666666666666666,\"#ed7953\"],[0.7777777777777778,\"#fb9f3a\"],[0.8888888888888888,\"#fdca26\"],[1.0,\"#f0f921\"]],\"type\":\"histogram2dcontour\"}],\"histogram2d\":[{\"colorbar\":{\"outlinewidth\":0,\"ticks\":\"\"},\"colorscale\":[[0.0,\"#0d0887\"],[0.1111111111111111,\"#46039f\"],[0.2222222222222222,\"#7201a8\"],[0.3333333333333333,\"#9c179e\"],[0.4444444444444444,\"#bd3786\"],[0.5555555555555556,\"#d8576b\"],[0.6666666666666666,\"#ed7953\"],[0.7777777777777778,\"#fb9f3a\"],[0.8888888888888888,\"#fdca26\"],[1.0,\"#f0f921\"]],\"type\":\"histogram2d\"}],\"histogram\":[{\"marker\":{\"pattern\":{\"fillmode\":\"overlay\",\"size\":10,\"solidity\":0.2}},\"type\":\"histogram\"}],\"mesh3d\":[{\"colorbar\":{\"outlinewidth\":0,\"ticks\":\"\"},\"type\":\"mesh3d\"}],\"parcoords\":[{\"line\":{\"colorbar\":{\"outlinewidth\":0,\"ticks\":\"\"}},\"type\":\"parcoords\"}],\"pie\":[{\"automargin\":true,\"type\":\"pie\"}],\"scatter3d\":[{\"line\":{\"colorbar\":{\"outlinewidth\":0,\"ticks\":\"\"}},\"marker\":{\"colorbar\":{\"outlinewidth\":0,\"ticks\":\"\"}},\"type\":\"scatter3d\"}],\"scattercarpet\":[{\"marker\":{\"colorbar\":{\"outlinewidth\":0,\"ticks\":\"\"}},\"type\":\"scattercarpet\"}],\"scattergeo\":[{\"marker\":{\"colorbar\":{\"outlinewidth\":0,\"ticks\":\"\"}},\"type\":\"scattergeo\"}],\"scattergl\":[{\"marker\":{\"colorbar\":{\"outlinewidth\":0,\"ticks\":\"\"}},\"type\":\"scattergl\"}],\"scattermapbox\":[{\"marker\":{\"colorbar\":{\"outlinewidth\":0,\"ticks\":\"\"}},\"type\":\"scattermapbox\"}],\"scatterpolargl\":[{\"marker\":{\"colorbar\":{\"outlinewidth\":0,\"ticks\":\"\"}},\"type\":\"scatterpolargl\"}],\"scatterpolar\":[{\"marker\":{\"colorbar\":{\"outlinewidth\":0,\"ticks\":\"\"}},\"type\":\"scatterpolar\"}],\"scatter\":[{\"marker\":{\"colorbar\":{\"outlinewidth\":0,\"ticks\":\"\"}},\"type\":\"scatter\"}],\"scatterternary\":[{\"marker\":{\"colorbar\":{\"outlinewidth\":0,\"ticks\":\"\"}},\"type\":\"scatterternary\"}],\"surface\":[{\"colorbar\":{\"outlinewidth\":0,\"ticks\":\"\"},\"colorscale\":[[0.0,\"#0d0887\"],[0.1111111111111111,\"#46039f\"],[0.2222222222222222,\"#7201a8\"],[0.3333333333333333,\"#9c179e\"],[0.4444444444444444,\"#bd3786\"],[0.5555555555555556,\"#d8576b\"],[0.6666666666666666,\"#ed7953\"],[0.7777777777777778,\"#fb9f3a\"],[0.8888888888888888,\"#fdca26\"],[1.0,\"#f0f921\"]],\"type\":\"surface\"}],\"table\":[{\"cells\":{\"fill\":{\"color\":\"#EBF0F8\"},\"line\":{\"color\":\"white\"}},\"header\":{\"fill\":{\"color\":\"#C8D4E3\"},\"line\":{\"color\":\"white\"}},\"type\":\"table\"}]},\"layout\":{\"annotationdefaults\":{\"arrowcolor\":\"#2a3f5f\",\"arrowhead\":0,\"arrowwidth\":1},\"autotypenumbers\":\"strict\",\"coloraxis\":{\"colorbar\":{\"outlinewidth\":0,\"ticks\":\"\"}},\"colorscale\":{\"diverging\":[[0,\"#8e0152\"],[0.1,\"#c51b7d\"],[0.2,\"#de77ae\"],[0.3,\"#f1b6da\"],[0.4,\"#fde0ef\"],[0.5,\"#f7f7f7\"],[0.6,\"#e6f5d0\"],[0.7,\"#b8e186\"],[0.8,\"#7fbc41\"],[0.9,\"#4d9221\"],[1,\"#276419\"]],\"sequential\":[[0.0,\"#0d0887\"],[0.1111111111111111,\"#46039f\"],[0.2222222222222222,\"#7201a8\"],[0.3333333333333333,\"#9c179e\"],[0.4444444444444444,\"#bd3786\"],[0.5555555555555556,\"#d8576b\"],[0.6666666666666666,\"#ed7953\"],[0.7777777777777778,\"#fb9f3a\"],[0.8888888888888888,\"#fdca26\"],[1.0,\"#f0f921\"]],\"sequentialminus\":[[0.0,\"#0d0887\"],[0.1111111111111111,\"#46039f\"],[0.2222222222222222,\"#7201a8\"],[0.3333333333333333,\"#9c179e\"],[0.4444444444444444,\"#bd3786\"],[0.5555555555555556,\"#d8576b\"],[0.6666666666666666,\"#ed7953\"],[0.7777777777777778,\"#fb9f3a\"],[0.8888888888888888,\"#fdca26\"],[1.0,\"#f0f921\"]]},\"colorway\":[\"#636efa\",\"#EF553B\",\"#00cc96\",\"#ab63fa\",\"#FFA15A\",\"#19d3f3\",\"#FF6692\",\"#B6E880\",\"#FF97FF\",\"#FECB52\"],\"font\":{\"color\":\"#2a3f5f\"},\"geo\":{\"bgcolor\":\"white\",\"lakecolor\":\"white\",\"landcolor\":\"#E5ECF6\",\"showlakes\":true,\"showland\":true,\"subunitcolor\":\"white\"},\"hoverlabel\":{\"align\":\"left\"},\"hovermode\":\"closest\",\"mapbox\":{\"style\":\"light\"},\"paper_bgcolor\":\"white\",\"plot_bgcolor\":\"#E5ECF6\",\"polar\":{\"angularaxis\":{\"gridcolor\":\"white\",\"linecolor\":\"white\",\"ticks\":\"\"},\"bgcolor\":\"#E5ECF6\",\"radialaxis\":{\"gridcolor\":\"white\",\"linecolor\":\"white\",\"ticks\":\"\"}},\"scene\":{\"xaxis\":{\"backgroundcolor\":\"#E5ECF6\",\"gridcolor\":\"white\",\"gridwidth\":2,\"linecolor\":\"white\",\"showbackground\":true,\"ticks\":\"\",\"zerolinecolor\":\"white\"},\"yaxis\":{\"backgroundcolor\":\"#E5ECF6\",\"gridcolor\":\"white\",\"gridwidth\":2,\"linecolor\":\"white\",\"showbackground\":true,\"ticks\":\"\",\"zerolinecolor\":\"white\"},\"zaxis\":{\"backgroundcolor\":\"#E5ECF6\",\"gridcolor\":\"white\",\"gridwidth\":2,\"linecolor\":\"white\",\"showbackground\":true,\"ticks\":\"\",\"zerolinecolor\":\"white\"}},\"shapedefaults\":{\"line\":{\"color\":\"#2a3f5f\"}},\"ternary\":{\"aaxis\":{\"gridcolor\":\"white\",\"linecolor\":\"white\",\"ticks\":\"\"},\"baxis\":{\"gridcolor\":\"white\",\"linecolor\":\"white\",\"ticks\":\"\"},\"bgcolor\":\"#E5ECF6\",\"caxis\":{\"gridcolor\":\"white\",\"linecolor\":\"white\",\"ticks\":\"\"}},\"title\":{\"x\":0.05},\"xaxis\":{\"automargin\":true,\"gridcolor\":\"white\",\"linecolor\":\"white\",\"ticks\":\"\",\"title\":{\"standoff\":15},\"zerolinecolor\":\"white\",\"zerolinewidth\":2},\"yaxis\":{\"automargin\":true,\"gridcolor\":\"white\",\"linecolor\":\"white\",\"ticks\":\"\",\"title\":{\"standoff\":15},\"zerolinecolor\":\"white\",\"zerolinewidth\":2}}},\"title\":{\"font\":{\"color\":\"#4D5663\"}},\"xaxis\":{\"gridcolor\":\"#E1E5ED\",\"showgrid\":true,\"tickfont\":{\"color\":\"#4D5663\"},\"title\":{\"font\":{\"color\":\"#4D5663\"},\"text\":\"\"},\"zerolinecolor\":\"#E1E5ED\"},\"yaxis\":{\"gridcolor\":\"#E1E5ED\",\"showgrid\":true,\"tickfont\":{\"color\":\"#4D5663\"},\"title\":{\"font\":{\"color\":\"#4D5663\"},\"text\":\"\"},\"zerolinecolor\":\"#E1E5ED\"}},                        {\"showLink\": true, \"linkText\": \"Export to plot.ly\", \"plotlyServerURL\": \"https://plot.ly\", \"responsive\": true}                    ).then(function(){\n",
       "                            \n",
       "var gd = document.getElementById('f0cf139f-2fa1-472b-b8cf-7ddf7e7074b1');\n",
       "var x = new MutationObserver(function (mutations, observer) {{\n",
       "        var display = window.getComputedStyle(gd).display;\n",
       "        if (!display || display === 'none') {{\n",
       "            console.log([gd, 'removed!']);\n",
       "            Plotly.purge(gd);\n",
       "            observer.disconnect();\n",
       "        }}\n",
       "}});\n",
       "\n",
       "// Listen for the removal of the full notebook cells\n",
       "var notebookContainer = gd.closest('#notebook-container');\n",
       "if (notebookContainer) {{\n",
       "    x.observe(notebookContainer, {childList: true});\n",
       "}}\n",
       "\n",
       "// Listen for the clearing of the current output cell\n",
       "var outputEl = gd.closest('.output');\n",
       "if (outputEl) {{\n",
       "    x.observe(outputEl, {childList: true});\n",
       "}}\n",
       "\n",
       "                        })                };                });            </script>        </div>"
      ]
     },
     "metadata": {},
     "output_type": "display_data"
    }
   ],
   "source": [
    "df['A'].iplot(kind='hist',bins=25)"
   ]
  },
  {
   "cell_type": "code",
   "execution_count": 22,
   "metadata": {},
   "outputs": [
    {
     "data": {
      "application/vnd.plotly.v1+json": {
       "config": {
        "linkText": "Export to plot.ly",
        "plotlyServerURL": "https://plot.ly",
        "showLink": true
       },
       "data": [
        {
         "marker": {
          "color": [
           "rgb(255, 153, 51)",
           "rgb(55, 128, 191)",
           "rgb(50, 171, 96)",
           "rgb(128, 0, 128)",
           "rgb(219, 64, 82)",
           "rgb(0, 128, 128)",
           "rgb(255, 255, 51)",
           "rgb(128, 128, 0)",
           "rgb(251, 128, 114)",
           "rgb(128, 177, 211)"
          ],
          "line": {
           "width": 1.3
          },
          "size": [
           70,
           53,
           65,
           93,
           78,
           57,
           85,
           60,
           19,
           68,
           55,
           87,
           35,
           57,
           84,
           54,
           103,
           58,
           71,
           52,
           80,
           61,
           51,
           49,
           24,
           87,
           14,
           57,
           41,
           62,
           55,
           86,
           66,
           95,
           50,
           65,
           99,
           64,
           69,
           48,
           44,
           38,
           66,
           77,
           41,
           94,
           85,
           85,
           75,
           56,
           96,
           90,
           94,
           34,
           86,
           72,
           44,
           66,
           96,
           103,
           35,
           55,
           102,
           58,
           91,
           72,
           31,
           48,
           91,
           42,
           12,
           64,
           41,
           79,
           40,
           79,
           112,
           52,
           61,
           82,
           72,
           93,
           42,
           95,
           94,
           77,
           42,
           54,
           84,
           67,
           52,
           38,
           69,
           42,
           67,
           61,
           35,
           74,
           101,
           74
          ],
          "symbol": "circle"
         },
         "mode": "markers",
         "text": "",
         "type": "scatter",
         "x": [
          -0.813094974158615,
          -0.6320677486019147,
          -1.8330180188288216,
          0.30946276649967275,
          -0.34965251460663066,
          0.2541242676005999,
          -1.25409609186406,
          -1.5953824759783306,
          1.209996953723444,
          -0.9031365588388017,
          -0.2528994058951668,
          1.1993671174625855,
          -0.03479382440405025,
          0.3587651949863715,
          -1.1773880168626751,
          0.1882839674798589,
          0.15926856483581273,
          -0.7575700575481089,
          0.5923720816717849,
          -0.43599154580134525,
          -0.40837339303113024,
          -0.47646397111751376,
          -0.4321175598119881,
          -0.4166377903936301,
          0.4465808165690844,
          -2.1124722104004774,
          -0.7168027292736445,
          -1.4687468385877556,
          -0.8552724178550116,
          -0.1833187037760549,
          -0.0516014687726671,
          0.08929624648486419,
          0.283689280140465,
          0.23228257745041886,
          -0.7994824154787796,
          -0.15801600703858176,
          1.6906988519025559,
          -0.14436831923177185,
          -0.8490004432157602,
          0.12606804002629304,
          -1.419783969424822,
          -1.3386672466657163,
          0.1025711857038433,
          -0.17526986520131532,
          1.0322093753670571,
          -0.08573491754076627,
          1.3010216527471408,
          -0.9489028978786285,
          -0.883492332517402,
          -1.2873136726903505,
          0.6479351933755042,
          -0.8376876792340087,
          -0.7386458732355002,
          0.7560364934857938,
          0.6795679333775624,
          0.5918996363507902,
          0.9376426697121171,
          0.2653352431183191,
          1.6579747967261944,
          -1.3355416128149515,
          0.03395533520806284,
          -0.25376231373687164,
          -0.3343846286932071,
          0.947247557239635,
          -0.6079551744162106,
          -0.5752977060081683,
          -0.7890237136747128,
          -0.6587642329116016,
          1.163701930798238,
          0.4606404839325701,
          0.8067944374337038,
          -0.19988432528089134,
          -0.21390856728770027,
          -1.018568825005735,
          -1.9589686543951768,
          0.06068691245208455,
          0.2678907684869432,
          0.03482855608749407,
          -0.38749122105340666,
          -0.5179472276706354,
          0.7704703886351763,
          -0.9890496308856835,
          -0.4756631316399486,
          -0.441569985646899,
          -0.5786339248236021,
          1.2622457440284895,
          -0.3533303731137811,
          0.6127642614441432,
          -0.7507571711907699,
          -0.17145625910104795,
          -1.7199283839683184,
          -0.4694471236015308,
          1.1724720953758947,
          -0.3030314459539039,
          0.7747117018211388,
          0.056886856834242286,
          0.2156621626300678,
          -0.4998451104106444,
          -2.3961426677696873,
          0.4773531183027042
         ],
         "y": [
          -1.810705620303543,
          -0.6009888044223608,
          -0.8699212494722677,
          -0.550534748641092,
          0.4274694755230017,
          0.5985403310571168,
          -0.12188328873954034,
          0.4356412141803811,
          0.23677802285309477,
          -1.0316199459958797,
          -1.4119914497327224,
          0.42286751614288964,
          0.6899228786876435,
          -0.3304895135271398,
          1.0199569861773699,
          -0.07452470268944116,
          0.5179123635617616,
          0.7212504056693066,
          1.0568220483539346,
          -0.6329714821783978,
          -0.7729734925590904,
          0.04611373216482665,
          -1.662473515264781,
          0.36338256207965686,
          -0.5503816776380241,
          -2.7322601519765075,
          -1.6113440120570792,
          0.906382094929108,
          0.4735390415891768,
          -0.975263135435076,
          1.588411990779888,
          -2.0768510538923963,
          -1.4231799460959853,
          0.6882644752812591,
          -0.4998480033947634,
          -0.496656394151241,
          -0.4835208859489081,
          -1.8816807499555739,
          0.7719794078507218,
          -0.5139045194391917,
          -1.639215382625045,
          0.40602339946612515,
          2.298972143667528,
          0.11505047736262437,
          0.7005717751962709,
          0.4855307624973052,
          -1.0177172990318302,
          0.4840449889903183,
          -0.7194660638209635,
          -1.2300432610286793,
          -1.3701879756614934,
          -4.671017883589642,
          -1.184275158102963,
          0.39666942539920347,
          -2.226632808899658,
          1.3015642154390656,
          -1.782868004198849,
          2.1247188152382463,
          0.15797693140612953,
          1.8613288779523205,
          -1.7063050375534852,
          1.5331352666503193,
          0.5163164019441416,
          0.21032973058063056,
          -0.7984519380720064,
          1.1289791275584007,
          -0.2821710024131168,
          -0.7397400754627164,
          -0.08853754898509787,
          0.5618092496862193,
          -0.27172333726221837,
          0.1763089843781587,
          -0.36412102130108454,
          2.282272289168112,
          -0.9838235969987101,
          0.4803009506491444,
          1.3445668968174393,
          -0.2172825367000398,
          0.031868623818376185,
          0.7387689037046977,
          1.9125877271166336,
          1.0787847269804158,
          0.3197886159287113,
          0.10733866289906828,
          0.050774236411273876,
          -0.48259031053099,
          0.4489969178285034,
          -0.27393513534568964,
          -1.3236830680290488,
          -0.4724755544055852,
          1.0766300535114623,
          2.005792322169697,
          -1.5314592912873237,
          0.05121594255874584,
          0.27667231651744467,
          1.167398410424178,
          0.3884694404010253,
          -0.27529328081680393,
          0.9988939005905673,
          -0.3363810223756748
         ]
        }
       ],
       "layout": {
        "legend": {
         "bgcolor": "#F5F6F9",
         "font": {
          "color": "#4D5663"
         }
        },
        "paper_bgcolor": "#F5F6F9",
        "plot_bgcolor": "#F5F6F9",
        "template": {
         "data": {
          "bar": [
           {
            "error_x": {
             "color": "#2a3f5f"
            },
            "error_y": {
             "color": "#2a3f5f"
            },
            "marker": {
             "line": {
              "color": "#E5ECF6",
              "width": 0.5
             },
             "pattern": {
              "fillmode": "overlay",
              "size": 10,
              "solidity": 0.2
             }
            },
            "type": "bar"
           }
          ],
          "barpolar": [
           {
            "marker": {
             "line": {
              "color": "#E5ECF6",
              "width": 0.5
             },
             "pattern": {
              "fillmode": "overlay",
              "size": 10,
              "solidity": 0.2
             }
            },
            "type": "barpolar"
           }
          ],
          "carpet": [
           {
            "aaxis": {
             "endlinecolor": "#2a3f5f",
             "gridcolor": "white",
             "linecolor": "white",
             "minorgridcolor": "white",
             "startlinecolor": "#2a3f5f"
            },
            "baxis": {
             "endlinecolor": "#2a3f5f",
             "gridcolor": "white",
             "linecolor": "white",
             "minorgridcolor": "white",
             "startlinecolor": "#2a3f5f"
            },
            "type": "carpet"
           }
          ],
          "choropleth": [
           {
            "colorbar": {
             "outlinewidth": 0,
             "ticks": ""
            },
            "type": "choropleth"
           }
          ],
          "contour": [
           {
            "colorbar": {
             "outlinewidth": 0,
             "ticks": ""
            },
            "colorscale": [
             [
              0,
              "#0d0887"
             ],
             [
              0.1111111111111111,
              "#46039f"
             ],
             [
              0.2222222222222222,
              "#7201a8"
             ],
             [
              0.3333333333333333,
              "#9c179e"
             ],
             [
              0.4444444444444444,
              "#bd3786"
             ],
             [
              0.5555555555555556,
              "#d8576b"
             ],
             [
              0.6666666666666666,
              "#ed7953"
             ],
             [
              0.7777777777777778,
              "#fb9f3a"
             ],
             [
              0.8888888888888888,
              "#fdca26"
             ],
             [
              1,
              "#f0f921"
             ]
            ],
            "type": "contour"
           }
          ],
          "contourcarpet": [
           {
            "colorbar": {
             "outlinewidth": 0,
             "ticks": ""
            },
            "type": "contourcarpet"
           }
          ],
          "heatmap": [
           {
            "colorbar": {
             "outlinewidth": 0,
             "ticks": ""
            },
            "colorscale": [
             [
              0,
              "#0d0887"
             ],
             [
              0.1111111111111111,
              "#46039f"
             ],
             [
              0.2222222222222222,
              "#7201a8"
             ],
             [
              0.3333333333333333,
              "#9c179e"
             ],
             [
              0.4444444444444444,
              "#bd3786"
             ],
             [
              0.5555555555555556,
              "#d8576b"
             ],
             [
              0.6666666666666666,
              "#ed7953"
             ],
             [
              0.7777777777777778,
              "#fb9f3a"
             ],
             [
              0.8888888888888888,
              "#fdca26"
             ],
             [
              1,
              "#f0f921"
             ]
            ],
            "type": "heatmap"
           }
          ],
          "heatmapgl": [
           {
            "colorbar": {
             "outlinewidth": 0,
             "ticks": ""
            },
            "colorscale": [
             [
              0,
              "#0d0887"
             ],
             [
              0.1111111111111111,
              "#46039f"
             ],
             [
              0.2222222222222222,
              "#7201a8"
             ],
             [
              0.3333333333333333,
              "#9c179e"
             ],
             [
              0.4444444444444444,
              "#bd3786"
             ],
             [
              0.5555555555555556,
              "#d8576b"
             ],
             [
              0.6666666666666666,
              "#ed7953"
             ],
             [
              0.7777777777777778,
              "#fb9f3a"
             ],
             [
              0.8888888888888888,
              "#fdca26"
             ],
             [
              1,
              "#f0f921"
             ]
            ],
            "type": "heatmapgl"
           }
          ],
          "histogram": [
           {
            "marker": {
             "pattern": {
              "fillmode": "overlay",
              "size": 10,
              "solidity": 0.2
             }
            },
            "type": "histogram"
           }
          ],
          "histogram2d": [
           {
            "colorbar": {
             "outlinewidth": 0,
             "ticks": ""
            },
            "colorscale": [
             [
              0,
              "#0d0887"
             ],
             [
              0.1111111111111111,
              "#46039f"
             ],
             [
              0.2222222222222222,
              "#7201a8"
             ],
             [
              0.3333333333333333,
              "#9c179e"
             ],
             [
              0.4444444444444444,
              "#bd3786"
             ],
             [
              0.5555555555555556,
              "#d8576b"
             ],
             [
              0.6666666666666666,
              "#ed7953"
             ],
             [
              0.7777777777777778,
              "#fb9f3a"
             ],
             [
              0.8888888888888888,
              "#fdca26"
             ],
             [
              1,
              "#f0f921"
             ]
            ],
            "type": "histogram2d"
           }
          ],
          "histogram2dcontour": [
           {
            "colorbar": {
             "outlinewidth": 0,
             "ticks": ""
            },
            "colorscale": [
             [
              0,
              "#0d0887"
             ],
             [
              0.1111111111111111,
              "#46039f"
             ],
             [
              0.2222222222222222,
              "#7201a8"
             ],
             [
              0.3333333333333333,
              "#9c179e"
             ],
             [
              0.4444444444444444,
              "#bd3786"
             ],
             [
              0.5555555555555556,
              "#d8576b"
             ],
             [
              0.6666666666666666,
              "#ed7953"
             ],
             [
              0.7777777777777778,
              "#fb9f3a"
             ],
             [
              0.8888888888888888,
              "#fdca26"
             ],
             [
              1,
              "#f0f921"
             ]
            ],
            "type": "histogram2dcontour"
           }
          ],
          "mesh3d": [
           {
            "colorbar": {
             "outlinewidth": 0,
             "ticks": ""
            },
            "type": "mesh3d"
           }
          ],
          "parcoords": [
           {
            "line": {
             "colorbar": {
              "outlinewidth": 0,
              "ticks": ""
             }
            },
            "type": "parcoords"
           }
          ],
          "pie": [
           {
            "automargin": true,
            "type": "pie"
           }
          ],
          "scatter": [
           {
            "marker": {
             "colorbar": {
              "outlinewidth": 0,
              "ticks": ""
             }
            },
            "type": "scatter"
           }
          ],
          "scatter3d": [
           {
            "line": {
             "colorbar": {
              "outlinewidth": 0,
              "ticks": ""
             }
            },
            "marker": {
             "colorbar": {
              "outlinewidth": 0,
              "ticks": ""
             }
            },
            "type": "scatter3d"
           }
          ],
          "scattercarpet": [
           {
            "marker": {
             "colorbar": {
              "outlinewidth": 0,
              "ticks": ""
             }
            },
            "type": "scattercarpet"
           }
          ],
          "scattergeo": [
           {
            "marker": {
             "colorbar": {
              "outlinewidth": 0,
              "ticks": ""
             }
            },
            "type": "scattergeo"
           }
          ],
          "scattergl": [
           {
            "marker": {
             "colorbar": {
              "outlinewidth": 0,
              "ticks": ""
             }
            },
            "type": "scattergl"
           }
          ],
          "scattermapbox": [
           {
            "marker": {
             "colorbar": {
              "outlinewidth": 0,
              "ticks": ""
             }
            },
            "type": "scattermapbox"
           }
          ],
          "scatterpolar": [
           {
            "marker": {
             "colorbar": {
              "outlinewidth": 0,
              "ticks": ""
             }
            },
            "type": "scatterpolar"
           }
          ],
          "scatterpolargl": [
           {
            "marker": {
             "colorbar": {
              "outlinewidth": 0,
              "ticks": ""
             }
            },
            "type": "scatterpolargl"
           }
          ],
          "scatterternary": [
           {
            "marker": {
             "colorbar": {
              "outlinewidth": 0,
              "ticks": ""
             }
            },
            "type": "scatterternary"
           }
          ],
          "surface": [
           {
            "colorbar": {
             "outlinewidth": 0,
             "ticks": ""
            },
            "colorscale": [
             [
              0,
              "#0d0887"
             ],
             [
              0.1111111111111111,
              "#46039f"
             ],
             [
              0.2222222222222222,
              "#7201a8"
             ],
             [
              0.3333333333333333,
              "#9c179e"
             ],
             [
              0.4444444444444444,
              "#bd3786"
             ],
             [
              0.5555555555555556,
              "#d8576b"
             ],
             [
              0.6666666666666666,
              "#ed7953"
             ],
             [
              0.7777777777777778,
              "#fb9f3a"
             ],
             [
              0.8888888888888888,
              "#fdca26"
             ],
             [
              1,
              "#f0f921"
             ]
            ],
            "type": "surface"
           }
          ],
          "table": [
           {
            "cells": {
             "fill": {
              "color": "#EBF0F8"
             },
             "line": {
              "color": "white"
             }
            },
            "header": {
             "fill": {
              "color": "#C8D4E3"
             },
             "line": {
              "color": "white"
             }
            },
            "type": "table"
           }
          ]
         },
         "layout": {
          "annotationdefaults": {
           "arrowcolor": "#2a3f5f",
           "arrowhead": 0,
           "arrowwidth": 1
          },
          "autotypenumbers": "strict",
          "coloraxis": {
           "colorbar": {
            "outlinewidth": 0,
            "ticks": ""
           }
          },
          "colorscale": {
           "diverging": [
            [
             0,
             "#8e0152"
            ],
            [
             0.1,
             "#c51b7d"
            ],
            [
             0.2,
             "#de77ae"
            ],
            [
             0.3,
             "#f1b6da"
            ],
            [
             0.4,
             "#fde0ef"
            ],
            [
             0.5,
             "#f7f7f7"
            ],
            [
             0.6,
             "#e6f5d0"
            ],
            [
             0.7,
             "#b8e186"
            ],
            [
             0.8,
             "#7fbc41"
            ],
            [
             0.9,
             "#4d9221"
            ],
            [
             1,
             "#276419"
            ]
           ],
           "sequential": [
            [
             0,
             "#0d0887"
            ],
            [
             0.1111111111111111,
             "#46039f"
            ],
            [
             0.2222222222222222,
             "#7201a8"
            ],
            [
             0.3333333333333333,
             "#9c179e"
            ],
            [
             0.4444444444444444,
             "#bd3786"
            ],
            [
             0.5555555555555556,
             "#d8576b"
            ],
            [
             0.6666666666666666,
             "#ed7953"
            ],
            [
             0.7777777777777778,
             "#fb9f3a"
            ],
            [
             0.8888888888888888,
             "#fdca26"
            ],
            [
             1,
             "#f0f921"
            ]
           ],
           "sequentialminus": [
            [
             0,
             "#0d0887"
            ],
            [
             0.1111111111111111,
             "#46039f"
            ],
            [
             0.2222222222222222,
             "#7201a8"
            ],
            [
             0.3333333333333333,
             "#9c179e"
            ],
            [
             0.4444444444444444,
             "#bd3786"
            ],
            [
             0.5555555555555556,
             "#d8576b"
            ],
            [
             0.6666666666666666,
             "#ed7953"
            ],
            [
             0.7777777777777778,
             "#fb9f3a"
            ],
            [
             0.8888888888888888,
             "#fdca26"
            ],
            [
             1,
             "#f0f921"
            ]
           ]
          },
          "colorway": [
           "#636efa",
           "#EF553B",
           "#00cc96",
           "#ab63fa",
           "#FFA15A",
           "#19d3f3",
           "#FF6692",
           "#B6E880",
           "#FF97FF",
           "#FECB52"
          ],
          "font": {
           "color": "#2a3f5f"
          },
          "geo": {
           "bgcolor": "white",
           "lakecolor": "white",
           "landcolor": "#E5ECF6",
           "showlakes": true,
           "showland": true,
           "subunitcolor": "white"
          },
          "hoverlabel": {
           "align": "left"
          },
          "hovermode": "closest",
          "mapbox": {
           "style": "light"
          },
          "paper_bgcolor": "white",
          "plot_bgcolor": "#E5ECF6",
          "polar": {
           "angularaxis": {
            "gridcolor": "white",
            "linecolor": "white",
            "ticks": ""
           },
           "bgcolor": "#E5ECF6",
           "radialaxis": {
            "gridcolor": "white",
            "linecolor": "white",
            "ticks": ""
           }
          },
          "scene": {
           "xaxis": {
            "backgroundcolor": "#E5ECF6",
            "gridcolor": "white",
            "gridwidth": 2,
            "linecolor": "white",
            "showbackground": true,
            "ticks": "",
            "zerolinecolor": "white"
           },
           "yaxis": {
            "backgroundcolor": "#E5ECF6",
            "gridcolor": "white",
            "gridwidth": 2,
            "linecolor": "white",
            "showbackground": true,
            "ticks": "",
            "zerolinecolor": "white"
           },
           "zaxis": {
            "backgroundcolor": "#E5ECF6",
            "gridcolor": "white",
            "gridwidth": 2,
            "linecolor": "white",
            "showbackground": true,
            "ticks": "",
            "zerolinecolor": "white"
           }
          },
          "shapedefaults": {
           "line": {
            "color": "#2a3f5f"
           }
          },
          "ternary": {
           "aaxis": {
            "gridcolor": "white",
            "linecolor": "white",
            "ticks": ""
           },
           "baxis": {
            "gridcolor": "white",
            "linecolor": "white",
            "ticks": ""
           },
           "bgcolor": "#E5ECF6",
           "caxis": {
            "gridcolor": "white",
            "linecolor": "white",
            "ticks": ""
           }
          },
          "title": {
           "x": 0.05
          },
          "xaxis": {
           "automargin": true,
           "gridcolor": "white",
           "linecolor": "white",
           "ticks": "",
           "title": {
            "standoff": 15
           },
           "zerolinecolor": "white",
           "zerolinewidth": 2
          },
          "yaxis": {
           "automargin": true,
           "gridcolor": "white",
           "linecolor": "white",
           "ticks": "",
           "title": {
            "standoff": 15
           },
           "zerolinecolor": "white",
           "zerolinewidth": 2
          }
         }
        },
        "title": {
         "font": {
          "color": "#4D5663"
         }
        },
        "xaxis": {
         "gridcolor": "#E1E5ED",
         "showgrid": true,
         "tickfont": {
          "color": "#4D5663"
         },
         "title": {
          "font": {
           "color": "#4D5663"
          },
          "text": ""
         },
         "zerolinecolor": "#E1E5ED"
        },
        "yaxis": {
         "gridcolor": "#E1E5ED",
         "showgrid": true,
         "tickfont": {
          "color": "#4D5663"
         },
         "title": {
          "font": {
           "color": "#4D5663"
          },
          "text": ""
         },
         "zerolinecolor": "#E1E5ED"
        }
       }
      },
      "text/html": [
       "<div>                            <div id=\"6c677c9b-304b-405d-b44d-07d0f02c3603\" class=\"plotly-graph-div\" style=\"height:525px; width:100%;\"></div>            <script type=\"text/javascript\">                require([\"plotly\"], function(Plotly) {                    window.PLOTLYENV=window.PLOTLYENV || {};\n",
       "                    window.PLOTLYENV.BASE_URL='https://plot.ly';                                    if (document.getElementById(\"6c677c9b-304b-405d-b44d-07d0f02c3603\")) {                    Plotly.newPlot(                        \"6c677c9b-304b-405d-b44d-07d0f02c3603\",                        [{\"marker\":{\"color\":[\"rgb(255, 153, 51)\",\"rgb(55, 128, 191)\",\"rgb(50, 171, 96)\",\"rgb(128, 0, 128)\",\"rgb(219, 64, 82)\",\"rgb(0, 128, 128)\",\"rgb(255, 255, 51)\",\"rgb(128, 128, 0)\",\"rgb(251, 128, 114)\",\"rgb(128, 177, 211)\"],\"line\":{\"width\":1.3},\"size\":[70,53,65,93,78,57,85,60,19,68,55,87,35,57,84,54,103,58,71,52,80,61,51,49,24,87,14,57,41,62,55,86,66,95,50,65,99,64,69,48,44,38,66,77,41,94,85,85,75,56,96,90,94,34,86,72,44,66,96,103,35,55,102,58,91,72,31,48,91,42,12,64,41,79,40,79,112,52,61,82,72,93,42,95,94,77,42,54,84,67,52,38,69,42,67,61,35,74,101,74],\"symbol\":\"circle\"},\"mode\":\"markers\",\"text\":\"\",\"x\":[-0.813094974158615,-0.6320677486019147,-1.8330180188288216,0.30946276649967275,-0.34965251460663066,0.2541242676005999,-1.25409609186406,-1.5953824759783306,1.209996953723444,-0.9031365588388017,-0.2528994058951668,1.1993671174625855,-0.03479382440405025,0.3587651949863715,-1.1773880168626751,0.1882839674798589,0.15926856483581273,-0.7575700575481089,0.5923720816717849,-0.43599154580134525,-0.40837339303113024,-0.47646397111751376,-0.4321175598119881,-0.4166377903936301,0.4465808165690844,-2.1124722104004774,-0.7168027292736445,-1.4687468385877556,-0.8552724178550116,-0.1833187037760549,-0.0516014687726671,0.08929624648486419,0.283689280140465,0.23228257745041886,-0.7994824154787796,-0.15801600703858176,1.6906988519025559,-0.14436831923177185,-0.8490004432157602,0.12606804002629304,-1.419783969424822,-1.3386672466657163,0.1025711857038433,-0.17526986520131532,1.0322093753670571,-0.08573491754076627,1.3010216527471408,-0.9489028978786285,-0.883492332517402,-1.2873136726903505,0.6479351933755042,-0.8376876792340087,-0.7386458732355002,0.7560364934857938,0.6795679333775624,0.5918996363507902,0.9376426697121171,0.2653352431183191,1.6579747967261944,-1.3355416128149515,0.03395533520806284,-0.25376231373687164,-0.3343846286932071,0.947247557239635,-0.6079551744162106,-0.5752977060081683,-0.7890237136747128,-0.6587642329116016,1.163701930798238,0.4606404839325701,0.8067944374337038,-0.19988432528089134,-0.21390856728770027,-1.018568825005735,-1.9589686543951768,0.06068691245208455,0.2678907684869432,0.03482855608749407,-0.38749122105340666,-0.5179472276706354,0.7704703886351763,-0.9890496308856835,-0.4756631316399486,-0.441569985646899,-0.5786339248236021,1.2622457440284895,-0.3533303731137811,0.6127642614441432,-0.7507571711907699,-0.17145625910104795,-1.7199283839683184,-0.4694471236015308,1.1724720953758947,-0.3030314459539039,0.7747117018211388,0.056886856834242286,0.2156621626300678,-0.4998451104106444,-2.3961426677696873,0.4773531183027042],\"y\":[-1.810705620303543,-0.6009888044223608,-0.8699212494722677,-0.550534748641092,0.4274694755230017,0.5985403310571168,-0.12188328873954034,0.4356412141803811,0.23677802285309477,-1.0316199459958797,-1.4119914497327224,0.42286751614288964,0.6899228786876435,-0.3304895135271398,1.0199569861773699,-0.07452470268944116,0.5179123635617616,0.7212504056693066,1.0568220483539346,-0.6329714821783978,-0.7729734925590904,0.04611373216482665,-1.662473515264781,0.36338256207965686,-0.5503816776380241,-2.7322601519765075,-1.6113440120570792,0.906382094929108,0.4735390415891768,-0.975263135435076,1.588411990779888,-2.0768510538923963,-1.4231799460959853,0.6882644752812591,-0.4998480033947634,-0.496656394151241,-0.4835208859489081,-1.8816807499555739,0.7719794078507218,-0.5139045194391917,-1.639215382625045,0.40602339946612515,2.298972143667528,0.11505047736262437,0.7005717751962709,0.4855307624973052,-1.0177172990318302,0.4840449889903183,-0.7194660638209635,-1.2300432610286793,-1.3701879756614934,-4.671017883589642,-1.184275158102963,0.39666942539920347,-2.226632808899658,1.3015642154390656,-1.782868004198849,2.1247188152382463,0.15797693140612953,1.8613288779523205,-1.7063050375534852,1.5331352666503193,0.5163164019441416,0.21032973058063056,-0.7984519380720064,1.1289791275584007,-0.2821710024131168,-0.7397400754627164,-0.08853754898509787,0.5618092496862193,-0.27172333726221837,0.1763089843781587,-0.36412102130108454,2.282272289168112,-0.9838235969987101,0.4803009506491444,1.3445668968174393,-0.2172825367000398,0.031868623818376185,0.7387689037046977,1.9125877271166336,1.0787847269804158,0.3197886159287113,0.10733866289906828,0.050774236411273876,-0.48259031053099,0.4489969178285034,-0.27393513534568964,-1.3236830680290488,-0.4724755544055852,1.0766300535114623,2.005792322169697,-1.5314592912873237,0.05121594255874584,0.27667231651744467,1.167398410424178,0.3884694404010253,-0.27529328081680393,0.9988939005905673,-0.3363810223756748],\"type\":\"scatter\"}],                        {\"legend\":{\"bgcolor\":\"#F5F6F9\",\"font\":{\"color\":\"#4D5663\"}},\"paper_bgcolor\":\"#F5F6F9\",\"plot_bgcolor\":\"#F5F6F9\",\"template\":{\"data\":{\"barpolar\":[{\"marker\":{\"line\":{\"color\":\"#E5ECF6\",\"width\":0.5},\"pattern\":{\"fillmode\":\"overlay\",\"size\":10,\"solidity\":0.2}},\"type\":\"barpolar\"}],\"bar\":[{\"error_x\":{\"color\":\"#2a3f5f\"},\"error_y\":{\"color\":\"#2a3f5f\"},\"marker\":{\"line\":{\"color\":\"#E5ECF6\",\"width\":0.5},\"pattern\":{\"fillmode\":\"overlay\",\"size\":10,\"solidity\":0.2}},\"type\":\"bar\"}],\"carpet\":[{\"aaxis\":{\"endlinecolor\":\"#2a3f5f\",\"gridcolor\":\"white\",\"linecolor\":\"white\",\"minorgridcolor\":\"white\",\"startlinecolor\":\"#2a3f5f\"},\"baxis\":{\"endlinecolor\":\"#2a3f5f\",\"gridcolor\":\"white\",\"linecolor\":\"white\",\"minorgridcolor\":\"white\",\"startlinecolor\":\"#2a3f5f\"},\"type\":\"carpet\"}],\"choropleth\":[{\"colorbar\":{\"outlinewidth\":0,\"ticks\":\"\"},\"type\":\"choropleth\"}],\"contourcarpet\":[{\"colorbar\":{\"outlinewidth\":0,\"ticks\":\"\"},\"type\":\"contourcarpet\"}],\"contour\":[{\"colorbar\":{\"outlinewidth\":0,\"ticks\":\"\"},\"colorscale\":[[0.0,\"#0d0887\"],[0.1111111111111111,\"#46039f\"],[0.2222222222222222,\"#7201a8\"],[0.3333333333333333,\"#9c179e\"],[0.4444444444444444,\"#bd3786\"],[0.5555555555555556,\"#d8576b\"],[0.6666666666666666,\"#ed7953\"],[0.7777777777777778,\"#fb9f3a\"],[0.8888888888888888,\"#fdca26\"],[1.0,\"#f0f921\"]],\"type\":\"contour\"}],\"heatmapgl\":[{\"colorbar\":{\"outlinewidth\":0,\"ticks\":\"\"},\"colorscale\":[[0.0,\"#0d0887\"],[0.1111111111111111,\"#46039f\"],[0.2222222222222222,\"#7201a8\"],[0.3333333333333333,\"#9c179e\"],[0.4444444444444444,\"#bd3786\"],[0.5555555555555556,\"#d8576b\"],[0.6666666666666666,\"#ed7953\"],[0.7777777777777778,\"#fb9f3a\"],[0.8888888888888888,\"#fdca26\"],[1.0,\"#f0f921\"]],\"type\":\"heatmapgl\"}],\"heatmap\":[{\"colorbar\":{\"outlinewidth\":0,\"ticks\":\"\"},\"colorscale\":[[0.0,\"#0d0887\"],[0.1111111111111111,\"#46039f\"],[0.2222222222222222,\"#7201a8\"],[0.3333333333333333,\"#9c179e\"],[0.4444444444444444,\"#bd3786\"],[0.5555555555555556,\"#d8576b\"],[0.6666666666666666,\"#ed7953\"],[0.7777777777777778,\"#fb9f3a\"],[0.8888888888888888,\"#fdca26\"],[1.0,\"#f0f921\"]],\"type\":\"heatmap\"}],\"histogram2dcontour\":[{\"colorbar\":{\"outlinewidth\":0,\"ticks\":\"\"},\"colorscale\":[[0.0,\"#0d0887\"],[0.1111111111111111,\"#46039f\"],[0.2222222222222222,\"#7201a8\"],[0.3333333333333333,\"#9c179e\"],[0.4444444444444444,\"#bd3786\"],[0.5555555555555556,\"#d8576b\"],[0.6666666666666666,\"#ed7953\"],[0.7777777777777778,\"#fb9f3a\"],[0.8888888888888888,\"#fdca26\"],[1.0,\"#f0f921\"]],\"type\":\"histogram2dcontour\"}],\"histogram2d\":[{\"colorbar\":{\"outlinewidth\":0,\"ticks\":\"\"},\"colorscale\":[[0.0,\"#0d0887\"],[0.1111111111111111,\"#46039f\"],[0.2222222222222222,\"#7201a8\"],[0.3333333333333333,\"#9c179e\"],[0.4444444444444444,\"#bd3786\"],[0.5555555555555556,\"#d8576b\"],[0.6666666666666666,\"#ed7953\"],[0.7777777777777778,\"#fb9f3a\"],[0.8888888888888888,\"#fdca26\"],[1.0,\"#f0f921\"]],\"type\":\"histogram2d\"}],\"histogram\":[{\"marker\":{\"pattern\":{\"fillmode\":\"overlay\",\"size\":10,\"solidity\":0.2}},\"type\":\"histogram\"}],\"mesh3d\":[{\"colorbar\":{\"outlinewidth\":0,\"ticks\":\"\"},\"type\":\"mesh3d\"}],\"parcoords\":[{\"line\":{\"colorbar\":{\"outlinewidth\":0,\"ticks\":\"\"}},\"type\":\"parcoords\"}],\"pie\":[{\"automargin\":true,\"type\":\"pie\"}],\"scatter3d\":[{\"line\":{\"colorbar\":{\"outlinewidth\":0,\"ticks\":\"\"}},\"marker\":{\"colorbar\":{\"outlinewidth\":0,\"ticks\":\"\"}},\"type\":\"scatter3d\"}],\"scattercarpet\":[{\"marker\":{\"colorbar\":{\"outlinewidth\":0,\"ticks\":\"\"}},\"type\":\"scattercarpet\"}],\"scattergeo\":[{\"marker\":{\"colorbar\":{\"outlinewidth\":0,\"ticks\":\"\"}},\"type\":\"scattergeo\"}],\"scattergl\":[{\"marker\":{\"colorbar\":{\"outlinewidth\":0,\"ticks\":\"\"}},\"type\":\"scattergl\"}],\"scattermapbox\":[{\"marker\":{\"colorbar\":{\"outlinewidth\":0,\"ticks\":\"\"}},\"type\":\"scattermapbox\"}],\"scatterpolargl\":[{\"marker\":{\"colorbar\":{\"outlinewidth\":0,\"ticks\":\"\"}},\"type\":\"scatterpolargl\"}],\"scatterpolar\":[{\"marker\":{\"colorbar\":{\"outlinewidth\":0,\"ticks\":\"\"}},\"type\":\"scatterpolar\"}],\"scatter\":[{\"marker\":{\"colorbar\":{\"outlinewidth\":0,\"ticks\":\"\"}},\"type\":\"scatter\"}],\"scatterternary\":[{\"marker\":{\"colorbar\":{\"outlinewidth\":0,\"ticks\":\"\"}},\"type\":\"scatterternary\"}],\"surface\":[{\"colorbar\":{\"outlinewidth\":0,\"ticks\":\"\"},\"colorscale\":[[0.0,\"#0d0887\"],[0.1111111111111111,\"#46039f\"],[0.2222222222222222,\"#7201a8\"],[0.3333333333333333,\"#9c179e\"],[0.4444444444444444,\"#bd3786\"],[0.5555555555555556,\"#d8576b\"],[0.6666666666666666,\"#ed7953\"],[0.7777777777777778,\"#fb9f3a\"],[0.8888888888888888,\"#fdca26\"],[1.0,\"#f0f921\"]],\"type\":\"surface\"}],\"table\":[{\"cells\":{\"fill\":{\"color\":\"#EBF0F8\"},\"line\":{\"color\":\"white\"}},\"header\":{\"fill\":{\"color\":\"#C8D4E3\"},\"line\":{\"color\":\"white\"}},\"type\":\"table\"}]},\"layout\":{\"annotationdefaults\":{\"arrowcolor\":\"#2a3f5f\",\"arrowhead\":0,\"arrowwidth\":1},\"autotypenumbers\":\"strict\",\"coloraxis\":{\"colorbar\":{\"outlinewidth\":0,\"ticks\":\"\"}},\"colorscale\":{\"diverging\":[[0,\"#8e0152\"],[0.1,\"#c51b7d\"],[0.2,\"#de77ae\"],[0.3,\"#f1b6da\"],[0.4,\"#fde0ef\"],[0.5,\"#f7f7f7\"],[0.6,\"#e6f5d0\"],[0.7,\"#b8e186\"],[0.8,\"#7fbc41\"],[0.9,\"#4d9221\"],[1,\"#276419\"]],\"sequential\":[[0.0,\"#0d0887\"],[0.1111111111111111,\"#46039f\"],[0.2222222222222222,\"#7201a8\"],[0.3333333333333333,\"#9c179e\"],[0.4444444444444444,\"#bd3786\"],[0.5555555555555556,\"#d8576b\"],[0.6666666666666666,\"#ed7953\"],[0.7777777777777778,\"#fb9f3a\"],[0.8888888888888888,\"#fdca26\"],[1.0,\"#f0f921\"]],\"sequentialminus\":[[0.0,\"#0d0887\"],[0.1111111111111111,\"#46039f\"],[0.2222222222222222,\"#7201a8\"],[0.3333333333333333,\"#9c179e\"],[0.4444444444444444,\"#bd3786\"],[0.5555555555555556,\"#d8576b\"],[0.6666666666666666,\"#ed7953\"],[0.7777777777777778,\"#fb9f3a\"],[0.8888888888888888,\"#fdca26\"],[1.0,\"#f0f921\"]]},\"colorway\":[\"#636efa\",\"#EF553B\",\"#00cc96\",\"#ab63fa\",\"#FFA15A\",\"#19d3f3\",\"#FF6692\",\"#B6E880\",\"#FF97FF\",\"#FECB52\"],\"font\":{\"color\":\"#2a3f5f\"},\"geo\":{\"bgcolor\":\"white\",\"lakecolor\":\"white\",\"landcolor\":\"#E5ECF6\",\"showlakes\":true,\"showland\":true,\"subunitcolor\":\"white\"},\"hoverlabel\":{\"align\":\"left\"},\"hovermode\":\"closest\",\"mapbox\":{\"style\":\"light\"},\"paper_bgcolor\":\"white\",\"plot_bgcolor\":\"#E5ECF6\",\"polar\":{\"angularaxis\":{\"gridcolor\":\"white\",\"linecolor\":\"white\",\"ticks\":\"\"},\"bgcolor\":\"#E5ECF6\",\"radialaxis\":{\"gridcolor\":\"white\",\"linecolor\":\"white\",\"ticks\":\"\"}},\"scene\":{\"xaxis\":{\"backgroundcolor\":\"#E5ECF6\",\"gridcolor\":\"white\",\"gridwidth\":2,\"linecolor\":\"white\",\"showbackground\":true,\"ticks\":\"\",\"zerolinecolor\":\"white\"},\"yaxis\":{\"backgroundcolor\":\"#E5ECF6\",\"gridcolor\":\"white\",\"gridwidth\":2,\"linecolor\":\"white\",\"showbackground\":true,\"ticks\":\"\",\"zerolinecolor\":\"white\"},\"zaxis\":{\"backgroundcolor\":\"#E5ECF6\",\"gridcolor\":\"white\",\"gridwidth\":2,\"linecolor\":\"white\",\"showbackground\":true,\"ticks\":\"\",\"zerolinecolor\":\"white\"}},\"shapedefaults\":{\"line\":{\"color\":\"#2a3f5f\"}},\"ternary\":{\"aaxis\":{\"gridcolor\":\"white\",\"linecolor\":\"white\",\"ticks\":\"\"},\"baxis\":{\"gridcolor\":\"white\",\"linecolor\":\"white\",\"ticks\":\"\"},\"bgcolor\":\"#E5ECF6\",\"caxis\":{\"gridcolor\":\"white\",\"linecolor\":\"white\",\"ticks\":\"\"}},\"title\":{\"x\":0.05},\"xaxis\":{\"automargin\":true,\"gridcolor\":\"white\",\"linecolor\":\"white\",\"ticks\":\"\",\"title\":{\"standoff\":15},\"zerolinecolor\":\"white\",\"zerolinewidth\":2},\"yaxis\":{\"automargin\":true,\"gridcolor\":\"white\",\"linecolor\":\"white\",\"ticks\":\"\",\"title\":{\"standoff\":15},\"zerolinecolor\":\"white\",\"zerolinewidth\":2}}},\"title\":{\"font\":{\"color\":\"#4D5663\"}},\"xaxis\":{\"gridcolor\":\"#E1E5ED\",\"showgrid\":true,\"tickfont\":{\"color\":\"#4D5663\"},\"title\":{\"font\":{\"color\":\"#4D5663\"},\"text\":\"\"},\"zerolinecolor\":\"#E1E5ED\"},\"yaxis\":{\"gridcolor\":\"#E1E5ED\",\"showgrid\":true,\"tickfont\":{\"color\":\"#4D5663\"},\"title\":{\"font\":{\"color\":\"#4D5663\"},\"text\":\"\"},\"zerolinecolor\":\"#E1E5ED\"}},                        {\"showLink\": true, \"linkText\": \"Export to plot.ly\", \"plotlyServerURL\": \"https://plot.ly\", \"responsive\": true}                    ).then(function(){\n",
       "                            \n",
       "var gd = document.getElementById('6c677c9b-304b-405d-b44d-07d0f02c3603');\n",
       "var x = new MutationObserver(function (mutations, observer) {{\n",
       "        var display = window.getComputedStyle(gd).display;\n",
       "        if (!display || display === 'none') {{\n",
       "            console.log([gd, 'removed!']);\n",
       "            Plotly.purge(gd);\n",
       "            observer.disconnect();\n",
       "        }}\n",
       "}});\n",
       "\n",
       "// Listen for the removal of the full notebook cells\n",
       "var notebookContainer = gd.closest('#notebook-container');\n",
       "if (notebookContainer) {{\n",
       "    x.observe(notebookContainer, {childList: true});\n",
       "}}\n",
       "\n",
       "// Listen for the clearing of the current output cell\n",
       "var outputEl = gd.closest('.output');\n",
       "if (outputEl) {{\n",
       "    x.observe(outputEl, {childList: true});\n",
       "}}\n",
       "\n",
       "                        })                };                });            </script>        </div>"
      ]
     },
     "metadata": {},
     "output_type": "display_data"
    }
   ],
   "source": [
    "df.iplot(kind='bubble',x='A',y='B',size='C')"
   ]
  },
  {
   "cell_type": "markdown",
   "metadata": {},
   "source": [
    "## scatter_matrix()\n",
    "\n",
    "Similar to sns.pairplot()"
   ]
  },
  {
   "cell_type": "code",
   "execution_count": 23,
   "metadata": {},
   "outputs": [
    {
     "data": {
      "application/vnd.plotly.v1+json": {
       "config": {
        "linkText": "Export to plot.ly",
        "plotlyServerURL": "https://plot.ly",
        "showLink": true
       },
       "data": [
        {
         "histfunc": "count",
         "histnorm": "",
         "marker": {
          "color": "rgba(255, 153, 51, 1.0)",
          "line": {
           "color": "#4D5663",
           "width": 1.3
          }
         },
         "name": "A",
         "nbinsx": 10,
         "opacity": 0.8,
         "orientation": "v",
         "type": "histogram",
         "x": [
          -0.813094974158615,
          -0.6320677486019147,
          -1.8330180188288216,
          0.30946276649967275,
          -0.34965251460663066,
          0.2541242676005999,
          -1.25409609186406,
          -1.5953824759783306,
          1.209996953723444,
          -0.9031365588388017,
          -0.2528994058951668,
          1.1993671174625855,
          -0.03479382440405025,
          0.3587651949863715,
          -1.1773880168626751,
          0.1882839674798589,
          0.15926856483581273,
          -0.7575700575481089,
          0.5923720816717849,
          -0.43599154580134525,
          -0.40837339303113024,
          -0.47646397111751376,
          -0.4321175598119881,
          -0.4166377903936301,
          0.4465808165690844,
          -2.1124722104004774,
          -0.7168027292736445,
          -1.4687468385877556,
          -0.8552724178550116,
          -0.1833187037760549,
          -0.0516014687726671,
          0.08929624648486419,
          0.283689280140465,
          0.23228257745041886,
          -0.7994824154787796,
          -0.15801600703858176,
          1.6906988519025559,
          -0.14436831923177185,
          -0.8490004432157602,
          0.12606804002629304,
          -1.419783969424822,
          -1.3386672466657163,
          0.1025711857038433,
          -0.17526986520131532,
          1.0322093753670571,
          -0.08573491754076627,
          1.3010216527471408,
          -0.9489028978786285,
          -0.883492332517402,
          -1.2873136726903505,
          0.6479351933755042,
          -0.8376876792340087,
          -0.7386458732355002,
          0.7560364934857938,
          0.6795679333775624,
          0.5918996363507902,
          0.9376426697121171,
          0.2653352431183191,
          1.6579747967261944,
          -1.3355416128149515,
          0.03395533520806284,
          -0.25376231373687164,
          -0.3343846286932071,
          0.947247557239635,
          -0.6079551744162106,
          -0.5752977060081683,
          -0.7890237136747128,
          -0.6587642329116016,
          1.163701930798238,
          0.4606404839325701,
          0.8067944374337038,
          -0.19988432528089134,
          -0.21390856728770027,
          -1.018568825005735,
          -1.9589686543951768,
          0.06068691245208455,
          0.2678907684869432,
          0.03482855608749407,
          -0.38749122105340666,
          -0.5179472276706354,
          0.7704703886351763,
          -0.9890496308856835,
          -0.4756631316399486,
          -0.441569985646899,
          -0.5786339248236021,
          1.2622457440284895,
          -0.3533303731137811,
          0.6127642614441432,
          -0.7507571711907699,
          -0.17145625910104795,
          -1.7199283839683184,
          -0.4694471236015308,
          1.1724720953758947,
          -0.3030314459539039,
          0.7747117018211388,
          0.056886856834242286,
          0.2156621626300678,
          -0.4998451104106444,
          -2.3961426677696873,
          0.4773531183027042
         ],
         "xaxis": "x",
         "yaxis": "y"
        },
        {
         "line": {
          "color": "rgba(128, 128, 128, 1.0)",
          "dash": "solid",
          "shape": "linear",
          "width": 1.3
         },
         "marker": {
          "size": 2,
          "symbol": "circle"
         },
         "mode": "markers",
         "name": "A",
         "text": "",
         "type": "scatter",
         "x": [
          -1.810705620303543,
          -0.6009888044223608,
          -0.8699212494722677,
          -0.550534748641092,
          0.4274694755230017,
          0.5985403310571168,
          -0.12188328873954034,
          0.4356412141803811,
          0.23677802285309477,
          -1.0316199459958797,
          -1.4119914497327224,
          0.42286751614288964,
          0.6899228786876435,
          -0.3304895135271398,
          1.0199569861773699,
          -0.07452470268944116,
          0.5179123635617616,
          0.7212504056693066,
          1.0568220483539346,
          -0.6329714821783978,
          -0.7729734925590904,
          0.04611373216482665,
          -1.662473515264781,
          0.36338256207965686,
          -0.5503816776380241,
          -2.7322601519765075,
          -1.6113440120570792,
          0.906382094929108,
          0.4735390415891768,
          -0.975263135435076,
          1.588411990779888,
          -2.0768510538923963,
          -1.4231799460959853,
          0.6882644752812591,
          -0.4998480033947634,
          -0.496656394151241,
          -0.4835208859489081,
          -1.8816807499555739,
          0.7719794078507218,
          -0.5139045194391917,
          -1.639215382625045,
          0.40602339946612515,
          2.298972143667528,
          0.11505047736262437,
          0.7005717751962709,
          0.4855307624973052,
          -1.0177172990318302,
          0.4840449889903183,
          -0.7194660638209635,
          -1.2300432610286793,
          -1.3701879756614934,
          -4.671017883589642,
          -1.184275158102963,
          0.39666942539920347,
          -2.226632808899658,
          1.3015642154390656,
          -1.782868004198849,
          2.1247188152382463,
          0.15797693140612953,
          1.8613288779523205,
          -1.7063050375534852,
          1.5331352666503193,
          0.5163164019441416,
          0.21032973058063056,
          -0.7984519380720064,
          1.1289791275584007,
          -0.2821710024131168,
          -0.7397400754627164,
          -0.08853754898509787,
          0.5618092496862193,
          -0.27172333726221837,
          0.1763089843781587,
          -0.36412102130108454,
          2.282272289168112,
          -0.9838235969987101,
          0.4803009506491444,
          1.3445668968174393,
          -0.2172825367000398,
          0.031868623818376185,
          0.7387689037046977,
          1.9125877271166336,
          1.0787847269804158,
          0.3197886159287113,
          0.10733866289906828,
          0.050774236411273876,
          -0.48259031053099,
          0.4489969178285034,
          -0.27393513534568964,
          -1.3236830680290488,
          -0.4724755544055852,
          1.0766300535114623,
          2.005792322169697,
          -1.5314592912873237,
          0.05121594255874584,
          0.27667231651744467,
          1.167398410424178,
          0.3884694404010253,
          -0.27529328081680393,
          0.9988939005905673,
          -0.3363810223756748
         ],
         "xaxis": "x2",
         "y": [
          -0.813094974158615,
          -0.6320677486019147,
          -1.8330180188288216,
          0.30946276649967275,
          -0.34965251460663066,
          0.2541242676005999,
          -1.25409609186406,
          -1.5953824759783306,
          1.209996953723444,
          -0.9031365588388017,
          -0.2528994058951668,
          1.1993671174625855,
          -0.03479382440405025,
          0.3587651949863715,
          -1.1773880168626751,
          0.1882839674798589,
          0.15926856483581273,
          -0.7575700575481089,
          0.5923720816717849,
          -0.43599154580134525,
          -0.40837339303113024,
          -0.47646397111751376,
          -0.4321175598119881,
          -0.4166377903936301,
          0.4465808165690844,
          -2.1124722104004774,
          -0.7168027292736445,
          -1.4687468385877556,
          -0.8552724178550116,
          -0.1833187037760549,
          -0.0516014687726671,
          0.08929624648486419,
          0.283689280140465,
          0.23228257745041886,
          -0.7994824154787796,
          -0.15801600703858176,
          1.6906988519025559,
          -0.14436831923177185,
          -0.8490004432157602,
          0.12606804002629304,
          -1.419783969424822,
          -1.3386672466657163,
          0.1025711857038433,
          -0.17526986520131532,
          1.0322093753670571,
          -0.08573491754076627,
          1.3010216527471408,
          -0.9489028978786285,
          -0.883492332517402,
          -1.2873136726903505,
          0.6479351933755042,
          -0.8376876792340087,
          -0.7386458732355002,
          0.7560364934857938,
          0.6795679333775624,
          0.5918996363507902,
          0.9376426697121171,
          0.2653352431183191,
          1.6579747967261944,
          -1.3355416128149515,
          0.03395533520806284,
          -0.25376231373687164,
          -0.3343846286932071,
          0.947247557239635,
          -0.6079551744162106,
          -0.5752977060081683,
          -0.7890237136747128,
          -0.6587642329116016,
          1.163701930798238,
          0.4606404839325701,
          0.8067944374337038,
          -0.19988432528089134,
          -0.21390856728770027,
          -1.018568825005735,
          -1.9589686543951768,
          0.06068691245208455,
          0.2678907684869432,
          0.03482855608749407,
          -0.38749122105340666,
          -0.5179472276706354,
          0.7704703886351763,
          -0.9890496308856835,
          -0.4756631316399486,
          -0.441569985646899,
          -0.5786339248236021,
          1.2622457440284895,
          -0.3533303731137811,
          0.6127642614441432,
          -0.7507571711907699,
          -0.17145625910104795,
          -1.7199283839683184,
          -0.4694471236015308,
          1.1724720953758947,
          -0.3030314459539039,
          0.7747117018211388,
          0.056886856834242286,
          0.2156621626300678,
          -0.4998451104106444,
          -2.3961426677696873,
          0.4773531183027042
         ],
         "yaxis": "y2"
        },
        {
         "line": {
          "color": "rgba(128, 128, 128, 1.0)",
          "dash": "solid",
          "shape": "linear",
          "width": 1.3
         },
         "marker": {
          "size": 2,
          "symbol": "circle"
         },
         "mode": "markers",
         "name": "A",
         "text": "",
         "type": "scatter",
         "x": [
          0.11478205581581004,
          -0.7269443582850521,
          -0.1016340680650651,
          1.2378074807734678,
          0.5388091112889526,
          -0.4927430155938008,
          0.8371686804480575,
          -0.39013299510156135,
          -2.393066210468212,
          0.0019183805017788742,
          -0.6212843400286342,
          0.9676209752970684,
          -1.5796310872302395,
          -0.4932564107282682,
          0.7916439329286905,
          -0.6729339922723492,
          1.7399217191676006,
          -0.4509690828174776,
          0.16785395282716004,
          -0.757753230238972,
          0.6312887954145839,
          -0.3283564822328538,
          -0.7978452637865974,
          -0.8893931085956209,
          -2.160753748239564,
          0.9545431135106218,
          -2.6208022565379028,
          -0.5148911309926577,
          -1.2798396591335959,
          -0.28918707517250025,
          -0.6240293916732635,
          0.9038059794163196,
          -0.05660955113231021,
          1.3506483845773511,
          -0.8769329662460299,
          -0.1107532276844045,
          1.526879382866703,
          -0.16471239549521408,
          0.07554965503932266,
          -0.9669828002542283,
          -1.1498006789784305,
          -1.4503403112959212,
          -0.09290735196103211,
          0.4806173056682018,
          -1.2810713901463937,
          1.2888541173565045,
          0.8634720603349073,
          0.8448374275058981,
          0.37296355903467393,
          -0.5544209177627011,
          1.408763413526378,
          1.0835412855416442,
          1.3165718329358136,
          -1.664798939796363,
          0.9071188834882395,
          0.20241034222087703,
          -1.1564786307549466,
          -0.0932964523797422,
          1.4140703193632078,
          1.737261186077956,
          -1.5808041215904607,
          -0.6057547399907516,
          1.6816155776518427,
          -0.4888820778770582,
          1.1552763034155282,
          0.2017100658612874,
          -1.8078744153943203,
          -0.9706305630597827,
          1.1484979604817878,
          -1.2359892682170062,
          -2.7540337648068878,
          -0.14845271863611717,
          -1.2925078780907588,
          0.5411658262306305,
          -1.3464204205490389,
          0.5653336995383301,
          2.16344641717525,
          -0.7687566107452469,
          -0.30200898511652086,
          0.7232652642928008,
          0.24367448114825582,
          1.2763788519004793,
          -1.2326788202391716,
          1.3647014194043774,
          1.307768033039978,
          0.4846572183139304,
          -1.272427724900435,
          -0.660930965033993,
          0.7875247488283871,
          -0.026615501892175424,
          -0.7628248833075147,
          -1.4622792771961897,
          0.07764859196380898,
          -1.2344766538783207,
          -0.03578260657767036,
          -0.29940223232268787,
          -1.618126017021462,
          0.3229962626008405,
          1.6520112265009217,
          0.30855758749121664
         ],
         "xaxis": "x3",
         "y": [
          -0.813094974158615,
          -0.6320677486019147,
          -1.8330180188288216,
          0.30946276649967275,
          -0.34965251460663066,
          0.2541242676005999,
          -1.25409609186406,
          -1.5953824759783306,
          1.209996953723444,
          -0.9031365588388017,
          -0.2528994058951668,
          1.1993671174625855,
          -0.03479382440405025,
          0.3587651949863715,
          -1.1773880168626751,
          0.1882839674798589,
          0.15926856483581273,
          -0.7575700575481089,
          0.5923720816717849,
          -0.43599154580134525,
          -0.40837339303113024,
          -0.47646397111751376,
          -0.4321175598119881,
          -0.4166377903936301,
          0.4465808165690844,
          -2.1124722104004774,
          -0.7168027292736445,
          -1.4687468385877556,
          -0.8552724178550116,
          -0.1833187037760549,
          -0.0516014687726671,
          0.08929624648486419,
          0.283689280140465,
          0.23228257745041886,
          -0.7994824154787796,
          -0.15801600703858176,
          1.6906988519025559,
          -0.14436831923177185,
          -0.8490004432157602,
          0.12606804002629304,
          -1.419783969424822,
          -1.3386672466657163,
          0.1025711857038433,
          -0.17526986520131532,
          1.0322093753670571,
          -0.08573491754076627,
          1.3010216527471408,
          -0.9489028978786285,
          -0.883492332517402,
          -1.2873136726903505,
          0.6479351933755042,
          -0.8376876792340087,
          -0.7386458732355002,
          0.7560364934857938,
          0.6795679333775624,
          0.5918996363507902,
          0.9376426697121171,
          0.2653352431183191,
          1.6579747967261944,
          -1.3355416128149515,
          0.03395533520806284,
          -0.25376231373687164,
          -0.3343846286932071,
          0.947247557239635,
          -0.6079551744162106,
          -0.5752977060081683,
          -0.7890237136747128,
          -0.6587642329116016,
          1.163701930798238,
          0.4606404839325701,
          0.8067944374337038,
          -0.19988432528089134,
          -0.21390856728770027,
          -1.018568825005735,
          -1.9589686543951768,
          0.06068691245208455,
          0.2678907684869432,
          0.03482855608749407,
          -0.38749122105340666,
          -0.5179472276706354,
          0.7704703886351763,
          -0.9890496308856835,
          -0.4756631316399486,
          -0.441569985646899,
          -0.5786339248236021,
          1.2622457440284895,
          -0.3533303731137811,
          0.6127642614441432,
          -0.7507571711907699,
          -0.17145625910104795,
          -1.7199283839683184,
          -0.4694471236015308,
          1.1724720953758947,
          -0.3030314459539039,
          0.7747117018211388,
          0.056886856834242286,
          0.2156621626300678,
          -0.4998451104106444,
          -2.3961426677696873,
          0.4773531183027042
         ],
         "yaxis": "y3"
        },
        {
         "line": {
          "color": "rgba(128, 128, 128, 1.0)",
          "dash": "solid",
          "shape": "linear",
          "width": 1.3
         },
         "marker": {
          "size": 2,
          "symbol": "circle"
         },
         "mode": "markers",
         "name": "A",
         "text": "",
         "type": "scatter",
         "x": [
          -0.3711931195882421,
          0.09976857112903022,
          0.9939841470463258,
          -0.9173811897687342,
          1.3642204266535358,
          -0.853767248924945,
          0.5344726508326774,
          -0.25254954602810586,
          1.3519306823601493,
          0.9705011873043906,
          0.49484252843912263,
          -0.24719792523029027,
          1.6574866576257656,
          1.1593405743507281,
          -2.0945717822987597,
          1.0018232358435215,
          -0.6659273832893793,
          1.3312705501019129,
          0.04282474171051095,
          -0.7457730652334875,
          0.8906541224627033,
          0.004219177583501206,
          0.13700574672714838,
          0.9757088108414181,
          -1.1373755748646621,
          -0.9585348853767228,
          -1.265109555400537,
          0.066649404176319,
          0.5886509931401189,
          -0.20935248036239013,
          0.08355201605704875,
          -0.7247359165430772,
          0.0800168690130128,
          1.033643312989802,
          1.2231227729939784,
          2.692333571163918,
          0.7219892080868341,
          -0.5216471565080071,
          -0.37528687751493633,
          -0.9685420450030335,
          -0.05728896034000053,
          1.2582378704313193,
          0.8751239112360449,
          -0.5520061014149678,
          -0.7010512767667684,
          -0.4667152872661785,
          1.6622095835383701,
          0.4995020164011859,
          2.2267298922913072,
          -0.6593475939230415,
          -1.829455092533334,
          -0.731000160738417,
          -1.1837345757874516,
          -0.10802993995791371,
          -0.18466174057252122,
          1.1587551931993783,
          0.6351246492231096,
          1.9362937226827508,
          0.19130915745618232,
          0.01221577918521235,
          -0.7554859562554341,
          0.7184140422363418,
          -0.02504087624912554,
          0.27232324987871503,
          -2.231055701976817,
          -0.6405114028732867,
          -1.1051998663261027,
          3.2685613892422314,
          -1.0326974243490925,
          -0.21654608592375243,
          -1.5763742713627535,
          0.9158590725264812,
          -0.6074054236547549,
          0.027748603834612893,
          0.11259719032670895,
          0.16168425441769932,
          0.2469126299504723,
          -2.3427633156375154,
          -0.05946911210369595,
          1.4602378374812317,
          0.2980729594300721,
          1.1885689344371333,
          -1.0276015884468157,
          1.3049809821828426,
          -1.0828189253555016,
          -0.81500181747484,
          0.18100739737577215,
          -0.9819893643717046,
          -1.7567247714982477,
          -0.7189127866512951,
          -0.8001221135136581,
          -0.91141532744826,
          -0.9456097475592233,
          -0.47830415948983285,
          -0.4506533233935948,
          -0.31628502280265586,
          0.5412070352741424,
          0.6705847523583408,
          0.12432907190852026,
          -0.07326452712069995
         ],
         "xaxis": "x4",
         "y": [
          -0.813094974158615,
          -0.6320677486019147,
          -1.8330180188288216,
          0.30946276649967275,
          -0.34965251460663066,
          0.2541242676005999,
          -1.25409609186406,
          -1.5953824759783306,
          1.209996953723444,
          -0.9031365588388017,
          -0.2528994058951668,
          1.1993671174625855,
          -0.03479382440405025,
          0.3587651949863715,
          -1.1773880168626751,
          0.1882839674798589,
          0.15926856483581273,
          -0.7575700575481089,
          0.5923720816717849,
          -0.43599154580134525,
          -0.40837339303113024,
          -0.47646397111751376,
          -0.4321175598119881,
          -0.4166377903936301,
          0.4465808165690844,
          -2.1124722104004774,
          -0.7168027292736445,
          -1.4687468385877556,
          -0.8552724178550116,
          -0.1833187037760549,
          -0.0516014687726671,
          0.08929624648486419,
          0.283689280140465,
          0.23228257745041886,
          -0.7994824154787796,
          -0.15801600703858176,
          1.6906988519025559,
          -0.14436831923177185,
          -0.8490004432157602,
          0.12606804002629304,
          -1.419783969424822,
          -1.3386672466657163,
          0.1025711857038433,
          -0.17526986520131532,
          1.0322093753670571,
          -0.08573491754076627,
          1.3010216527471408,
          -0.9489028978786285,
          -0.883492332517402,
          -1.2873136726903505,
          0.6479351933755042,
          -0.8376876792340087,
          -0.7386458732355002,
          0.7560364934857938,
          0.6795679333775624,
          0.5918996363507902,
          0.9376426697121171,
          0.2653352431183191,
          1.6579747967261944,
          -1.3355416128149515,
          0.03395533520806284,
          -0.25376231373687164,
          -0.3343846286932071,
          0.947247557239635,
          -0.6079551744162106,
          -0.5752977060081683,
          -0.7890237136747128,
          -0.6587642329116016,
          1.163701930798238,
          0.4606404839325701,
          0.8067944374337038,
          -0.19988432528089134,
          -0.21390856728770027,
          -1.018568825005735,
          -1.9589686543951768,
          0.06068691245208455,
          0.2678907684869432,
          0.03482855608749407,
          -0.38749122105340666,
          -0.5179472276706354,
          0.7704703886351763,
          -0.9890496308856835,
          -0.4756631316399486,
          -0.441569985646899,
          -0.5786339248236021,
          1.2622457440284895,
          -0.3533303731137811,
          0.6127642614441432,
          -0.7507571711907699,
          -0.17145625910104795,
          -1.7199283839683184,
          -0.4694471236015308,
          1.1724720953758947,
          -0.3030314459539039,
          0.7747117018211388,
          0.056886856834242286,
          0.2156621626300678,
          -0.4998451104106444,
          -2.3961426677696873,
          0.4773531183027042
         ],
         "yaxis": "y4"
        },
        {
         "line": {
          "color": "rgba(128, 128, 128, 1.0)",
          "dash": "solid",
          "shape": "linear",
          "width": 1.3
         },
         "marker": {
          "size": 2,
          "symbol": "circle"
         },
         "mode": "markers",
         "name": "B",
         "text": "",
         "type": "scatter",
         "x": [
          -0.813094974158615,
          -0.6320677486019147,
          -1.8330180188288216,
          0.30946276649967275,
          -0.34965251460663066,
          0.2541242676005999,
          -1.25409609186406,
          -1.5953824759783306,
          1.209996953723444,
          -0.9031365588388017,
          -0.2528994058951668,
          1.1993671174625855,
          -0.03479382440405025,
          0.3587651949863715,
          -1.1773880168626751,
          0.1882839674798589,
          0.15926856483581273,
          -0.7575700575481089,
          0.5923720816717849,
          -0.43599154580134525,
          -0.40837339303113024,
          -0.47646397111751376,
          -0.4321175598119881,
          -0.4166377903936301,
          0.4465808165690844,
          -2.1124722104004774,
          -0.7168027292736445,
          -1.4687468385877556,
          -0.8552724178550116,
          -0.1833187037760549,
          -0.0516014687726671,
          0.08929624648486419,
          0.283689280140465,
          0.23228257745041886,
          -0.7994824154787796,
          -0.15801600703858176,
          1.6906988519025559,
          -0.14436831923177185,
          -0.8490004432157602,
          0.12606804002629304,
          -1.419783969424822,
          -1.3386672466657163,
          0.1025711857038433,
          -0.17526986520131532,
          1.0322093753670571,
          -0.08573491754076627,
          1.3010216527471408,
          -0.9489028978786285,
          -0.883492332517402,
          -1.2873136726903505,
          0.6479351933755042,
          -0.8376876792340087,
          -0.7386458732355002,
          0.7560364934857938,
          0.6795679333775624,
          0.5918996363507902,
          0.9376426697121171,
          0.2653352431183191,
          1.6579747967261944,
          -1.3355416128149515,
          0.03395533520806284,
          -0.25376231373687164,
          -0.3343846286932071,
          0.947247557239635,
          -0.6079551744162106,
          -0.5752977060081683,
          -0.7890237136747128,
          -0.6587642329116016,
          1.163701930798238,
          0.4606404839325701,
          0.8067944374337038,
          -0.19988432528089134,
          -0.21390856728770027,
          -1.018568825005735,
          -1.9589686543951768,
          0.06068691245208455,
          0.2678907684869432,
          0.03482855608749407,
          -0.38749122105340666,
          -0.5179472276706354,
          0.7704703886351763,
          -0.9890496308856835,
          -0.4756631316399486,
          -0.441569985646899,
          -0.5786339248236021,
          1.2622457440284895,
          -0.3533303731137811,
          0.6127642614441432,
          -0.7507571711907699,
          -0.17145625910104795,
          -1.7199283839683184,
          -0.4694471236015308,
          1.1724720953758947,
          -0.3030314459539039,
          0.7747117018211388,
          0.056886856834242286,
          0.2156621626300678,
          -0.4998451104106444,
          -2.3961426677696873,
          0.4773531183027042
         ],
         "xaxis": "x5",
         "y": [
          -1.810705620303543,
          -0.6009888044223608,
          -0.8699212494722677,
          -0.550534748641092,
          0.4274694755230017,
          0.5985403310571168,
          -0.12188328873954034,
          0.4356412141803811,
          0.23677802285309477,
          -1.0316199459958797,
          -1.4119914497327224,
          0.42286751614288964,
          0.6899228786876435,
          -0.3304895135271398,
          1.0199569861773699,
          -0.07452470268944116,
          0.5179123635617616,
          0.7212504056693066,
          1.0568220483539346,
          -0.6329714821783978,
          -0.7729734925590904,
          0.04611373216482665,
          -1.662473515264781,
          0.36338256207965686,
          -0.5503816776380241,
          -2.7322601519765075,
          -1.6113440120570792,
          0.906382094929108,
          0.4735390415891768,
          -0.975263135435076,
          1.588411990779888,
          -2.0768510538923963,
          -1.4231799460959853,
          0.6882644752812591,
          -0.4998480033947634,
          -0.496656394151241,
          -0.4835208859489081,
          -1.8816807499555739,
          0.7719794078507218,
          -0.5139045194391917,
          -1.639215382625045,
          0.40602339946612515,
          2.298972143667528,
          0.11505047736262437,
          0.7005717751962709,
          0.4855307624973052,
          -1.0177172990318302,
          0.4840449889903183,
          -0.7194660638209635,
          -1.2300432610286793,
          -1.3701879756614934,
          -4.671017883589642,
          -1.184275158102963,
          0.39666942539920347,
          -2.226632808899658,
          1.3015642154390656,
          -1.782868004198849,
          2.1247188152382463,
          0.15797693140612953,
          1.8613288779523205,
          -1.7063050375534852,
          1.5331352666503193,
          0.5163164019441416,
          0.21032973058063056,
          -0.7984519380720064,
          1.1289791275584007,
          -0.2821710024131168,
          -0.7397400754627164,
          -0.08853754898509787,
          0.5618092496862193,
          -0.27172333726221837,
          0.1763089843781587,
          -0.36412102130108454,
          2.282272289168112,
          -0.9838235969987101,
          0.4803009506491444,
          1.3445668968174393,
          -0.2172825367000398,
          0.031868623818376185,
          0.7387689037046977,
          1.9125877271166336,
          1.0787847269804158,
          0.3197886159287113,
          0.10733866289906828,
          0.050774236411273876,
          -0.48259031053099,
          0.4489969178285034,
          -0.27393513534568964,
          -1.3236830680290488,
          -0.4724755544055852,
          1.0766300535114623,
          2.005792322169697,
          -1.5314592912873237,
          0.05121594255874584,
          0.27667231651744467,
          1.167398410424178,
          0.3884694404010253,
          -0.27529328081680393,
          0.9988939005905673,
          -0.3363810223756748
         ],
         "yaxis": "y5"
        },
        {
         "histfunc": "count",
         "histnorm": "",
         "marker": {
          "color": "rgba(55, 128, 191, 1.0)",
          "line": {
           "color": "#4D5663",
           "width": 1.3
          }
         },
         "name": "B",
         "nbinsx": 10,
         "opacity": 0.8,
         "orientation": "v",
         "type": "histogram",
         "x": [
          -1.810705620303543,
          -0.6009888044223608,
          -0.8699212494722677,
          -0.550534748641092,
          0.4274694755230017,
          0.5985403310571168,
          -0.12188328873954034,
          0.4356412141803811,
          0.23677802285309477,
          -1.0316199459958797,
          -1.4119914497327224,
          0.42286751614288964,
          0.6899228786876435,
          -0.3304895135271398,
          1.0199569861773699,
          -0.07452470268944116,
          0.5179123635617616,
          0.7212504056693066,
          1.0568220483539346,
          -0.6329714821783978,
          -0.7729734925590904,
          0.04611373216482665,
          -1.662473515264781,
          0.36338256207965686,
          -0.5503816776380241,
          -2.7322601519765075,
          -1.6113440120570792,
          0.906382094929108,
          0.4735390415891768,
          -0.975263135435076,
          1.588411990779888,
          -2.0768510538923963,
          -1.4231799460959853,
          0.6882644752812591,
          -0.4998480033947634,
          -0.496656394151241,
          -0.4835208859489081,
          -1.8816807499555739,
          0.7719794078507218,
          -0.5139045194391917,
          -1.639215382625045,
          0.40602339946612515,
          2.298972143667528,
          0.11505047736262437,
          0.7005717751962709,
          0.4855307624973052,
          -1.0177172990318302,
          0.4840449889903183,
          -0.7194660638209635,
          -1.2300432610286793,
          -1.3701879756614934,
          -4.671017883589642,
          -1.184275158102963,
          0.39666942539920347,
          -2.226632808899658,
          1.3015642154390656,
          -1.782868004198849,
          2.1247188152382463,
          0.15797693140612953,
          1.8613288779523205,
          -1.7063050375534852,
          1.5331352666503193,
          0.5163164019441416,
          0.21032973058063056,
          -0.7984519380720064,
          1.1289791275584007,
          -0.2821710024131168,
          -0.7397400754627164,
          -0.08853754898509787,
          0.5618092496862193,
          -0.27172333726221837,
          0.1763089843781587,
          -0.36412102130108454,
          2.282272289168112,
          -0.9838235969987101,
          0.4803009506491444,
          1.3445668968174393,
          -0.2172825367000398,
          0.031868623818376185,
          0.7387689037046977,
          1.9125877271166336,
          1.0787847269804158,
          0.3197886159287113,
          0.10733866289906828,
          0.050774236411273876,
          -0.48259031053099,
          0.4489969178285034,
          -0.27393513534568964,
          -1.3236830680290488,
          -0.4724755544055852,
          1.0766300535114623,
          2.005792322169697,
          -1.5314592912873237,
          0.05121594255874584,
          0.27667231651744467,
          1.167398410424178,
          0.3884694404010253,
          -0.27529328081680393,
          0.9988939005905673,
          -0.3363810223756748
         ],
         "xaxis": "x6",
         "yaxis": "y6"
        },
        {
         "line": {
          "color": "rgba(128, 128, 128, 1.0)",
          "dash": "solid",
          "shape": "linear",
          "width": 1.3
         },
         "marker": {
          "size": 2,
          "symbol": "circle"
         },
         "mode": "markers",
         "name": "B",
         "text": "",
         "type": "scatter",
         "x": [
          0.11478205581581004,
          -0.7269443582850521,
          -0.1016340680650651,
          1.2378074807734678,
          0.5388091112889526,
          -0.4927430155938008,
          0.8371686804480575,
          -0.39013299510156135,
          -2.393066210468212,
          0.0019183805017788742,
          -0.6212843400286342,
          0.9676209752970684,
          -1.5796310872302395,
          -0.4932564107282682,
          0.7916439329286905,
          -0.6729339922723492,
          1.7399217191676006,
          -0.4509690828174776,
          0.16785395282716004,
          -0.757753230238972,
          0.6312887954145839,
          -0.3283564822328538,
          -0.7978452637865974,
          -0.8893931085956209,
          -2.160753748239564,
          0.9545431135106218,
          -2.6208022565379028,
          -0.5148911309926577,
          -1.2798396591335959,
          -0.28918707517250025,
          -0.6240293916732635,
          0.9038059794163196,
          -0.05660955113231021,
          1.3506483845773511,
          -0.8769329662460299,
          -0.1107532276844045,
          1.526879382866703,
          -0.16471239549521408,
          0.07554965503932266,
          -0.9669828002542283,
          -1.1498006789784305,
          -1.4503403112959212,
          -0.09290735196103211,
          0.4806173056682018,
          -1.2810713901463937,
          1.2888541173565045,
          0.8634720603349073,
          0.8448374275058981,
          0.37296355903467393,
          -0.5544209177627011,
          1.408763413526378,
          1.0835412855416442,
          1.3165718329358136,
          -1.664798939796363,
          0.9071188834882395,
          0.20241034222087703,
          -1.1564786307549466,
          -0.0932964523797422,
          1.4140703193632078,
          1.737261186077956,
          -1.5808041215904607,
          -0.6057547399907516,
          1.6816155776518427,
          -0.4888820778770582,
          1.1552763034155282,
          0.2017100658612874,
          -1.8078744153943203,
          -0.9706305630597827,
          1.1484979604817878,
          -1.2359892682170062,
          -2.7540337648068878,
          -0.14845271863611717,
          -1.2925078780907588,
          0.5411658262306305,
          -1.3464204205490389,
          0.5653336995383301,
          2.16344641717525,
          -0.7687566107452469,
          -0.30200898511652086,
          0.7232652642928008,
          0.24367448114825582,
          1.2763788519004793,
          -1.2326788202391716,
          1.3647014194043774,
          1.307768033039978,
          0.4846572183139304,
          -1.272427724900435,
          -0.660930965033993,
          0.7875247488283871,
          -0.026615501892175424,
          -0.7628248833075147,
          -1.4622792771961897,
          0.07764859196380898,
          -1.2344766538783207,
          -0.03578260657767036,
          -0.29940223232268787,
          -1.618126017021462,
          0.3229962626008405,
          1.6520112265009217,
          0.30855758749121664
         ],
         "xaxis": "x7",
         "y": [
          -1.810705620303543,
          -0.6009888044223608,
          -0.8699212494722677,
          -0.550534748641092,
          0.4274694755230017,
          0.5985403310571168,
          -0.12188328873954034,
          0.4356412141803811,
          0.23677802285309477,
          -1.0316199459958797,
          -1.4119914497327224,
          0.42286751614288964,
          0.6899228786876435,
          -0.3304895135271398,
          1.0199569861773699,
          -0.07452470268944116,
          0.5179123635617616,
          0.7212504056693066,
          1.0568220483539346,
          -0.6329714821783978,
          -0.7729734925590904,
          0.04611373216482665,
          -1.662473515264781,
          0.36338256207965686,
          -0.5503816776380241,
          -2.7322601519765075,
          -1.6113440120570792,
          0.906382094929108,
          0.4735390415891768,
          -0.975263135435076,
          1.588411990779888,
          -2.0768510538923963,
          -1.4231799460959853,
          0.6882644752812591,
          -0.4998480033947634,
          -0.496656394151241,
          -0.4835208859489081,
          -1.8816807499555739,
          0.7719794078507218,
          -0.5139045194391917,
          -1.639215382625045,
          0.40602339946612515,
          2.298972143667528,
          0.11505047736262437,
          0.7005717751962709,
          0.4855307624973052,
          -1.0177172990318302,
          0.4840449889903183,
          -0.7194660638209635,
          -1.2300432610286793,
          -1.3701879756614934,
          -4.671017883589642,
          -1.184275158102963,
          0.39666942539920347,
          -2.226632808899658,
          1.3015642154390656,
          -1.782868004198849,
          2.1247188152382463,
          0.15797693140612953,
          1.8613288779523205,
          -1.7063050375534852,
          1.5331352666503193,
          0.5163164019441416,
          0.21032973058063056,
          -0.7984519380720064,
          1.1289791275584007,
          -0.2821710024131168,
          -0.7397400754627164,
          -0.08853754898509787,
          0.5618092496862193,
          -0.27172333726221837,
          0.1763089843781587,
          -0.36412102130108454,
          2.282272289168112,
          -0.9838235969987101,
          0.4803009506491444,
          1.3445668968174393,
          -0.2172825367000398,
          0.031868623818376185,
          0.7387689037046977,
          1.9125877271166336,
          1.0787847269804158,
          0.3197886159287113,
          0.10733866289906828,
          0.050774236411273876,
          -0.48259031053099,
          0.4489969178285034,
          -0.27393513534568964,
          -1.3236830680290488,
          -0.4724755544055852,
          1.0766300535114623,
          2.005792322169697,
          -1.5314592912873237,
          0.05121594255874584,
          0.27667231651744467,
          1.167398410424178,
          0.3884694404010253,
          -0.27529328081680393,
          0.9988939005905673,
          -0.3363810223756748
         ],
         "yaxis": "y7"
        },
        {
         "line": {
          "color": "rgba(128, 128, 128, 1.0)",
          "dash": "solid",
          "shape": "linear",
          "width": 1.3
         },
         "marker": {
          "size": 2,
          "symbol": "circle"
         },
         "mode": "markers",
         "name": "B",
         "text": "",
         "type": "scatter",
         "x": [
          -0.3711931195882421,
          0.09976857112903022,
          0.9939841470463258,
          -0.9173811897687342,
          1.3642204266535358,
          -0.853767248924945,
          0.5344726508326774,
          -0.25254954602810586,
          1.3519306823601493,
          0.9705011873043906,
          0.49484252843912263,
          -0.24719792523029027,
          1.6574866576257656,
          1.1593405743507281,
          -2.0945717822987597,
          1.0018232358435215,
          -0.6659273832893793,
          1.3312705501019129,
          0.04282474171051095,
          -0.7457730652334875,
          0.8906541224627033,
          0.004219177583501206,
          0.13700574672714838,
          0.9757088108414181,
          -1.1373755748646621,
          -0.9585348853767228,
          -1.265109555400537,
          0.066649404176319,
          0.5886509931401189,
          -0.20935248036239013,
          0.08355201605704875,
          -0.7247359165430772,
          0.0800168690130128,
          1.033643312989802,
          1.2231227729939784,
          2.692333571163918,
          0.7219892080868341,
          -0.5216471565080071,
          -0.37528687751493633,
          -0.9685420450030335,
          -0.05728896034000053,
          1.2582378704313193,
          0.8751239112360449,
          -0.5520061014149678,
          -0.7010512767667684,
          -0.4667152872661785,
          1.6622095835383701,
          0.4995020164011859,
          2.2267298922913072,
          -0.6593475939230415,
          -1.829455092533334,
          -0.731000160738417,
          -1.1837345757874516,
          -0.10802993995791371,
          -0.18466174057252122,
          1.1587551931993783,
          0.6351246492231096,
          1.9362937226827508,
          0.19130915745618232,
          0.01221577918521235,
          -0.7554859562554341,
          0.7184140422363418,
          -0.02504087624912554,
          0.27232324987871503,
          -2.231055701976817,
          -0.6405114028732867,
          -1.1051998663261027,
          3.2685613892422314,
          -1.0326974243490925,
          -0.21654608592375243,
          -1.5763742713627535,
          0.9158590725264812,
          -0.6074054236547549,
          0.027748603834612893,
          0.11259719032670895,
          0.16168425441769932,
          0.2469126299504723,
          -2.3427633156375154,
          -0.05946911210369595,
          1.4602378374812317,
          0.2980729594300721,
          1.1885689344371333,
          -1.0276015884468157,
          1.3049809821828426,
          -1.0828189253555016,
          -0.81500181747484,
          0.18100739737577215,
          -0.9819893643717046,
          -1.7567247714982477,
          -0.7189127866512951,
          -0.8001221135136581,
          -0.91141532744826,
          -0.9456097475592233,
          -0.47830415948983285,
          -0.4506533233935948,
          -0.31628502280265586,
          0.5412070352741424,
          0.6705847523583408,
          0.12432907190852026,
          -0.07326452712069995
         ],
         "xaxis": "x8",
         "y": [
          -1.810705620303543,
          -0.6009888044223608,
          -0.8699212494722677,
          -0.550534748641092,
          0.4274694755230017,
          0.5985403310571168,
          -0.12188328873954034,
          0.4356412141803811,
          0.23677802285309477,
          -1.0316199459958797,
          -1.4119914497327224,
          0.42286751614288964,
          0.6899228786876435,
          -0.3304895135271398,
          1.0199569861773699,
          -0.07452470268944116,
          0.5179123635617616,
          0.7212504056693066,
          1.0568220483539346,
          -0.6329714821783978,
          -0.7729734925590904,
          0.04611373216482665,
          -1.662473515264781,
          0.36338256207965686,
          -0.5503816776380241,
          -2.7322601519765075,
          -1.6113440120570792,
          0.906382094929108,
          0.4735390415891768,
          -0.975263135435076,
          1.588411990779888,
          -2.0768510538923963,
          -1.4231799460959853,
          0.6882644752812591,
          -0.4998480033947634,
          -0.496656394151241,
          -0.4835208859489081,
          -1.8816807499555739,
          0.7719794078507218,
          -0.5139045194391917,
          -1.639215382625045,
          0.40602339946612515,
          2.298972143667528,
          0.11505047736262437,
          0.7005717751962709,
          0.4855307624973052,
          -1.0177172990318302,
          0.4840449889903183,
          -0.7194660638209635,
          -1.2300432610286793,
          -1.3701879756614934,
          -4.671017883589642,
          -1.184275158102963,
          0.39666942539920347,
          -2.226632808899658,
          1.3015642154390656,
          -1.782868004198849,
          2.1247188152382463,
          0.15797693140612953,
          1.8613288779523205,
          -1.7063050375534852,
          1.5331352666503193,
          0.5163164019441416,
          0.21032973058063056,
          -0.7984519380720064,
          1.1289791275584007,
          -0.2821710024131168,
          -0.7397400754627164,
          -0.08853754898509787,
          0.5618092496862193,
          -0.27172333726221837,
          0.1763089843781587,
          -0.36412102130108454,
          2.282272289168112,
          -0.9838235969987101,
          0.4803009506491444,
          1.3445668968174393,
          -0.2172825367000398,
          0.031868623818376185,
          0.7387689037046977,
          1.9125877271166336,
          1.0787847269804158,
          0.3197886159287113,
          0.10733866289906828,
          0.050774236411273876,
          -0.48259031053099,
          0.4489969178285034,
          -0.27393513534568964,
          -1.3236830680290488,
          -0.4724755544055852,
          1.0766300535114623,
          2.005792322169697,
          -1.5314592912873237,
          0.05121594255874584,
          0.27667231651744467,
          1.167398410424178,
          0.3884694404010253,
          -0.27529328081680393,
          0.9988939005905673,
          -0.3363810223756748
         ],
         "yaxis": "y8"
        },
        {
         "line": {
          "color": "rgba(128, 128, 128, 1.0)",
          "dash": "solid",
          "shape": "linear",
          "width": 1.3
         },
         "marker": {
          "size": 2,
          "symbol": "circle"
         },
         "mode": "markers",
         "name": "C",
         "text": "",
         "type": "scatter",
         "x": [
          -0.813094974158615,
          -0.6320677486019147,
          -1.8330180188288216,
          0.30946276649967275,
          -0.34965251460663066,
          0.2541242676005999,
          -1.25409609186406,
          -1.5953824759783306,
          1.209996953723444,
          -0.9031365588388017,
          -0.2528994058951668,
          1.1993671174625855,
          -0.03479382440405025,
          0.3587651949863715,
          -1.1773880168626751,
          0.1882839674798589,
          0.15926856483581273,
          -0.7575700575481089,
          0.5923720816717849,
          -0.43599154580134525,
          -0.40837339303113024,
          -0.47646397111751376,
          -0.4321175598119881,
          -0.4166377903936301,
          0.4465808165690844,
          -2.1124722104004774,
          -0.7168027292736445,
          -1.4687468385877556,
          -0.8552724178550116,
          -0.1833187037760549,
          -0.0516014687726671,
          0.08929624648486419,
          0.283689280140465,
          0.23228257745041886,
          -0.7994824154787796,
          -0.15801600703858176,
          1.6906988519025559,
          -0.14436831923177185,
          -0.8490004432157602,
          0.12606804002629304,
          -1.419783969424822,
          -1.3386672466657163,
          0.1025711857038433,
          -0.17526986520131532,
          1.0322093753670571,
          -0.08573491754076627,
          1.3010216527471408,
          -0.9489028978786285,
          -0.883492332517402,
          -1.2873136726903505,
          0.6479351933755042,
          -0.8376876792340087,
          -0.7386458732355002,
          0.7560364934857938,
          0.6795679333775624,
          0.5918996363507902,
          0.9376426697121171,
          0.2653352431183191,
          1.6579747967261944,
          -1.3355416128149515,
          0.03395533520806284,
          -0.25376231373687164,
          -0.3343846286932071,
          0.947247557239635,
          -0.6079551744162106,
          -0.5752977060081683,
          -0.7890237136747128,
          -0.6587642329116016,
          1.163701930798238,
          0.4606404839325701,
          0.8067944374337038,
          -0.19988432528089134,
          -0.21390856728770027,
          -1.018568825005735,
          -1.9589686543951768,
          0.06068691245208455,
          0.2678907684869432,
          0.03482855608749407,
          -0.38749122105340666,
          -0.5179472276706354,
          0.7704703886351763,
          -0.9890496308856835,
          -0.4756631316399486,
          -0.441569985646899,
          -0.5786339248236021,
          1.2622457440284895,
          -0.3533303731137811,
          0.6127642614441432,
          -0.7507571711907699,
          -0.17145625910104795,
          -1.7199283839683184,
          -0.4694471236015308,
          1.1724720953758947,
          -0.3030314459539039,
          0.7747117018211388,
          0.056886856834242286,
          0.2156621626300678,
          -0.4998451104106444,
          -2.3961426677696873,
          0.4773531183027042
         ],
         "xaxis": "x9",
         "y": [
          0.11478205581581004,
          -0.7269443582850521,
          -0.1016340680650651,
          1.2378074807734678,
          0.5388091112889526,
          -0.4927430155938008,
          0.8371686804480575,
          -0.39013299510156135,
          -2.393066210468212,
          0.0019183805017788742,
          -0.6212843400286342,
          0.9676209752970684,
          -1.5796310872302395,
          -0.4932564107282682,
          0.7916439329286905,
          -0.6729339922723492,
          1.7399217191676006,
          -0.4509690828174776,
          0.16785395282716004,
          -0.757753230238972,
          0.6312887954145839,
          -0.3283564822328538,
          -0.7978452637865974,
          -0.8893931085956209,
          -2.160753748239564,
          0.9545431135106218,
          -2.6208022565379028,
          -0.5148911309926577,
          -1.2798396591335959,
          -0.28918707517250025,
          -0.6240293916732635,
          0.9038059794163196,
          -0.05660955113231021,
          1.3506483845773511,
          -0.8769329662460299,
          -0.1107532276844045,
          1.526879382866703,
          -0.16471239549521408,
          0.07554965503932266,
          -0.9669828002542283,
          -1.1498006789784305,
          -1.4503403112959212,
          -0.09290735196103211,
          0.4806173056682018,
          -1.2810713901463937,
          1.2888541173565045,
          0.8634720603349073,
          0.8448374275058981,
          0.37296355903467393,
          -0.5544209177627011,
          1.408763413526378,
          1.0835412855416442,
          1.3165718329358136,
          -1.664798939796363,
          0.9071188834882395,
          0.20241034222087703,
          -1.1564786307549466,
          -0.0932964523797422,
          1.4140703193632078,
          1.737261186077956,
          -1.5808041215904607,
          -0.6057547399907516,
          1.6816155776518427,
          -0.4888820778770582,
          1.1552763034155282,
          0.2017100658612874,
          -1.8078744153943203,
          -0.9706305630597827,
          1.1484979604817878,
          -1.2359892682170062,
          -2.7540337648068878,
          -0.14845271863611717,
          -1.2925078780907588,
          0.5411658262306305,
          -1.3464204205490389,
          0.5653336995383301,
          2.16344641717525,
          -0.7687566107452469,
          -0.30200898511652086,
          0.7232652642928008,
          0.24367448114825582,
          1.2763788519004793,
          -1.2326788202391716,
          1.3647014194043774,
          1.307768033039978,
          0.4846572183139304,
          -1.272427724900435,
          -0.660930965033993,
          0.7875247488283871,
          -0.026615501892175424,
          -0.7628248833075147,
          -1.4622792771961897,
          0.07764859196380898,
          -1.2344766538783207,
          -0.03578260657767036,
          -0.29940223232268787,
          -1.618126017021462,
          0.3229962626008405,
          1.6520112265009217,
          0.30855758749121664
         ],
         "yaxis": "y9"
        },
        {
         "line": {
          "color": "rgba(128, 128, 128, 1.0)",
          "dash": "solid",
          "shape": "linear",
          "width": 1.3
         },
         "marker": {
          "size": 2,
          "symbol": "circle"
         },
         "mode": "markers",
         "name": "C",
         "text": "",
         "type": "scatter",
         "x": [
          -1.810705620303543,
          -0.6009888044223608,
          -0.8699212494722677,
          -0.550534748641092,
          0.4274694755230017,
          0.5985403310571168,
          -0.12188328873954034,
          0.4356412141803811,
          0.23677802285309477,
          -1.0316199459958797,
          -1.4119914497327224,
          0.42286751614288964,
          0.6899228786876435,
          -0.3304895135271398,
          1.0199569861773699,
          -0.07452470268944116,
          0.5179123635617616,
          0.7212504056693066,
          1.0568220483539346,
          -0.6329714821783978,
          -0.7729734925590904,
          0.04611373216482665,
          -1.662473515264781,
          0.36338256207965686,
          -0.5503816776380241,
          -2.7322601519765075,
          -1.6113440120570792,
          0.906382094929108,
          0.4735390415891768,
          -0.975263135435076,
          1.588411990779888,
          -2.0768510538923963,
          -1.4231799460959853,
          0.6882644752812591,
          -0.4998480033947634,
          -0.496656394151241,
          -0.4835208859489081,
          -1.8816807499555739,
          0.7719794078507218,
          -0.5139045194391917,
          -1.639215382625045,
          0.40602339946612515,
          2.298972143667528,
          0.11505047736262437,
          0.7005717751962709,
          0.4855307624973052,
          -1.0177172990318302,
          0.4840449889903183,
          -0.7194660638209635,
          -1.2300432610286793,
          -1.3701879756614934,
          -4.671017883589642,
          -1.184275158102963,
          0.39666942539920347,
          -2.226632808899658,
          1.3015642154390656,
          -1.782868004198849,
          2.1247188152382463,
          0.15797693140612953,
          1.8613288779523205,
          -1.7063050375534852,
          1.5331352666503193,
          0.5163164019441416,
          0.21032973058063056,
          -0.7984519380720064,
          1.1289791275584007,
          -0.2821710024131168,
          -0.7397400754627164,
          -0.08853754898509787,
          0.5618092496862193,
          -0.27172333726221837,
          0.1763089843781587,
          -0.36412102130108454,
          2.282272289168112,
          -0.9838235969987101,
          0.4803009506491444,
          1.3445668968174393,
          -0.2172825367000398,
          0.031868623818376185,
          0.7387689037046977,
          1.9125877271166336,
          1.0787847269804158,
          0.3197886159287113,
          0.10733866289906828,
          0.050774236411273876,
          -0.48259031053099,
          0.4489969178285034,
          -0.27393513534568964,
          -1.3236830680290488,
          -0.4724755544055852,
          1.0766300535114623,
          2.005792322169697,
          -1.5314592912873237,
          0.05121594255874584,
          0.27667231651744467,
          1.167398410424178,
          0.3884694404010253,
          -0.27529328081680393,
          0.9988939005905673,
          -0.3363810223756748
         ],
         "xaxis": "x10",
         "y": [
          0.11478205581581004,
          -0.7269443582850521,
          -0.1016340680650651,
          1.2378074807734678,
          0.5388091112889526,
          -0.4927430155938008,
          0.8371686804480575,
          -0.39013299510156135,
          -2.393066210468212,
          0.0019183805017788742,
          -0.6212843400286342,
          0.9676209752970684,
          -1.5796310872302395,
          -0.4932564107282682,
          0.7916439329286905,
          -0.6729339922723492,
          1.7399217191676006,
          -0.4509690828174776,
          0.16785395282716004,
          -0.757753230238972,
          0.6312887954145839,
          -0.3283564822328538,
          -0.7978452637865974,
          -0.8893931085956209,
          -2.160753748239564,
          0.9545431135106218,
          -2.6208022565379028,
          -0.5148911309926577,
          -1.2798396591335959,
          -0.28918707517250025,
          -0.6240293916732635,
          0.9038059794163196,
          -0.05660955113231021,
          1.3506483845773511,
          -0.8769329662460299,
          -0.1107532276844045,
          1.526879382866703,
          -0.16471239549521408,
          0.07554965503932266,
          -0.9669828002542283,
          -1.1498006789784305,
          -1.4503403112959212,
          -0.09290735196103211,
          0.4806173056682018,
          -1.2810713901463937,
          1.2888541173565045,
          0.8634720603349073,
          0.8448374275058981,
          0.37296355903467393,
          -0.5544209177627011,
          1.408763413526378,
          1.0835412855416442,
          1.3165718329358136,
          -1.664798939796363,
          0.9071188834882395,
          0.20241034222087703,
          -1.1564786307549466,
          -0.0932964523797422,
          1.4140703193632078,
          1.737261186077956,
          -1.5808041215904607,
          -0.6057547399907516,
          1.6816155776518427,
          -0.4888820778770582,
          1.1552763034155282,
          0.2017100658612874,
          -1.8078744153943203,
          -0.9706305630597827,
          1.1484979604817878,
          -1.2359892682170062,
          -2.7540337648068878,
          -0.14845271863611717,
          -1.2925078780907588,
          0.5411658262306305,
          -1.3464204205490389,
          0.5653336995383301,
          2.16344641717525,
          -0.7687566107452469,
          -0.30200898511652086,
          0.7232652642928008,
          0.24367448114825582,
          1.2763788519004793,
          -1.2326788202391716,
          1.3647014194043774,
          1.307768033039978,
          0.4846572183139304,
          -1.272427724900435,
          -0.660930965033993,
          0.7875247488283871,
          -0.026615501892175424,
          -0.7628248833075147,
          -1.4622792771961897,
          0.07764859196380898,
          -1.2344766538783207,
          -0.03578260657767036,
          -0.29940223232268787,
          -1.618126017021462,
          0.3229962626008405,
          1.6520112265009217,
          0.30855758749121664
         ],
         "yaxis": "y10"
        },
        {
         "histfunc": "count",
         "histnorm": "",
         "marker": {
          "color": "rgba(50, 171, 96, 1.0)",
          "line": {
           "color": "#4D5663",
           "width": 1.3
          }
         },
         "name": "C",
         "nbinsx": 10,
         "opacity": 0.8,
         "orientation": "v",
         "type": "histogram",
         "x": [
          0.11478205581581004,
          -0.7269443582850521,
          -0.1016340680650651,
          1.2378074807734678,
          0.5388091112889526,
          -0.4927430155938008,
          0.8371686804480575,
          -0.39013299510156135,
          -2.393066210468212,
          0.0019183805017788742,
          -0.6212843400286342,
          0.9676209752970684,
          -1.5796310872302395,
          -0.4932564107282682,
          0.7916439329286905,
          -0.6729339922723492,
          1.7399217191676006,
          -0.4509690828174776,
          0.16785395282716004,
          -0.757753230238972,
          0.6312887954145839,
          -0.3283564822328538,
          -0.7978452637865974,
          -0.8893931085956209,
          -2.160753748239564,
          0.9545431135106218,
          -2.6208022565379028,
          -0.5148911309926577,
          -1.2798396591335959,
          -0.28918707517250025,
          -0.6240293916732635,
          0.9038059794163196,
          -0.05660955113231021,
          1.3506483845773511,
          -0.8769329662460299,
          -0.1107532276844045,
          1.526879382866703,
          -0.16471239549521408,
          0.07554965503932266,
          -0.9669828002542283,
          -1.1498006789784305,
          -1.4503403112959212,
          -0.09290735196103211,
          0.4806173056682018,
          -1.2810713901463937,
          1.2888541173565045,
          0.8634720603349073,
          0.8448374275058981,
          0.37296355903467393,
          -0.5544209177627011,
          1.408763413526378,
          1.0835412855416442,
          1.3165718329358136,
          -1.664798939796363,
          0.9071188834882395,
          0.20241034222087703,
          -1.1564786307549466,
          -0.0932964523797422,
          1.4140703193632078,
          1.737261186077956,
          -1.5808041215904607,
          -0.6057547399907516,
          1.6816155776518427,
          -0.4888820778770582,
          1.1552763034155282,
          0.2017100658612874,
          -1.8078744153943203,
          -0.9706305630597827,
          1.1484979604817878,
          -1.2359892682170062,
          -2.7540337648068878,
          -0.14845271863611717,
          -1.2925078780907588,
          0.5411658262306305,
          -1.3464204205490389,
          0.5653336995383301,
          2.16344641717525,
          -0.7687566107452469,
          -0.30200898511652086,
          0.7232652642928008,
          0.24367448114825582,
          1.2763788519004793,
          -1.2326788202391716,
          1.3647014194043774,
          1.307768033039978,
          0.4846572183139304,
          -1.272427724900435,
          -0.660930965033993,
          0.7875247488283871,
          -0.026615501892175424,
          -0.7628248833075147,
          -1.4622792771961897,
          0.07764859196380898,
          -1.2344766538783207,
          -0.03578260657767036,
          -0.29940223232268787,
          -1.618126017021462,
          0.3229962626008405,
          1.6520112265009217,
          0.30855758749121664
         ],
         "xaxis": "x11",
         "yaxis": "y11"
        },
        {
         "line": {
          "color": "rgba(128, 128, 128, 1.0)",
          "dash": "solid",
          "shape": "linear",
          "width": 1.3
         },
         "marker": {
          "size": 2,
          "symbol": "circle"
         },
         "mode": "markers",
         "name": "C",
         "text": "",
         "type": "scatter",
         "x": [
          -0.3711931195882421,
          0.09976857112903022,
          0.9939841470463258,
          -0.9173811897687342,
          1.3642204266535358,
          -0.853767248924945,
          0.5344726508326774,
          -0.25254954602810586,
          1.3519306823601493,
          0.9705011873043906,
          0.49484252843912263,
          -0.24719792523029027,
          1.6574866576257656,
          1.1593405743507281,
          -2.0945717822987597,
          1.0018232358435215,
          -0.6659273832893793,
          1.3312705501019129,
          0.04282474171051095,
          -0.7457730652334875,
          0.8906541224627033,
          0.004219177583501206,
          0.13700574672714838,
          0.9757088108414181,
          -1.1373755748646621,
          -0.9585348853767228,
          -1.265109555400537,
          0.066649404176319,
          0.5886509931401189,
          -0.20935248036239013,
          0.08355201605704875,
          -0.7247359165430772,
          0.0800168690130128,
          1.033643312989802,
          1.2231227729939784,
          2.692333571163918,
          0.7219892080868341,
          -0.5216471565080071,
          -0.37528687751493633,
          -0.9685420450030335,
          -0.05728896034000053,
          1.2582378704313193,
          0.8751239112360449,
          -0.5520061014149678,
          -0.7010512767667684,
          -0.4667152872661785,
          1.6622095835383701,
          0.4995020164011859,
          2.2267298922913072,
          -0.6593475939230415,
          -1.829455092533334,
          -0.731000160738417,
          -1.1837345757874516,
          -0.10802993995791371,
          -0.18466174057252122,
          1.1587551931993783,
          0.6351246492231096,
          1.9362937226827508,
          0.19130915745618232,
          0.01221577918521235,
          -0.7554859562554341,
          0.7184140422363418,
          -0.02504087624912554,
          0.27232324987871503,
          -2.231055701976817,
          -0.6405114028732867,
          -1.1051998663261027,
          3.2685613892422314,
          -1.0326974243490925,
          -0.21654608592375243,
          -1.5763742713627535,
          0.9158590725264812,
          -0.6074054236547549,
          0.027748603834612893,
          0.11259719032670895,
          0.16168425441769932,
          0.2469126299504723,
          -2.3427633156375154,
          -0.05946911210369595,
          1.4602378374812317,
          0.2980729594300721,
          1.1885689344371333,
          -1.0276015884468157,
          1.3049809821828426,
          -1.0828189253555016,
          -0.81500181747484,
          0.18100739737577215,
          -0.9819893643717046,
          -1.7567247714982477,
          -0.7189127866512951,
          -0.8001221135136581,
          -0.91141532744826,
          -0.9456097475592233,
          -0.47830415948983285,
          -0.4506533233935948,
          -0.31628502280265586,
          0.5412070352741424,
          0.6705847523583408,
          0.12432907190852026,
          -0.07326452712069995
         ],
         "xaxis": "x12",
         "y": [
          0.11478205581581004,
          -0.7269443582850521,
          -0.1016340680650651,
          1.2378074807734678,
          0.5388091112889526,
          -0.4927430155938008,
          0.8371686804480575,
          -0.39013299510156135,
          -2.393066210468212,
          0.0019183805017788742,
          -0.6212843400286342,
          0.9676209752970684,
          -1.5796310872302395,
          -0.4932564107282682,
          0.7916439329286905,
          -0.6729339922723492,
          1.7399217191676006,
          -0.4509690828174776,
          0.16785395282716004,
          -0.757753230238972,
          0.6312887954145839,
          -0.3283564822328538,
          -0.7978452637865974,
          -0.8893931085956209,
          -2.160753748239564,
          0.9545431135106218,
          -2.6208022565379028,
          -0.5148911309926577,
          -1.2798396591335959,
          -0.28918707517250025,
          -0.6240293916732635,
          0.9038059794163196,
          -0.05660955113231021,
          1.3506483845773511,
          -0.8769329662460299,
          -0.1107532276844045,
          1.526879382866703,
          -0.16471239549521408,
          0.07554965503932266,
          -0.9669828002542283,
          -1.1498006789784305,
          -1.4503403112959212,
          -0.09290735196103211,
          0.4806173056682018,
          -1.2810713901463937,
          1.2888541173565045,
          0.8634720603349073,
          0.8448374275058981,
          0.37296355903467393,
          -0.5544209177627011,
          1.408763413526378,
          1.0835412855416442,
          1.3165718329358136,
          -1.664798939796363,
          0.9071188834882395,
          0.20241034222087703,
          -1.1564786307549466,
          -0.0932964523797422,
          1.4140703193632078,
          1.737261186077956,
          -1.5808041215904607,
          -0.6057547399907516,
          1.6816155776518427,
          -0.4888820778770582,
          1.1552763034155282,
          0.2017100658612874,
          -1.8078744153943203,
          -0.9706305630597827,
          1.1484979604817878,
          -1.2359892682170062,
          -2.7540337648068878,
          -0.14845271863611717,
          -1.2925078780907588,
          0.5411658262306305,
          -1.3464204205490389,
          0.5653336995383301,
          2.16344641717525,
          -0.7687566107452469,
          -0.30200898511652086,
          0.7232652642928008,
          0.24367448114825582,
          1.2763788519004793,
          -1.2326788202391716,
          1.3647014194043774,
          1.307768033039978,
          0.4846572183139304,
          -1.272427724900435,
          -0.660930965033993,
          0.7875247488283871,
          -0.026615501892175424,
          -0.7628248833075147,
          -1.4622792771961897,
          0.07764859196380898,
          -1.2344766538783207,
          -0.03578260657767036,
          -0.29940223232268787,
          -1.618126017021462,
          0.3229962626008405,
          1.6520112265009217,
          0.30855758749121664
         ],
         "yaxis": "y12"
        },
        {
         "line": {
          "color": "rgba(128, 128, 128, 1.0)",
          "dash": "solid",
          "shape": "linear",
          "width": 1.3
         },
         "marker": {
          "size": 2,
          "symbol": "circle"
         },
         "mode": "markers",
         "name": "D",
         "text": "",
         "type": "scatter",
         "x": [
          -0.813094974158615,
          -0.6320677486019147,
          -1.8330180188288216,
          0.30946276649967275,
          -0.34965251460663066,
          0.2541242676005999,
          -1.25409609186406,
          -1.5953824759783306,
          1.209996953723444,
          -0.9031365588388017,
          -0.2528994058951668,
          1.1993671174625855,
          -0.03479382440405025,
          0.3587651949863715,
          -1.1773880168626751,
          0.1882839674798589,
          0.15926856483581273,
          -0.7575700575481089,
          0.5923720816717849,
          -0.43599154580134525,
          -0.40837339303113024,
          -0.47646397111751376,
          -0.4321175598119881,
          -0.4166377903936301,
          0.4465808165690844,
          -2.1124722104004774,
          -0.7168027292736445,
          -1.4687468385877556,
          -0.8552724178550116,
          -0.1833187037760549,
          -0.0516014687726671,
          0.08929624648486419,
          0.283689280140465,
          0.23228257745041886,
          -0.7994824154787796,
          -0.15801600703858176,
          1.6906988519025559,
          -0.14436831923177185,
          -0.8490004432157602,
          0.12606804002629304,
          -1.419783969424822,
          -1.3386672466657163,
          0.1025711857038433,
          -0.17526986520131532,
          1.0322093753670571,
          -0.08573491754076627,
          1.3010216527471408,
          -0.9489028978786285,
          -0.883492332517402,
          -1.2873136726903505,
          0.6479351933755042,
          -0.8376876792340087,
          -0.7386458732355002,
          0.7560364934857938,
          0.6795679333775624,
          0.5918996363507902,
          0.9376426697121171,
          0.2653352431183191,
          1.6579747967261944,
          -1.3355416128149515,
          0.03395533520806284,
          -0.25376231373687164,
          -0.3343846286932071,
          0.947247557239635,
          -0.6079551744162106,
          -0.5752977060081683,
          -0.7890237136747128,
          -0.6587642329116016,
          1.163701930798238,
          0.4606404839325701,
          0.8067944374337038,
          -0.19988432528089134,
          -0.21390856728770027,
          -1.018568825005735,
          -1.9589686543951768,
          0.06068691245208455,
          0.2678907684869432,
          0.03482855608749407,
          -0.38749122105340666,
          -0.5179472276706354,
          0.7704703886351763,
          -0.9890496308856835,
          -0.4756631316399486,
          -0.441569985646899,
          -0.5786339248236021,
          1.2622457440284895,
          -0.3533303731137811,
          0.6127642614441432,
          -0.7507571711907699,
          -0.17145625910104795,
          -1.7199283839683184,
          -0.4694471236015308,
          1.1724720953758947,
          -0.3030314459539039,
          0.7747117018211388,
          0.056886856834242286,
          0.2156621626300678,
          -0.4998451104106444,
          -2.3961426677696873,
          0.4773531183027042
         ],
         "xaxis": "x13",
         "y": [
          -0.3711931195882421,
          0.09976857112903022,
          0.9939841470463258,
          -0.9173811897687342,
          1.3642204266535358,
          -0.853767248924945,
          0.5344726508326774,
          -0.25254954602810586,
          1.3519306823601493,
          0.9705011873043906,
          0.49484252843912263,
          -0.24719792523029027,
          1.6574866576257656,
          1.1593405743507281,
          -2.0945717822987597,
          1.0018232358435215,
          -0.6659273832893793,
          1.3312705501019129,
          0.04282474171051095,
          -0.7457730652334875,
          0.8906541224627033,
          0.004219177583501206,
          0.13700574672714838,
          0.9757088108414181,
          -1.1373755748646621,
          -0.9585348853767228,
          -1.265109555400537,
          0.066649404176319,
          0.5886509931401189,
          -0.20935248036239013,
          0.08355201605704875,
          -0.7247359165430772,
          0.0800168690130128,
          1.033643312989802,
          1.2231227729939784,
          2.692333571163918,
          0.7219892080868341,
          -0.5216471565080071,
          -0.37528687751493633,
          -0.9685420450030335,
          -0.05728896034000053,
          1.2582378704313193,
          0.8751239112360449,
          -0.5520061014149678,
          -0.7010512767667684,
          -0.4667152872661785,
          1.6622095835383701,
          0.4995020164011859,
          2.2267298922913072,
          -0.6593475939230415,
          -1.829455092533334,
          -0.731000160738417,
          -1.1837345757874516,
          -0.10802993995791371,
          -0.18466174057252122,
          1.1587551931993783,
          0.6351246492231096,
          1.9362937226827508,
          0.19130915745618232,
          0.01221577918521235,
          -0.7554859562554341,
          0.7184140422363418,
          -0.02504087624912554,
          0.27232324987871503,
          -2.231055701976817,
          -0.6405114028732867,
          -1.1051998663261027,
          3.2685613892422314,
          -1.0326974243490925,
          -0.21654608592375243,
          -1.5763742713627535,
          0.9158590725264812,
          -0.6074054236547549,
          0.027748603834612893,
          0.11259719032670895,
          0.16168425441769932,
          0.2469126299504723,
          -2.3427633156375154,
          -0.05946911210369595,
          1.4602378374812317,
          0.2980729594300721,
          1.1885689344371333,
          -1.0276015884468157,
          1.3049809821828426,
          -1.0828189253555016,
          -0.81500181747484,
          0.18100739737577215,
          -0.9819893643717046,
          -1.7567247714982477,
          -0.7189127866512951,
          -0.8001221135136581,
          -0.91141532744826,
          -0.9456097475592233,
          -0.47830415948983285,
          -0.4506533233935948,
          -0.31628502280265586,
          0.5412070352741424,
          0.6705847523583408,
          0.12432907190852026,
          -0.07326452712069995
         ],
         "yaxis": "y13"
        },
        {
         "line": {
          "color": "rgba(128, 128, 128, 1.0)",
          "dash": "solid",
          "shape": "linear",
          "width": 1.3
         },
         "marker": {
          "size": 2,
          "symbol": "circle"
         },
         "mode": "markers",
         "name": "D",
         "text": "",
         "type": "scatter",
         "x": [
          -1.810705620303543,
          -0.6009888044223608,
          -0.8699212494722677,
          -0.550534748641092,
          0.4274694755230017,
          0.5985403310571168,
          -0.12188328873954034,
          0.4356412141803811,
          0.23677802285309477,
          -1.0316199459958797,
          -1.4119914497327224,
          0.42286751614288964,
          0.6899228786876435,
          -0.3304895135271398,
          1.0199569861773699,
          -0.07452470268944116,
          0.5179123635617616,
          0.7212504056693066,
          1.0568220483539346,
          -0.6329714821783978,
          -0.7729734925590904,
          0.04611373216482665,
          -1.662473515264781,
          0.36338256207965686,
          -0.5503816776380241,
          -2.7322601519765075,
          -1.6113440120570792,
          0.906382094929108,
          0.4735390415891768,
          -0.975263135435076,
          1.588411990779888,
          -2.0768510538923963,
          -1.4231799460959853,
          0.6882644752812591,
          -0.4998480033947634,
          -0.496656394151241,
          -0.4835208859489081,
          -1.8816807499555739,
          0.7719794078507218,
          -0.5139045194391917,
          -1.639215382625045,
          0.40602339946612515,
          2.298972143667528,
          0.11505047736262437,
          0.7005717751962709,
          0.4855307624973052,
          -1.0177172990318302,
          0.4840449889903183,
          -0.7194660638209635,
          -1.2300432610286793,
          -1.3701879756614934,
          -4.671017883589642,
          -1.184275158102963,
          0.39666942539920347,
          -2.226632808899658,
          1.3015642154390656,
          -1.782868004198849,
          2.1247188152382463,
          0.15797693140612953,
          1.8613288779523205,
          -1.7063050375534852,
          1.5331352666503193,
          0.5163164019441416,
          0.21032973058063056,
          -0.7984519380720064,
          1.1289791275584007,
          -0.2821710024131168,
          -0.7397400754627164,
          -0.08853754898509787,
          0.5618092496862193,
          -0.27172333726221837,
          0.1763089843781587,
          -0.36412102130108454,
          2.282272289168112,
          -0.9838235969987101,
          0.4803009506491444,
          1.3445668968174393,
          -0.2172825367000398,
          0.031868623818376185,
          0.7387689037046977,
          1.9125877271166336,
          1.0787847269804158,
          0.3197886159287113,
          0.10733866289906828,
          0.050774236411273876,
          -0.48259031053099,
          0.4489969178285034,
          -0.27393513534568964,
          -1.3236830680290488,
          -0.4724755544055852,
          1.0766300535114623,
          2.005792322169697,
          -1.5314592912873237,
          0.05121594255874584,
          0.27667231651744467,
          1.167398410424178,
          0.3884694404010253,
          -0.27529328081680393,
          0.9988939005905673,
          -0.3363810223756748
         ],
         "xaxis": "x14",
         "y": [
          -0.3711931195882421,
          0.09976857112903022,
          0.9939841470463258,
          -0.9173811897687342,
          1.3642204266535358,
          -0.853767248924945,
          0.5344726508326774,
          -0.25254954602810586,
          1.3519306823601493,
          0.9705011873043906,
          0.49484252843912263,
          -0.24719792523029027,
          1.6574866576257656,
          1.1593405743507281,
          -2.0945717822987597,
          1.0018232358435215,
          -0.6659273832893793,
          1.3312705501019129,
          0.04282474171051095,
          -0.7457730652334875,
          0.8906541224627033,
          0.004219177583501206,
          0.13700574672714838,
          0.9757088108414181,
          -1.1373755748646621,
          -0.9585348853767228,
          -1.265109555400537,
          0.066649404176319,
          0.5886509931401189,
          -0.20935248036239013,
          0.08355201605704875,
          -0.7247359165430772,
          0.0800168690130128,
          1.033643312989802,
          1.2231227729939784,
          2.692333571163918,
          0.7219892080868341,
          -0.5216471565080071,
          -0.37528687751493633,
          -0.9685420450030335,
          -0.05728896034000053,
          1.2582378704313193,
          0.8751239112360449,
          -0.5520061014149678,
          -0.7010512767667684,
          -0.4667152872661785,
          1.6622095835383701,
          0.4995020164011859,
          2.2267298922913072,
          -0.6593475939230415,
          -1.829455092533334,
          -0.731000160738417,
          -1.1837345757874516,
          -0.10802993995791371,
          -0.18466174057252122,
          1.1587551931993783,
          0.6351246492231096,
          1.9362937226827508,
          0.19130915745618232,
          0.01221577918521235,
          -0.7554859562554341,
          0.7184140422363418,
          -0.02504087624912554,
          0.27232324987871503,
          -2.231055701976817,
          -0.6405114028732867,
          -1.1051998663261027,
          3.2685613892422314,
          -1.0326974243490925,
          -0.21654608592375243,
          -1.5763742713627535,
          0.9158590725264812,
          -0.6074054236547549,
          0.027748603834612893,
          0.11259719032670895,
          0.16168425441769932,
          0.2469126299504723,
          -2.3427633156375154,
          -0.05946911210369595,
          1.4602378374812317,
          0.2980729594300721,
          1.1885689344371333,
          -1.0276015884468157,
          1.3049809821828426,
          -1.0828189253555016,
          -0.81500181747484,
          0.18100739737577215,
          -0.9819893643717046,
          -1.7567247714982477,
          -0.7189127866512951,
          -0.8001221135136581,
          -0.91141532744826,
          -0.9456097475592233,
          -0.47830415948983285,
          -0.4506533233935948,
          -0.31628502280265586,
          0.5412070352741424,
          0.6705847523583408,
          0.12432907190852026,
          -0.07326452712069995
         ],
         "yaxis": "y14"
        },
        {
         "line": {
          "color": "rgba(128, 128, 128, 1.0)",
          "dash": "solid",
          "shape": "linear",
          "width": 1.3
         },
         "marker": {
          "size": 2,
          "symbol": "circle"
         },
         "mode": "markers",
         "name": "D",
         "text": "",
         "type": "scatter",
         "x": [
          0.11478205581581004,
          -0.7269443582850521,
          -0.1016340680650651,
          1.2378074807734678,
          0.5388091112889526,
          -0.4927430155938008,
          0.8371686804480575,
          -0.39013299510156135,
          -2.393066210468212,
          0.0019183805017788742,
          -0.6212843400286342,
          0.9676209752970684,
          -1.5796310872302395,
          -0.4932564107282682,
          0.7916439329286905,
          -0.6729339922723492,
          1.7399217191676006,
          -0.4509690828174776,
          0.16785395282716004,
          -0.757753230238972,
          0.6312887954145839,
          -0.3283564822328538,
          -0.7978452637865974,
          -0.8893931085956209,
          -2.160753748239564,
          0.9545431135106218,
          -2.6208022565379028,
          -0.5148911309926577,
          -1.2798396591335959,
          -0.28918707517250025,
          -0.6240293916732635,
          0.9038059794163196,
          -0.05660955113231021,
          1.3506483845773511,
          -0.8769329662460299,
          -0.1107532276844045,
          1.526879382866703,
          -0.16471239549521408,
          0.07554965503932266,
          -0.9669828002542283,
          -1.1498006789784305,
          -1.4503403112959212,
          -0.09290735196103211,
          0.4806173056682018,
          -1.2810713901463937,
          1.2888541173565045,
          0.8634720603349073,
          0.8448374275058981,
          0.37296355903467393,
          -0.5544209177627011,
          1.408763413526378,
          1.0835412855416442,
          1.3165718329358136,
          -1.664798939796363,
          0.9071188834882395,
          0.20241034222087703,
          -1.1564786307549466,
          -0.0932964523797422,
          1.4140703193632078,
          1.737261186077956,
          -1.5808041215904607,
          -0.6057547399907516,
          1.6816155776518427,
          -0.4888820778770582,
          1.1552763034155282,
          0.2017100658612874,
          -1.8078744153943203,
          -0.9706305630597827,
          1.1484979604817878,
          -1.2359892682170062,
          -2.7540337648068878,
          -0.14845271863611717,
          -1.2925078780907588,
          0.5411658262306305,
          -1.3464204205490389,
          0.5653336995383301,
          2.16344641717525,
          -0.7687566107452469,
          -0.30200898511652086,
          0.7232652642928008,
          0.24367448114825582,
          1.2763788519004793,
          -1.2326788202391716,
          1.3647014194043774,
          1.307768033039978,
          0.4846572183139304,
          -1.272427724900435,
          -0.660930965033993,
          0.7875247488283871,
          -0.026615501892175424,
          -0.7628248833075147,
          -1.4622792771961897,
          0.07764859196380898,
          -1.2344766538783207,
          -0.03578260657767036,
          -0.29940223232268787,
          -1.618126017021462,
          0.3229962626008405,
          1.6520112265009217,
          0.30855758749121664
         ],
         "xaxis": "x15",
         "y": [
          -0.3711931195882421,
          0.09976857112903022,
          0.9939841470463258,
          -0.9173811897687342,
          1.3642204266535358,
          -0.853767248924945,
          0.5344726508326774,
          -0.25254954602810586,
          1.3519306823601493,
          0.9705011873043906,
          0.49484252843912263,
          -0.24719792523029027,
          1.6574866576257656,
          1.1593405743507281,
          -2.0945717822987597,
          1.0018232358435215,
          -0.6659273832893793,
          1.3312705501019129,
          0.04282474171051095,
          -0.7457730652334875,
          0.8906541224627033,
          0.004219177583501206,
          0.13700574672714838,
          0.9757088108414181,
          -1.1373755748646621,
          -0.9585348853767228,
          -1.265109555400537,
          0.066649404176319,
          0.5886509931401189,
          -0.20935248036239013,
          0.08355201605704875,
          -0.7247359165430772,
          0.0800168690130128,
          1.033643312989802,
          1.2231227729939784,
          2.692333571163918,
          0.7219892080868341,
          -0.5216471565080071,
          -0.37528687751493633,
          -0.9685420450030335,
          -0.05728896034000053,
          1.2582378704313193,
          0.8751239112360449,
          -0.5520061014149678,
          -0.7010512767667684,
          -0.4667152872661785,
          1.6622095835383701,
          0.4995020164011859,
          2.2267298922913072,
          -0.6593475939230415,
          -1.829455092533334,
          -0.731000160738417,
          -1.1837345757874516,
          -0.10802993995791371,
          -0.18466174057252122,
          1.1587551931993783,
          0.6351246492231096,
          1.9362937226827508,
          0.19130915745618232,
          0.01221577918521235,
          -0.7554859562554341,
          0.7184140422363418,
          -0.02504087624912554,
          0.27232324987871503,
          -2.231055701976817,
          -0.6405114028732867,
          -1.1051998663261027,
          3.2685613892422314,
          -1.0326974243490925,
          -0.21654608592375243,
          -1.5763742713627535,
          0.9158590725264812,
          -0.6074054236547549,
          0.027748603834612893,
          0.11259719032670895,
          0.16168425441769932,
          0.2469126299504723,
          -2.3427633156375154,
          -0.05946911210369595,
          1.4602378374812317,
          0.2980729594300721,
          1.1885689344371333,
          -1.0276015884468157,
          1.3049809821828426,
          -1.0828189253555016,
          -0.81500181747484,
          0.18100739737577215,
          -0.9819893643717046,
          -1.7567247714982477,
          -0.7189127866512951,
          -0.8001221135136581,
          -0.91141532744826,
          -0.9456097475592233,
          -0.47830415948983285,
          -0.4506533233935948,
          -0.31628502280265586,
          0.5412070352741424,
          0.6705847523583408,
          0.12432907190852026,
          -0.07326452712069995
         ],
         "yaxis": "y15"
        },
        {
         "histfunc": "count",
         "histnorm": "",
         "marker": {
          "color": "rgba(128, 0, 128, 1.0)",
          "line": {
           "color": "#4D5663",
           "width": 1.3
          }
         },
         "name": "D",
         "nbinsx": 10,
         "opacity": 0.8,
         "orientation": "v",
         "type": "histogram",
         "x": [
          -0.3711931195882421,
          0.09976857112903022,
          0.9939841470463258,
          -0.9173811897687342,
          1.3642204266535358,
          -0.853767248924945,
          0.5344726508326774,
          -0.25254954602810586,
          1.3519306823601493,
          0.9705011873043906,
          0.49484252843912263,
          -0.24719792523029027,
          1.6574866576257656,
          1.1593405743507281,
          -2.0945717822987597,
          1.0018232358435215,
          -0.6659273832893793,
          1.3312705501019129,
          0.04282474171051095,
          -0.7457730652334875,
          0.8906541224627033,
          0.004219177583501206,
          0.13700574672714838,
          0.9757088108414181,
          -1.1373755748646621,
          -0.9585348853767228,
          -1.265109555400537,
          0.066649404176319,
          0.5886509931401189,
          -0.20935248036239013,
          0.08355201605704875,
          -0.7247359165430772,
          0.0800168690130128,
          1.033643312989802,
          1.2231227729939784,
          2.692333571163918,
          0.7219892080868341,
          -0.5216471565080071,
          -0.37528687751493633,
          -0.9685420450030335,
          -0.05728896034000053,
          1.2582378704313193,
          0.8751239112360449,
          -0.5520061014149678,
          -0.7010512767667684,
          -0.4667152872661785,
          1.6622095835383701,
          0.4995020164011859,
          2.2267298922913072,
          -0.6593475939230415,
          -1.829455092533334,
          -0.731000160738417,
          -1.1837345757874516,
          -0.10802993995791371,
          -0.18466174057252122,
          1.1587551931993783,
          0.6351246492231096,
          1.9362937226827508,
          0.19130915745618232,
          0.01221577918521235,
          -0.7554859562554341,
          0.7184140422363418,
          -0.02504087624912554,
          0.27232324987871503,
          -2.231055701976817,
          -0.6405114028732867,
          -1.1051998663261027,
          3.2685613892422314,
          -1.0326974243490925,
          -0.21654608592375243,
          -1.5763742713627535,
          0.9158590725264812,
          -0.6074054236547549,
          0.027748603834612893,
          0.11259719032670895,
          0.16168425441769932,
          0.2469126299504723,
          -2.3427633156375154,
          -0.05946911210369595,
          1.4602378374812317,
          0.2980729594300721,
          1.1885689344371333,
          -1.0276015884468157,
          1.3049809821828426,
          -1.0828189253555016,
          -0.81500181747484,
          0.18100739737577215,
          -0.9819893643717046,
          -1.7567247714982477,
          -0.7189127866512951,
          -0.8001221135136581,
          -0.91141532744826,
          -0.9456097475592233,
          -0.47830415948983285,
          -0.4506533233935948,
          -0.31628502280265586,
          0.5412070352741424,
          0.6705847523583408,
          0.12432907190852026,
          -0.07326452712069995
         ],
         "xaxis": "x16",
         "yaxis": "y16"
        }
       ],
       "layout": {
        "bargap": 0.02,
        "legend": {
         "bgcolor": "#F5F6F9",
         "font": {
          "color": "#4D5663"
         }
        },
        "paper_bgcolor": "#F5F6F9",
        "plot_bgcolor": "#F5F6F9",
        "showlegend": false,
        "template": {
         "data": {
          "bar": [
           {
            "error_x": {
             "color": "#2a3f5f"
            },
            "error_y": {
             "color": "#2a3f5f"
            },
            "marker": {
             "line": {
              "color": "#E5ECF6",
              "width": 0.5
             },
             "pattern": {
              "fillmode": "overlay",
              "size": 10,
              "solidity": 0.2
             }
            },
            "type": "bar"
           }
          ],
          "barpolar": [
           {
            "marker": {
             "line": {
              "color": "#E5ECF6",
              "width": 0.5
             },
             "pattern": {
              "fillmode": "overlay",
              "size": 10,
              "solidity": 0.2
             }
            },
            "type": "barpolar"
           }
          ],
          "carpet": [
           {
            "aaxis": {
             "endlinecolor": "#2a3f5f",
             "gridcolor": "white",
             "linecolor": "white",
             "minorgridcolor": "white",
             "startlinecolor": "#2a3f5f"
            },
            "baxis": {
             "endlinecolor": "#2a3f5f",
             "gridcolor": "white",
             "linecolor": "white",
             "minorgridcolor": "white",
             "startlinecolor": "#2a3f5f"
            },
            "type": "carpet"
           }
          ],
          "choropleth": [
           {
            "colorbar": {
             "outlinewidth": 0,
             "ticks": ""
            },
            "type": "choropleth"
           }
          ],
          "contour": [
           {
            "colorbar": {
             "outlinewidth": 0,
             "ticks": ""
            },
            "colorscale": [
             [
              0,
              "#0d0887"
             ],
             [
              0.1111111111111111,
              "#46039f"
             ],
             [
              0.2222222222222222,
              "#7201a8"
             ],
             [
              0.3333333333333333,
              "#9c179e"
             ],
             [
              0.4444444444444444,
              "#bd3786"
             ],
             [
              0.5555555555555556,
              "#d8576b"
             ],
             [
              0.6666666666666666,
              "#ed7953"
             ],
             [
              0.7777777777777778,
              "#fb9f3a"
             ],
             [
              0.8888888888888888,
              "#fdca26"
             ],
             [
              1,
              "#f0f921"
             ]
            ],
            "type": "contour"
           }
          ],
          "contourcarpet": [
           {
            "colorbar": {
             "outlinewidth": 0,
             "ticks": ""
            },
            "type": "contourcarpet"
           }
          ],
          "heatmap": [
           {
            "colorbar": {
             "outlinewidth": 0,
             "ticks": ""
            },
            "colorscale": [
             [
              0,
              "#0d0887"
             ],
             [
              0.1111111111111111,
              "#46039f"
             ],
             [
              0.2222222222222222,
              "#7201a8"
             ],
             [
              0.3333333333333333,
              "#9c179e"
             ],
             [
              0.4444444444444444,
              "#bd3786"
             ],
             [
              0.5555555555555556,
              "#d8576b"
             ],
             [
              0.6666666666666666,
              "#ed7953"
             ],
             [
              0.7777777777777778,
              "#fb9f3a"
             ],
             [
              0.8888888888888888,
              "#fdca26"
             ],
             [
              1,
              "#f0f921"
             ]
            ],
            "type": "heatmap"
           }
          ],
          "heatmapgl": [
           {
            "colorbar": {
             "outlinewidth": 0,
             "ticks": ""
            },
            "colorscale": [
             [
              0,
              "#0d0887"
             ],
             [
              0.1111111111111111,
              "#46039f"
             ],
             [
              0.2222222222222222,
              "#7201a8"
             ],
             [
              0.3333333333333333,
              "#9c179e"
             ],
             [
              0.4444444444444444,
              "#bd3786"
             ],
             [
              0.5555555555555556,
              "#d8576b"
             ],
             [
              0.6666666666666666,
              "#ed7953"
             ],
             [
              0.7777777777777778,
              "#fb9f3a"
             ],
             [
              0.8888888888888888,
              "#fdca26"
             ],
             [
              1,
              "#f0f921"
             ]
            ],
            "type": "heatmapgl"
           }
          ],
          "histogram": [
           {
            "marker": {
             "pattern": {
              "fillmode": "overlay",
              "size": 10,
              "solidity": 0.2
             }
            },
            "type": "histogram"
           }
          ],
          "histogram2d": [
           {
            "colorbar": {
             "outlinewidth": 0,
             "ticks": ""
            },
            "colorscale": [
             [
              0,
              "#0d0887"
             ],
             [
              0.1111111111111111,
              "#46039f"
             ],
             [
              0.2222222222222222,
              "#7201a8"
             ],
             [
              0.3333333333333333,
              "#9c179e"
             ],
             [
              0.4444444444444444,
              "#bd3786"
             ],
             [
              0.5555555555555556,
              "#d8576b"
             ],
             [
              0.6666666666666666,
              "#ed7953"
             ],
             [
              0.7777777777777778,
              "#fb9f3a"
             ],
             [
              0.8888888888888888,
              "#fdca26"
             ],
             [
              1,
              "#f0f921"
             ]
            ],
            "type": "histogram2d"
           }
          ],
          "histogram2dcontour": [
           {
            "colorbar": {
             "outlinewidth": 0,
             "ticks": ""
            },
            "colorscale": [
             [
              0,
              "#0d0887"
             ],
             [
              0.1111111111111111,
              "#46039f"
             ],
             [
              0.2222222222222222,
              "#7201a8"
             ],
             [
              0.3333333333333333,
              "#9c179e"
             ],
             [
              0.4444444444444444,
              "#bd3786"
             ],
             [
              0.5555555555555556,
              "#d8576b"
             ],
             [
              0.6666666666666666,
              "#ed7953"
             ],
             [
              0.7777777777777778,
              "#fb9f3a"
             ],
             [
              0.8888888888888888,
              "#fdca26"
             ],
             [
              1,
              "#f0f921"
             ]
            ],
            "type": "histogram2dcontour"
           }
          ],
          "mesh3d": [
           {
            "colorbar": {
             "outlinewidth": 0,
             "ticks": ""
            },
            "type": "mesh3d"
           }
          ],
          "parcoords": [
           {
            "line": {
             "colorbar": {
              "outlinewidth": 0,
              "ticks": ""
             }
            },
            "type": "parcoords"
           }
          ],
          "pie": [
           {
            "automargin": true,
            "type": "pie"
           }
          ],
          "scatter": [
           {
            "marker": {
             "colorbar": {
              "outlinewidth": 0,
              "ticks": ""
             }
            },
            "type": "scatter"
           }
          ],
          "scatter3d": [
           {
            "line": {
             "colorbar": {
              "outlinewidth": 0,
              "ticks": ""
             }
            },
            "marker": {
             "colorbar": {
              "outlinewidth": 0,
              "ticks": ""
             }
            },
            "type": "scatter3d"
           }
          ],
          "scattercarpet": [
           {
            "marker": {
             "colorbar": {
              "outlinewidth": 0,
              "ticks": ""
             }
            },
            "type": "scattercarpet"
           }
          ],
          "scattergeo": [
           {
            "marker": {
             "colorbar": {
              "outlinewidth": 0,
              "ticks": ""
             }
            },
            "type": "scattergeo"
           }
          ],
          "scattergl": [
           {
            "marker": {
             "colorbar": {
              "outlinewidth": 0,
              "ticks": ""
             }
            },
            "type": "scattergl"
           }
          ],
          "scattermapbox": [
           {
            "marker": {
             "colorbar": {
              "outlinewidth": 0,
              "ticks": ""
             }
            },
            "type": "scattermapbox"
           }
          ],
          "scatterpolar": [
           {
            "marker": {
             "colorbar": {
              "outlinewidth": 0,
              "ticks": ""
             }
            },
            "type": "scatterpolar"
           }
          ],
          "scatterpolargl": [
           {
            "marker": {
             "colorbar": {
              "outlinewidth": 0,
              "ticks": ""
             }
            },
            "type": "scatterpolargl"
           }
          ],
          "scatterternary": [
           {
            "marker": {
             "colorbar": {
              "outlinewidth": 0,
              "ticks": ""
             }
            },
            "type": "scatterternary"
           }
          ],
          "surface": [
           {
            "colorbar": {
             "outlinewidth": 0,
             "ticks": ""
            },
            "colorscale": [
             [
              0,
              "#0d0887"
             ],
             [
              0.1111111111111111,
              "#46039f"
             ],
             [
              0.2222222222222222,
              "#7201a8"
             ],
             [
              0.3333333333333333,
              "#9c179e"
             ],
             [
              0.4444444444444444,
              "#bd3786"
             ],
             [
              0.5555555555555556,
              "#d8576b"
             ],
             [
              0.6666666666666666,
              "#ed7953"
             ],
             [
              0.7777777777777778,
              "#fb9f3a"
             ],
             [
              0.8888888888888888,
              "#fdca26"
             ],
             [
              1,
              "#f0f921"
             ]
            ],
            "type": "surface"
           }
          ],
          "table": [
           {
            "cells": {
             "fill": {
              "color": "#EBF0F8"
             },
             "line": {
              "color": "white"
             }
            },
            "header": {
             "fill": {
              "color": "#C8D4E3"
             },
             "line": {
              "color": "white"
             }
            },
            "type": "table"
           }
          ]
         },
         "layout": {
          "annotationdefaults": {
           "arrowcolor": "#2a3f5f",
           "arrowhead": 0,
           "arrowwidth": 1
          },
          "autotypenumbers": "strict",
          "coloraxis": {
           "colorbar": {
            "outlinewidth": 0,
            "ticks": ""
           }
          },
          "colorscale": {
           "diverging": [
            [
             0,
             "#8e0152"
            ],
            [
             0.1,
             "#c51b7d"
            ],
            [
             0.2,
             "#de77ae"
            ],
            [
             0.3,
             "#f1b6da"
            ],
            [
             0.4,
             "#fde0ef"
            ],
            [
             0.5,
             "#f7f7f7"
            ],
            [
             0.6,
             "#e6f5d0"
            ],
            [
             0.7,
             "#b8e186"
            ],
            [
             0.8,
             "#7fbc41"
            ],
            [
             0.9,
             "#4d9221"
            ],
            [
             1,
             "#276419"
            ]
           ],
           "sequential": [
            [
             0,
             "#0d0887"
            ],
            [
             0.1111111111111111,
             "#46039f"
            ],
            [
             0.2222222222222222,
             "#7201a8"
            ],
            [
             0.3333333333333333,
             "#9c179e"
            ],
            [
             0.4444444444444444,
             "#bd3786"
            ],
            [
             0.5555555555555556,
             "#d8576b"
            ],
            [
             0.6666666666666666,
             "#ed7953"
            ],
            [
             0.7777777777777778,
             "#fb9f3a"
            ],
            [
             0.8888888888888888,
             "#fdca26"
            ],
            [
             1,
             "#f0f921"
            ]
           ],
           "sequentialminus": [
            [
             0,
             "#0d0887"
            ],
            [
             0.1111111111111111,
             "#46039f"
            ],
            [
             0.2222222222222222,
             "#7201a8"
            ],
            [
             0.3333333333333333,
             "#9c179e"
            ],
            [
             0.4444444444444444,
             "#bd3786"
            ],
            [
             0.5555555555555556,
             "#d8576b"
            ],
            [
             0.6666666666666666,
             "#ed7953"
            ],
            [
             0.7777777777777778,
             "#fb9f3a"
            ],
            [
             0.8888888888888888,
             "#fdca26"
            ],
            [
             1,
             "#f0f921"
            ]
           ]
          },
          "colorway": [
           "#636efa",
           "#EF553B",
           "#00cc96",
           "#ab63fa",
           "#FFA15A",
           "#19d3f3",
           "#FF6692",
           "#B6E880",
           "#FF97FF",
           "#FECB52"
          ],
          "font": {
           "color": "#2a3f5f"
          },
          "geo": {
           "bgcolor": "white",
           "lakecolor": "white",
           "landcolor": "#E5ECF6",
           "showlakes": true,
           "showland": true,
           "subunitcolor": "white"
          },
          "hoverlabel": {
           "align": "left"
          },
          "hovermode": "closest",
          "mapbox": {
           "style": "light"
          },
          "paper_bgcolor": "white",
          "plot_bgcolor": "#E5ECF6",
          "polar": {
           "angularaxis": {
            "gridcolor": "white",
            "linecolor": "white",
            "ticks": ""
           },
           "bgcolor": "#E5ECF6",
           "radialaxis": {
            "gridcolor": "white",
            "linecolor": "white",
            "ticks": ""
           }
          },
          "scene": {
           "xaxis": {
            "backgroundcolor": "#E5ECF6",
            "gridcolor": "white",
            "gridwidth": 2,
            "linecolor": "white",
            "showbackground": true,
            "ticks": "",
            "zerolinecolor": "white"
           },
           "yaxis": {
            "backgroundcolor": "#E5ECF6",
            "gridcolor": "white",
            "gridwidth": 2,
            "linecolor": "white",
            "showbackground": true,
            "ticks": "",
            "zerolinecolor": "white"
           },
           "zaxis": {
            "backgroundcolor": "#E5ECF6",
            "gridcolor": "white",
            "gridwidth": 2,
            "linecolor": "white",
            "showbackground": true,
            "ticks": "",
            "zerolinecolor": "white"
           }
          },
          "shapedefaults": {
           "line": {
            "color": "#2a3f5f"
           }
          },
          "ternary": {
           "aaxis": {
            "gridcolor": "white",
            "linecolor": "white",
            "ticks": ""
           },
           "baxis": {
            "gridcolor": "white",
            "linecolor": "white",
            "ticks": ""
           },
           "bgcolor": "#E5ECF6",
           "caxis": {
            "gridcolor": "white",
            "linecolor": "white",
            "ticks": ""
           }
          },
          "title": {
           "x": 0.05
          },
          "xaxis": {
           "automargin": true,
           "gridcolor": "white",
           "linecolor": "white",
           "ticks": "",
           "title": {
            "standoff": 15
           },
           "zerolinecolor": "white",
           "zerolinewidth": 2
          },
          "yaxis": {
           "automargin": true,
           "gridcolor": "white",
           "linecolor": "white",
           "ticks": "",
           "title": {
            "standoff": 15
           },
           "zerolinecolor": "white",
           "zerolinewidth": 2
          }
         }
        },
        "title": {
         "font": {
          "color": "#4D5663"
         }
        },
        "xaxis": {
         "anchor": "y",
         "domain": [
          0,
          0.2125
         ],
         "gridcolor": "#E1E5ED",
         "showgrid": false,
         "tickfont": {
          "color": "#4D5663"
         },
         "title": {
          "font": {
           "color": "#4D5663"
          },
          "text": ""
         },
         "zerolinecolor": "#E1E5ED"
        },
        "xaxis10": {
         "anchor": "y10",
         "domain": [
          0.2625,
          0.475
         ],
         "gridcolor": "#E1E5ED",
         "showgrid": false,
         "tickfont": {
          "color": "#4D5663"
         },
         "title": {
          "font": {
           "color": "#4D5663"
          },
          "text": ""
         },
         "zerolinecolor": "#E1E5ED"
        },
        "xaxis11": {
         "anchor": "y11",
         "domain": [
          0.525,
          0.7375
         ],
         "gridcolor": "#E1E5ED",
         "showgrid": false,
         "tickfont": {
          "color": "#4D5663"
         },
         "title": {
          "font": {
           "color": "#4D5663"
          },
          "text": ""
         },
         "zerolinecolor": "#E1E5ED"
        },
        "xaxis12": {
         "anchor": "y12",
         "domain": [
          0.7875,
          1
         ],
         "gridcolor": "#E1E5ED",
         "showgrid": false,
         "tickfont": {
          "color": "#4D5663"
         },
         "title": {
          "font": {
           "color": "#4D5663"
          },
          "text": ""
         },
         "zerolinecolor": "#E1E5ED"
        },
        "xaxis13": {
         "anchor": "y13",
         "domain": [
          0,
          0.2125
         ],
         "gridcolor": "#E1E5ED",
         "showgrid": false,
         "tickfont": {
          "color": "#4D5663"
         },
         "title": {
          "font": {
           "color": "#4D5663"
          },
          "text": ""
         },
         "zerolinecolor": "#E1E5ED"
        },
        "xaxis14": {
         "anchor": "y14",
         "domain": [
          0.2625,
          0.475
         ],
         "gridcolor": "#E1E5ED",
         "showgrid": false,
         "tickfont": {
          "color": "#4D5663"
         },
         "title": {
          "font": {
           "color": "#4D5663"
          },
          "text": ""
         },
         "zerolinecolor": "#E1E5ED"
        },
        "xaxis15": {
         "anchor": "y15",
         "domain": [
          0.525,
          0.7375
         ],
         "gridcolor": "#E1E5ED",
         "showgrid": false,
         "tickfont": {
          "color": "#4D5663"
         },
         "title": {
          "font": {
           "color": "#4D5663"
          },
          "text": ""
         },
         "zerolinecolor": "#E1E5ED"
        },
        "xaxis16": {
         "anchor": "y16",
         "domain": [
          0.7875,
          1
         ],
         "gridcolor": "#E1E5ED",
         "showgrid": false,
         "tickfont": {
          "color": "#4D5663"
         },
         "title": {
          "font": {
           "color": "#4D5663"
          },
          "text": ""
         },
         "zerolinecolor": "#E1E5ED"
        },
        "xaxis2": {
         "anchor": "y2",
         "domain": [
          0.2625,
          0.475
         ],
         "gridcolor": "#E1E5ED",
         "showgrid": false,
         "tickfont": {
          "color": "#4D5663"
         },
         "title": {
          "font": {
           "color": "#4D5663"
          },
          "text": ""
         },
         "zerolinecolor": "#E1E5ED"
        },
        "xaxis3": {
         "anchor": "y3",
         "domain": [
          0.525,
          0.7375
         ],
         "gridcolor": "#E1E5ED",
         "showgrid": false,
         "tickfont": {
          "color": "#4D5663"
         },
         "title": {
          "font": {
           "color": "#4D5663"
          },
          "text": ""
         },
         "zerolinecolor": "#E1E5ED"
        },
        "xaxis4": {
         "anchor": "y4",
         "domain": [
          0.7875,
          1
         ],
         "gridcolor": "#E1E5ED",
         "showgrid": false,
         "tickfont": {
          "color": "#4D5663"
         },
         "title": {
          "font": {
           "color": "#4D5663"
          },
          "text": ""
         },
         "zerolinecolor": "#E1E5ED"
        },
        "xaxis5": {
         "anchor": "y5",
         "domain": [
          0,
          0.2125
         ],
         "gridcolor": "#E1E5ED",
         "showgrid": false,
         "tickfont": {
          "color": "#4D5663"
         },
         "title": {
          "font": {
           "color": "#4D5663"
          },
          "text": ""
         },
         "zerolinecolor": "#E1E5ED"
        },
        "xaxis6": {
         "anchor": "y6",
         "domain": [
          0.2625,
          0.475
         ],
         "gridcolor": "#E1E5ED",
         "showgrid": false,
         "tickfont": {
          "color": "#4D5663"
         },
         "title": {
          "font": {
           "color": "#4D5663"
          },
          "text": ""
         },
         "zerolinecolor": "#E1E5ED"
        },
        "xaxis7": {
         "anchor": "y7",
         "domain": [
          0.525,
          0.7375
         ],
         "gridcolor": "#E1E5ED",
         "showgrid": false,
         "tickfont": {
          "color": "#4D5663"
         },
         "title": {
          "font": {
           "color": "#4D5663"
          },
          "text": ""
         },
         "zerolinecolor": "#E1E5ED"
        },
        "xaxis8": {
         "anchor": "y8",
         "domain": [
          0.7875,
          1
         ],
         "gridcolor": "#E1E5ED",
         "showgrid": false,
         "tickfont": {
          "color": "#4D5663"
         },
         "title": {
          "font": {
           "color": "#4D5663"
          },
          "text": ""
         },
         "zerolinecolor": "#E1E5ED"
        },
        "xaxis9": {
         "anchor": "y9",
         "domain": [
          0,
          0.2125
         ],
         "gridcolor": "#E1E5ED",
         "showgrid": false,
         "tickfont": {
          "color": "#4D5663"
         },
         "title": {
          "font": {
           "color": "#4D5663"
          },
          "text": ""
         },
         "zerolinecolor": "#E1E5ED"
        },
        "yaxis": {
         "anchor": "x",
         "domain": [
          0.8025,
          1
         ],
         "gridcolor": "#E1E5ED",
         "showgrid": false,
         "tickfont": {
          "color": "#4D5663"
         },
         "title": {
          "font": {
           "color": "#4D5663"
          },
          "text": ""
         },
         "zerolinecolor": "#E1E5ED"
        },
        "yaxis10": {
         "anchor": "x10",
         "domain": [
          0.2675,
          0.465
         ],
         "gridcolor": "#E1E5ED",
         "showgrid": false,
         "tickfont": {
          "color": "#4D5663"
         },
         "title": {
          "font": {
           "color": "#4D5663"
          },
          "text": ""
         },
         "zerolinecolor": "#E1E5ED"
        },
        "yaxis11": {
         "anchor": "x11",
         "domain": [
          0.2675,
          0.465
         ],
         "gridcolor": "#E1E5ED",
         "showgrid": false,
         "tickfont": {
          "color": "#4D5663"
         },
         "title": {
          "font": {
           "color": "#4D5663"
          },
          "text": ""
         },
         "zerolinecolor": "#E1E5ED"
        },
        "yaxis12": {
         "anchor": "x12",
         "domain": [
          0.2675,
          0.465
         ],
         "gridcolor": "#E1E5ED",
         "showgrid": false,
         "tickfont": {
          "color": "#4D5663"
         },
         "title": {
          "font": {
           "color": "#4D5663"
          },
          "text": ""
         },
         "zerolinecolor": "#E1E5ED"
        },
        "yaxis13": {
         "anchor": "x13",
         "domain": [
          0,
          0.1975
         ],
         "gridcolor": "#E1E5ED",
         "showgrid": false,
         "tickfont": {
          "color": "#4D5663"
         },
         "title": {
          "font": {
           "color": "#4D5663"
          },
          "text": ""
         },
         "zerolinecolor": "#E1E5ED"
        },
        "yaxis14": {
         "anchor": "x14",
         "domain": [
          0,
          0.1975
         ],
         "gridcolor": "#E1E5ED",
         "showgrid": false,
         "tickfont": {
          "color": "#4D5663"
         },
         "title": {
          "font": {
           "color": "#4D5663"
          },
          "text": ""
         },
         "zerolinecolor": "#E1E5ED"
        },
        "yaxis15": {
         "anchor": "x15",
         "domain": [
          0,
          0.1975
         ],
         "gridcolor": "#E1E5ED",
         "showgrid": false,
         "tickfont": {
          "color": "#4D5663"
         },
         "title": {
          "font": {
           "color": "#4D5663"
          },
          "text": ""
         },
         "zerolinecolor": "#E1E5ED"
        },
        "yaxis16": {
         "anchor": "x16",
         "domain": [
          0,
          0.1975
         ],
         "gridcolor": "#E1E5ED",
         "showgrid": false,
         "tickfont": {
          "color": "#4D5663"
         },
         "title": {
          "font": {
           "color": "#4D5663"
          },
          "text": ""
         },
         "zerolinecolor": "#E1E5ED"
        },
        "yaxis2": {
         "anchor": "x2",
         "domain": [
          0.8025,
          1
         ],
         "gridcolor": "#E1E5ED",
         "showgrid": false,
         "tickfont": {
          "color": "#4D5663"
         },
         "title": {
          "font": {
           "color": "#4D5663"
          },
          "text": ""
         },
         "zerolinecolor": "#E1E5ED"
        },
        "yaxis3": {
         "anchor": "x3",
         "domain": [
          0.8025,
          1
         ],
         "gridcolor": "#E1E5ED",
         "showgrid": false,
         "tickfont": {
          "color": "#4D5663"
         },
         "title": {
          "font": {
           "color": "#4D5663"
          },
          "text": ""
         },
         "zerolinecolor": "#E1E5ED"
        },
        "yaxis4": {
         "anchor": "x4",
         "domain": [
          0.8025,
          1
         ],
         "gridcolor": "#E1E5ED",
         "showgrid": false,
         "tickfont": {
          "color": "#4D5663"
         },
         "title": {
          "font": {
           "color": "#4D5663"
          },
          "text": ""
         },
         "zerolinecolor": "#E1E5ED"
        },
        "yaxis5": {
         "anchor": "x5",
         "domain": [
          0.535,
          0.7325
         ],
         "gridcolor": "#E1E5ED",
         "showgrid": false,
         "tickfont": {
          "color": "#4D5663"
         },
         "title": {
          "font": {
           "color": "#4D5663"
          },
          "text": ""
         },
         "zerolinecolor": "#E1E5ED"
        },
        "yaxis6": {
         "anchor": "x6",
         "domain": [
          0.535,
          0.7325
         ],
         "gridcolor": "#E1E5ED",
         "showgrid": false,
         "tickfont": {
          "color": "#4D5663"
         },
         "title": {
          "font": {
           "color": "#4D5663"
          },
          "text": ""
         },
         "zerolinecolor": "#E1E5ED"
        },
        "yaxis7": {
         "anchor": "x7",
         "domain": [
          0.535,
          0.7325
         ],
         "gridcolor": "#E1E5ED",
         "showgrid": false,
         "tickfont": {
          "color": "#4D5663"
         },
         "title": {
          "font": {
           "color": "#4D5663"
          },
          "text": ""
         },
         "zerolinecolor": "#E1E5ED"
        },
        "yaxis8": {
         "anchor": "x8",
         "domain": [
          0.535,
          0.7325
         ],
         "gridcolor": "#E1E5ED",
         "showgrid": false,
         "tickfont": {
          "color": "#4D5663"
         },
         "title": {
          "font": {
           "color": "#4D5663"
          },
          "text": ""
         },
         "zerolinecolor": "#E1E5ED"
        },
        "yaxis9": {
         "anchor": "x9",
         "domain": [
          0.2675,
          0.465
         ],
         "gridcolor": "#E1E5ED",
         "showgrid": false,
         "tickfont": {
          "color": "#4D5663"
         },
         "title": {
          "font": {
           "color": "#4D5663"
          },
          "text": ""
         },
         "zerolinecolor": "#E1E5ED"
        }
       }
      },
      "text/html": [
       "<div>                            <div id=\"a7c4a602-2a15-4c0d-91a9-150301b5f681\" class=\"plotly-graph-div\" style=\"height:525px; width:100%;\"></div>            <script type=\"text/javascript\">                require([\"plotly\"], function(Plotly) {                    window.PLOTLYENV=window.PLOTLYENV || {};\n",
       "                    window.PLOTLYENV.BASE_URL='https://plot.ly';                                    if (document.getElementById(\"a7c4a602-2a15-4c0d-91a9-150301b5f681\")) {                    Plotly.newPlot(                        \"a7c4a602-2a15-4c0d-91a9-150301b5f681\",                        [{\"histfunc\":\"count\",\"histnorm\":\"\",\"marker\":{\"color\":\"rgba(255, 153, 51, 1.0)\",\"line\":{\"color\":\"#4D5663\",\"width\":1.3}},\"name\":\"A\",\"nbinsx\":10,\"opacity\":0.8,\"orientation\":\"v\",\"x\":[-0.813094974158615,-0.6320677486019147,-1.8330180188288216,0.30946276649967275,-0.34965251460663066,0.2541242676005999,-1.25409609186406,-1.5953824759783306,1.209996953723444,-0.9031365588388017,-0.2528994058951668,1.1993671174625855,-0.03479382440405025,0.3587651949863715,-1.1773880168626751,0.1882839674798589,0.15926856483581273,-0.7575700575481089,0.5923720816717849,-0.43599154580134525,-0.40837339303113024,-0.47646397111751376,-0.4321175598119881,-0.4166377903936301,0.4465808165690844,-2.1124722104004774,-0.7168027292736445,-1.4687468385877556,-0.8552724178550116,-0.1833187037760549,-0.0516014687726671,0.08929624648486419,0.283689280140465,0.23228257745041886,-0.7994824154787796,-0.15801600703858176,1.6906988519025559,-0.14436831923177185,-0.8490004432157602,0.12606804002629304,-1.419783969424822,-1.3386672466657163,0.1025711857038433,-0.17526986520131532,1.0322093753670571,-0.08573491754076627,1.3010216527471408,-0.9489028978786285,-0.883492332517402,-1.2873136726903505,0.6479351933755042,-0.8376876792340087,-0.7386458732355002,0.7560364934857938,0.6795679333775624,0.5918996363507902,0.9376426697121171,0.2653352431183191,1.6579747967261944,-1.3355416128149515,0.03395533520806284,-0.25376231373687164,-0.3343846286932071,0.947247557239635,-0.6079551744162106,-0.5752977060081683,-0.7890237136747128,-0.6587642329116016,1.163701930798238,0.4606404839325701,0.8067944374337038,-0.19988432528089134,-0.21390856728770027,-1.018568825005735,-1.9589686543951768,0.06068691245208455,0.2678907684869432,0.03482855608749407,-0.38749122105340666,-0.5179472276706354,0.7704703886351763,-0.9890496308856835,-0.4756631316399486,-0.441569985646899,-0.5786339248236021,1.2622457440284895,-0.3533303731137811,0.6127642614441432,-0.7507571711907699,-0.17145625910104795,-1.7199283839683184,-0.4694471236015308,1.1724720953758947,-0.3030314459539039,0.7747117018211388,0.056886856834242286,0.2156621626300678,-0.4998451104106444,-2.3961426677696873,0.4773531183027042],\"xaxis\":\"x\",\"yaxis\":\"y\",\"type\":\"histogram\"},{\"line\":{\"color\":\"rgba(128, 128, 128, 1.0)\",\"dash\":\"solid\",\"shape\":\"linear\",\"width\":1.3},\"marker\":{\"size\":2,\"symbol\":\"circle\"},\"mode\":\"markers\",\"name\":\"A\",\"text\":\"\",\"x\":[-1.810705620303543,-0.6009888044223608,-0.8699212494722677,-0.550534748641092,0.4274694755230017,0.5985403310571168,-0.12188328873954034,0.4356412141803811,0.23677802285309477,-1.0316199459958797,-1.4119914497327224,0.42286751614288964,0.6899228786876435,-0.3304895135271398,1.0199569861773699,-0.07452470268944116,0.5179123635617616,0.7212504056693066,1.0568220483539346,-0.6329714821783978,-0.7729734925590904,0.04611373216482665,-1.662473515264781,0.36338256207965686,-0.5503816776380241,-2.7322601519765075,-1.6113440120570792,0.906382094929108,0.4735390415891768,-0.975263135435076,1.588411990779888,-2.0768510538923963,-1.4231799460959853,0.6882644752812591,-0.4998480033947634,-0.496656394151241,-0.4835208859489081,-1.8816807499555739,0.7719794078507218,-0.5139045194391917,-1.639215382625045,0.40602339946612515,2.298972143667528,0.11505047736262437,0.7005717751962709,0.4855307624973052,-1.0177172990318302,0.4840449889903183,-0.7194660638209635,-1.2300432610286793,-1.3701879756614934,-4.671017883589642,-1.184275158102963,0.39666942539920347,-2.226632808899658,1.3015642154390656,-1.782868004198849,2.1247188152382463,0.15797693140612953,1.8613288779523205,-1.7063050375534852,1.5331352666503193,0.5163164019441416,0.21032973058063056,-0.7984519380720064,1.1289791275584007,-0.2821710024131168,-0.7397400754627164,-0.08853754898509787,0.5618092496862193,-0.27172333726221837,0.1763089843781587,-0.36412102130108454,2.282272289168112,-0.9838235969987101,0.4803009506491444,1.3445668968174393,-0.2172825367000398,0.031868623818376185,0.7387689037046977,1.9125877271166336,1.0787847269804158,0.3197886159287113,0.10733866289906828,0.050774236411273876,-0.48259031053099,0.4489969178285034,-0.27393513534568964,-1.3236830680290488,-0.4724755544055852,1.0766300535114623,2.005792322169697,-1.5314592912873237,0.05121594255874584,0.27667231651744467,1.167398410424178,0.3884694404010253,-0.27529328081680393,0.9988939005905673,-0.3363810223756748],\"xaxis\":\"x2\",\"y\":[-0.813094974158615,-0.6320677486019147,-1.8330180188288216,0.30946276649967275,-0.34965251460663066,0.2541242676005999,-1.25409609186406,-1.5953824759783306,1.209996953723444,-0.9031365588388017,-0.2528994058951668,1.1993671174625855,-0.03479382440405025,0.3587651949863715,-1.1773880168626751,0.1882839674798589,0.15926856483581273,-0.7575700575481089,0.5923720816717849,-0.43599154580134525,-0.40837339303113024,-0.47646397111751376,-0.4321175598119881,-0.4166377903936301,0.4465808165690844,-2.1124722104004774,-0.7168027292736445,-1.4687468385877556,-0.8552724178550116,-0.1833187037760549,-0.0516014687726671,0.08929624648486419,0.283689280140465,0.23228257745041886,-0.7994824154787796,-0.15801600703858176,1.6906988519025559,-0.14436831923177185,-0.8490004432157602,0.12606804002629304,-1.419783969424822,-1.3386672466657163,0.1025711857038433,-0.17526986520131532,1.0322093753670571,-0.08573491754076627,1.3010216527471408,-0.9489028978786285,-0.883492332517402,-1.2873136726903505,0.6479351933755042,-0.8376876792340087,-0.7386458732355002,0.7560364934857938,0.6795679333775624,0.5918996363507902,0.9376426697121171,0.2653352431183191,1.6579747967261944,-1.3355416128149515,0.03395533520806284,-0.25376231373687164,-0.3343846286932071,0.947247557239635,-0.6079551744162106,-0.5752977060081683,-0.7890237136747128,-0.6587642329116016,1.163701930798238,0.4606404839325701,0.8067944374337038,-0.19988432528089134,-0.21390856728770027,-1.018568825005735,-1.9589686543951768,0.06068691245208455,0.2678907684869432,0.03482855608749407,-0.38749122105340666,-0.5179472276706354,0.7704703886351763,-0.9890496308856835,-0.4756631316399486,-0.441569985646899,-0.5786339248236021,1.2622457440284895,-0.3533303731137811,0.6127642614441432,-0.7507571711907699,-0.17145625910104795,-1.7199283839683184,-0.4694471236015308,1.1724720953758947,-0.3030314459539039,0.7747117018211388,0.056886856834242286,0.2156621626300678,-0.4998451104106444,-2.3961426677696873,0.4773531183027042],\"yaxis\":\"y2\",\"type\":\"scatter\"},{\"line\":{\"color\":\"rgba(128, 128, 128, 1.0)\",\"dash\":\"solid\",\"shape\":\"linear\",\"width\":1.3},\"marker\":{\"size\":2,\"symbol\":\"circle\"},\"mode\":\"markers\",\"name\":\"A\",\"text\":\"\",\"x\":[0.11478205581581004,-0.7269443582850521,-0.1016340680650651,1.2378074807734678,0.5388091112889526,-0.4927430155938008,0.8371686804480575,-0.39013299510156135,-2.393066210468212,0.0019183805017788742,-0.6212843400286342,0.9676209752970684,-1.5796310872302395,-0.4932564107282682,0.7916439329286905,-0.6729339922723492,1.7399217191676006,-0.4509690828174776,0.16785395282716004,-0.757753230238972,0.6312887954145839,-0.3283564822328538,-0.7978452637865974,-0.8893931085956209,-2.160753748239564,0.9545431135106218,-2.6208022565379028,-0.5148911309926577,-1.2798396591335959,-0.28918707517250025,-0.6240293916732635,0.9038059794163196,-0.05660955113231021,1.3506483845773511,-0.8769329662460299,-0.1107532276844045,1.526879382866703,-0.16471239549521408,0.07554965503932266,-0.9669828002542283,-1.1498006789784305,-1.4503403112959212,-0.09290735196103211,0.4806173056682018,-1.2810713901463937,1.2888541173565045,0.8634720603349073,0.8448374275058981,0.37296355903467393,-0.5544209177627011,1.408763413526378,1.0835412855416442,1.3165718329358136,-1.664798939796363,0.9071188834882395,0.20241034222087703,-1.1564786307549466,-0.0932964523797422,1.4140703193632078,1.737261186077956,-1.5808041215904607,-0.6057547399907516,1.6816155776518427,-0.4888820778770582,1.1552763034155282,0.2017100658612874,-1.8078744153943203,-0.9706305630597827,1.1484979604817878,-1.2359892682170062,-2.7540337648068878,-0.14845271863611717,-1.2925078780907588,0.5411658262306305,-1.3464204205490389,0.5653336995383301,2.16344641717525,-0.7687566107452469,-0.30200898511652086,0.7232652642928008,0.24367448114825582,1.2763788519004793,-1.2326788202391716,1.3647014194043774,1.307768033039978,0.4846572183139304,-1.272427724900435,-0.660930965033993,0.7875247488283871,-0.026615501892175424,-0.7628248833075147,-1.4622792771961897,0.07764859196380898,-1.2344766538783207,-0.03578260657767036,-0.29940223232268787,-1.618126017021462,0.3229962626008405,1.6520112265009217,0.30855758749121664],\"xaxis\":\"x3\",\"y\":[-0.813094974158615,-0.6320677486019147,-1.8330180188288216,0.30946276649967275,-0.34965251460663066,0.2541242676005999,-1.25409609186406,-1.5953824759783306,1.209996953723444,-0.9031365588388017,-0.2528994058951668,1.1993671174625855,-0.03479382440405025,0.3587651949863715,-1.1773880168626751,0.1882839674798589,0.15926856483581273,-0.7575700575481089,0.5923720816717849,-0.43599154580134525,-0.40837339303113024,-0.47646397111751376,-0.4321175598119881,-0.4166377903936301,0.4465808165690844,-2.1124722104004774,-0.7168027292736445,-1.4687468385877556,-0.8552724178550116,-0.1833187037760549,-0.0516014687726671,0.08929624648486419,0.283689280140465,0.23228257745041886,-0.7994824154787796,-0.15801600703858176,1.6906988519025559,-0.14436831923177185,-0.8490004432157602,0.12606804002629304,-1.419783969424822,-1.3386672466657163,0.1025711857038433,-0.17526986520131532,1.0322093753670571,-0.08573491754076627,1.3010216527471408,-0.9489028978786285,-0.883492332517402,-1.2873136726903505,0.6479351933755042,-0.8376876792340087,-0.7386458732355002,0.7560364934857938,0.6795679333775624,0.5918996363507902,0.9376426697121171,0.2653352431183191,1.6579747967261944,-1.3355416128149515,0.03395533520806284,-0.25376231373687164,-0.3343846286932071,0.947247557239635,-0.6079551744162106,-0.5752977060081683,-0.7890237136747128,-0.6587642329116016,1.163701930798238,0.4606404839325701,0.8067944374337038,-0.19988432528089134,-0.21390856728770027,-1.018568825005735,-1.9589686543951768,0.06068691245208455,0.2678907684869432,0.03482855608749407,-0.38749122105340666,-0.5179472276706354,0.7704703886351763,-0.9890496308856835,-0.4756631316399486,-0.441569985646899,-0.5786339248236021,1.2622457440284895,-0.3533303731137811,0.6127642614441432,-0.7507571711907699,-0.17145625910104795,-1.7199283839683184,-0.4694471236015308,1.1724720953758947,-0.3030314459539039,0.7747117018211388,0.056886856834242286,0.2156621626300678,-0.4998451104106444,-2.3961426677696873,0.4773531183027042],\"yaxis\":\"y3\",\"type\":\"scatter\"},{\"line\":{\"color\":\"rgba(128, 128, 128, 1.0)\",\"dash\":\"solid\",\"shape\":\"linear\",\"width\":1.3},\"marker\":{\"size\":2,\"symbol\":\"circle\"},\"mode\":\"markers\",\"name\":\"A\",\"text\":\"\",\"x\":[-0.3711931195882421,0.09976857112903022,0.9939841470463258,-0.9173811897687342,1.3642204266535358,-0.853767248924945,0.5344726508326774,-0.25254954602810586,1.3519306823601493,0.9705011873043906,0.49484252843912263,-0.24719792523029027,1.6574866576257656,1.1593405743507281,-2.0945717822987597,1.0018232358435215,-0.6659273832893793,1.3312705501019129,0.04282474171051095,-0.7457730652334875,0.8906541224627033,0.004219177583501206,0.13700574672714838,0.9757088108414181,-1.1373755748646621,-0.9585348853767228,-1.265109555400537,0.066649404176319,0.5886509931401189,-0.20935248036239013,0.08355201605704875,-0.7247359165430772,0.0800168690130128,1.033643312989802,1.2231227729939784,2.692333571163918,0.7219892080868341,-0.5216471565080071,-0.37528687751493633,-0.9685420450030335,-0.05728896034000053,1.2582378704313193,0.8751239112360449,-0.5520061014149678,-0.7010512767667684,-0.4667152872661785,1.6622095835383701,0.4995020164011859,2.2267298922913072,-0.6593475939230415,-1.829455092533334,-0.731000160738417,-1.1837345757874516,-0.10802993995791371,-0.18466174057252122,1.1587551931993783,0.6351246492231096,1.9362937226827508,0.19130915745618232,0.01221577918521235,-0.7554859562554341,0.7184140422363418,-0.02504087624912554,0.27232324987871503,-2.231055701976817,-0.6405114028732867,-1.1051998663261027,3.2685613892422314,-1.0326974243490925,-0.21654608592375243,-1.5763742713627535,0.9158590725264812,-0.6074054236547549,0.027748603834612893,0.11259719032670895,0.16168425441769932,0.2469126299504723,-2.3427633156375154,-0.05946911210369595,1.4602378374812317,0.2980729594300721,1.1885689344371333,-1.0276015884468157,1.3049809821828426,-1.0828189253555016,-0.81500181747484,0.18100739737577215,-0.9819893643717046,-1.7567247714982477,-0.7189127866512951,-0.8001221135136581,-0.91141532744826,-0.9456097475592233,-0.47830415948983285,-0.4506533233935948,-0.31628502280265586,0.5412070352741424,0.6705847523583408,0.12432907190852026,-0.07326452712069995],\"xaxis\":\"x4\",\"y\":[-0.813094974158615,-0.6320677486019147,-1.8330180188288216,0.30946276649967275,-0.34965251460663066,0.2541242676005999,-1.25409609186406,-1.5953824759783306,1.209996953723444,-0.9031365588388017,-0.2528994058951668,1.1993671174625855,-0.03479382440405025,0.3587651949863715,-1.1773880168626751,0.1882839674798589,0.15926856483581273,-0.7575700575481089,0.5923720816717849,-0.43599154580134525,-0.40837339303113024,-0.47646397111751376,-0.4321175598119881,-0.4166377903936301,0.4465808165690844,-2.1124722104004774,-0.7168027292736445,-1.4687468385877556,-0.8552724178550116,-0.1833187037760549,-0.0516014687726671,0.08929624648486419,0.283689280140465,0.23228257745041886,-0.7994824154787796,-0.15801600703858176,1.6906988519025559,-0.14436831923177185,-0.8490004432157602,0.12606804002629304,-1.419783969424822,-1.3386672466657163,0.1025711857038433,-0.17526986520131532,1.0322093753670571,-0.08573491754076627,1.3010216527471408,-0.9489028978786285,-0.883492332517402,-1.2873136726903505,0.6479351933755042,-0.8376876792340087,-0.7386458732355002,0.7560364934857938,0.6795679333775624,0.5918996363507902,0.9376426697121171,0.2653352431183191,1.6579747967261944,-1.3355416128149515,0.03395533520806284,-0.25376231373687164,-0.3343846286932071,0.947247557239635,-0.6079551744162106,-0.5752977060081683,-0.7890237136747128,-0.6587642329116016,1.163701930798238,0.4606404839325701,0.8067944374337038,-0.19988432528089134,-0.21390856728770027,-1.018568825005735,-1.9589686543951768,0.06068691245208455,0.2678907684869432,0.03482855608749407,-0.38749122105340666,-0.5179472276706354,0.7704703886351763,-0.9890496308856835,-0.4756631316399486,-0.441569985646899,-0.5786339248236021,1.2622457440284895,-0.3533303731137811,0.6127642614441432,-0.7507571711907699,-0.17145625910104795,-1.7199283839683184,-0.4694471236015308,1.1724720953758947,-0.3030314459539039,0.7747117018211388,0.056886856834242286,0.2156621626300678,-0.4998451104106444,-2.3961426677696873,0.4773531183027042],\"yaxis\":\"y4\",\"type\":\"scatter\"},{\"line\":{\"color\":\"rgba(128, 128, 128, 1.0)\",\"dash\":\"solid\",\"shape\":\"linear\",\"width\":1.3},\"marker\":{\"size\":2,\"symbol\":\"circle\"},\"mode\":\"markers\",\"name\":\"B\",\"text\":\"\",\"x\":[-0.813094974158615,-0.6320677486019147,-1.8330180188288216,0.30946276649967275,-0.34965251460663066,0.2541242676005999,-1.25409609186406,-1.5953824759783306,1.209996953723444,-0.9031365588388017,-0.2528994058951668,1.1993671174625855,-0.03479382440405025,0.3587651949863715,-1.1773880168626751,0.1882839674798589,0.15926856483581273,-0.7575700575481089,0.5923720816717849,-0.43599154580134525,-0.40837339303113024,-0.47646397111751376,-0.4321175598119881,-0.4166377903936301,0.4465808165690844,-2.1124722104004774,-0.7168027292736445,-1.4687468385877556,-0.8552724178550116,-0.1833187037760549,-0.0516014687726671,0.08929624648486419,0.283689280140465,0.23228257745041886,-0.7994824154787796,-0.15801600703858176,1.6906988519025559,-0.14436831923177185,-0.8490004432157602,0.12606804002629304,-1.419783969424822,-1.3386672466657163,0.1025711857038433,-0.17526986520131532,1.0322093753670571,-0.08573491754076627,1.3010216527471408,-0.9489028978786285,-0.883492332517402,-1.2873136726903505,0.6479351933755042,-0.8376876792340087,-0.7386458732355002,0.7560364934857938,0.6795679333775624,0.5918996363507902,0.9376426697121171,0.2653352431183191,1.6579747967261944,-1.3355416128149515,0.03395533520806284,-0.25376231373687164,-0.3343846286932071,0.947247557239635,-0.6079551744162106,-0.5752977060081683,-0.7890237136747128,-0.6587642329116016,1.163701930798238,0.4606404839325701,0.8067944374337038,-0.19988432528089134,-0.21390856728770027,-1.018568825005735,-1.9589686543951768,0.06068691245208455,0.2678907684869432,0.03482855608749407,-0.38749122105340666,-0.5179472276706354,0.7704703886351763,-0.9890496308856835,-0.4756631316399486,-0.441569985646899,-0.5786339248236021,1.2622457440284895,-0.3533303731137811,0.6127642614441432,-0.7507571711907699,-0.17145625910104795,-1.7199283839683184,-0.4694471236015308,1.1724720953758947,-0.3030314459539039,0.7747117018211388,0.056886856834242286,0.2156621626300678,-0.4998451104106444,-2.3961426677696873,0.4773531183027042],\"xaxis\":\"x5\",\"y\":[-1.810705620303543,-0.6009888044223608,-0.8699212494722677,-0.550534748641092,0.4274694755230017,0.5985403310571168,-0.12188328873954034,0.4356412141803811,0.23677802285309477,-1.0316199459958797,-1.4119914497327224,0.42286751614288964,0.6899228786876435,-0.3304895135271398,1.0199569861773699,-0.07452470268944116,0.5179123635617616,0.7212504056693066,1.0568220483539346,-0.6329714821783978,-0.7729734925590904,0.04611373216482665,-1.662473515264781,0.36338256207965686,-0.5503816776380241,-2.7322601519765075,-1.6113440120570792,0.906382094929108,0.4735390415891768,-0.975263135435076,1.588411990779888,-2.0768510538923963,-1.4231799460959853,0.6882644752812591,-0.4998480033947634,-0.496656394151241,-0.4835208859489081,-1.8816807499555739,0.7719794078507218,-0.5139045194391917,-1.639215382625045,0.40602339946612515,2.298972143667528,0.11505047736262437,0.7005717751962709,0.4855307624973052,-1.0177172990318302,0.4840449889903183,-0.7194660638209635,-1.2300432610286793,-1.3701879756614934,-4.671017883589642,-1.184275158102963,0.39666942539920347,-2.226632808899658,1.3015642154390656,-1.782868004198849,2.1247188152382463,0.15797693140612953,1.8613288779523205,-1.7063050375534852,1.5331352666503193,0.5163164019441416,0.21032973058063056,-0.7984519380720064,1.1289791275584007,-0.2821710024131168,-0.7397400754627164,-0.08853754898509787,0.5618092496862193,-0.27172333726221837,0.1763089843781587,-0.36412102130108454,2.282272289168112,-0.9838235969987101,0.4803009506491444,1.3445668968174393,-0.2172825367000398,0.031868623818376185,0.7387689037046977,1.9125877271166336,1.0787847269804158,0.3197886159287113,0.10733866289906828,0.050774236411273876,-0.48259031053099,0.4489969178285034,-0.27393513534568964,-1.3236830680290488,-0.4724755544055852,1.0766300535114623,2.005792322169697,-1.5314592912873237,0.05121594255874584,0.27667231651744467,1.167398410424178,0.3884694404010253,-0.27529328081680393,0.9988939005905673,-0.3363810223756748],\"yaxis\":\"y5\",\"type\":\"scatter\"},{\"histfunc\":\"count\",\"histnorm\":\"\",\"marker\":{\"color\":\"rgba(55, 128, 191, 1.0)\",\"line\":{\"color\":\"#4D5663\",\"width\":1.3}},\"name\":\"B\",\"nbinsx\":10,\"opacity\":0.8,\"orientation\":\"v\",\"x\":[-1.810705620303543,-0.6009888044223608,-0.8699212494722677,-0.550534748641092,0.4274694755230017,0.5985403310571168,-0.12188328873954034,0.4356412141803811,0.23677802285309477,-1.0316199459958797,-1.4119914497327224,0.42286751614288964,0.6899228786876435,-0.3304895135271398,1.0199569861773699,-0.07452470268944116,0.5179123635617616,0.7212504056693066,1.0568220483539346,-0.6329714821783978,-0.7729734925590904,0.04611373216482665,-1.662473515264781,0.36338256207965686,-0.5503816776380241,-2.7322601519765075,-1.6113440120570792,0.906382094929108,0.4735390415891768,-0.975263135435076,1.588411990779888,-2.0768510538923963,-1.4231799460959853,0.6882644752812591,-0.4998480033947634,-0.496656394151241,-0.4835208859489081,-1.8816807499555739,0.7719794078507218,-0.5139045194391917,-1.639215382625045,0.40602339946612515,2.298972143667528,0.11505047736262437,0.7005717751962709,0.4855307624973052,-1.0177172990318302,0.4840449889903183,-0.7194660638209635,-1.2300432610286793,-1.3701879756614934,-4.671017883589642,-1.184275158102963,0.39666942539920347,-2.226632808899658,1.3015642154390656,-1.782868004198849,2.1247188152382463,0.15797693140612953,1.8613288779523205,-1.7063050375534852,1.5331352666503193,0.5163164019441416,0.21032973058063056,-0.7984519380720064,1.1289791275584007,-0.2821710024131168,-0.7397400754627164,-0.08853754898509787,0.5618092496862193,-0.27172333726221837,0.1763089843781587,-0.36412102130108454,2.282272289168112,-0.9838235969987101,0.4803009506491444,1.3445668968174393,-0.2172825367000398,0.031868623818376185,0.7387689037046977,1.9125877271166336,1.0787847269804158,0.3197886159287113,0.10733866289906828,0.050774236411273876,-0.48259031053099,0.4489969178285034,-0.27393513534568964,-1.3236830680290488,-0.4724755544055852,1.0766300535114623,2.005792322169697,-1.5314592912873237,0.05121594255874584,0.27667231651744467,1.167398410424178,0.3884694404010253,-0.27529328081680393,0.9988939005905673,-0.3363810223756748],\"xaxis\":\"x6\",\"yaxis\":\"y6\",\"type\":\"histogram\"},{\"line\":{\"color\":\"rgba(128, 128, 128, 1.0)\",\"dash\":\"solid\",\"shape\":\"linear\",\"width\":1.3},\"marker\":{\"size\":2,\"symbol\":\"circle\"},\"mode\":\"markers\",\"name\":\"B\",\"text\":\"\",\"x\":[0.11478205581581004,-0.7269443582850521,-0.1016340680650651,1.2378074807734678,0.5388091112889526,-0.4927430155938008,0.8371686804480575,-0.39013299510156135,-2.393066210468212,0.0019183805017788742,-0.6212843400286342,0.9676209752970684,-1.5796310872302395,-0.4932564107282682,0.7916439329286905,-0.6729339922723492,1.7399217191676006,-0.4509690828174776,0.16785395282716004,-0.757753230238972,0.6312887954145839,-0.3283564822328538,-0.7978452637865974,-0.8893931085956209,-2.160753748239564,0.9545431135106218,-2.6208022565379028,-0.5148911309926577,-1.2798396591335959,-0.28918707517250025,-0.6240293916732635,0.9038059794163196,-0.05660955113231021,1.3506483845773511,-0.8769329662460299,-0.1107532276844045,1.526879382866703,-0.16471239549521408,0.07554965503932266,-0.9669828002542283,-1.1498006789784305,-1.4503403112959212,-0.09290735196103211,0.4806173056682018,-1.2810713901463937,1.2888541173565045,0.8634720603349073,0.8448374275058981,0.37296355903467393,-0.5544209177627011,1.408763413526378,1.0835412855416442,1.3165718329358136,-1.664798939796363,0.9071188834882395,0.20241034222087703,-1.1564786307549466,-0.0932964523797422,1.4140703193632078,1.737261186077956,-1.5808041215904607,-0.6057547399907516,1.6816155776518427,-0.4888820778770582,1.1552763034155282,0.2017100658612874,-1.8078744153943203,-0.9706305630597827,1.1484979604817878,-1.2359892682170062,-2.7540337648068878,-0.14845271863611717,-1.2925078780907588,0.5411658262306305,-1.3464204205490389,0.5653336995383301,2.16344641717525,-0.7687566107452469,-0.30200898511652086,0.7232652642928008,0.24367448114825582,1.2763788519004793,-1.2326788202391716,1.3647014194043774,1.307768033039978,0.4846572183139304,-1.272427724900435,-0.660930965033993,0.7875247488283871,-0.026615501892175424,-0.7628248833075147,-1.4622792771961897,0.07764859196380898,-1.2344766538783207,-0.03578260657767036,-0.29940223232268787,-1.618126017021462,0.3229962626008405,1.6520112265009217,0.30855758749121664],\"xaxis\":\"x7\",\"y\":[-1.810705620303543,-0.6009888044223608,-0.8699212494722677,-0.550534748641092,0.4274694755230017,0.5985403310571168,-0.12188328873954034,0.4356412141803811,0.23677802285309477,-1.0316199459958797,-1.4119914497327224,0.42286751614288964,0.6899228786876435,-0.3304895135271398,1.0199569861773699,-0.07452470268944116,0.5179123635617616,0.7212504056693066,1.0568220483539346,-0.6329714821783978,-0.7729734925590904,0.04611373216482665,-1.662473515264781,0.36338256207965686,-0.5503816776380241,-2.7322601519765075,-1.6113440120570792,0.906382094929108,0.4735390415891768,-0.975263135435076,1.588411990779888,-2.0768510538923963,-1.4231799460959853,0.6882644752812591,-0.4998480033947634,-0.496656394151241,-0.4835208859489081,-1.8816807499555739,0.7719794078507218,-0.5139045194391917,-1.639215382625045,0.40602339946612515,2.298972143667528,0.11505047736262437,0.7005717751962709,0.4855307624973052,-1.0177172990318302,0.4840449889903183,-0.7194660638209635,-1.2300432610286793,-1.3701879756614934,-4.671017883589642,-1.184275158102963,0.39666942539920347,-2.226632808899658,1.3015642154390656,-1.782868004198849,2.1247188152382463,0.15797693140612953,1.8613288779523205,-1.7063050375534852,1.5331352666503193,0.5163164019441416,0.21032973058063056,-0.7984519380720064,1.1289791275584007,-0.2821710024131168,-0.7397400754627164,-0.08853754898509787,0.5618092496862193,-0.27172333726221837,0.1763089843781587,-0.36412102130108454,2.282272289168112,-0.9838235969987101,0.4803009506491444,1.3445668968174393,-0.2172825367000398,0.031868623818376185,0.7387689037046977,1.9125877271166336,1.0787847269804158,0.3197886159287113,0.10733866289906828,0.050774236411273876,-0.48259031053099,0.4489969178285034,-0.27393513534568964,-1.3236830680290488,-0.4724755544055852,1.0766300535114623,2.005792322169697,-1.5314592912873237,0.05121594255874584,0.27667231651744467,1.167398410424178,0.3884694404010253,-0.27529328081680393,0.9988939005905673,-0.3363810223756748],\"yaxis\":\"y7\",\"type\":\"scatter\"},{\"line\":{\"color\":\"rgba(128, 128, 128, 1.0)\",\"dash\":\"solid\",\"shape\":\"linear\",\"width\":1.3},\"marker\":{\"size\":2,\"symbol\":\"circle\"},\"mode\":\"markers\",\"name\":\"B\",\"text\":\"\",\"x\":[-0.3711931195882421,0.09976857112903022,0.9939841470463258,-0.9173811897687342,1.3642204266535358,-0.853767248924945,0.5344726508326774,-0.25254954602810586,1.3519306823601493,0.9705011873043906,0.49484252843912263,-0.24719792523029027,1.6574866576257656,1.1593405743507281,-2.0945717822987597,1.0018232358435215,-0.6659273832893793,1.3312705501019129,0.04282474171051095,-0.7457730652334875,0.8906541224627033,0.004219177583501206,0.13700574672714838,0.9757088108414181,-1.1373755748646621,-0.9585348853767228,-1.265109555400537,0.066649404176319,0.5886509931401189,-0.20935248036239013,0.08355201605704875,-0.7247359165430772,0.0800168690130128,1.033643312989802,1.2231227729939784,2.692333571163918,0.7219892080868341,-0.5216471565080071,-0.37528687751493633,-0.9685420450030335,-0.05728896034000053,1.2582378704313193,0.8751239112360449,-0.5520061014149678,-0.7010512767667684,-0.4667152872661785,1.6622095835383701,0.4995020164011859,2.2267298922913072,-0.6593475939230415,-1.829455092533334,-0.731000160738417,-1.1837345757874516,-0.10802993995791371,-0.18466174057252122,1.1587551931993783,0.6351246492231096,1.9362937226827508,0.19130915745618232,0.01221577918521235,-0.7554859562554341,0.7184140422363418,-0.02504087624912554,0.27232324987871503,-2.231055701976817,-0.6405114028732867,-1.1051998663261027,3.2685613892422314,-1.0326974243490925,-0.21654608592375243,-1.5763742713627535,0.9158590725264812,-0.6074054236547549,0.027748603834612893,0.11259719032670895,0.16168425441769932,0.2469126299504723,-2.3427633156375154,-0.05946911210369595,1.4602378374812317,0.2980729594300721,1.1885689344371333,-1.0276015884468157,1.3049809821828426,-1.0828189253555016,-0.81500181747484,0.18100739737577215,-0.9819893643717046,-1.7567247714982477,-0.7189127866512951,-0.8001221135136581,-0.91141532744826,-0.9456097475592233,-0.47830415948983285,-0.4506533233935948,-0.31628502280265586,0.5412070352741424,0.6705847523583408,0.12432907190852026,-0.07326452712069995],\"xaxis\":\"x8\",\"y\":[-1.810705620303543,-0.6009888044223608,-0.8699212494722677,-0.550534748641092,0.4274694755230017,0.5985403310571168,-0.12188328873954034,0.4356412141803811,0.23677802285309477,-1.0316199459958797,-1.4119914497327224,0.42286751614288964,0.6899228786876435,-0.3304895135271398,1.0199569861773699,-0.07452470268944116,0.5179123635617616,0.7212504056693066,1.0568220483539346,-0.6329714821783978,-0.7729734925590904,0.04611373216482665,-1.662473515264781,0.36338256207965686,-0.5503816776380241,-2.7322601519765075,-1.6113440120570792,0.906382094929108,0.4735390415891768,-0.975263135435076,1.588411990779888,-2.0768510538923963,-1.4231799460959853,0.6882644752812591,-0.4998480033947634,-0.496656394151241,-0.4835208859489081,-1.8816807499555739,0.7719794078507218,-0.5139045194391917,-1.639215382625045,0.40602339946612515,2.298972143667528,0.11505047736262437,0.7005717751962709,0.4855307624973052,-1.0177172990318302,0.4840449889903183,-0.7194660638209635,-1.2300432610286793,-1.3701879756614934,-4.671017883589642,-1.184275158102963,0.39666942539920347,-2.226632808899658,1.3015642154390656,-1.782868004198849,2.1247188152382463,0.15797693140612953,1.8613288779523205,-1.7063050375534852,1.5331352666503193,0.5163164019441416,0.21032973058063056,-0.7984519380720064,1.1289791275584007,-0.2821710024131168,-0.7397400754627164,-0.08853754898509787,0.5618092496862193,-0.27172333726221837,0.1763089843781587,-0.36412102130108454,2.282272289168112,-0.9838235969987101,0.4803009506491444,1.3445668968174393,-0.2172825367000398,0.031868623818376185,0.7387689037046977,1.9125877271166336,1.0787847269804158,0.3197886159287113,0.10733866289906828,0.050774236411273876,-0.48259031053099,0.4489969178285034,-0.27393513534568964,-1.3236830680290488,-0.4724755544055852,1.0766300535114623,2.005792322169697,-1.5314592912873237,0.05121594255874584,0.27667231651744467,1.167398410424178,0.3884694404010253,-0.27529328081680393,0.9988939005905673,-0.3363810223756748],\"yaxis\":\"y8\",\"type\":\"scatter\"},{\"line\":{\"color\":\"rgba(128, 128, 128, 1.0)\",\"dash\":\"solid\",\"shape\":\"linear\",\"width\":1.3},\"marker\":{\"size\":2,\"symbol\":\"circle\"},\"mode\":\"markers\",\"name\":\"C\",\"text\":\"\",\"x\":[-0.813094974158615,-0.6320677486019147,-1.8330180188288216,0.30946276649967275,-0.34965251460663066,0.2541242676005999,-1.25409609186406,-1.5953824759783306,1.209996953723444,-0.9031365588388017,-0.2528994058951668,1.1993671174625855,-0.03479382440405025,0.3587651949863715,-1.1773880168626751,0.1882839674798589,0.15926856483581273,-0.7575700575481089,0.5923720816717849,-0.43599154580134525,-0.40837339303113024,-0.47646397111751376,-0.4321175598119881,-0.4166377903936301,0.4465808165690844,-2.1124722104004774,-0.7168027292736445,-1.4687468385877556,-0.8552724178550116,-0.1833187037760549,-0.0516014687726671,0.08929624648486419,0.283689280140465,0.23228257745041886,-0.7994824154787796,-0.15801600703858176,1.6906988519025559,-0.14436831923177185,-0.8490004432157602,0.12606804002629304,-1.419783969424822,-1.3386672466657163,0.1025711857038433,-0.17526986520131532,1.0322093753670571,-0.08573491754076627,1.3010216527471408,-0.9489028978786285,-0.883492332517402,-1.2873136726903505,0.6479351933755042,-0.8376876792340087,-0.7386458732355002,0.7560364934857938,0.6795679333775624,0.5918996363507902,0.9376426697121171,0.2653352431183191,1.6579747967261944,-1.3355416128149515,0.03395533520806284,-0.25376231373687164,-0.3343846286932071,0.947247557239635,-0.6079551744162106,-0.5752977060081683,-0.7890237136747128,-0.6587642329116016,1.163701930798238,0.4606404839325701,0.8067944374337038,-0.19988432528089134,-0.21390856728770027,-1.018568825005735,-1.9589686543951768,0.06068691245208455,0.2678907684869432,0.03482855608749407,-0.38749122105340666,-0.5179472276706354,0.7704703886351763,-0.9890496308856835,-0.4756631316399486,-0.441569985646899,-0.5786339248236021,1.2622457440284895,-0.3533303731137811,0.6127642614441432,-0.7507571711907699,-0.17145625910104795,-1.7199283839683184,-0.4694471236015308,1.1724720953758947,-0.3030314459539039,0.7747117018211388,0.056886856834242286,0.2156621626300678,-0.4998451104106444,-2.3961426677696873,0.4773531183027042],\"xaxis\":\"x9\",\"y\":[0.11478205581581004,-0.7269443582850521,-0.1016340680650651,1.2378074807734678,0.5388091112889526,-0.4927430155938008,0.8371686804480575,-0.39013299510156135,-2.393066210468212,0.0019183805017788742,-0.6212843400286342,0.9676209752970684,-1.5796310872302395,-0.4932564107282682,0.7916439329286905,-0.6729339922723492,1.7399217191676006,-0.4509690828174776,0.16785395282716004,-0.757753230238972,0.6312887954145839,-0.3283564822328538,-0.7978452637865974,-0.8893931085956209,-2.160753748239564,0.9545431135106218,-2.6208022565379028,-0.5148911309926577,-1.2798396591335959,-0.28918707517250025,-0.6240293916732635,0.9038059794163196,-0.05660955113231021,1.3506483845773511,-0.8769329662460299,-0.1107532276844045,1.526879382866703,-0.16471239549521408,0.07554965503932266,-0.9669828002542283,-1.1498006789784305,-1.4503403112959212,-0.09290735196103211,0.4806173056682018,-1.2810713901463937,1.2888541173565045,0.8634720603349073,0.8448374275058981,0.37296355903467393,-0.5544209177627011,1.408763413526378,1.0835412855416442,1.3165718329358136,-1.664798939796363,0.9071188834882395,0.20241034222087703,-1.1564786307549466,-0.0932964523797422,1.4140703193632078,1.737261186077956,-1.5808041215904607,-0.6057547399907516,1.6816155776518427,-0.4888820778770582,1.1552763034155282,0.2017100658612874,-1.8078744153943203,-0.9706305630597827,1.1484979604817878,-1.2359892682170062,-2.7540337648068878,-0.14845271863611717,-1.2925078780907588,0.5411658262306305,-1.3464204205490389,0.5653336995383301,2.16344641717525,-0.7687566107452469,-0.30200898511652086,0.7232652642928008,0.24367448114825582,1.2763788519004793,-1.2326788202391716,1.3647014194043774,1.307768033039978,0.4846572183139304,-1.272427724900435,-0.660930965033993,0.7875247488283871,-0.026615501892175424,-0.7628248833075147,-1.4622792771961897,0.07764859196380898,-1.2344766538783207,-0.03578260657767036,-0.29940223232268787,-1.618126017021462,0.3229962626008405,1.6520112265009217,0.30855758749121664],\"yaxis\":\"y9\",\"type\":\"scatter\"},{\"line\":{\"color\":\"rgba(128, 128, 128, 1.0)\",\"dash\":\"solid\",\"shape\":\"linear\",\"width\":1.3},\"marker\":{\"size\":2,\"symbol\":\"circle\"},\"mode\":\"markers\",\"name\":\"C\",\"text\":\"\",\"x\":[-1.810705620303543,-0.6009888044223608,-0.8699212494722677,-0.550534748641092,0.4274694755230017,0.5985403310571168,-0.12188328873954034,0.4356412141803811,0.23677802285309477,-1.0316199459958797,-1.4119914497327224,0.42286751614288964,0.6899228786876435,-0.3304895135271398,1.0199569861773699,-0.07452470268944116,0.5179123635617616,0.7212504056693066,1.0568220483539346,-0.6329714821783978,-0.7729734925590904,0.04611373216482665,-1.662473515264781,0.36338256207965686,-0.5503816776380241,-2.7322601519765075,-1.6113440120570792,0.906382094929108,0.4735390415891768,-0.975263135435076,1.588411990779888,-2.0768510538923963,-1.4231799460959853,0.6882644752812591,-0.4998480033947634,-0.496656394151241,-0.4835208859489081,-1.8816807499555739,0.7719794078507218,-0.5139045194391917,-1.639215382625045,0.40602339946612515,2.298972143667528,0.11505047736262437,0.7005717751962709,0.4855307624973052,-1.0177172990318302,0.4840449889903183,-0.7194660638209635,-1.2300432610286793,-1.3701879756614934,-4.671017883589642,-1.184275158102963,0.39666942539920347,-2.226632808899658,1.3015642154390656,-1.782868004198849,2.1247188152382463,0.15797693140612953,1.8613288779523205,-1.7063050375534852,1.5331352666503193,0.5163164019441416,0.21032973058063056,-0.7984519380720064,1.1289791275584007,-0.2821710024131168,-0.7397400754627164,-0.08853754898509787,0.5618092496862193,-0.27172333726221837,0.1763089843781587,-0.36412102130108454,2.282272289168112,-0.9838235969987101,0.4803009506491444,1.3445668968174393,-0.2172825367000398,0.031868623818376185,0.7387689037046977,1.9125877271166336,1.0787847269804158,0.3197886159287113,0.10733866289906828,0.050774236411273876,-0.48259031053099,0.4489969178285034,-0.27393513534568964,-1.3236830680290488,-0.4724755544055852,1.0766300535114623,2.005792322169697,-1.5314592912873237,0.05121594255874584,0.27667231651744467,1.167398410424178,0.3884694404010253,-0.27529328081680393,0.9988939005905673,-0.3363810223756748],\"xaxis\":\"x10\",\"y\":[0.11478205581581004,-0.7269443582850521,-0.1016340680650651,1.2378074807734678,0.5388091112889526,-0.4927430155938008,0.8371686804480575,-0.39013299510156135,-2.393066210468212,0.0019183805017788742,-0.6212843400286342,0.9676209752970684,-1.5796310872302395,-0.4932564107282682,0.7916439329286905,-0.6729339922723492,1.7399217191676006,-0.4509690828174776,0.16785395282716004,-0.757753230238972,0.6312887954145839,-0.3283564822328538,-0.7978452637865974,-0.8893931085956209,-2.160753748239564,0.9545431135106218,-2.6208022565379028,-0.5148911309926577,-1.2798396591335959,-0.28918707517250025,-0.6240293916732635,0.9038059794163196,-0.05660955113231021,1.3506483845773511,-0.8769329662460299,-0.1107532276844045,1.526879382866703,-0.16471239549521408,0.07554965503932266,-0.9669828002542283,-1.1498006789784305,-1.4503403112959212,-0.09290735196103211,0.4806173056682018,-1.2810713901463937,1.2888541173565045,0.8634720603349073,0.8448374275058981,0.37296355903467393,-0.5544209177627011,1.408763413526378,1.0835412855416442,1.3165718329358136,-1.664798939796363,0.9071188834882395,0.20241034222087703,-1.1564786307549466,-0.0932964523797422,1.4140703193632078,1.737261186077956,-1.5808041215904607,-0.6057547399907516,1.6816155776518427,-0.4888820778770582,1.1552763034155282,0.2017100658612874,-1.8078744153943203,-0.9706305630597827,1.1484979604817878,-1.2359892682170062,-2.7540337648068878,-0.14845271863611717,-1.2925078780907588,0.5411658262306305,-1.3464204205490389,0.5653336995383301,2.16344641717525,-0.7687566107452469,-0.30200898511652086,0.7232652642928008,0.24367448114825582,1.2763788519004793,-1.2326788202391716,1.3647014194043774,1.307768033039978,0.4846572183139304,-1.272427724900435,-0.660930965033993,0.7875247488283871,-0.026615501892175424,-0.7628248833075147,-1.4622792771961897,0.07764859196380898,-1.2344766538783207,-0.03578260657767036,-0.29940223232268787,-1.618126017021462,0.3229962626008405,1.6520112265009217,0.30855758749121664],\"yaxis\":\"y10\",\"type\":\"scatter\"},{\"histfunc\":\"count\",\"histnorm\":\"\",\"marker\":{\"color\":\"rgba(50, 171, 96, 1.0)\",\"line\":{\"color\":\"#4D5663\",\"width\":1.3}},\"name\":\"C\",\"nbinsx\":10,\"opacity\":0.8,\"orientation\":\"v\",\"x\":[0.11478205581581004,-0.7269443582850521,-0.1016340680650651,1.2378074807734678,0.5388091112889526,-0.4927430155938008,0.8371686804480575,-0.39013299510156135,-2.393066210468212,0.0019183805017788742,-0.6212843400286342,0.9676209752970684,-1.5796310872302395,-0.4932564107282682,0.7916439329286905,-0.6729339922723492,1.7399217191676006,-0.4509690828174776,0.16785395282716004,-0.757753230238972,0.6312887954145839,-0.3283564822328538,-0.7978452637865974,-0.8893931085956209,-2.160753748239564,0.9545431135106218,-2.6208022565379028,-0.5148911309926577,-1.2798396591335959,-0.28918707517250025,-0.6240293916732635,0.9038059794163196,-0.05660955113231021,1.3506483845773511,-0.8769329662460299,-0.1107532276844045,1.526879382866703,-0.16471239549521408,0.07554965503932266,-0.9669828002542283,-1.1498006789784305,-1.4503403112959212,-0.09290735196103211,0.4806173056682018,-1.2810713901463937,1.2888541173565045,0.8634720603349073,0.8448374275058981,0.37296355903467393,-0.5544209177627011,1.408763413526378,1.0835412855416442,1.3165718329358136,-1.664798939796363,0.9071188834882395,0.20241034222087703,-1.1564786307549466,-0.0932964523797422,1.4140703193632078,1.737261186077956,-1.5808041215904607,-0.6057547399907516,1.6816155776518427,-0.4888820778770582,1.1552763034155282,0.2017100658612874,-1.8078744153943203,-0.9706305630597827,1.1484979604817878,-1.2359892682170062,-2.7540337648068878,-0.14845271863611717,-1.2925078780907588,0.5411658262306305,-1.3464204205490389,0.5653336995383301,2.16344641717525,-0.7687566107452469,-0.30200898511652086,0.7232652642928008,0.24367448114825582,1.2763788519004793,-1.2326788202391716,1.3647014194043774,1.307768033039978,0.4846572183139304,-1.272427724900435,-0.660930965033993,0.7875247488283871,-0.026615501892175424,-0.7628248833075147,-1.4622792771961897,0.07764859196380898,-1.2344766538783207,-0.03578260657767036,-0.29940223232268787,-1.618126017021462,0.3229962626008405,1.6520112265009217,0.30855758749121664],\"xaxis\":\"x11\",\"yaxis\":\"y11\",\"type\":\"histogram\"},{\"line\":{\"color\":\"rgba(128, 128, 128, 1.0)\",\"dash\":\"solid\",\"shape\":\"linear\",\"width\":1.3},\"marker\":{\"size\":2,\"symbol\":\"circle\"},\"mode\":\"markers\",\"name\":\"C\",\"text\":\"\",\"x\":[-0.3711931195882421,0.09976857112903022,0.9939841470463258,-0.9173811897687342,1.3642204266535358,-0.853767248924945,0.5344726508326774,-0.25254954602810586,1.3519306823601493,0.9705011873043906,0.49484252843912263,-0.24719792523029027,1.6574866576257656,1.1593405743507281,-2.0945717822987597,1.0018232358435215,-0.6659273832893793,1.3312705501019129,0.04282474171051095,-0.7457730652334875,0.8906541224627033,0.004219177583501206,0.13700574672714838,0.9757088108414181,-1.1373755748646621,-0.9585348853767228,-1.265109555400537,0.066649404176319,0.5886509931401189,-0.20935248036239013,0.08355201605704875,-0.7247359165430772,0.0800168690130128,1.033643312989802,1.2231227729939784,2.692333571163918,0.7219892080868341,-0.5216471565080071,-0.37528687751493633,-0.9685420450030335,-0.05728896034000053,1.2582378704313193,0.8751239112360449,-0.5520061014149678,-0.7010512767667684,-0.4667152872661785,1.6622095835383701,0.4995020164011859,2.2267298922913072,-0.6593475939230415,-1.829455092533334,-0.731000160738417,-1.1837345757874516,-0.10802993995791371,-0.18466174057252122,1.1587551931993783,0.6351246492231096,1.9362937226827508,0.19130915745618232,0.01221577918521235,-0.7554859562554341,0.7184140422363418,-0.02504087624912554,0.27232324987871503,-2.231055701976817,-0.6405114028732867,-1.1051998663261027,3.2685613892422314,-1.0326974243490925,-0.21654608592375243,-1.5763742713627535,0.9158590725264812,-0.6074054236547549,0.027748603834612893,0.11259719032670895,0.16168425441769932,0.2469126299504723,-2.3427633156375154,-0.05946911210369595,1.4602378374812317,0.2980729594300721,1.1885689344371333,-1.0276015884468157,1.3049809821828426,-1.0828189253555016,-0.81500181747484,0.18100739737577215,-0.9819893643717046,-1.7567247714982477,-0.7189127866512951,-0.8001221135136581,-0.91141532744826,-0.9456097475592233,-0.47830415948983285,-0.4506533233935948,-0.31628502280265586,0.5412070352741424,0.6705847523583408,0.12432907190852026,-0.07326452712069995],\"xaxis\":\"x12\",\"y\":[0.11478205581581004,-0.7269443582850521,-0.1016340680650651,1.2378074807734678,0.5388091112889526,-0.4927430155938008,0.8371686804480575,-0.39013299510156135,-2.393066210468212,0.0019183805017788742,-0.6212843400286342,0.9676209752970684,-1.5796310872302395,-0.4932564107282682,0.7916439329286905,-0.6729339922723492,1.7399217191676006,-0.4509690828174776,0.16785395282716004,-0.757753230238972,0.6312887954145839,-0.3283564822328538,-0.7978452637865974,-0.8893931085956209,-2.160753748239564,0.9545431135106218,-2.6208022565379028,-0.5148911309926577,-1.2798396591335959,-0.28918707517250025,-0.6240293916732635,0.9038059794163196,-0.05660955113231021,1.3506483845773511,-0.8769329662460299,-0.1107532276844045,1.526879382866703,-0.16471239549521408,0.07554965503932266,-0.9669828002542283,-1.1498006789784305,-1.4503403112959212,-0.09290735196103211,0.4806173056682018,-1.2810713901463937,1.2888541173565045,0.8634720603349073,0.8448374275058981,0.37296355903467393,-0.5544209177627011,1.408763413526378,1.0835412855416442,1.3165718329358136,-1.664798939796363,0.9071188834882395,0.20241034222087703,-1.1564786307549466,-0.0932964523797422,1.4140703193632078,1.737261186077956,-1.5808041215904607,-0.6057547399907516,1.6816155776518427,-0.4888820778770582,1.1552763034155282,0.2017100658612874,-1.8078744153943203,-0.9706305630597827,1.1484979604817878,-1.2359892682170062,-2.7540337648068878,-0.14845271863611717,-1.2925078780907588,0.5411658262306305,-1.3464204205490389,0.5653336995383301,2.16344641717525,-0.7687566107452469,-0.30200898511652086,0.7232652642928008,0.24367448114825582,1.2763788519004793,-1.2326788202391716,1.3647014194043774,1.307768033039978,0.4846572183139304,-1.272427724900435,-0.660930965033993,0.7875247488283871,-0.026615501892175424,-0.7628248833075147,-1.4622792771961897,0.07764859196380898,-1.2344766538783207,-0.03578260657767036,-0.29940223232268787,-1.618126017021462,0.3229962626008405,1.6520112265009217,0.30855758749121664],\"yaxis\":\"y12\",\"type\":\"scatter\"},{\"line\":{\"color\":\"rgba(128, 128, 128, 1.0)\",\"dash\":\"solid\",\"shape\":\"linear\",\"width\":1.3},\"marker\":{\"size\":2,\"symbol\":\"circle\"},\"mode\":\"markers\",\"name\":\"D\",\"text\":\"\",\"x\":[-0.813094974158615,-0.6320677486019147,-1.8330180188288216,0.30946276649967275,-0.34965251460663066,0.2541242676005999,-1.25409609186406,-1.5953824759783306,1.209996953723444,-0.9031365588388017,-0.2528994058951668,1.1993671174625855,-0.03479382440405025,0.3587651949863715,-1.1773880168626751,0.1882839674798589,0.15926856483581273,-0.7575700575481089,0.5923720816717849,-0.43599154580134525,-0.40837339303113024,-0.47646397111751376,-0.4321175598119881,-0.4166377903936301,0.4465808165690844,-2.1124722104004774,-0.7168027292736445,-1.4687468385877556,-0.8552724178550116,-0.1833187037760549,-0.0516014687726671,0.08929624648486419,0.283689280140465,0.23228257745041886,-0.7994824154787796,-0.15801600703858176,1.6906988519025559,-0.14436831923177185,-0.8490004432157602,0.12606804002629304,-1.419783969424822,-1.3386672466657163,0.1025711857038433,-0.17526986520131532,1.0322093753670571,-0.08573491754076627,1.3010216527471408,-0.9489028978786285,-0.883492332517402,-1.2873136726903505,0.6479351933755042,-0.8376876792340087,-0.7386458732355002,0.7560364934857938,0.6795679333775624,0.5918996363507902,0.9376426697121171,0.2653352431183191,1.6579747967261944,-1.3355416128149515,0.03395533520806284,-0.25376231373687164,-0.3343846286932071,0.947247557239635,-0.6079551744162106,-0.5752977060081683,-0.7890237136747128,-0.6587642329116016,1.163701930798238,0.4606404839325701,0.8067944374337038,-0.19988432528089134,-0.21390856728770027,-1.018568825005735,-1.9589686543951768,0.06068691245208455,0.2678907684869432,0.03482855608749407,-0.38749122105340666,-0.5179472276706354,0.7704703886351763,-0.9890496308856835,-0.4756631316399486,-0.441569985646899,-0.5786339248236021,1.2622457440284895,-0.3533303731137811,0.6127642614441432,-0.7507571711907699,-0.17145625910104795,-1.7199283839683184,-0.4694471236015308,1.1724720953758947,-0.3030314459539039,0.7747117018211388,0.056886856834242286,0.2156621626300678,-0.4998451104106444,-2.3961426677696873,0.4773531183027042],\"xaxis\":\"x13\",\"y\":[-0.3711931195882421,0.09976857112903022,0.9939841470463258,-0.9173811897687342,1.3642204266535358,-0.853767248924945,0.5344726508326774,-0.25254954602810586,1.3519306823601493,0.9705011873043906,0.49484252843912263,-0.24719792523029027,1.6574866576257656,1.1593405743507281,-2.0945717822987597,1.0018232358435215,-0.6659273832893793,1.3312705501019129,0.04282474171051095,-0.7457730652334875,0.8906541224627033,0.004219177583501206,0.13700574672714838,0.9757088108414181,-1.1373755748646621,-0.9585348853767228,-1.265109555400537,0.066649404176319,0.5886509931401189,-0.20935248036239013,0.08355201605704875,-0.7247359165430772,0.0800168690130128,1.033643312989802,1.2231227729939784,2.692333571163918,0.7219892080868341,-0.5216471565080071,-0.37528687751493633,-0.9685420450030335,-0.05728896034000053,1.2582378704313193,0.8751239112360449,-0.5520061014149678,-0.7010512767667684,-0.4667152872661785,1.6622095835383701,0.4995020164011859,2.2267298922913072,-0.6593475939230415,-1.829455092533334,-0.731000160738417,-1.1837345757874516,-0.10802993995791371,-0.18466174057252122,1.1587551931993783,0.6351246492231096,1.9362937226827508,0.19130915745618232,0.01221577918521235,-0.7554859562554341,0.7184140422363418,-0.02504087624912554,0.27232324987871503,-2.231055701976817,-0.6405114028732867,-1.1051998663261027,3.2685613892422314,-1.0326974243490925,-0.21654608592375243,-1.5763742713627535,0.9158590725264812,-0.6074054236547549,0.027748603834612893,0.11259719032670895,0.16168425441769932,0.2469126299504723,-2.3427633156375154,-0.05946911210369595,1.4602378374812317,0.2980729594300721,1.1885689344371333,-1.0276015884468157,1.3049809821828426,-1.0828189253555016,-0.81500181747484,0.18100739737577215,-0.9819893643717046,-1.7567247714982477,-0.7189127866512951,-0.8001221135136581,-0.91141532744826,-0.9456097475592233,-0.47830415948983285,-0.4506533233935948,-0.31628502280265586,0.5412070352741424,0.6705847523583408,0.12432907190852026,-0.07326452712069995],\"yaxis\":\"y13\",\"type\":\"scatter\"},{\"line\":{\"color\":\"rgba(128, 128, 128, 1.0)\",\"dash\":\"solid\",\"shape\":\"linear\",\"width\":1.3},\"marker\":{\"size\":2,\"symbol\":\"circle\"},\"mode\":\"markers\",\"name\":\"D\",\"text\":\"\",\"x\":[-1.810705620303543,-0.6009888044223608,-0.8699212494722677,-0.550534748641092,0.4274694755230017,0.5985403310571168,-0.12188328873954034,0.4356412141803811,0.23677802285309477,-1.0316199459958797,-1.4119914497327224,0.42286751614288964,0.6899228786876435,-0.3304895135271398,1.0199569861773699,-0.07452470268944116,0.5179123635617616,0.7212504056693066,1.0568220483539346,-0.6329714821783978,-0.7729734925590904,0.04611373216482665,-1.662473515264781,0.36338256207965686,-0.5503816776380241,-2.7322601519765075,-1.6113440120570792,0.906382094929108,0.4735390415891768,-0.975263135435076,1.588411990779888,-2.0768510538923963,-1.4231799460959853,0.6882644752812591,-0.4998480033947634,-0.496656394151241,-0.4835208859489081,-1.8816807499555739,0.7719794078507218,-0.5139045194391917,-1.639215382625045,0.40602339946612515,2.298972143667528,0.11505047736262437,0.7005717751962709,0.4855307624973052,-1.0177172990318302,0.4840449889903183,-0.7194660638209635,-1.2300432610286793,-1.3701879756614934,-4.671017883589642,-1.184275158102963,0.39666942539920347,-2.226632808899658,1.3015642154390656,-1.782868004198849,2.1247188152382463,0.15797693140612953,1.8613288779523205,-1.7063050375534852,1.5331352666503193,0.5163164019441416,0.21032973058063056,-0.7984519380720064,1.1289791275584007,-0.2821710024131168,-0.7397400754627164,-0.08853754898509787,0.5618092496862193,-0.27172333726221837,0.1763089843781587,-0.36412102130108454,2.282272289168112,-0.9838235969987101,0.4803009506491444,1.3445668968174393,-0.2172825367000398,0.031868623818376185,0.7387689037046977,1.9125877271166336,1.0787847269804158,0.3197886159287113,0.10733866289906828,0.050774236411273876,-0.48259031053099,0.4489969178285034,-0.27393513534568964,-1.3236830680290488,-0.4724755544055852,1.0766300535114623,2.005792322169697,-1.5314592912873237,0.05121594255874584,0.27667231651744467,1.167398410424178,0.3884694404010253,-0.27529328081680393,0.9988939005905673,-0.3363810223756748],\"xaxis\":\"x14\",\"y\":[-0.3711931195882421,0.09976857112903022,0.9939841470463258,-0.9173811897687342,1.3642204266535358,-0.853767248924945,0.5344726508326774,-0.25254954602810586,1.3519306823601493,0.9705011873043906,0.49484252843912263,-0.24719792523029027,1.6574866576257656,1.1593405743507281,-2.0945717822987597,1.0018232358435215,-0.6659273832893793,1.3312705501019129,0.04282474171051095,-0.7457730652334875,0.8906541224627033,0.004219177583501206,0.13700574672714838,0.9757088108414181,-1.1373755748646621,-0.9585348853767228,-1.265109555400537,0.066649404176319,0.5886509931401189,-0.20935248036239013,0.08355201605704875,-0.7247359165430772,0.0800168690130128,1.033643312989802,1.2231227729939784,2.692333571163918,0.7219892080868341,-0.5216471565080071,-0.37528687751493633,-0.9685420450030335,-0.05728896034000053,1.2582378704313193,0.8751239112360449,-0.5520061014149678,-0.7010512767667684,-0.4667152872661785,1.6622095835383701,0.4995020164011859,2.2267298922913072,-0.6593475939230415,-1.829455092533334,-0.731000160738417,-1.1837345757874516,-0.10802993995791371,-0.18466174057252122,1.1587551931993783,0.6351246492231096,1.9362937226827508,0.19130915745618232,0.01221577918521235,-0.7554859562554341,0.7184140422363418,-0.02504087624912554,0.27232324987871503,-2.231055701976817,-0.6405114028732867,-1.1051998663261027,3.2685613892422314,-1.0326974243490925,-0.21654608592375243,-1.5763742713627535,0.9158590725264812,-0.6074054236547549,0.027748603834612893,0.11259719032670895,0.16168425441769932,0.2469126299504723,-2.3427633156375154,-0.05946911210369595,1.4602378374812317,0.2980729594300721,1.1885689344371333,-1.0276015884468157,1.3049809821828426,-1.0828189253555016,-0.81500181747484,0.18100739737577215,-0.9819893643717046,-1.7567247714982477,-0.7189127866512951,-0.8001221135136581,-0.91141532744826,-0.9456097475592233,-0.47830415948983285,-0.4506533233935948,-0.31628502280265586,0.5412070352741424,0.6705847523583408,0.12432907190852026,-0.07326452712069995],\"yaxis\":\"y14\",\"type\":\"scatter\"},{\"line\":{\"color\":\"rgba(128, 128, 128, 1.0)\",\"dash\":\"solid\",\"shape\":\"linear\",\"width\":1.3},\"marker\":{\"size\":2,\"symbol\":\"circle\"},\"mode\":\"markers\",\"name\":\"D\",\"text\":\"\",\"x\":[0.11478205581581004,-0.7269443582850521,-0.1016340680650651,1.2378074807734678,0.5388091112889526,-0.4927430155938008,0.8371686804480575,-0.39013299510156135,-2.393066210468212,0.0019183805017788742,-0.6212843400286342,0.9676209752970684,-1.5796310872302395,-0.4932564107282682,0.7916439329286905,-0.6729339922723492,1.7399217191676006,-0.4509690828174776,0.16785395282716004,-0.757753230238972,0.6312887954145839,-0.3283564822328538,-0.7978452637865974,-0.8893931085956209,-2.160753748239564,0.9545431135106218,-2.6208022565379028,-0.5148911309926577,-1.2798396591335959,-0.28918707517250025,-0.6240293916732635,0.9038059794163196,-0.05660955113231021,1.3506483845773511,-0.8769329662460299,-0.1107532276844045,1.526879382866703,-0.16471239549521408,0.07554965503932266,-0.9669828002542283,-1.1498006789784305,-1.4503403112959212,-0.09290735196103211,0.4806173056682018,-1.2810713901463937,1.2888541173565045,0.8634720603349073,0.8448374275058981,0.37296355903467393,-0.5544209177627011,1.408763413526378,1.0835412855416442,1.3165718329358136,-1.664798939796363,0.9071188834882395,0.20241034222087703,-1.1564786307549466,-0.0932964523797422,1.4140703193632078,1.737261186077956,-1.5808041215904607,-0.6057547399907516,1.6816155776518427,-0.4888820778770582,1.1552763034155282,0.2017100658612874,-1.8078744153943203,-0.9706305630597827,1.1484979604817878,-1.2359892682170062,-2.7540337648068878,-0.14845271863611717,-1.2925078780907588,0.5411658262306305,-1.3464204205490389,0.5653336995383301,2.16344641717525,-0.7687566107452469,-0.30200898511652086,0.7232652642928008,0.24367448114825582,1.2763788519004793,-1.2326788202391716,1.3647014194043774,1.307768033039978,0.4846572183139304,-1.272427724900435,-0.660930965033993,0.7875247488283871,-0.026615501892175424,-0.7628248833075147,-1.4622792771961897,0.07764859196380898,-1.2344766538783207,-0.03578260657767036,-0.29940223232268787,-1.618126017021462,0.3229962626008405,1.6520112265009217,0.30855758749121664],\"xaxis\":\"x15\",\"y\":[-0.3711931195882421,0.09976857112903022,0.9939841470463258,-0.9173811897687342,1.3642204266535358,-0.853767248924945,0.5344726508326774,-0.25254954602810586,1.3519306823601493,0.9705011873043906,0.49484252843912263,-0.24719792523029027,1.6574866576257656,1.1593405743507281,-2.0945717822987597,1.0018232358435215,-0.6659273832893793,1.3312705501019129,0.04282474171051095,-0.7457730652334875,0.8906541224627033,0.004219177583501206,0.13700574672714838,0.9757088108414181,-1.1373755748646621,-0.9585348853767228,-1.265109555400537,0.066649404176319,0.5886509931401189,-0.20935248036239013,0.08355201605704875,-0.7247359165430772,0.0800168690130128,1.033643312989802,1.2231227729939784,2.692333571163918,0.7219892080868341,-0.5216471565080071,-0.37528687751493633,-0.9685420450030335,-0.05728896034000053,1.2582378704313193,0.8751239112360449,-0.5520061014149678,-0.7010512767667684,-0.4667152872661785,1.6622095835383701,0.4995020164011859,2.2267298922913072,-0.6593475939230415,-1.829455092533334,-0.731000160738417,-1.1837345757874516,-0.10802993995791371,-0.18466174057252122,1.1587551931993783,0.6351246492231096,1.9362937226827508,0.19130915745618232,0.01221577918521235,-0.7554859562554341,0.7184140422363418,-0.02504087624912554,0.27232324987871503,-2.231055701976817,-0.6405114028732867,-1.1051998663261027,3.2685613892422314,-1.0326974243490925,-0.21654608592375243,-1.5763742713627535,0.9158590725264812,-0.6074054236547549,0.027748603834612893,0.11259719032670895,0.16168425441769932,0.2469126299504723,-2.3427633156375154,-0.05946911210369595,1.4602378374812317,0.2980729594300721,1.1885689344371333,-1.0276015884468157,1.3049809821828426,-1.0828189253555016,-0.81500181747484,0.18100739737577215,-0.9819893643717046,-1.7567247714982477,-0.7189127866512951,-0.8001221135136581,-0.91141532744826,-0.9456097475592233,-0.47830415948983285,-0.4506533233935948,-0.31628502280265586,0.5412070352741424,0.6705847523583408,0.12432907190852026,-0.07326452712069995],\"yaxis\":\"y15\",\"type\":\"scatter\"},{\"histfunc\":\"count\",\"histnorm\":\"\",\"marker\":{\"color\":\"rgba(128, 0, 128, 1.0)\",\"line\":{\"color\":\"#4D5663\",\"width\":1.3}},\"name\":\"D\",\"nbinsx\":10,\"opacity\":0.8,\"orientation\":\"v\",\"x\":[-0.3711931195882421,0.09976857112903022,0.9939841470463258,-0.9173811897687342,1.3642204266535358,-0.853767248924945,0.5344726508326774,-0.25254954602810586,1.3519306823601493,0.9705011873043906,0.49484252843912263,-0.24719792523029027,1.6574866576257656,1.1593405743507281,-2.0945717822987597,1.0018232358435215,-0.6659273832893793,1.3312705501019129,0.04282474171051095,-0.7457730652334875,0.8906541224627033,0.004219177583501206,0.13700574672714838,0.9757088108414181,-1.1373755748646621,-0.9585348853767228,-1.265109555400537,0.066649404176319,0.5886509931401189,-0.20935248036239013,0.08355201605704875,-0.7247359165430772,0.0800168690130128,1.033643312989802,1.2231227729939784,2.692333571163918,0.7219892080868341,-0.5216471565080071,-0.37528687751493633,-0.9685420450030335,-0.05728896034000053,1.2582378704313193,0.8751239112360449,-0.5520061014149678,-0.7010512767667684,-0.4667152872661785,1.6622095835383701,0.4995020164011859,2.2267298922913072,-0.6593475939230415,-1.829455092533334,-0.731000160738417,-1.1837345757874516,-0.10802993995791371,-0.18466174057252122,1.1587551931993783,0.6351246492231096,1.9362937226827508,0.19130915745618232,0.01221577918521235,-0.7554859562554341,0.7184140422363418,-0.02504087624912554,0.27232324987871503,-2.231055701976817,-0.6405114028732867,-1.1051998663261027,3.2685613892422314,-1.0326974243490925,-0.21654608592375243,-1.5763742713627535,0.9158590725264812,-0.6074054236547549,0.027748603834612893,0.11259719032670895,0.16168425441769932,0.2469126299504723,-2.3427633156375154,-0.05946911210369595,1.4602378374812317,0.2980729594300721,1.1885689344371333,-1.0276015884468157,1.3049809821828426,-1.0828189253555016,-0.81500181747484,0.18100739737577215,-0.9819893643717046,-1.7567247714982477,-0.7189127866512951,-0.8001221135136581,-0.91141532744826,-0.9456097475592233,-0.47830415948983285,-0.4506533233935948,-0.31628502280265586,0.5412070352741424,0.6705847523583408,0.12432907190852026,-0.07326452712069995],\"xaxis\":\"x16\",\"yaxis\":\"y16\",\"type\":\"histogram\"}],                        {\"bargap\":0.02,\"legend\":{\"bgcolor\":\"#F5F6F9\",\"font\":{\"color\":\"#4D5663\"}},\"paper_bgcolor\":\"#F5F6F9\",\"plot_bgcolor\":\"#F5F6F9\",\"showlegend\":false,\"template\":{\"data\":{\"barpolar\":[{\"marker\":{\"line\":{\"color\":\"#E5ECF6\",\"width\":0.5},\"pattern\":{\"fillmode\":\"overlay\",\"size\":10,\"solidity\":0.2}},\"type\":\"barpolar\"}],\"bar\":[{\"error_x\":{\"color\":\"#2a3f5f\"},\"error_y\":{\"color\":\"#2a3f5f\"},\"marker\":{\"line\":{\"color\":\"#E5ECF6\",\"width\":0.5},\"pattern\":{\"fillmode\":\"overlay\",\"size\":10,\"solidity\":0.2}},\"type\":\"bar\"}],\"carpet\":[{\"aaxis\":{\"endlinecolor\":\"#2a3f5f\",\"gridcolor\":\"white\",\"linecolor\":\"white\",\"minorgridcolor\":\"white\",\"startlinecolor\":\"#2a3f5f\"},\"baxis\":{\"endlinecolor\":\"#2a3f5f\",\"gridcolor\":\"white\",\"linecolor\":\"white\",\"minorgridcolor\":\"white\",\"startlinecolor\":\"#2a3f5f\"},\"type\":\"carpet\"}],\"choropleth\":[{\"colorbar\":{\"outlinewidth\":0,\"ticks\":\"\"},\"type\":\"choropleth\"}],\"contourcarpet\":[{\"colorbar\":{\"outlinewidth\":0,\"ticks\":\"\"},\"type\":\"contourcarpet\"}],\"contour\":[{\"colorbar\":{\"outlinewidth\":0,\"ticks\":\"\"},\"colorscale\":[[0.0,\"#0d0887\"],[0.1111111111111111,\"#46039f\"],[0.2222222222222222,\"#7201a8\"],[0.3333333333333333,\"#9c179e\"],[0.4444444444444444,\"#bd3786\"],[0.5555555555555556,\"#d8576b\"],[0.6666666666666666,\"#ed7953\"],[0.7777777777777778,\"#fb9f3a\"],[0.8888888888888888,\"#fdca26\"],[1.0,\"#f0f921\"]],\"type\":\"contour\"}],\"heatmapgl\":[{\"colorbar\":{\"outlinewidth\":0,\"ticks\":\"\"},\"colorscale\":[[0.0,\"#0d0887\"],[0.1111111111111111,\"#46039f\"],[0.2222222222222222,\"#7201a8\"],[0.3333333333333333,\"#9c179e\"],[0.4444444444444444,\"#bd3786\"],[0.5555555555555556,\"#d8576b\"],[0.6666666666666666,\"#ed7953\"],[0.7777777777777778,\"#fb9f3a\"],[0.8888888888888888,\"#fdca26\"],[1.0,\"#f0f921\"]],\"type\":\"heatmapgl\"}],\"heatmap\":[{\"colorbar\":{\"outlinewidth\":0,\"ticks\":\"\"},\"colorscale\":[[0.0,\"#0d0887\"],[0.1111111111111111,\"#46039f\"],[0.2222222222222222,\"#7201a8\"],[0.3333333333333333,\"#9c179e\"],[0.4444444444444444,\"#bd3786\"],[0.5555555555555556,\"#d8576b\"],[0.6666666666666666,\"#ed7953\"],[0.7777777777777778,\"#fb9f3a\"],[0.8888888888888888,\"#fdca26\"],[1.0,\"#f0f921\"]],\"type\":\"heatmap\"}],\"histogram2dcontour\":[{\"colorbar\":{\"outlinewidth\":0,\"ticks\":\"\"},\"colorscale\":[[0.0,\"#0d0887\"],[0.1111111111111111,\"#46039f\"],[0.2222222222222222,\"#7201a8\"],[0.3333333333333333,\"#9c179e\"],[0.4444444444444444,\"#bd3786\"],[0.5555555555555556,\"#d8576b\"],[0.6666666666666666,\"#ed7953\"],[0.7777777777777778,\"#fb9f3a\"],[0.8888888888888888,\"#fdca26\"],[1.0,\"#f0f921\"]],\"type\":\"histogram2dcontour\"}],\"histogram2d\":[{\"colorbar\":{\"outlinewidth\":0,\"ticks\":\"\"},\"colorscale\":[[0.0,\"#0d0887\"],[0.1111111111111111,\"#46039f\"],[0.2222222222222222,\"#7201a8\"],[0.3333333333333333,\"#9c179e\"],[0.4444444444444444,\"#bd3786\"],[0.5555555555555556,\"#d8576b\"],[0.6666666666666666,\"#ed7953\"],[0.7777777777777778,\"#fb9f3a\"],[0.8888888888888888,\"#fdca26\"],[1.0,\"#f0f921\"]],\"type\":\"histogram2d\"}],\"histogram\":[{\"marker\":{\"pattern\":{\"fillmode\":\"overlay\",\"size\":10,\"solidity\":0.2}},\"type\":\"histogram\"}],\"mesh3d\":[{\"colorbar\":{\"outlinewidth\":0,\"ticks\":\"\"},\"type\":\"mesh3d\"}],\"parcoords\":[{\"line\":{\"colorbar\":{\"outlinewidth\":0,\"ticks\":\"\"}},\"type\":\"parcoords\"}],\"pie\":[{\"automargin\":true,\"type\":\"pie\"}],\"scatter3d\":[{\"line\":{\"colorbar\":{\"outlinewidth\":0,\"ticks\":\"\"}},\"marker\":{\"colorbar\":{\"outlinewidth\":0,\"ticks\":\"\"}},\"type\":\"scatter3d\"}],\"scattercarpet\":[{\"marker\":{\"colorbar\":{\"outlinewidth\":0,\"ticks\":\"\"}},\"type\":\"scattercarpet\"}],\"scattergeo\":[{\"marker\":{\"colorbar\":{\"outlinewidth\":0,\"ticks\":\"\"}},\"type\":\"scattergeo\"}],\"scattergl\":[{\"marker\":{\"colorbar\":{\"outlinewidth\":0,\"ticks\":\"\"}},\"type\":\"scattergl\"}],\"scattermapbox\":[{\"marker\":{\"colorbar\":{\"outlinewidth\":0,\"ticks\":\"\"}},\"type\":\"scattermapbox\"}],\"scatterpolargl\":[{\"marker\":{\"colorbar\":{\"outlinewidth\":0,\"ticks\":\"\"}},\"type\":\"scatterpolargl\"}],\"scatterpolar\":[{\"marker\":{\"colorbar\":{\"outlinewidth\":0,\"ticks\":\"\"}},\"type\":\"scatterpolar\"}],\"scatter\":[{\"marker\":{\"colorbar\":{\"outlinewidth\":0,\"ticks\":\"\"}},\"type\":\"scatter\"}],\"scatterternary\":[{\"marker\":{\"colorbar\":{\"outlinewidth\":0,\"ticks\":\"\"}},\"type\":\"scatterternary\"}],\"surface\":[{\"colorbar\":{\"outlinewidth\":0,\"ticks\":\"\"},\"colorscale\":[[0.0,\"#0d0887\"],[0.1111111111111111,\"#46039f\"],[0.2222222222222222,\"#7201a8\"],[0.3333333333333333,\"#9c179e\"],[0.4444444444444444,\"#bd3786\"],[0.5555555555555556,\"#d8576b\"],[0.6666666666666666,\"#ed7953\"],[0.7777777777777778,\"#fb9f3a\"],[0.8888888888888888,\"#fdca26\"],[1.0,\"#f0f921\"]],\"type\":\"surface\"}],\"table\":[{\"cells\":{\"fill\":{\"color\":\"#EBF0F8\"},\"line\":{\"color\":\"white\"}},\"header\":{\"fill\":{\"color\":\"#C8D4E3\"},\"line\":{\"color\":\"white\"}},\"type\":\"table\"}]},\"layout\":{\"annotationdefaults\":{\"arrowcolor\":\"#2a3f5f\",\"arrowhead\":0,\"arrowwidth\":1},\"autotypenumbers\":\"strict\",\"coloraxis\":{\"colorbar\":{\"outlinewidth\":0,\"ticks\":\"\"}},\"colorscale\":{\"diverging\":[[0,\"#8e0152\"],[0.1,\"#c51b7d\"],[0.2,\"#de77ae\"],[0.3,\"#f1b6da\"],[0.4,\"#fde0ef\"],[0.5,\"#f7f7f7\"],[0.6,\"#e6f5d0\"],[0.7,\"#b8e186\"],[0.8,\"#7fbc41\"],[0.9,\"#4d9221\"],[1,\"#276419\"]],\"sequential\":[[0.0,\"#0d0887\"],[0.1111111111111111,\"#46039f\"],[0.2222222222222222,\"#7201a8\"],[0.3333333333333333,\"#9c179e\"],[0.4444444444444444,\"#bd3786\"],[0.5555555555555556,\"#d8576b\"],[0.6666666666666666,\"#ed7953\"],[0.7777777777777778,\"#fb9f3a\"],[0.8888888888888888,\"#fdca26\"],[1.0,\"#f0f921\"]],\"sequentialminus\":[[0.0,\"#0d0887\"],[0.1111111111111111,\"#46039f\"],[0.2222222222222222,\"#7201a8\"],[0.3333333333333333,\"#9c179e\"],[0.4444444444444444,\"#bd3786\"],[0.5555555555555556,\"#d8576b\"],[0.6666666666666666,\"#ed7953\"],[0.7777777777777778,\"#fb9f3a\"],[0.8888888888888888,\"#fdca26\"],[1.0,\"#f0f921\"]]},\"colorway\":[\"#636efa\",\"#EF553B\",\"#00cc96\",\"#ab63fa\",\"#FFA15A\",\"#19d3f3\",\"#FF6692\",\"#B6E880\",\"#FF97FF\",\"#FECB52\"],\"font\":{\"color\":\"#2a3f5f\"},\"geo\":{\"bgcolor\":\"white\",\"lakecolor\":\"white\",\"landcolor\":\"#E5ECF6\",\"showlakes\":true,\"showland\":true,\"subunitcolor\":\"white\"},\"hoverlabel\":{\"align\":\"left\"},\"hovermode\":\"closest\",\"mapbox\":{\"style\":\"light\"},\"paper_bgcolor\":\"white\",\"plot_bgcolor\":\"#E5ECF6\",\"polar\":{\"angularaxis\":{\"gridcolor\":\"white\",\"linecolor\":\"white\",\"ticks\":\"\"},\"bgcolor\":\"#E5ECF6\",\"radialaxis\":{\"gridcolor\":\"white\",\"linecolor\":\"white\",\"ticks\":\"\"}},\"scene\":{\"xaxis\":{\"backgroundcolor\":\"#E5ECF6\",\"gridcolor\":\"white\",\"gridwidth\":2,\"linecolor\":\"white\",\"showbackground\":true,\"ticks\":\"\",\"zerolinecolor\":\"white\"},\"yaxis\":{\"backgroundcolor\":\"#E5ECF6\",\"gridcolor\":\"white\",\"gridwidth\":2,\"linecolor\":\"white\",\"showbackground\":true,\"ticks\":\"\",\"zerolinecolor\":\"white\"},\"zaxis\":{\"backgroundcolor\":\"#E5ECF6\",\"gridcolor\":\"white\",\"gridwidth\":2,\"linecolor\":\"white\",\"showbackground\":true,\"ticks\":\"\",\"zerolinecolor\":\"white\"}},\"shapedefaults\":{\"line\":{\"color\":\"#2a3f5f\"}},\"ternary\":{\"aaxis\":{\"gridcolor\":\"white\",\"linecolor\":\"white\",\"ticks\":\"\"},\"baxis\":{\"gridcolor\":\"white\",\"linecolor\":\"white\",\"ticks\":\"\"},\"bgcolor\":\"#E5ECF6\",\"caxis\":{\"gridcolor\":\"white\",\"linecolor\":\"white\",\"ticks\":\"\"}},\"title\":{\"x\":0.05},\"xaxis\":{\"automargin\":true,\"gridcolor\":\"white\",\"linecolor\":\"white\",\"ticks\":\"\",\"title\":{\"standoff\":15},\"zerolinecolor\":\"white\",\"zerolinewidth\":2},\"yaxis\":{\"automargin\":true,\"gridcolor\":\"white\",\"linecolor\":\"white\",\"ticks\":\"\",\"title\":{\"standoff\":15},\"zerolinecolor\":\"white\",\"zerolinewidth\":2}}},\"title\":{\"font\":{\"color\":\"#4D5663\"}},\"xaxis\":{\"anchor\":\"y\",\"domain\":[0.0,0.2125],\"gridcolor\":\"#E1E5ED\",\"showgrid\":false,\"tickfont\":{\"color\":\"#4D5663\"},\"title\":{\"font\":{\"color\":\"#4D5663\"},\"text\":\"\"},\"zerolinecolor\":\"#E1E5ED\"},\"yaxis\":{\"anchor\":\"x\",\"domain\":[0.8025,1.0],\"gridcolor\":\"#E1E5ED\",\"showgrid\":false,\"tickfont\":{\"color\":\"#4D5663\"},\"title\":{\"font\":{\"color\":\"#4D5663\"},\"text\":\"\"},\"zerolinecolor\":\"#E1E5ED\"},\"xaxis2\":{\"anchor\":\"y2\",\"domain\":[0.2625,0.475],\"gridcolor\":\"#E1E5ED\",\"showgrid\":false,\"tickfont\":{\"color\":\"#4D5663\"},\"title\":{\"font\":{\"color\":\"#4D5663\"},\"text\":\"\"},\"zerolinecolor\":\"#E1E5ED\"},\"yaxis2\":{\"anchor\":\"x2\",\"domain\":[0.8025,1.0],\"gridcolor\":\"#E1E5ED\",\"showgrid\":false,\"tickfont\":{\"color\":\"#4D5663\"},\"title\":{\"font\":{\"color\":\"#4D5663\"},\"text\":\"\"},\"zerolinecolor\":\"#E1E5ED\"},\"xaxis3\":{\"anchor\":\"y3\",\"domain\":[0.525,0.7375],\"gridcolor\":\"#E1E5ED\",\"showgrid\":false,\"tickfont\":{\"color\":\"#4D5663\"},\"title\":{\"font\":{\"color\":\"#4D5663\"},\"text\":\"\"},\"zerolinecolor\":\"#E1E5ED\"},\"yaxis3\":{\"anchor\":\"x3\",\"domain\":[0.8025,1.0],\"gridcolor\":\"#E1E5ED\",\"showgrid\":false,\"tickfont\":{\"color\":\"#4D5663\"},\"title\":{\"font\":{\"color\":\"#4D5663\"},\"text\":\"\"},\"zerolinecolor\":\"#E1E5ED\"},\"xaxis4\":{\"anchor\":\"y4\",\"domain\":[0.7875,1.0],\"gridcolor\":\"#E1E5ED\",\"showgrid\":false,\"tickfont\":{\"color\":\"#4D5663\"},\"title\":{\"font\":{\"color\":\"#4D5663\"},\"text\":\"\"},\"zerolinecolor\":\"#E1E5ED\"},\"yaxis4\":{\"anchor\":\"x4\",\"domain\":[0.8025,1.0],\"gridcolor\":\"#E1E5ED\",\"showgrid\":false,\"tickfont\":{\"color\":\"#4D5663\"},\"title\":{\"font\":{\"color\":\"#4D5663\"},\"text\":\"\"},\"zerolinecolor\":\"#E1E5ED\"},\"xaxis5\":{\"anchor\":\"y5\",\"domain\":[0.0,0.2125],\"gridcolor\":\"#E1E5ED\",\"showgrid\":false,\"tickfont\":{\"color\":\"#4D5663\"},\"title\":{\"font\":{\"color\":\"#4D5663\"},\"text\":\"\"},\"zerolinecolor\":\"#E1E5ED\"},\"yaxis5\":{\"anchor\":\"x5\",\"domain\":[0.535,0.7325],\"gridcolor\":\"#E1E5ED\",\"showgrid\":false,\"tickfont\":{\"color\":\"#4D5663\"},\"title\":{\"font\":{\"color\":\"#4D5663\"},\"text\":\"\"},\"zerolinecolor\":\"#E1E5ED\"},\"xaxis6\":{\"anchor\":\"y6\",\"domain\":[0.2625,0.475],\"gridcolor\":\"#E1E5ED\",\"showgrid\":false,\"tickfont\":{\"color\":\"#4D5663\"},\"title\":{\"font\":{\"color\":\"#4D5663\"},\"text\":\"\"},\"zerolinecolor\":\"#E1E5ED\"},\"yaxis6\":{\"anchor\":\"x6\",\"domain\":[0.535,0.7325],\"gridcolor\":\"#E1E5ED\",\"showgrid\":false,\"tickfont\":{\"color\":\"#4D5663\"},\"title\":{\"font\":{\"color\":\"#4D5663\"},\"text\":\"\"},\"zerolinecolor\":\"#E1E5ED\"},\"xaxis7\":{\"anchor\":\"y7\",\"domain\":[0.525,0.7375],\"gridcolor\":\"#E1E5ED\",\"showgrid\":false,\"tickfont\":{\"color\":\"#4D5663\"},\"title\":{\"font\":{\"color\":\"#4D5663\"},\"text\":\"\"},\"zerolinecolor\":\"#E1E5ED\"},\"yaxis7\":{\"anchor\":\"x7\",\"domain\":[0.535,0.7325],\"gridcolor\":\"#E1E5ED\",\"showgrid\":false,\"tickfont\":{\"color\":\"#4D5663\"},\"title\":{\"font\":{\"color\":\"#4D5663\"},\"text\":\"\"},\"zerolinecolor\":\"#E1E5ED\"},\"xaxis8\":{\"anchor\":\"y8\",\"domain\":[0.7875,1.0],\"gridcolor\":\"#E1E5ED\",\"showgrid\":false,\"tickfont\":{\"color\":\"#4D5663\"},\"title\":{\"font\":{\"color\":\"#4D5663\"},\"text\":\"\"},\"zerolinecolor\":\"#E1E5ED\"},\"yaxis8\":{\"anchor\":\"x8\",\"domain\":[0.535,0.7325],\"gridcolor\":\"#E1E5ED\",\"showgrid\":false,\"tickfont\":{\"color\":\"#4D5663\"},\"title\":{\"font\":{\"color\":\"#4D5663\"},\"text\":\"\"},\"zerolinecolor\":\"#E1E5ED\"},\"xaxis9\":{\"anchor\":\"y9\",\"domain\":[0.0,0.2125],\"gridcolor\":\"#E1E5ED\",\"showgrid\":false,\"tickfont\":{\"color\":\"#4D5663\"},\"title\":{\"font\":{\"color\":\"#4D5663\"},\"text\":\"\"},\"zerolinecolor\":\"#E1E5ED\"},\"yaxis9\":{\"anchor\":\"x9\",\"domain\":[0.2675,0.465],\"gridcolor\":\"#E1E5ED\",\"showgrid\":false,\"tickfont\":{\"color\":\"#4D5663\"},\"title\":{\"font\":{\"color\":\"#4D5663\"},\"text\":\"\"},\"zerolinecolor\":\"#E1E5ED\"},\"xaxis10\":{\"anchor\":\"y10\",\"domain\":[0.2625,0.475],\"gridcolor\":\"#E1E5ED\",\"showgrid\":false,\"tickfont\":{\"color\":\"#4D5663\"},\"title\":{\"font\":{\"color\":\"#4D5663\"},\"text\":\"\"},\"zerolinecolor\":\"#E1E5ED\"},\"yaxis10\":{\"anchor\":\"x10\",\"domain\":[0.2675,0.465],\"gridcolor\":\"#E1E5ED\",\"showgrid\":false,\"tickfont\":{\"color\":\"#4D5663\"},\"title\":{\"font\":{\"color\":\"#4D5663\"},\"text\":\"\"},\"zerolinecolor\":\"#E1E5ED\"},\"xaxis11\":{\"anchor\":\"y11\",\"domain\":[0.525,0.7375],\"gridcolor\":\"#E1E5ED\",\"showgrid\":false,\"tickfont\":{\"color\":\"#4D5663\"},\"title\":{\"font\":{\"color\":\"#4D5663\"},\"text\":\"\"},\"zerolinecolor\":\"#E1E5ED\"},\"yaxis11\":{\"anchor\":\"x11\",\"domain\":[0.2675,0.465],\"gridcolor\":\"#E1E5ED\",\"showgrid\":false,\"tickfont\":{\"color\":\"#4D5663\"},\"title\":{\"font\":{\"color\":\"#4D5663\"},\"text\":\"\"},\"zerolinecolor\":\"#E1E5ED\"},\"xaxis12\":{\"anchor\":\"y12\",\"domain\":[0.7875,1.0],\"gridcolor\":\"#E1E5ED\",\"showgrid\":false,\"tickfont\":{\"color\":\"#4D5663\"},\"title\":{\"font\":{\"color\":\"#4D5663\"},\"text\":\"\"},\"zerolinecolor\":\"#E1E5ED\"},\"yaxis12\":{\"anchor\":\"x12\",\"domain\":[0.2675,0.465],\"gridcolor\":\"#E1E5ED\",\"showgrid\":false,\"tickfont\":{\"color\":\"#4D5663\"},\"title\":{\"font\":{\"color\":\"#4D5663\"},\"text\":\"\"},\"zerolinecolor\":\"#E1E5ED\"},\"xaxis13\":{\"anchor\":\"y13\",\"domain\":[0.0,0.2125],\"gridcolor\":\"#E1E5ED\",\"showgrid\":false,\"tickfont\":{\"color\":\"#4D5663\"},\"title\":{\"font\":{\"color\":\"#4D5663\"},\"text\":\"\"},\"zerolinecolor\":\"#E1E5ED\"},\"yaxis13\":{\"anchor\":\"x13\",\"domain\":[0.0,0.1975],\"gridcolor\":\"#E1E5ED\",\"showgrid\":false,\"tickfont\":{\"color\":\"#4D5663\"},\"title\":{\"font\":{\"color\":\"#4D5663\"},\"text\":\"\"},\"zerolinecolor\":\"#E1E5ED\"},\"xaxis14\":{\"anchor\":\"y14\",\"domain\":[0.2625,0.475],\"gridcolor\":\"#E1E5ED\",\"showgrid\":false,\"tickfont\":{\"color\":\"#4D5663\"},\"title\":{\"font\":{\"color\":\"#4D5663\"},\"text\":\"\"},\"zerolinecolor\":\"#E1E5ED\"},\"yaxis14\":{\"anchor\":\"x14\",\"domain\":[0.0,0.1975],\"gridcolor\":\"#E1E5ED\",\"showgrid\":false,\"tickfont\":{\"color\":\"#4D5663\"},\"title\":{\"font\":{\"color\":\"#4D5663\"},\"text\":\"\"},\"zerolinecolor\":\"#E1E5ED\"},\"xaxis15\":{\"anchor\":\"y15\",\"domain\":[0.525,0.7375],\"gridcolor\":\"#E1E5ED\",\"showgrid\":false,\"tickfont\":{\"color\":\"#4D5663\"},\"title\":{\"font\":{\"color\":\"#4D5663\"},\"text\":\"\"},\"zerolinecolor\":\"#E1E5ED\"},\"yaxis15\":{\"anchor\":\"x15\",\"domain\":[0.0,0.1975],\"gridcolor\":\"#E1E5ED\",\"showgrid\":false,\"tickfont\":{\"color\":\"#4D5663\"},\"title\":{\"font\":{\"color\":\"#4D5663\"},\"text\":\"\"},\"zerolinecolor\":\"#E1E5ED\"},\"xaxis16\":{\"anchor\":\"y16\",\"domain\":[0.7875,1.0],\"gridcolor\":\"#E1E5ED\",\"showgrid\":false,\"tickfont\":{\"color\":\"#4D5663\"},\"title\":{\"font\":{\"color\":\"#4D5663\"},\"text\":\"\"},\"zerolinecolor\":\"#E1E5ED\"},\"yaxis16\":{\"anchor\":\"x16\",\"domain\":[0.0,0.1975],\"gridcolor\":\"#E1E5ED\",\"showgrid\":false,\"tickfont\":{\"color\":\"#4D5663\"},\"title\":{\"font\":{\"color\":\"#4D5663\"},\"text\":\"\"},\"zerolinecolor\":\"#E1E5ED\"}},                        {\"showLink\": true, \"linkText\": \"Export to plot.ly\", \"plotlyServerURL\": \"https://plot.ly\", \"responsive\": true}                    ).then(function(){\n",
       "                            \n",
       "var gd = document.getElementById('a7c4a602-2a15-4c0d-91a9-150301b5f681');\n",
       "var x = new MutationObserver(function (mutations, observer) {{\n",
       "        var display = window.getComputedStyle(gd).display;\n",
       "        if (!display || display === 'none') {{\n",
       "            console.log([gd, 'removed!']);\n",
       "            Plotly.purge(gd);\n",
       "            observer.disconnect();\n",
       "        }}\n",
       "}});\n",
       "\n",
       "// Listen for the removal of the full notebook cells\n",
       "var notebookContainer = gd.closest('#notebook-container');\n",
       "if (notebookContainer) {{\n",
       "    x.observe(notebookContainer, {childList: true});\n",
       "}}\n",
       "\n",
       "// Listen for the clearing of the current output cell\n",
       "var outputEl = gd.closest('.output');\n",
       "if (outputEl) {{\n",
       "    x.observe(outputEl, {childList: true});\n",
       "}}\n",
       "\n",
       "                        })                };                });            </script>        </div>"
      ]
     },
     "metadata": {},
     "output_type": "display_data"
    }
   ],
   "source": [
    "df.scatter_matrix()"
   ]
  }
 ],
 "metadata": {
  "kernelspec": {
   "display_name": "Python 3",
   "language": "python",
   "name": "python3"
  },
  "language_info": {
   "codemirror_mode": {
    "name": "ipython",
    "version": 3
   },
   "file_extension": ".py",
   "mimetype": "text/x-python",
   "name": "python",
   "nbconvert_exporter": "python",
   "pygments_lexer": "ipython3",
   "version": "3.8.5"
  }
 },
 "nbformat": 4,
 "nbformat_minor": 1
}
